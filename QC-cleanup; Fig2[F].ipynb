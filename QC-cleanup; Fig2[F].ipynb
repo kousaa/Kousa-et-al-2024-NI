{
 "cells": [
  {
   "cell_type": "markdown",
   "id": "0daf04db",
   "metadata": {},
   "source": [
    "## Notebook setup"
   ]
  },
  {
   "cell_type": "code",
   "execution_count": null,
   "id": "17f68eec",
   "metadata": {},
   "outputs": [],
   "source": [
    "import scanpy as sc\n",
    "import scanpy.external as sce\n",
    "import numpy as np\n",
    "import pandas as pd\n",
    "import warnings, scipy.sparse as sp, matplotlib, matplotlib.pyplot as plt\n",
    "from matplotlib.colors import LinearSegmentedColormap\n",
    "from matplotlib.pyplot import rc_context\n",
    "from collections import Counter\n",
    "import matplotlib.font_manager\n",
    "import pyreadr\n",
    "import rpy2\n",
    "from rpy2.robjects.packages import importr\n",
    "import rpy2.robjects as robjects\n",
    "import magic\n",
    "#import seaborn as sns\n",
    "import palantir\n",
    "import loompy\n",
    "#from scipy.sparse import csgraph\n",
    "\n",
    "matplotlib.rcParams['pdf.fonttype'] = 42\n",
    "matplotlib.rcParams['ps.fonttype'] = 42\n",
    "matplotlib.rcParams['font.family'] = 'sans-serif'\n",
    "matplotlib.rcParams['font.sans-serif'] = 'Arial'\n",
    "matplotlib.rc('font', size=14)\n",
    "\n",
    "pd.set_option('display.max_rows', 200)\n",
    "\n",
    "sc.set_figure_params(dpi=80, dpi_save=300, color_map='Spectral_r', vector_friendly=True, transparent=True)\n",
    "sc.settings.verbosity = 0 # verbosity: errors (0), warnings (1), info (2), hints (3)\n",
    "sc.logging.print_header()"
   ]
  },
  {
   "cell_type": "code",
   "execution_count": null,
   "id": "63c6f5de",
   "metadata": {},
   "outputs": [],
   "source": [
    "# preset color palettes and color maps\n",
    "user_defined_palette =  [ '#F6222E', '#16FF32', '#3283FE', '#FEAF16', '#BDCDFF', '#3B00FB', '#1CFFCE', '#C075A6', '#F8A19F', '#B5EFB5', '#FBE426', '#C4451C', \n",
    "                          '#2ED9FF', '#c1c119', '#8b0000', '#FE00FA', '#1CBE4F', '#1C8356', '#0e452b', '#AA0DFE', '#B5EFB5', '#325A9B', '#90AD1C']\n",
    "\n",
    "user_defined_cmap_markers = LinearSegmentedColormap.from_list('mycmap', [\"#E6E6FF\", \"#CCCCFF\", \"#B2B2FF\", \"#9999FF\",  \"#6666FF\",   \"#3333FF\", \"#0000FF\"])\n",
    "user_defined_cmap_degs = LinearSegmentedColormap.from_list('mycmap', [\"#0000FF\", \"#3333FF\", \"#6666FF\", \"#9999FF\", \"#B2B2FF\", \"#CCCCFF\", \"#E6E6FF\", \"#E6FFE6\", \"#CCFFCC\", \"#B2FFB2\", \"#99FF99\", \"#66FF66\", \"#33FF33\", \"#00FF00\"])"
   ]
  },
  {
   "cell_type": "code",
   "execution_count": null,
   "id": "finite-swaziland",
   "metadata": {},
   "outputs": [],
   "source": [
    "# display plot directly below code cell\n",
    "%matplotlib inline"
   ]
  },
  {
   "cell_type": "code",
   "execution_count": null,
   "id": "a4f95071",
   "metadata": {},
   "outputs": [],
   "source": [
    "def observe_variance(anndata_object):\n",
    "    fig = plt.figure(figsize=(10,5))\n",
    "    ax1 = fig.add_subplot(121)\n",
    "    ax2 = fig.add_subplot(122)\n",
    "    # variance per principal component\n",
    "    x = range(len(anndata_object.uns['pca']['variance_ratio']))\n",
    "    y = anndata_object.uns['pca']['variance_ratio']\n",
    "    ax1.scatter(x,y,s=4)\n",
    "    ax1.set_xlabel('PC')\n",
    "    ax1.set_ylabel('Fraction of variance explained\\n')\n",
    "    ax1.set_title('Fraction of variance explained per PC\\n')\n",
    "    # cumulative variance explained\n",
    "    cml_var_explained = np.cumsum(anndata_object.uns['pca']['variance_ratio'])\n",
    "    x = range(len(anndata_object.uns['pca']['variance_ratio']))\n",
    "    y = cml_var_explained\n",
    "    ax2.scatter(x,y,s=4)\n",
    "    ax2.set_xlabel('PC')\n",
    "    ax2.set_ylabel('Cumulative fraction of variance\\nexplained')\n",
    "    ax2.set_title('Cumulative fraction of variance\\nexplained by PCs')\n",
    "    fig.tight_layout()\n",
    "    plot = plt.show\n",
    "    return(plot)"
   ]
  },
  {
   "cell_type": "code",
   "execution_count": null,
   "id": "5af7ab57",
   "metadata": {},
   "outputs": [],
   "source": [
    "def label_transfer(dist, labels):\n",
    "    lab = pd.get_dummies(labels).to_numpy().T\n",
    "    class_prob = lab @ dist\n",
    "    norm = np.linalg.norm(class_prob, 2, axis=0)\n",
    "    class_prob = class_prob / norm\n",
    "    class_prob = (class_prob.T - class_prob.min(1)) / class_prob.ptp(1)\n",
    "    return class_prob"
   ]
  },
  {
   "cell_type": "markdown",
   "id": "c341386d",
   "metadata": {},
   "source": [
    "## Perform quality control and clean-up samples"
   ]
  },
  {
   "cell_type": "markdown",
   "id": "85381fcd",
   "metadata": {},
   "source": [
    "### Load spaceranger output files"
   ]
  },
  {
   "cell_type": "code",
   "execution_count": null,
   "id": "3f4a6ee1",
   "metadata": {},
   "outputs": [],
   "source": [
    "from glob import glob\n",
    "\n",
    "counter=0\n",
    "bad_clusters_per_sample = [['4', '8'],  ['4', '5', '6'], ['7', '8'], ['1', '10'], ['2', '3', '6', '7'], ['2', '5', '9'], ['2', '7'], ['0', '1', '6', '8', '10', '11']]\n",
    "visiums_list = []\n",
    "\n",
    "h5_path = glob(\"../data/internal/10xGenomics/Visium/LJ184/LJ184_S_0*/sr-results/\", recursive = True)\n",
    "\n",
    "#h5_path = ['../data/10xVisium/LJ184/LJ184_S_003/sr-results/',\n",
    "# '../data/10xVisium/LJ184/LJ184_S_019/sr-results/']\n",
    "\n",
    "for path in h5_path: \n",
    "    print(path)\n",
    "    tmp_visium = sc.read_visium(path=path, count_file=\"filtered_feature_bc_matrix.h5\", source_image_path=path)\n",
    "    tmp_visium.var_names_make_unique()\n",
    "    tmp_visium.raw = tmp_visium # keep a copy of the raw adata \n",
    "    \n",
    "    np.random.seed(42) \n",
    "    index_list = np.arange(tmp_visium.shape[0]) # randomize the order of cells for plotting\n",
    "    np.random.shuffle(index_list)\n",
    "    tmp_visium = tmp_visium[index_list]\n",
    "    \n",
    "    sc.pp.calculate_qc_metrics(tmp_visium, inplace=True)\n",
    "    tmp_visium.obs['original_total_counts'] = tmp_visium.obs['total_counts'] # store unfiltered/unprocessed data\n",
    "    tmp_visium.obs['log10_original_total_counts'] = np.log10(tmp_visium.obs['original_total_counts']) # store unfiltered/unprocessed data \n",
    " \n",
    "    tmp_visium.var['mt'] = tmp_visium.var_names.str.startswith(('MT-', 'mt-')) # mitochondrial genes\n",
    "    tmp_visium.var['ribo'] = tmp_visium.var_names.str.startswith(('RPS','RPL', 'Rps', 'Rpl')) # ribosomal genes    \n",
    "    tmp_visium.var['hb'] = tmp_visium.var_names.str.startswith(('^Hb', '^HB')) # hemoglobin genes\n",
    "\n",
    "    tmp_visium.obs['mito_frac'] = np.sum(tmp_visium[:,tmp_visium.var['mt']==True].X, axis=1) / np.sum(tmp_visium.X, axis=1) # compute fraction of mitochondrial genes vs all genes per cell\n",
    "    tmp_visium.obs['ribo_frac'] = np.sum(tmp_visium[:,tmp_visium.var['ribo']==True].X, axis=1) / np.sum(tmp_visium.X, axis=1) # compute fraction of ribosomal genes vs all genes per cell\n",
    "    tmp_visium.obs['hb_frac'] = np.sum(tmp_visium[:,tmp_visium.var['hb']==True].X, axis=1) / np.sum(tmp_visium.X, axis=1) # compute fraction of hemoglobin genes vs all genes per cell\n",
    "\n",
    "    sc.pp.filter_genes(tmp_visium, min_cells=1) # remove genes that are not expressed in any cells\n",
    "    print(tmp_visium.shape)\n",
    "    tmp_visium = tmp_visium[:,tmp_visium.var['ribo']==False] # remove ribosomal genes\n",
    "    print(tmp_visium.shape)\n",
    "    tmp_visium = tmp_visium[:,tmp_visium.var['hb']==False] # remove hemoglobin genes\n",
    "    print(tmp_visium.shape)\n",
    "\n",
    "    sc.pp.normalize_per_cell(tmp_visium, counts_per_cell_after=10**4)\n",
    "    sc.pp.log1p(tmp_visium)\n",
    "\n",
    "    sc.tl.pca(tmp_visium, n_comps=200, svd_solver='arpack', random_state=np.random.RandomState(42), use_highly_variable=False)\n",
    "    observe_variance(tmp_visium)\n",
    "    sc.tl.pca(tmp_visium, n_comps=30,  svd_solver='arpack', random_state=np.random.RandomState(42), use_highly_variable=False)\n",
    "    sc.pp.neighbors(tmp_visium, n_neighbors=15, random_state=42)\n",
    "    sc.tl.umap(tmp_visium)\n",
    "    sc.pl.umap(tmp_visium, \n",
    "        color=['log10_original_total_counts', 'n_genes_by_counts','ribo_frac', 'mito_frac'], \n",
    "        palette='tab20',  \n",
    "        color_map='Spectral_r', \n",
    "        ncols=4,\n",
    "        wspace = 0.5,\n",
    "        sort_order = False\n",
    "    )\n",
    "    \n",
    "    for resolution_parameter in [0.1, 0.2, 0.3, 0.4, 0.5, 0.6, 0.7, 0.8, 0.9, 1.0]:\n",
    "        sc.tl.leiden(tmp_visium, resolution=resolution_parameter, random_state=42, \n",
    "                        key_added='leiden_'+str(resolution_parameter))\n",
    "    sc.pl.umap(tmp_visium, \n",
    "    color=['leiden_0.1', 'leiden_0.2', 'leiden_0.3', 'leiden_0.4', 'leiden_0.5', \n",
    "           'leiden_0.6', 'leiden_0.7', 'leiden_0.8', 'leiden_0.9', 'leiden_1.0'], \n",
    "    palette=user_defined_palette,  \n",
    "    color_map='Spectral_r', \n",
    "    use_raw=False,\n",
    "    ncols=5,\n",
    "    wspace = 0.7,\n",
    "    outline_width=[0.6, 0.05],\n",
    "    frameon=False,\n",
    "    add_outline=True,\n",
    "    sort_order = False\n",
    "    )\n",
    "\n",
    "    sc.pl.spatial(tmp_visium, \n",
    "              img_key=\"hires\",\n",
    "              color=['log10_original_total_counts', 'n_genes_by_counts','ribo_frac', 'mito_frac'], \n",
    "              size=1.5, \n",
    "              color_map='Spectral_r', \n",
    "              ncols=4)\n",
    "    sc.pl.spatial(tmp_visium, \n",
    "              img_key=\"hires\", \n",
    "              size=1.5, \n",
    "              color_map='Spectral_r', \n",
    "              ncols=4)\n",
    "    \n",
    "    sc.pl.spatial(tmp_visium, \n",
    "              img_key=\"hires\", \n",
    "              color = ['leiden_1.0'], \n",
    "              size=1.5, \n",
    "              color_map='Spectral_r', \n",
    "              ncols=4)\n",
    "    \n",
    "    clusters_to_remove = bad_clusters_per_sample[counter]\n",
    "    cluster_filter = [x not in clusters_to_remove for x in tmp_visium.obs['leiden_1.0']]\n",
    "    print('Total number of cells pre-filtering: ' + str(tmp_visium.shape[0]))\n",
    "    print('Number of cells to keep after filtering: ' + str(sum(cluster_filter)))\n",
    "    tmp_visium_filtered = tmp_visium[cluster_filter]\n",
    "    tmp_visium = tmp_visium_filtered\n",
    "    \n",
    "    sc.pp.highly_variable_genes(tmp_visium, n_top_genes=5000, n_bins=20, flavor='seurat',  inplace=True)   \n",
    "    sc.tl.pca(tmp_visium, n_comps=200, svd_solver='arpack', random_state=np.random.RandomState(42), use_highly_variable=True)\n",
    "    observe_variance(tmp_visium)\n",
    "    sc.tl.pca(tmp_visium, n_comps=30, svd_solver='arpack', random_state=np.random.RandomState(42), use_highly_variable=True)\n",
    "    sc.pp.neighbors(tmp_visium, n_neighbors=15)\n",
    "    sc.tl.umap(tmp_visium)\n",
    "    sc.pl.umap(tmp_visium, \n",
    "        color=['log10_original_total_counts', 'n_genes_by_counts','ribo_frac', 'mito_frac'], \n",
    "        palette='tab20',  \n",
    "        color_map='Spectral_r', \n",
    "        ncols=4,\n",
    "        wspace = 0.5,\n",
    "        sort_order = False\n",
    "    )\n",
    "    \n",
    "    for resolution_parameter in [0.1, 0.2, 0.3, 0.4, 0.5, 0.6, 0.7, 0.8, 0.9, 1.0]:\n",
    "        sc.tl.leiden(tmp_visium, resolution=resolution_parameter, random_state=42, \n",
    "                        key_added='leiden_'+str(resolution_parameter))    \n",
    "        \n",
    "    tmp_visium.uns['leiden_0.2_colors'] = ['#7fc97f', '#f0027f']\n",
    "    sc.pl.umap(tmp_visium, \n",
    "        color=['leiden_0.2'], \n",
    "        color_map='Spectral_r', \n",
    "        ncols=4,\n",
    "        wspace = 0.5,\n",
    "        sort_order = False\n",
    "    )\n",
    "    \n",
    "    sc.pl.spatial(tmp_visium, \n",
    "              img_key=\"hires\", \n",
    "              size=1.5, \n",
    "              color_map='Spectral_r', \n",
    "              ncols=4)\n",
    "\n",
    "    sc.pl.spatial(tmp_visium, \n",
    "                  img_key=\"hires\", \n",
    "                  color = ['leiden_0.2'], \n",
    "                  palette=['#7fc97f', '#f0027f'],\n",
    "                  color_map='Spectral_r', \n",
    "                  size=1.5, \n",
    "                  ncols=4)\n",
    "    #path_to_h5ad = '../output/metadata/10x_visium_02mo_day0.h5ad'\n",
    "    #adata.write(path_to_h5ad)\n",
    "    visiums_list.append(tmp_visium)\n",
    "    counter = counter + 1"
   ]
  },
  {
   "cell_type": "markdown",
   "id": "0de2f0c4",
   "metadata": {},
   "source": [
    "## Combine in a massive spatial dataset"
   ]
  },
  {
   "cell_type": "code",
   "execution_count": null,
   "id": "a9136219",
   "metadata": {},
   "outputs": [],
   "source": [
    "#spatial = sc.concat(\n",
    " #   visiums_list,\n",
    "  #  label=\"library_id\",\n",
    "  #  uns_merge=\"unique\",\n",
    "  #  keys=[\n",
    "       # k\n",
    "      #  for d in [\n",
    "         #   visiums_list[0].uns[\"spatial\"],\n",
    "          #  visiums_list[1].uns[\"spatial\"],\n",
    "           # visiums_list[2].uns[\"spatial\"],\n",
    "            #visiums_list[3].uns[\"spatial\"],\n",
    "            #visiums_list[4].uns[\"spatial\"],\n",
    "            #visiums_list[5].uns[\"spatial\"],\n",
    "            #visiums_list[6].uns[\"spatial\"],\n",
    "           # visiums_list[7].uns[\"spatial\"]\n",
    "        #]\n",
    "      #  for k, v in d.items()\n",
    "   # ],\n",
    "   # index_unique=\"-\",\n",
    "#)"
   ]
  },
  {
   "cell_type": "markdown",
   "id": "adjustable-office",
   "metadata": {},
   "source": [
    "## Scanorama spatial-RNAseq integration"
   ]
  },
  {
   "cell_type": "code",
   "execution_count": null,
   "id": "d00dc2f6",
   "metadata": {},
   "outputs": [],
   "source": [
    "import scanorama\n",
    "import numpy as np"
   ]
  },
  {
   "cell_type": "markdown",
   "id": "fbad9c74",
   "metadata": {},
   "source": [
    "### (same as for Figure 3)"
   ]
  },
  {
   "cell_type": "markdown",
   "id": "2fe80ff2",
   "metadata": {},
   "source": [
    "### Steady state"
   ]
  },
  {
   "cell_type": "code",
   "execution_count": null,
   "id": "6ce26897",
   "metadata": {},
   "outputs": [],
   "source": [
    "path_to_h5ad = '../output/metadata/anndata_objects/main_fig1_annotated.h5ad'"
   ]
  },
  {
   "cell_type": "code",
   "execution_count": null,
   "id": "e76c14d0",
   "metadata": {},
   "outputs": [],
   "source": [
    "adata_d0 = sc.read_h5ad(path_to_h5ad)\n",
    "adata_d0.uns['log1p'][\"base\"] = None"
   ]
  },
  {
   "cell_type": "code",
   "execution_count": null,
   "id": "90f706f7",
   "metadata": {},
   "outputs": [],
   "source": [
    "adata_d0_18mo = adata_d0[adata_d0.obs['stage']=='18mo']"
   ]
  },
  {
   "cell_type": "code",
   "execution_count": null,
   "id": "297e3fca",
   "metadata": {},
   "outputs": [],
   "source": [
    "adata_d0_18mo.shape"
   ]
  },
  {
   "cell_type": "code",
   "execution_count": null,
   "id": "d897500d",
   "metadata": {},
   "outputs": [],
   "source": [
    "adata_d0_02mo = adata_d0[adata_d0.obs['stage']=='02mo']"
   ]
  },
  {
   "cell_type": "code",
   "execution_count": null,
   "id": "80afd2a7",
   "metadata": {},
   "outputs": [],
   "source": [
    "adata_d0_02mo.shape"
   ]
  },
  {
   "cell_type": "markdown",
   "id": "9e0cc95c",
   "metadata": {},
   "source": [
    "### Damage"
   ]
  },
  {
   "cell_type": "code",
   "execution_count": null,
   "id": "37b6ba8a",
   "metadata": {},
   "outputs": [],
   "source": [
    "path_to_h5ad = '../output/metadata/anndata_objects/ext_fig5_annotated.h5ad'"
   ]
  },
  {
   "cell_type": "code",
   "execution_count": null,
   "id": "8f1419e7",
   "metadata": {},
   "outputs": [],
   "source": [
    "adata_d147 = sc.read_h5ad(path_to_h5ad)\n",
    "adata_d147.uns['log1p'][\"base\"] = None"
   ]
  },
  {
   "cell_type": "code",
   "execution_count": null,
   "id": "afa32415",
   "metadata": {},
   "outputs": [],
   "source": []
  },
  {
   "cell_type": "code",
   "execution_count": null,
   "id": "a53440e9",
   "metadata": {},
   "outputs": [],
   "source": [
    "adata_d1_18mo = adata_d147[(adata_d147.obs['stage']=='18mo') & (adata_d147.obs['day']=='d1')]"
   ]
  },
  {
   "cell_type": "code",
   "execution_count": null,
   "id": "e2267583",
   "metadata": {},
   "outputs": [],
   "source": [
    "adata_d1_18mo.shape"
   ]
  },
  {
   "cell_type": "code",
   "execution_count": null,
   "id": "a82d4cfa",
   "metadata": {},
   "outputs": [],
   "source": [
    "adata_d1_02mo = adata_d147[(adata_d147.obs['stage']=='02mo') & (adata_d147.obs['day']=='d1')]"
   ]
  },
  {
   "cell_type": "code",
   "execution_count": null,
   "id": "3690a191",
   "metadata": {},
   "outputs": [],
   "source": [
    "adata_d1_02mo.shape"
   ]
  },
  {
   "cell_type": "code",
   "execution_count": null,
   "id": "886479ba",
   "metadata": {},
   "outputs": [],
   "source": []
  },
  {
   "cell_type": "code",
   "execution_count": null,
   "id": "0fc8cbc4",
   "metadata": {},
   "outputs": [],
   "source": [
    "adata_d4_18mo = adata_d147[(adata_d147.obs['stage']=='18mo') & (adata_d147.obs['day']=='d4')]"
   ]
  },
  {
   "cell_type": "code",
   "execution_count": null,
   "id": "35b73500",
   "metadata": {},
   "outputs": [],
   "source": [
    "adata_d4_18mo.shape"
   ]
  },
  {
   "cell_type": "code",
   "execution_count": null,
   "id": "1db9b246",
   "metadata": {},
   "outputs": [],
   "source": [
    "adata_d4_02mo = adata_d147[(adata_d147.obs['stage']=='02mo') & (adata_d147.obs['day']=='d4')]"
   ]
  },
  {
   "cell_type": "code",
   "execution_count": null,
   "id": "39f98946",
   "metadata": {},
   "outputs": [],
   "source": [
    "adata_d4_02mo.shape"
   ]
  },
  {
   "cell_type": "code",
   "execution_count": null,
   "id": "9b2d990c",
   "metadata": {},
   "outputs": [],
   "source": []
  },
  {
   "cell_type": "code",
   "execution_count": null,
   "id": "e7cd32ab",
   "metadata": {},
   "outputs": [],
   "source": [
    "adata_d7_18mo = adata_d147[(adata_d147.obs['stage']=='18mo') & (adata_d147.obs['day']=='d7')]"
   ]
  },
  {
   "cell_type": "code",
   "execution_count": null,
   "id": "ea8cb783",
   "metadata": {},
   "outputs": [],
   "source": [
    "adata_d7_18mo.shape"
   ]
  },
  {
   "cell_type": "code",
   "execution_count": null,
   "id": "b8c0fa26",
   "metadata": {},
   "outputs": [],
   "source": [
    "adata_d7_02mo = adata_d147[(adata_d147.obs['stage']=='02mo') & (adata_d147.obs['day']=='d7')]"
   ]
  },
  {
   "cell_type": "code",
   "execution_count": null,
   "id": "465ab051",
   "metadata": {},
   "outputs": [],
   "source": [
    "adata_d7_02mo.shape"
   ]
  },
  {
   "cell_type": "markdown",
   "id": "af9a2350",
   "metadata": {},
   "source": [
    "### Combined"
   ]
  },
  {
   "cell_type": "code",
   "execution_count": null,
   "id": "f4b4155a",
   "metadata": {},
   "outputs": [],
   "source": [
    "path_to_h5ad = '../output/metadata/anndata_objects/main_fig3.h5ad'"
   ]
  },
  {
   "cell_type": "code",
   "execution_count": null,
   "id": "b4e8f40d",
   "metadata": {},
   "outputs": [],
   "source": [
    "adata_d0147 = sc.read_h5ad(path_to_h5ad)\n",
    "adata_d0147.uns['log1p'][\"base\"] = None"
   ]
  },
  {
   "cell_type": "markdown",
   "id": "9addb41a",
   "metadata": {},
   "source": [
    "### Transfer annotation"
   ]
  },
  {
   "cell_type": "code",
   "execution_count": null,
   "id": "30b75fdf",
   "metadata": {},
   "outputs": [],
   "source": [
    "annotated_subsets = pd.concat([adata_d0.obs['cell_type_subset'], adata_d147.obs['cell_type_subset']])"
   ]
  },
  {
   "cell_type": "code",
   "execution_count": null,
   "id": "54d0a4c1",
   "metadata": {},
   "outputs": [],
   "source": [
    "adata_d0147.obs['cell_type_subset']=''"
   ]
  },
  {
   "cell_type": "code",
   "execution_count": null,
   "id": "ad6060a6",
   "metadata": {},
   "outputs": [],
   "source": [
    "adata_d0147.obs['cell_type_subset'][adata_d0147.obs.index.isin(annotated_subsets.index) == True] = annotated_subsets"
   ]
  },
  {
   "cell_type": "code",
   "execution_count": null,
   "id": "dd5d5112",
   "metadata": {},
   "outputs": [],
   "source": [
    "subset_palette =  ['#F6222E', '#3283FE', '#16FF32', '#BDCDFF', '#3B00FB', '#1CFFCE', '#d62728', '#19c9b3','#FFA5D2',   'grey', '#2ED9FF', '#c1c119', '#8b0000', '#FE00FA', \"#F8A19F\", '#1CBE4F','#B5EFB5',  '#AA0DFE','#FEAF16', '#325A9B', '#C075A6', 'black']\n",
    "\n",
    "sc.pl.umap(adata_d0147, color=[ 'cell_type_subset'], \n",
    "                        color_map='Spectral_r',\n",
    "                        palette=subset_palette,\n",
    "                        use_raw=False, \n",
    "                        ncols=4, \n",
    "                        wspace = 0.3,\n",
    "                        outline_width=[0.6, 0.05], \n",
    "                        size=15,  \n",
    "                        frameon=False, \n",
    "                        add_outline=True, \n",
    "                        sort_order = False)"
   ]
  },
  {
   "cell_type": "code",
   "execution_count": null,
   "id": "c881183e",
   "metadata": {},
   "outputs": [],
   "source": [
    "h5_path"
   ]
  },
  {
   "cell_type": "code",
   "execution_count": null,
   "id": "infectious-porter",
   "metadata": {},
   "outputs": [],
   "source": [
    "# List of datasets:\n",
    "adatas = [adata_d0_18mo, visiums_list[3]]\n",
    "\n",
    "# Integration. \n",
    "scanorama.integrate_scanpy(adatas)\n",
    "\n",
    "# Batch correction.\n",
    "#corrected = scanorama.correct_scanpy(adatas)\n",
    "\n",
    "# Integration and batch correction.\n",
    "#corrected = scanorama.correct_scanpy(adatas, return_dimred=True)"
   ]
  },
  {
   "cell_type": "code",
   "execution_count": null,
   "id": "academic-looking",
   "metadata": {},
   "outputs": [],
   "source": [
    "adatas[0].obsm['X_scanorama'].shape"
   ]
  },
  {
   "cell_type": "code",
   "execution_count": null,
   "id": "excessive-market",
   "metadata": {},
   "outputs": [],
   "source": [
    "total = adata_d0_18mo.concatenate(\n",
    "    visiums_list[3],\n",
    "    batch_key=\"dataset\",\n",
    "    batch_categories=[\"10x_Chromium\", \"10x_Visium\"],\n",
    "    join=\"outer\",\n",
    "    uns_merge=\"first\",\n",
    ")"
   ]
  },
  {
   "cell_type": "code",
   "execution_count": null,
   "id": "147ca847",
   "metadata": {},
   "outputs": [],
   "source": [
    "del(total)"
   ]
  },
  {
   "cell_type": "code",
   "execution_count": null,
   "id": "provincial-andrew",
   "metadata": {},
   "outputs": [],
   "source": [
    "# Get all the integrated matrices.\n",
    "scanorama_int = [ad.obsm['X_scanorama'] for ad in adatas]\n",
    "\n",
    "# make into one matrix.\n",
    "all_s = np.concatenate(scanorama_int)\n",
    "print(all_s.shape)\n",
    "\n",
    "# add to the AnnData object\n",
    "total.obsm[\"scanorama_embedding\"] = all_s"
   ]
  },
  {
   "cell_type": "code",
   "execution_count": null,
   "id": "burning-proceeding",
   "metadata": {},
   "outputs": [],
   "source": [
    "from sklearn.metrics.pairwise import cosine_distances\n",
    "\n",
    "distances = 1 - cosine_distances(\n",
    "    total[total.obs.dataset == \"10x_Chromium\"].obsm[\n",
    "        \"scanorama_embedding\"\n",
    "    ],\n",
    "    total[total.obs.dataset == \"10x_Visium\"].obsm[\n",
    "        \"scanorama_embedding\"\n",
    "    ],\n",
    ")"
   ]
  },
  {
   "cell_type": "code",
   "execution_count": null,
   "id": "complex-chapel",
   "metadata": {},
   "outputs": [],
   "source": [
    "class_prob = label_transfer(distances, adata_d0_18mo.obs.cell_type_subset)"
   ]
  },
  {
   "cell_type": "code",
   "execution_count": null,
   "id": "rough-roommate",
   "metadata": {},
   "outputs": [],
   "source": [
    "cp_df = pd.DataFrame(\n",
    "    class_prob, columns=np.sort(adata_d0_18mo.obs.cell_type_subset.unique())\n",
    ")\n",
    "\n",
    "cp_df.index =  visiums_list[3].obs.index"
   ]
  },
  {
   "cell_type": "code",
   "execution_count": null,
   "id": "banned-product",
   "metadata": {},
   "outputs": [],
   "source": [
    "adata_transfer =  visiums_list[3].copy()\n",
    "adata_transfer.obs = pd.concat(\n",
    "    [ visiums_list[3].obs, cp_df], axis=1\n",
    ")"
   ]
  },
  {
   "cell_type": "code",
   "execution_count": null,
   "id": "distributed-trance",
   "metadata": {},
   "outputs": [],
   "source": [
    "subset_palette =  ['#F6222E', '#3283FE', '#16FF32', '#BDCDFF', '#3B00FB', '#1CFFCE', '#d62728', '#19c9b3','#FFA5D2',   'grey', '#2ED9FF', '#c1c119', '#8b0000', '#FE00FA', \"#F8A19F\", '#1CBE4F','#B5EFB5',  '#AA0DFE','#FEAF16', '#325A9B', '#C075A6', 'black']\n",
    "\n",
    "sc.pl.umap(adata_d4_18mo, color=[ 'cell_type_subset'], \n",
    "                        color_map='Spectral_r',\n",
    "                        palette=subset_palette,\n",
    "                        use_raw=False, \n",
    "                        ncols=4, \n",
    "                        wspace = 0.3,\n",
    "                        outline_width=[0.6, 0.05], \n",
    "                        size=15,  \n",
    "                        frameon=False, \n",
    "                        add_outline=True, \n",
    "                        sort_order = False)"
   ]
  },
  {
   "cell_type": "code",
   "execution_count": null,
   "id": "357c45f2",
   "metadata": {},
   "outputs": [],
   "source": [
    "### Across cell type signatures"
   ]
  },
  {
   "cell_type": "code",
   "execution_count": null,
   "id": "fde75dbf",
   "metadata": {},
   "outputs": [],
   "source": [
    "artEC_sign = ['Tm4sf1',\t'Cldn5',\t'Ly6c1',\t'Ptprb',\t'Pecam1',\t'Egfl7',\t'Ptprm',\t'Flt1',\t'Cav1',\t'Epas1',\t'Mecom',\t'Fabp4',\t'Slc9a3r2',\t'Icam2',\t'Esam',\t'Sox17',\t'Cdh5',\t'Fbln5',\t'Id1',\t'Eng',\t'Cyyr1',\t'Ecscr',\t'Adgrf5',\t'Arhgap31',\t'Cst3',\t'Ly6e',\t'Podxl',\t'Plcb1',\t'Pdgfd',\t'Cd36',\t'Cd200',\t'Calm1',\t'Stmn2',\t'Prex2',\t'Klf2',\t'Serinc3',\t'Mmrn2',\t'Sema3g',\t'S1pr1',\t'Tspan13',\t'Cdh13',\t'Tinagl1',\t'Ldb2',\t'Arl15',\t'Cav2',\t'Crip2',\t'Gnai2',\t'Cavin2',\t'Atox1',\t'Hspb1']\n",
    "capEC_sign = ['Fabp4',\t'Gpihbp1',\t'Cd36',\t'Ly6c1',\t'Rgcc',\t'Egfl7',\t'Tmsb4x',\t'Flt1',\t'Mgll',\t'Pecam1',\t'Cav1',\t'Cd300lg',\t'Cavin2',\t'Cdh5',\t'Gng11',\t'Tspan13',\t'Esam',\t'Hspb1',\t'Emcn',\t'Adgrl4',\t'Cldn5',\t'Tcf15',\t'Calm1',\t'Ptprm',\t'Cyyr1',\t'Cd200',\t'Tm4sf1',\t'Ptprb',\t'Etl4',\t'Kdr',\t'Cav2',\t'Arhgap31',\t'Kank3',\t'Lims2',\t'Ctla2a',\t'Scarb1',\t'Ushbp1',\t'Gimap6',\t'C1qtnf9',\t'Eng',\t'Slc9a3r2',\t'Car4',\t'Fli1',\t'Id1',\t'Adgrf5',\t'Cdh13',\t'Aqp1',\t'Serinc3',\t'Nrp1',\t'Ablim3']\n",
    "venEC_sign = ['Aqp1',\t'Pecam1',\t'Plvap',\t'Ctla2a',\t'Egfl7',\t'Eng',\t'Fabp4',\t'Lrg1',\t'Ptprb',\t'Flt1',\t'Tspan7',\t'Tmsb4x',\t'Mmrn2',\t'Vwf',\t'Emcn',\t'Cdh5',\t'Mecom',\t'Il6st',\t'Ldb2',\t'Esam',\t'Fli1',\t'Gnai2',\t'Scarb1',\t'Gng11',\t'Prkch',\t'Ecscr',\t'Ablim1',\t'Cyyr1',\t'Epas1',\t'Adgrf5',\t'Gimap6',\t'Myh9',\t'Grrp1',\t'Cav1',\t'Selp',\t'Ptprm',\t'Ehd4',\t'Fry',\t'Abcg2',\t'Adgrl4',\t'Arhgap31',\t'Pdlim1',\t'Cd93',\t'Tm4sf1',\t'2200002D01Rik',\t'Ece1',\t'St6galnac3',\t'Ndrg1',\t'Cd200',\t'Cd36']\n",
    "capsFB_sign = ['Pi16',\t'Timp2',\t'Fn1',\t'Mfap5',\t'Clec3b',\t'Cd248',\t'Opcml',\t'Nid1',\t'Pcolce2',\t'Igfbp6',\t'Fbn1',\t'Tmem100',\t'Fndc1',\t'Ackr3',\t'Fstl1',\t'Ebf2',\t'Creb5',\t'Col14a1',\t'Sema3c',\t'Anxa3',\t'Pla1a',\t'Adgrd1',\t'Pcsk6',\t'Smpd3',\t'Dpt',\t'Ddr2',\t'Axl',\t'Tnxb',\t'Ogn',\t'Loxl1',\t'Dpp4',\t'Adamts5',\t'Islr',\t'Plpp3',\t'Scara5',\t'Ly6c1',\t'Lsp1',\t'Efhd1',\t'Cd34',\t'Gfpt2',\t'Tppp3',\t'Col1a1',\t'Sdk1',\t'Col3a1',\t'Rnase4',\t'Emilin2',\t'Metrnl',\t'Sparc',\t'Col1a2',\t'Tgfbr2']\n",
    "intFB_sign = ['Gsn',\t'Dcn',\t'Serpinf1',\t'Smoc2',\t'Lrp1',\t'Lum',\t'Htra3',\t'Pcolce',\t'Col3a1',\t'Gpx3',\t'Col1a2',\t'Abca8a',\t'Lpl',\t'Celf2',\t'Cygb',\t'Fbln1',\t'Selenop',\t'Slit3',\t'Gas1',\t'Col1a1',\t'Mmp2',\t'Dpep1',\t'Penk',\t'Col15a1',\t'Inmt',\t'Serpinh1',\t'Clec3b',\t'Rbp1',\t'Igfbp4',\t'Dpt',\t'Pdgfra',\t'Mgst1',\t'Igf1',\t'Ftl1',\t'Lama2',\t'Serping1',\t'Rnase4',\t'Il11ra1',\t'Mfap5',\t'Ogn',\t'Tmsb10',\t'Cd302',\t'Svep1',\t'Aebp1',\t'Bgn',\t'Plxdc2',\t'Nbl1',\t'Ifitm2',\t'Itm2a',\t'Adamts12']\n",
    "medFB_sign = ['Serpine2',\t'Bgn',\t'Csmd1',\t'Enpp2',\t'Ptn',\t'Apod',\t'Igfbp7',\t'Lhfp',\t'Lsamp',\t'Hsd11b1',\t'Ifitm1',\t'Ltc4s',\t'Ccl19',\t'Cd63',\t'Colec12',\t'Des',\t'Col15a1',\t'Mgp',\t'Ank2',\t'Sparcl1',\t'Cp',\t'Spon1',\t'Gpm6b',\t'Il34',\t'Tmem176a',\t'Tmem176b',\t'Apoe',\t'C3',\t'Ltbp1',\t'Lama2',\t'Cygb',\t'Tcf4',\t'Ndufa4l2',\t'Cd9',\t'Lum',\t'Col6a2',\t'Abi3bp',\t'Crispld2',\t'Dcn',\t'Laptm4a',\t'Ifitm2',\t'G0s2',\t'Jun',\t'Mfge8',\t'Cd302',\t'Il1r1',\t'Nrp1',\t'Pde7b',\t'Prelp',\t'Cd81']\n",
    "MEC_sign = ['Gpm6a',\t'Nkain4',\t'Upk3b',\t'Clu',\t'Gm12840',\t'Igfbp6',\t'Abi1',\t'Aebp1',\t'Trf',\t'Crip1',\t'Krt19',\t'Igfbp5',\t'Rspo1',\t'Wt1',\t'Mpp6',\t'Upk1b',\t'Rarres2',\t'Msln',\t'Il1rapl1',\t'Plxna4',\t'C2',\t'Efemp1',\t'Adamtsl1',\t'Sntg1',\t'Pkhd1l1',\t'Sox6',\t'Aldh1a2',\t'C4b',\t'Gpc3',\t'Kcnd2',\t'Lgals7',\t'Gas6',\t'Cldn15',\t'Lrrn4',\t'Mgp',\t'Hspb1',\t'Csrp2',\t'Cav1',\t'Bicd1',\t'Tmem151a',\t'Wdr17',\t'Cldn10',\t'Cavin2',\t'Efna5',\t'Ptgis',\t'Flrt2',\t'Ezr',\t'1010001N08Rik',\t'C3',\t'Muc16']\n",
    "PCvSMC_sign = ['Myl9',\t'Cald1',\t'Gm13889',\t'Tpm2',\t'Acta2',\t'Prkg1',\t'Tagln',\t'Tpm1',\t'Rgs5',\t'Ctnna3',\t'Tinagl1',\t'Cacna1c',\t'Crip1',\t'Myh11',\t'Notch3',\t'Mylk',\t'Dmd',\t'Myl6',\t'Sncg',\t'Mustn1',\t'Ndufa4l2',\t'Sparcl1',\t'Dgkb',\t'Gng11',\t'Kcnab1',\t'Ppp1r12a',\t'Higd1b',\t'Des',\t'Pde3a',\t'Pcp4l1',\t'Rcan2',\t'Bcam',\t'Calm2',\t'Gucy1a1',\t'Mef2c',\t'Ptp4a3',\t'Aspn',\t'Cacnb2',\t'Cpe',\t'Rgs4',\t'Igfbp7',\t'Csrp1',\t'Gucy1b1',\t'Lmod1',\t'Cox4i2',\t'Mfge8',\t'Timp3',\t'Tm4sf1',\t'Ppp1r14a',\t'Malat1']\n",
    "nmSC_sign = ['Csmd1',\t'Kcna1',\t'Fxyd1',\t'Plp1',\t'Dlgap1',\t'Prnp',\t'Cd9',\t'Gfra3',\t'Stard13',\t'Vwa1',\t'Cdh19',\t'Malat1',\t'Dbi',\t'Slc35f1',\t'Aspa',\t'Scn7a',\t'Cd59a',\t'Zeb2',\t'S100b',\t'Cadm2',\t'Matn2',\t'Nkain2',\t'Cryab',\t'Gpm6b',\t'Gpr37l1',\t'Art3',\t'Apoe',\t'Cnp',\t'Vim',\t'Sox10',\t'Zfp536',\t'Lgi4',\t'Nrn1',\t'Lgals3',\t'Sgcd',\t'Fcgr2b',\t'Ncam1',\t'Frmd4a',\t'Sat1',\t'Chl1',\t'Cadm1',\t'S100a6',\t'Prkca',\t'Gatm',\t'Fign',\t'Pmp22',\t'Kcna2',\t'Sfrp5',\t'Fgl2',\t'Csrp1']\n",
    "fat_sign = ['Mgst1',\t'Lpl',\t'Dbi',\t'Apoe',\t'Hp',\t'Car3',\t'Aoc3',\t'Mpc2',\t'Ndufa4',\t'G0s2',\t'Cebpa',\t'Fabp4',\t'Rarres2',\t'Rbp4',\t'Plin2',\t'Vim',\t'mt-Atp6',\t'mt-Co1',\t'mt-Co3',\t'mt-Nd1',\t'Angptl4',\t'Pparg',\t'Eif4ebp1',\t'Adam12',\t'Adipoq',\t'Ndufb9',\t'Cox7b',\t'Mmd',\t'Etfb',\t'Nnmt',\t'Slc1a5',\t'Slc24a3',\t'Gsn',\t'Selenbp1',\t'Fcor',\t'mt-Nd4',\t'Uqcr11',\t'Steap4',\t'Adhfe1',\t'mt-Cytb',\t'Arhgap24',\t'Prkar2b',\t'Chchd2',\t'Chpt1',\t'Plin1',\t'Atp5g3',\t'Hadh',\t'Zeb2',\t'Aldh2',\t'Col15a1']\n",
    "aaTEC1_sign = ['Krt18',\t'Epcam',\t'Trpm3',\t'Cd24a',\t'Wfdc18',\t'Krt8',\t'Spint2',\t'Ifi27l2a',\t'Meis2',\t'Cldn3',\t'Ly6e',\t'Slc16a11',\t'Slc9a3r1',\t'S100a11',\t'Btg1',\t'Perp',\t'Gsta4',\t'Isl1',\t'Fxyd3',\t'Pbx1',\t'Cdk19',\t'Ptprd',\t'mt-Co1',\t'Taldo1',\t'BC006965',\t'Apobec3',\t'S100a1',\t'Isg15',\t'Pde4b',\t'Oasl2',\t'Anxa2',\t'Aldoc',\t'Eya1',\t'Socs2',\t'Stat1',\t'Sdc4',\t'Rtp4',\t'2610307P16Rik',\t'Fam107a',\t'Mif',\t'mt-Co3',\t'Cdh1',\t'Cd74',\t'Atp1a1',\t'Fbxo2',\t'Nedd4l',\t'Shank2',\t'Eno1',\t'Marcksl1',\t'mt-Nd1']\n",
    "aaTEC2_sign = ['Csmd1',\t'Ndrg2',\t'Ccl19',\t'Trpm3',\t'Cd74',\t'Nav2',\t'Gadd45g',\t'H2-Ab1',\t'Atp1b1',\t'Pde4b',\t'Csrp1',\t'H2-Eb1',\t'Btg1',\t'Meis2',\t'Mir100hg',\t'Ccl21a',\t'Socs2',\t'Iigp1',\t'Tagln',\t'Socs3',\t'H2-Aa',\t'Kirrel3',\t'Ptprd',\t'Notch3',\t'Tagln2',\t'Heyl',\t'Gucy1a1',\t'Bcl2',\t'Gm48742',\t'Gpx3',\t'Eya4',\t'Cnn3',\t'Ncam1',\t'Art3',\t'Cd9',\t'Eya1',\t'Apoe',\t'Pbx1',\t'Ar',\t'Nhs',\t'Olfm2',\t'Cul1',\t'Fos',\t'Palld',\t'Phlda1',\t'Jmjd1c',\t'Sncaip',\t'Cacna1c',\t'Sdc4',\t'Arid5b']\n",
    "cTEC_sign = ['Krt18',\t'Cstb',\t'Krt8',\t'Ctsl',\t'Ank3',\t'Ndufa11',\t'Tbata',\t'H2-Ab1',\t'Slc46a2',\t'Prxl2b',\t'H2-Aa',\t'Prss16',\t'Cd74',\t'Gas6',\t'Fabp5',\t'Nlgn1',\t'Pax1',\t'H2-Eb1',\t'Pltp',\t'Ccl25',\t'Wnt4',\t'Tmem131l',\t'Rbfox1',\t'Psmb9',\t'Dpp6',\t'Shisa2',\t'AI646519',\t'Psmb11',\t'H2-DMa',\t'Bnip3l',\t'Krt5',\t'Sfn',\t'H2-DMb2',\t'Tsc22d1',\t'Snhg11',\t'Krt17',\t'Trp63',\t'Ctnnd2',\t'Nav2',\t'Atpif1',\t'Kctd1',\t'Ccl21a',\t'Sh2d4b',\t'Perp',\t'Tenm4',\t'Dsp',\t'Spint2',\t'Ociad2',\t'Ndrg3',\t'Apobec3']\n",
    "mTEC1_sign = ['H2-Ab1',\t'Krt5',\t'H2-Eb1',\t'H2-Aa',\t'Ifi27l2a',\t'Ank3',\t'Cd74',\t'Ccl21a',\t'Krt14',\t'Ifitm3',\t'Krt18',\t'Perp',\t'Fxyd3',\t'Eya4',\t'Epcam',\t'Spint2',\t'Isg15',\t'Oasl2',\t'Sfn',\t'Meis2',\t'Mif',\t'Krt17',\t'H2-DMa',\t'Atp1a1',\t'Rbfox1',\t'Ly6e',\t'Krt8',\t'Nxn',\t'Ctnnd2',\t'Rtp4',\t'Kcnma1',\t'H3f3b',\t'Apobec3',\t'Ptprd',\t'Pbx1',\t'Apoe',\t'Atp1b1',\t'Trp63',\t'Atpif1',\t'Gas6',\t'Eya1',\t'Urah',\t'Itga6',\t'Dsp',\t'H2-DMb1',\t'Marcksl1',\t'Csrp1',\t'Fcgbp',\t'B2m',\t'Cdh1']\n",
    "mTECprol_sign = ['Krt17',\t'Tpm2',\t'Ascl1',\t'Ccl21a',\t'Ptma',\t'Krt7',\t'Spint2',\t'Krt5',\t'Cd74',\t'Marcksl1',\t'H3f3b',\t'H2-Eb1',\t'Wfdc18',\t'Sox4',\t'H2-Aa',\t'H2-Ab1',\t'Hes6',\t'Epcam',\t'Ubd',\t'Skint10',\t'Krt8',\t'Krt14',\t'Tubb2b',\t'Pfn1',\t'Actg1',\t'Prxl2b',\t'Fcgbp',\t'Mapk13',\t'H2afy2',\t'Rgs5',\t'Mif',\t'Cd82',\t'Mdk',\t'H2-DMb2',\t'Gm49708',\t'Kcnq3',\t'Ppia',\t'Srgn',\t'Cdk4',\t'Adm',\t'Hagh',\t'Fezf2',\t'Hsp90ab1',\t'S100a14',\t'Hnrnpa1',\t'Cib1',\t'H2-Q7',\t'Ank3',\t'Perp',\t'Slc25a5']\n",
    "mTEC2_sign = ['Cd74',\t'Srgn',\t'Ubd',\t'H2-Aa',\t'H2-Eb1',\t'Syt1',\t'S100a14',\t'H2-Ab1',\t'H2-DMb2',\t'Cyba',\t'H2-Oa',\t'Mrpl38',\t'Lrrc42',\t'Marcksl1',\t'Hagh',\t'Fabp5',\t'Cd52',\t'Fezf2',\t'Aire',\t'Cib1',\t'Bspry',\t'Krt17',\t'Hspb11',\t'Plb1',\t'Krt8',\t'Fcgbp',\t'Cdx1',\t'Psme2',\t'Dpp10',\t'Dio1',\t'Spint2',\t'Ctss',\t'H2-Eb2',\t'Skint10',\t'Txn1',\t'Ankrd33b',\t'Tnfrsf11a',\t'Fam89a',\t'Syngr2',\t'Calcb',\t'Nfkbia',\t'Ndufc2',\t'Laptm5',\t'Utf1',\t'Cox17',\t'Il4i1',\t'Hdc',\t'Ing1',\t'Gm47938',\t'Csn2']\n",
    "mTEC3_sign = ['Ly6d',\t'Fxyd3',\t'Sfn',\t'Perp',\t'Dapl1',\t'Krt17',\t'Dsp',\t'Tacstd2',\t'Dmkn',\t'Skint3',\t'Spink5',\t'H2afj',\t'Dstn',\t'Epcam',\t'H2-K1',\t'Oit1',\t'Cdh1',\t'Cst6',\t'Gsta4',\t'Hspb1',\t'Fabp5',\t'Pdzk1ip1',\t'Cdkn2b',\t'Urah',\t'S100a14',\t'Cdkn2a',\t'H2-Q7',\t'Spint2',\t'Bcl2a1b',\t'Cldn4',\t'Atox1',\t'Vamp8',\t'Calml3',\t'Lypd3',\t'Avpi1',\t'Ldhb',\t'Rab11a',\t'Jup',\t'4833423E24Rik',\t'Prdx5',\t'Krt23',\t'Atp1b1',\t'Cdkn1a',\t'Serpinb2',\t'Fcgbp',\t'Rbm47',\t'Sdc1',\t'Trim29',\t'Gsta2',\t'Dgat2']\n",
    "tuft_sign = ['Mctp1',\t'Gng13',\t'Avil',\t'Rgs13',\t'Espn',\t'Cystm1',\t'Anxa4',\t'Lrmp',\t'Ptpn18',\t'Ivns1abp',\t'Bmx',\t'Fyb',\t'Calm2',\t'Ly6g6f',\t'Ethe1',\t'Reep5',\t'1810046K07Rik',\t'Smim22',\t'Ociad2',\t'Ptpn6',\t'Abhd2',\t'Cd24a',\t'Ehf',\t'Pde4d',\t'Chil1',\t'St18',\t'Dgki',\t'Pou2f3',\t'Pik3r5',\t'Trpm5',\t'Lima1',\t'Vav1',\t'Alox5ap',\t'Alox5',\t'Krt8',\t'Scand1',\t'Tnc',\t'Cox8a',\t'Oxr1',\t'Krt18',\t'H2afj',\t'Rab25',\t'Gpcpd1',\t'Strip2',\t'Cox17',\t'Sh2d6',\t'Rassf6',\t'Macrod2',\t'Cldn7',\t'Plk2']\n",
    "nTEC_sign = ['Ptprn2',\t'Cacna2d1',\t'Scg5',\t'Syt1',\t'Krt8',\t'Car8',\t'Stxbp5l',\t'Chga',\t'Ccser1',\t'Snap25',\t'Cystm1',\t'Krt7',\t'Smim22',\t'Cd9',\t'Alcam',\t'Krt18',\t'Dnajc12',\t'Pip5k1b',\t'Epcam',\t'Cldn7',\t'Syt7',\t'Kcnb2',\t'Insm1',\t'Cd24a',\t'Cdh1',\t'Cadps',\t'Ceacam10',\t'Resp18',\t'Tsc22d1',\t'Rims2',\t'Cacna1a',\t'Pcbd1',\t'Cacnb2',\t'Cplx2',\t'Fam183b',\t'Emb',\t'AC149090.1',\t'Rap1gap2',\t'Aopep',\t'Nol4',\t'Stard10',\t'Tmem163',\t'5330417C22Rik',\t'Pam',\t'Btg2',\t'Fhl2',\t'Spint2',\t'Actg1',\t'A230057D06Rik',\t'Guk1']\n",
    "goblet_sign = ['Wfdc2',\t'Fxyd3',\t'H2-K1',\t'Cyp2f2',\t'Spint2',\t'Atp1b1',\t'S100a11',\t'Gsto1',\t'Cxcl17',\t'Alcam',\t'Krt18',\t'Ly6e',\t'Ly6d',\t'Epcam',\t'Ifi27l2a',\t'Cbr2',\t'Sorbs2',\t'Smim22',\t'Pglyrp1',\t'H2-Q7',\t'Serpinb11',\t'Krt8',\t'Krt19',\t'Vamp8',\t'Slc12a2',\t'Cd24a',\t'Irf7',\t'Cldn3',\t'Slc16a11',\t'Gsta4',\t'Cldn7',\t'B2m',\t'Elf3',\t'Oasl2',\t'Tst',\t'Atp1a1',\t'Aqp5',\t'Sfn',\t'Cdh1',\t'Ezr',\t'Tspan8',\t'Tacstd2',\t'Perp',\t'Runx1',\t'Eya2',\t'Lmo7',\t'Cd74',\t'Rbm47',\t'Chchd10',\t'Bace2']\n",
    "Mlike_sign = ['Ccl20',\t'Ccl9',\t'Serpinb6a',\t'Serpinb1a',\t'Tmsb4x',\t'2200002D01Rik',\t'Nostrin',\t'Ubd',\t'Csn2',\t'Ctsh',\t'Pold1',\t'Bcl2a1d',\t'Spib',\t'Plb1',\t'Fabp5',\t'Marcksl1',\t'Ccl6',\t'Spint2',\t'Cyp2a5',\t'Clu',\t'Bcl2a1b',\t'Pglyrp1',\t'Fabp1',\t'Hamp',\t'AW112010',\t'Atox1',\t'H2-M2',\t'Atp6v1c1',\t'Bcl2a1a',\t'Krt20',\t'Gjb2',\t'Epcam',\t'Iscu',\t'Vamp8',\t'Sephs2',\t'4930520O04Rik',\t'Mrpl38',\t'Cldn7',\t'Rac2',\t'AA467197',\t'Hspe1',\t'Cib1',\t'Dsg1a',\t'Ahcyl2',\t'Fxyd3',\t'Tnfrsf11b',\t'Srgn',\t'Sept1',\t'Fcgbp',\t'Hist1h2bc']"
   ]
  },
  {
   "cell_type": "code",
   "execution_count": null,
   "id": "b0aec7ff",
   "metadata": {},
   "outputs": [],
   "source": [
    "aaTEC1_sign = ['Zbtb20',\t'Cd81',\t'Trpm3',\t'Slc16a11',\t'Gstm1',\t'Btg1',\t'BC006965',\t'Cldn3',\t'S100a11',\t'Gsta4',\t'Ly6e',\t'Cdk19',\t'Wfdc18',\t'Slc9a3r1',\t'Ifi27l2a',\t'Aldoc',\t'Phlda1',\t'Anxa2',\t'Taldo1',\t'Socs2',\t'Fam107a',\t'Krt18',\t'Pbx1',\t'Tm4sf1',\t'Meis2',\t'Gsn',\t'Anxa1',\t'Bmp6',\t'Epcam',\t'Dbi',\t'Shank2',\t'Kif19a',\t'Isl1',\t'Plin2',\t'Ly6a',\t'Nupr1',\t'Id2',\t'Rcn1',\t'Gpc6',\t'Rdh10',\t'Cd24a',\t'mt-Co1',\t'Gab2',\t'Pde4b',\t'Slc5a8',\t'Nedd4l',\t'Fbxo2',\t'Tshz2',\t'Acss3',\t'Cd9']\n",
    "aaTEC2_sign = ['Csmd1',\t'Zeb2',\t'Mgp',\t'Gsn',\t'Zbtb20',\t'Ndrg2',\t'Serpine2',\t'Cd81',\t'Fxyd1',\t'Laptm4a',\t'Gpx3',\t'Socs3',\t'Igfbp7',\t'Airn',\t'Lgals1',\t'Fos',\t'Prrx1',\t'Prkg1',\t'Junb',\t'Sparc',\t'Cebpd',\t'Apoe',\t'Gstm1',\t'Gadd45g',\t'Id3',\t'Egr1',\t'Ptn',\t'Cd63',\t'Tm4sf1',\t'Ccdc80',\t'Phlda1',\t'Cavin3',\t'Cald1',\t'Serping1',\t'Sparcl1',\t'Ccl19',\t'Cst3',\t'Cacna1c',\t'Jund',\t'Fstl1',\t'Tagln2',\t'Klf9',\t'Jun',\t'Gucy1a1',\t'Col3a1',\t'Notch3',\t'Rora',\t'Tshz2',\t'Lhfp',\t'Gnas']\n",
    "cTEC_sign = ['Ctsl',\t'Cstb',\t'Cxcl12',\t'Prss16',\t'Krt18',\t'Gas6',\t'Pltp',\t'Slc46a2',\t'Ndufa11',\t'Tbata',\t'Ccl25',\t'Psmb11',\t'Tmem131l',\t'Nlgn1',\t'Prxl2b',\t'Pax1',\t'Wnt4',\t'Dpp6',\t'Psmb9',\t'Bnip3l',\t'Snhg11',\t'Copz2',\t'AI646519',\t'Ank3',\t'Lamp2',\t'Ndrg3',\t'Shisa2',\t'Rgcc',\t'Krt8',\t'Rbfox1',\t'Tsc22d1',\t'Kctd1',\t'Ly75',\t'Sh2d4b',\t'Igfbp5',\t'Fabp5',\t'Plgrkt',\t'Spock2',\t'Ryr3',\t'Syngr1',\t'Zfyve21',\t'Tenm4',\t'Trp63',\t'Clic5',\t'Gmpr',\t'Castor1',\t'Macf1',\t'Ifi27',\t'Limch1',\t'Kcnk2']\n",
    "mTEC1_sign = ['Apoe',\t'Ifitm3',\t'Rbms3',\t'Ly6a',\t'Ifi27l2a',\t'Krt5',\t'Krt14',\t'Ctsl',\t'Gas1',\t'Ifitm2',\t'Ccl21a',\t'Itm2b',\t'Gas6',\t'Dcn',\t'Isg15',\t'Igfbp4',\t'Laptm4a',\t'Eya4',\t'Cpne8',\t'Mgp',\t'Mir100hg',\t'Sult5a1',\t'Rtp4',\t'Iigp1',\t'Nxn',\t'Rbp1',\t'Gas5',\t'Zfp36l1',\t'Gsn',\t'Ank3',\t'Cst3',\t'Pbx1',\t'Lifr',\t'Meis2',\t'Perp',\t'Oasl2',\t'Anxa2',\t'S100a10',\t'Boc',\t'Atp1a1',\t'Ccl11',\t'Phlda3',\t'Ly6e',\t'Nedd4',\t'Myl6',\t'Trp63',\t'Anxa1',\t'Tpt1',\t'Hif1a',\t'Gpx3']\n",
    "mTECprol_sign = ['Tpm2',\t'Krt17',\t'Ascl1',\t'Tmsb10',\t'Ptma',\t'Rgs5',\t'Adm',\t'H2afy2',\t'Hes6',\t'Krt7',\t'Cdk4',\t'Pfn1',\t'Sox4',\t'Skint10',\t'Tubb6',\t'Cfl1',\t'Mapk13',\t'Tubb2b',\t'Wfdc18',\t'Ccnd2',\t'Stmn1',\t'Mdk',\t'Ccl19',\t'Cd82',\t'Gm49708',\t'H3f3b',\t'Lgals1',\t'Prxl2b',\t'Ybx1',\t'Actg1',\t'Eef1g',\t'Nme2',\t'Gm15943',\t'Il11ra1',\t'Colq',\t'Cald1',\t'Krt5',\t'Hnrnpa1',\t'Eif4a1',\t'Ppia',\t'Ccl21a',\t'Tubb5',\t'Hsp90ab1',\t'Angptl2',\t'Kcnq3',\t'Lpo',\t'Set',\t'Hspa8',\t'Hmgn1',\t'Npm1']\n",
    "mTEC2_sign = ['Srgn',\t'Cyba',\t'Ubd',\t'Cd74',\t'S100a14',\t'Syt1',\t'Cd52',\t'Aire',\t'H2-Aa',\t'H2-Oa',\t'Lrrc42',\t'Mrpl38',\t'H2-Eb1',\t'Hagh',\t'Nfkbia',\t'Dpp10',\t'Cdx1',\t'Psme2',\t'Hdc',\t'Calcb',\t'H2-DMb2',\t'H2-Eb2',\t'Fam89a',\t'Gm47938',\t'Hspb11',\t'Fscn1',\t'Csn2',\t'Bspry',\t'Ndufc2',\t'Fezf2',\t'Fabp5',\t'Ankrd33b',\t'Ing1',\t'Gm48239',\t'Utf1',\t'Il4i1',\t'Txn1',\t'Ctss',\t'Nup85',\t'Cib1',\t'Laptm5',\t'Tm4sf5',\t'Syngr2',\t'Dock10',\t'Dio1',\t'Nsmce2',\t'Snx29',\t'S100g',\t'Cd40',\t'Ptprq']\n",
    "mTEC3_sign = ['Ly6d',\t'Dapl1',\t'Dmkn',\t'Spink5',\t'Skint3',\t'Fxyd3',\t'Sfn',\t'Tacstd2',\t'Hspb1',\t'Cdkn1a',\t'Oit1',\t'Pdzk1ip1',\t'Prdx5',\t'Cdkn2a',\t'Perp',\t'Cdkn2b',\t'Gsta4',\t'Atox1',\t'Lypd3',\t'Cst6',\t'Metrnl',\t'Sbsn',\t'Dstn',\t'Dsp',\t'Calml3',\t'Rab11a',\t'Krt17',\t'Krt23',\t'Bcl2a1b',\t'Serpinb2',\t'H2afj',\t'Jup',\t'Avpi1',\t'4833423E24Rik',\t'Ide',\t'Cebpb',\t'Gsta2',\t'Sdc1',\t'Clic3',\t'Tmem54',\t'2200002D01Rik',\t'Dgat2',\t'Tmem45a',\t'Cldn4',\t'Rptn',\t'Gltp',\t'Nupr1',\t'Arf6',\t'Tspan8',\t'Ier5']\n",
    "tuft_sign = ['Mctp1',\t'Gng13',\t'Avil',\t'Rgs13',\t'Espn',\t'Lrmp',\t'Anxa4',\t'Ltc4s',\t'Ptpn18',\t'Bmx',\t'Cystm1',\t'Ivns1abp',\t'Fyb',\t'Ly6g6f',\t'Calm2',\t'Ethe1',\t'Reep5',\t'Lima1',\t'1810046K07Rik',\t'Abhd2',\t'Pik3r5',\t'Trpm5',\t'St18',\t'Crip1',\t'Dgki',\t'Pou2f3',\t'Vav1',\t'Scand1',\t'Chil1',\t'Alox5ap',\t'Ptpn6',\t'Plac8',\t'Alox5',\t'Ostf1',\t'Oxr1',\t'Plk2',\t'Ociad2',\t'Sh2d6',\t'Ahnak2',\t'Stk38',\t'Tmem245',\t'Atp1a2',\t'Aldh2',\t'Cd47',\t'Fxyd6',\t'Inpp5d',\t'Dclk1',\t'Gpcpd1',\t'Sh2d7',\t'Strip2']\n",
    "nTEC_sign = ['Ptprn2',\t'Cacna2d1',\t'Car8',\t'Scg5',\t'Stxbp5l',\t'Snap25',\t'Chga',\t'Cd9',\t'Dnajc12',\t'Ccser1',\t'Camk2n1',\t'Syt7',\t'Pam',\t'Cacna1a',\t'Syt1',\t'Cacnb2',\t'Cystm1',\t'Tshz2',\t'Fam183b',\t'Cplx2',\t'Ceacam10',\t'Btg2',\t'Rims2',\t'Resp18',\t'Fhl2',\t'A230057D06Rik',\t'Tmem163',\t'Rap1gap2',\t'Kcnb2',\t'Nfasc',\t'Pip5k1b',\t'Alcam',\t'Chgb',\t'Ica1',\t'Pcbd1',\t'Krt7',\t'Insm1',\t'Smim22',\t'Jund',\t'5330417C22Rik',\t'Atf3',\t'AC149090.1',\t'Bex2',\t'Prkn',\t'Cpn1',\t'Tox3',\t'Nol4',\t'A330076H08Rik',\t'Aopep',\t'Stard10']\n",
    "goblet_sign = ['Wfdc2',\t'Cyp2f2',\t'Cxcl17',\t'Gsto1',\t'Nupr1',\t'S100a11',\t'Anxa3',\t'Sorbs2',\t'H2-K1',\t'Serpinb11',\t'Krt19',\t'Slc12a2',\t'Fxyd3',\t'Ly6d',\t'Aqp5',\t'Alcam',\t'Bsg',\t'Bace2',\t'Ly6e',\t'F3',\t'Ly6a',\t'Mecom',\t'AW112010',\t'Pglyrp1',\t'Atp1b1',\t'Cp',\t'Anxa1',\t'Tspan8',\t'Irf7',\t'Lgals3bp',\t'Tceal9',\t'Nfib',\t'Gsta4',\t'Cd14',\t'Mllt3',\t'Slc16a11',\t'Upk1b',\t'Lrrc26',\t'Foxa1',\t'Ece1',\t'Timp2',\t'Ifi27l2a',\t'Ces1d',\t'Epas1',\t'Cbr2',\t'Lmo7',\t'Spink5',\t'Hspb1',\t'Smim22',\t'Kcnj16']\n",
    "Mlike_sign = ['Ccl20',\t'Ccl9',\t'Serpinb6a',\t'Serpinb1a',\t'Tmsb4x',\t'2200002D01Rik',\t'Nostrin',\t'Ctsh',\t'Ccl6',\t'AW112010',\t'Spib',\t'Bcl2a1d',\t'Csn2',\t'Cyp2a5',\t'Fabp1',\t'Hamp',\t'Pold1',\t'Bcl2a1b',\t'Atox1',\t'Iscu',\t'Pglyrp1',\t'Bcl2a1a',\t'Clu',\t'Krt20',\t'Atp6v1c1',\t'H2-M2',\t'Gjb2',\t'Crip1',\t'Fabp5',\t'Ubd',\t'Vamp5',\t'Marcksl1',\t'Plb1',\t'Arpc1b',\t'4930520O04Rik',\t'Tnfrsf11b',\t'Sephs2',\t'Dsg1a',\t'Spint2',\t'Ftl1',\t'AA467197',\t'Sept1',\t'Aif1',\t'Gadd45a',\t'Tnfaip2',\t'Vamp8',\t'Fabp4',\t'Hspe1',\t'Rac2',\t'Ahcyl2']\n",
    "capsFB_sign = ['Pi16',\t'Timp2',\t'Fn1',\t'Opcml',\t'Cd248',\t'Mfap5',\t'Anxa3',\t'Pcolce2',\t'Ackr3',\t'Fndc1',\t'Igfbp6',\t'Sema3c',\t'Clec3b',\t'Creb5',\t'Smpd3',\t'Tmem100',\t'Adgrd1',\t'Ly6c1',\t'Pcsk6',\t'Nid1',\t'Fbn1',\t'Dpp4',\t'Pla1a',\t'Efhd1',\t'Col14a1',\t'Ebf2',\t'Fstl1',\t'Metrnl',\t'Plpp3',\t'Sdk1',\t'Limch1',\t'Axl',\t'Loxl1',\t'Anxa1',\t'Emilin2',\t'Tmsb4x',\t'Tnxb',\t'Gfpt2',\t'Lsp1',\t'Ly6a',\t'Efna5',\t'Adamts5',\t'Igfbp5',\t'Ugdh',\t'Timp3',\t'Ogn',\t'Heg1',\t'Islr',\t'Ddr2',\t'Ppp1r14b']\n",
    "intFB_sign = ['Smoc2',\t'Gpx3',\t'Penk',\t'Igf1',\t'Gas1',\t'Inmt',\t'Pcolce',\t'Lrp1',\t'Itm2a',\t'Gdf10',\t'Rbp1',\t'Fbln1',\t'Sfrp1',\t'Slit3',\t'Svep1',\t'Auts2',\t'Lpl',\t'Celf2',\t'Serpinf1',\t'Il11ra1',\t'Adamts12',\t'Abca8a',\t'Cygb',\t'Nfib',\t'Dcn',\t'Selenop',\t'Ntrk2',\t'Tmem119',\t'Mgst1',\t'Igfbp3',\t'Mmp2',\t'Ar',\t'Gsn',\t'Srpx',\t'Col15a1',\t'Mt1',\t'Lum',\t'Olfml3',\t'Mfap2',\t'Col3a1',\t'Fxyd6',\t'Fst',\t'Cryab',\t'Txnip',\t'Htra3',\t'Mfap4',\t'Itm2b',\t'Fbln2',\t'Dhrs3',\t'Col1a2']\n",
    "medFB_sign = ['Csmd1',\t'Serpine2',\t'Enpp2',\t'Ptn',\t'Tmem176b',\t'Tmem176a',\t'B2m',\t'Ccl19',\t'Igfbp7',\t'Apod',\t'Bgn',\t'H2-D1',\t'Des',\t'Ltc4s',\t'Lhfp',\t'Ifitm1',\t'Cd9',\t'Apoe',\t'Lsamp',\t'Ly6e',\t'H2-K1',\t'H2-Q7',\t'Sparcl1',\t'Il34',\t'Ndufa4l2',\t'Tcf4',\t'Spon1',\t'Colec12',\t'Nrp1',\t'Mylk',\t'Hsd11b1',\t'Mfge8',\t'Jun',\t'Cp',\t'Meox1',\t'Ecscr',\t'Trps1',\t'Ank2',\t'Gpm6b',\t'Cstb',\t'Cd63',\t'Pde4b',\t'Postn',\t'H3f3b',\t'Mgp',\t'Pten',\t'Ptma',\t'Ltbp1',\t'Col15a1',\t'Pde7b']\n",
    "artEC_sign = ['Fbln5',\t'Stmn2',\t'Clu',\t'Sema3g',\t'Glul',\t'Tm4sf1',\t'Eps8l2',\t'Col8a1',\t'Nebl',\t'Vegfc',\t'Alpl',\t'Arl15',\t'Gja4',\t'Edn1',\t'S100a6',\t'Mast4',\t'Sox17',\t'Pdgfd',\t'Fbln2',\t'Vim',\t'Ltbp4',\t'Slc6a6',\t'Klf2',\t'Heg1',\t'Epas1',\t'Fxyd5',\t'Ly6a',\t'Crip1',\t'Fn1',\t'Cd9',\t'Mecom',\t'Tsc22d1',\t'Bsg',\t'Atox1',\t'Podxl',\t'Ptprr',\t'Ebf1',\t'Cdk19',\t'Icam2',\t'Tspo',\t'Cst3',\t'Eln',\t'Azin1',\t'Pcsk5',\t'Gadd45g',\t'Timp3',\t'Ace',\t'Tanc2',\t'Rgs10',\t'Gja5']\n",
    "capEC_sign = ['Gpihbp1',\t'Rgcc',\t'Fabp4',\t'Cd36',\t'Car4',\t'Mgll',\t'Cd300lg',\t'Tcf15',\t'Kdr',\t'Arhgap18',\t'Igfbp7',\t'Kank3',\t'Aqp7',\t'Etl4',\t'Tspan13',\t'Cavin2',\t'Hspb1',\t'Ppp1r2',\t'Lims2',\t'Fabp5',\t'Nrp1',\t'Timp4',\t'Gng11',\t'Sept4',\t'Lpl',\t'Gm12002',\t'Ccdc85a',\t'Plpp3',\t'Ablim3',\t'Sparc',\t'Xdh',\t'Tmsb4x',\t'AW112010',\t'Ctnnbip1',\t'Thrsp',\t'Adgrl4',\t'Cav2',\t'Cxcl12',\t'Dhrs3',\t'Cd81',\t'Emcn',\t'Tcim',\t'C1qtnf9',\t'Sparcl1',\t'Ccdc85b',\t'Pitpnc1',\t'Rflnb',\t'Ubb',\t'Ly6c1',\t'Sult1a1']\n",
    "venEC_sign = ['Lrg1',\t'Il6st',\t'Vwf',\t'Plvap',\t'mt-Co1',\t'Selp',\t'Spint2',\t'Pcdh7',\t'mt-Nd4',\t'2200002D01Rik',\t'Tmsb10',\t'Eef1a1',\t'mt-Co3',\t'Bgn',\t'Pde4d',\t'mt-Atp6',\t'Aqp1',\t'Tpt1',\t'Ctla2a',\t'Ackr1',\t'Apoe',\t'Pdlim1',\t'Cd9',\t'St3gal4',\t'Ehd4',\t'Fth1',\t'Eef1b2',\t'Pecam1',\t'Thsd7a',\t'Col15a1',\t'Man1a',\t'Vim',\t'Enpp2',\t'Rbp1',\t'Igfbp4',\t'Abca1',\t'Csrp2',\t'Slco2b1',\t'Zfp521',\t'Vcam1',\t'Dpysl3',\t'Nr2f2',\t'Pam',\t'Ldb2',\t'Insr',\t'Cd74',\t'Tmem176b',\t'Il1r1',\t'Arrb1',\t'Arhgap26']"
   ]
  },
  {
   "cell_type": "code",
   "execution_count": null,
   "id": "3a113d68",
   "metadata": {},
   "outputs": [],
   "source": [
    "x=9\n",
    "sc.tl.score_genes(adata_transfer, gene_list = aaTEC1_sign[0:x],  score_name='aaTEC1_sign')\n",
    "sc.tl.score_genes(adata_transfer, gene_list = aaTEC2_sign[0:x],  score_name='aaTEC2_sign')\n",
    "sc.tl.score_genes(adata_transfer, gene_list = cTEC_sign[0:x],  score_name='cTEC_sign')\n",
    "sc.tl.score_genes(adata_transfer, gene_list = mTEC1_sign[0:x],  score_name='mTEC1_sign')\n",
    "sc.tl.score_genes(adata_transfer, gene_list = mTECprol_sign[0:x],  score_name='mTECprol_sign')\n",
    "sc.tl.score_genes(adata_transfer, gene_list = mTEC2_sign[0:x],  score_name='mTEC2_sign')\n",
    "sc.tl.score_genes(adata_transfer, gene_list = mTEC3_sign[0:x],  score_name='mTEC3_sign')\n",
    "sc.tl.score_genes(adata_transfer, gene_list = tuft_sign[0:x],  score_name='tuft_sign')\n",
    "sc.tl.score_genes(adata_transfer, gene_list = nTEC_sign[0:x],  score_name='nTEC_sign')\n",
    "sc.tl.score_genes(adata_transfer, gene_list = goblet_sign[0:x],  score_name='goblet_sign')\n",
    "sc.tl.score_genes(adata_transfer, gene_list = Mlike_sign[0:x],  score_name='Mlike_sign')\n",
    "sc.tl.score_genes(adata_transfer, gene_list = capsFB_sign[0:x],  score_name='capsFB_sign')\n",
    "sc.tl.score_genes(adata_transfer, gene_list = intFB_sign[0:x],  score_name='intFB_sign')\n",
    "sc.tl.score_genes(adata_transfer, gene_list = medFB_sign[0:x],  score_name='medFB_sign')\n",
    "sc.tl.score_genes(adata_transfer, gene_list = artEC_sign[0:x],  score_name='artEC_sign')\n",
    "sc.tl.score_genes(adata_transfer, gene_list = capEC_sign[0:x],  score_name='capEC_sign')\n",
    "sc.tl.score_genes(adata_transfer, gene_list = venEC_sign[0:x],  score_name='venEC_sign')\n",
    "sc.tl.score_genes(adata_transfer, gene_list = MEC_sign[0:x],  score_name='MEC_sign')\n",
    "sc.tl.score_genes(adata_transfer, gene_list = PCvSMC_sign[0:x],  score_name='PCvSMC_sign')\n",
    "sc.tl.score_genes(adata_transfer, gene_list = nmSC_sign[0:x],  score_name='nmSC_sign')\n",
    "sc.tl.score_genes(adata_transfer, gene_list = fat_sign[0:x],  score_name='fat_sign')"
   ]
  },
  {
   "cell_type": "code",
   "execution_count": null,
   "id": "cd1596dd",
   "metadata": {},
   "outputs": [],
   "source": [
    "x=9\n",
    "sc.tl.score_genes(adata_transfer, gene_list = aaTEC1_sign[0:x],  score_name='aaTEC1_sign')\n",
    "sc.tl.score_genes(adata_transfer, gene_list = aaTEC2_sign[0:x],  score_name='aaTEC2_sign')\n",
    "sc.tl.score_genes(adata_transfer, gene_list = cTEC_sign[0:x],  score_name='cTEC_sign')\n",
    "sc.tl.score_genes(adata_transfer, gene_list = mTEC1_sign[0:x],  score_name='mTEC1_sign')\n",
    "sc.tl.score_genes(adata_transfer, gene_list = mTECprol_sign[0:x],  score_name='mTECprol_sign')\n",
    "sc.tl.score_genes(adata_transfer, gene_list = mTEC2_sign[0:x],  score_name='mTEC2_sign')\n",
    "sc.tl.score_genes(adata_transfer, gene_list = mTEC3_sign[0:x],  score_name='mTEC3_sign')\n",
    "sc.tl.score_genes(adata_transfer, gene_list = tuft_sign[0:x],  score_name='tuft_sign')\n",
    "sc.tl.score_genes(adata_transfer, gene_list = nTEC_sign[0:x],  score_name='nTEC_sign')\n",
    "sc.tl.score_genes(adata_transfer, gene_list = goblet_sign[0:x],  score_name='goblet_sign')\n",
    "sc.tl.score_genes(adata_transfer, gene_list = Mlike_sign[0:x],  score_name='Mlike_sign')\n",
    "sc.tl.score_genes(adata_transfer, gene_list = capsFB_sign[0:x],  score_name='capsFB_sign')\n",
    "sc.tl.score_genes(adata_transfer, gene_list = intFB_sign[0:x],  score_name='intFB_sign')\n",
    "sc.tl.score_genes(adata_transfer, gene_list = medFB_sign[0:x],  score_name='medFB_sign')\n",
    "sc.tl.score_genes(adata_transfer, gene_list = artEC_sign[0:x],  score_name='artEC_sign')\n",
    "sc.tl.score_genes(adata_transfer, gene_list = capEC_sign[0:x],  score_name='capEC_sign')\n",
    "sc.tl.score_genes(adata_transfer, gene_list = venEC_sign[0:x],  score_name='venEC_sign')"
   ]
  },
  {
   "cell_type": "code",
   "execution_count": null,
   "id": "ccbb720f",
   "metadata": {},
   "outputs": [],
   "source": [
    "aaTEC1_sign = ['Trpm3',\t'Wfdc18','Cldn3',\t'Slc16a11',\t'Slc9a3r1',\t'Btg1',\t'Isl1',\t'Pbx1',\t'Cdk19',\t'Ptprd',\t'Taldo1','Aldoc',\t'Socs2',\t'Fam107a','Fbxo2',\t'Nedd4l',\t'Shank2','Kif19a',\t'Bmp6',\t'Id2',\t'Arl4c',\t'Slc5a8',\t'Skp1a',\t'Kirrel3',\t\t'Prxl2a',\t'Thsd4',\t'Rdh10',\t'Rhov',\t'Plet1',\t'Cited4',\t'Galm',\t'Rtl4',\t'Gna14',\t'Dclk2',\t'Nipal2']\n",
    "sc.tl.score_genes(adata_transfer, gene_list = aaTEC1_sign,  score_name='aaTEC1_sign')\n",
    "aaTEC2_sign = ['Csmd1', 'Trpm3', 'Ndrg2', 'Spp1', 'Zeb2', 'Socs2', 'Kirrel3', 'Heyl', 'Bcl2', 'Olfm2', 'Ar', 'Cul1', 'Esr1' ]\n",
    "sc.tl.score_genes(adata_transfer, gene_list = aaTEC2_sign,  score_name='aaTEC2_sign')\n",
    "aaTEC1_sign_cherrypicked = ['Trpm3','Cldn3',\t'Slc16a11','Isl1',\t'Cdk19',\t'Ptprd',\t'Taldo1','Aldoc',\t'Socs2',\t'Fam107a','Fbxo2',\t'Shank2','Kif19a',\t'Bmp6', 'Slc5a8']\n"
   ]
  },
  {
   "cell_type": "code",
   "execution_count": null,
   "id": "d8628eff",
   "metadata": {},
   "outputs": [],
   "source": [
    "aaTEC1_sign = ['Trpm3',\t'Wfdc18','Cldn3',\t'Slc16a11',\t'Slc9a3r1',\t'Btg1',\t'Isl1',\t'Pbx1',\t'Cdk19',\t'Ptprd',\t'Taldo1','Aldoc',\t'Socs2',\t'Fam107a','Fbxo2',\t'Nedd4l',\t'Shank2','Kif19a',\t'Bmp6',\t'Id2',\t'Arl4c',\t'Slc5a8',\t'Skp1a',\t'Kirrel3',\t\t'Prxl2a',\t'Thsd4',\t'Rdh10',\t'Rhov',\t'Plet1',\t'Cited4',\t'Galm',\t'Rtl4',\t'Gna14',\t'Dclk2',\t'Nipal2']\n",
    "sc.tl.score_genes(adata_transfer_d0_18mo, gene_list = aaTEC1_sign,  score_name='aaTEC1_sign')\n",
    "aaTEC2_sign = ['Csmd1', 'Trpm3', 'Ndrg2', 'Spp1', 'Zeb2', 'Socs2', 'Kirrel3', 'Heyl', 'Bcl2', 'Olfm2', 'Ar', 'Cul1', 'Esr1' ]\n",
    "sc.tl.score_genes(adata_transfer, gene_list = aaTEC2_sign,  score_name='aaTEC2_sign')\n",
    "aaTEC1_sign_cherrypicked = ['Trpm3','Cldn3',\t'Slc16a11','Isl1',\t'Cdk19',\t'Ptprd',\t'Taldo1','Aldoc',\t'Socs2',\t'Fam107a','Fbxo2',\t'Shank2','Kif19a',\t'Bmp6', 'Slc5a8']\n"
   ]
  },
  {
   "cell_type": "code",
   "execution_count": null,
   "id": "324e62c2",
   "metadata": {},
   "outputs": [],
   "source": [
    "aaTEC1_sign = ['Trpm3',\t'Wfdc18', 'Cldn3', 'Trpm3', 'Aldoc', 'Plin2', 'Fbxo2', 'Shank2', 'Kif19a', 'Bmp6']\n",
    "sc.tl.score_genes(adata_transfer, gene_list = aaTEC1_sign,  score_name='aaTEC1_sign')\n",
    "\n",
    "aaTEC1_sign = ['Trpm3',\t'Wfdc18', 'Cldn3', 'Trpm3', 'Aldoc', 'Plin2', 'Fbxo2', 'Shank2', 'Kif19a', 'Bmp6']\n",
    "sc.tl.score_genes(adata_transfer_d0_18mo, gene_list = aaTEC1_sign,  score_name='aaTEC1_sign')\n"
   ]
  },
  {
   "cell_type": "code",
   "execution_count": null,
   "id": "31349085",
   "metadata": {},
   "outputs": [],
   "source": [
    "aaTEC2_sign = [ 'Csmd1', 'Trpm3', 'Ndrg2', 'Spp1', 'Zeb2', 'Socs2',  'Heyl']\n",
    "sc.tl.score_genes(adata_transfer, gene_list = aaTEC2_sign,  score_name='aaTEC2_sign')\n",
    "\n",
    "aaTEC2_sign = ['Csmd1', 'Trpm3', 'Ndrg2', 'Spp1', 'Zeb2', 'Socs2',  'Heyl']\n",
    "sc.tl.score_genes(adata_transfer_d0_18mo, gene_list = aaTEC2_sign,  score_name='aaTEC2_sign')\n"
   ]
  },
  {
   "cell_type": "code",
   "execution_count": null,
   "id": "fa7d929e",
   "metadata": {},
   "outputs": [],
   "source": [
    "adata_transfer_d1_18mo = adata_transfer"
   ]
  },
  {
   "cell_type": "code",
   "execution_count": null,
   "id": "e2e84dca",
   "metadata": {},
   "outputs": [],
   "source": [
    "adata_transfer_d4_18mo = adata_transfer"
   ]
  },
  {
   "cell_type": "code",
   "execution_count": null,
   "id": "cd5074ba",
   "metadata": {},
   "outputs": [],
   "source": [
    "adata_transfer_d7_18mo = adata_transfer"
   ]
  },
  {
   "cell_type": "code",
   "execution_count": null,
   "id": "c3d52852",
   "metadata": {},
   "outputs": [],
   "source": [
    "# day 0\n",
    "\n",
    "sc.set_figure_params(dpi=80, dpi_save=300, color_map='viridis', vector_friendly=True, transparent=True)\n",
    "\n",
    "sc.pl.spatial(adata_transfer,\n",
    "                  img_key=\"hires\",\n",
    "                  color = ['leiden_0.2', 'aaTEC1_sign', 'aaTEC2_sign', 'mTEC3_sign', 'medFB_sign'],\n",
    "                  size=1.5,\n",
    "                  use_raw=False,\n",
    "                  color_map='Spectral_r', \n",
    "                  ncols=6,\n",
    "                  vmax=1.2,\n",
    "                  vmin=0.4\n",
    "                  #save='_visium_18mo_d0_vmin-vmax.pdf'\n",
    "                 )"
   ]
  },
  {
   "cell_type": "code",
   "execution_count": null,
   "id": "9c91f809",
   "metadata": {},
   "outputs": [],
   "source": [
    "# day 1\n",
    "\n",
    "sc.set_figure_params(dpi=80, dpi_save=300, color_map='viridis', vector_friendly=True, transparent=True)\n",
    "\n",
    "sc.pl.spatial(adata_transfer_d1_18mo,\n",
    "                  img_key=\"hires\",\n",
    "                  color = ['leiden_0.2', 'aaTEC1_sign', 'aaTEC2_sign', 'mTEC3_sign', 'medFB_sign'],\n",
    "                  size=1.5,\n",
    "                  use_raw=False,\n",
    "                  color_map='Spectral_r', \n",
    "                  ncols=6,\n",
    "                 # vmax=1.2,\n",
    "                 # vmin=0.4\n",
    "                  #save='_visium_18mo_d0_vmin-vmax.pdf'\n",
    "                 )"
   ]
  },
  {
   "cell_type": "code",
   "execution_count": null,
   "id": "80119567",
   "metadata": {},
   "outputs": [],
   "source": [
    "# day 4\n",
    "\n",
    "sc.set_figure_params(dpi=80, dpi_save=300, color_map='viridis', vector_friendly=True, transparent=True)\n",
    "\n",
    "sc.pl.spatial(adata_transfer_d4_18mo,\n",
    "                  img_key=\"hires\",\n",
    "                  color = ['leiden_0.2', 'aaTEC1_sign', 'aaTEC2_sign', 'mTEC3_sign', 'medFB_sign','Lck'],\n",
    "                  size=1.5,\n",
    "                  use_raw=False,\n",
    "                  color_map='Spectral_r', \n",
    "                  ncols=6,\n",
    "                 # vmax=1.2,\n",
    "                 # vmin=0.4\n",
    "                  #save='_visium_18mo_d0_vmin-vmax.pdf'\n",
    "                 )"
   ]
  },
  {
   "cell_type": "code",
   "execution_count": null,
   "id": "9e62b41a",
   "metadata": {},
   "outputs": [],
   "source": [
    "# day 7\n",
    "\n",
    "sc.set_figure_params(dpi=80, dpi_save=300, color_map='viridis', vector_friendly=True, transparent=True)\n",
    "\n",
    "sc.pl.spatial(adata_transfer_d7_18mo ,\n",
    "                  img_key=\"hires\",\n",
    "                  color = ['leiden_0.2', 'aaTEC1_sign', 'aaTEC2_sign', 'mTEC3_sign', 'medFB_sign'],\n",
    "                  size=1.5,\n",
    "                  use_raw=False,\n",
    "                  color_map='Spectral_r', \n",
    "                  ncols=6,\n",
    "                  vmax=1.2,\n",
    "                  vmin=0.4\n",
    "                  #save='_visium_18mo_d0_vmin-vmax.pdf'\n",
    "                 )"
   ]
  },
  {
   "cell_type": "code",
   "execution_count": null,
   "id": "5bdf272f",
   "metadata": {},
   "outputs": [],
   "source": [
    "sc.set_figure_params(dpi=80, dpi_save=300, color_map='viridis', vector_friendly=True, transparent=True)\n",
    "\n",
    "for library in [\"LJ184_S_016\"]:\n",
    "    sc.pl.spatial(adata_transfer[adata_transfer.obs.library_id == library,:], library_id=library, \n",
    "                  img_key=\"hires\",\n",
    "                  color = ['leiden_0.2', 'aaTEC1_sign', 'aaTEC2_sign', 'Thy1', 'Lck', 'Cd4'],\n",
    "                  size=1.5,\n",
    "                  use_raw=False,\n",
    "                  color_map='Spectral_r', \n",
    "                  ncols=6,\n",
    "                  vmax=1,\n",
    "                  vmin=0.4,\n",
    "                  save='_visium_18mo_d0_vmin-vmax.pdf'\n",
    "                 )"
   ]
  },
  {
   "cell_type": "code",
   "execution_count": null,
   "id": "cf8f7523",
   "metadata": {},
   "outputs": [],
   "source": []
  },
  {
   "cell_type": "code",
   "execution_count": null,
   "id": "77815807",
   "metadata": {},
   "outputs": [],
   "source": []
  },
  {
   "cell_type": "code",
   "execution_count": null,
   "id": "0548de36",
   "metadata": {},
   "outputs": [],
   "source": [
    "sc.set_figure_params(dpi=80, dpi_save=300, color_map='viridis', vector_friendly=True, transparent=True)\n",
    "\n",
    "for library in [\"LJ184_S_019\"]:\n",
    "    sc.pl.spatial(adata_transfer_d0_18mo[adata_transfer_d0_18mo.obs.library_id == library,:], library_id=library, \n",
    "                  img_key=\"hires\",\n",
    "                  color = ['leiden_0.2', 'aaTEC1_sign', 'aaTEC2_sign', 'Thy1', 'Lck', 'Cd4'],\n",
    "                  size=1.5,\n",
    "                  use_raw=False,\n",
    "                  color_map='Spectral_r', \n",
    "                  ncols=6,\n",
    "                  vmax=1,\n",
    "                  vmin=0.4,\n",
    "                  save='_visium_18mo_d0_vmin-vmax.pdf'\n",
    "                 )"
   ]
  },
  {
   "cell_type": "code",
   "execution_count": null,
   "id": "d24cfa73",
   "metadata": {},
   "outputs": [],
   "source": [
    "sc.set_figure_params(dpi=80, dpi_save=300, color_map='viridis', vector_friendly=True, transparent=True)\n",
    "\n",
    "for library in [\"LJ184_S_019\"]:\n",
    "    sc.pl.spatial(adata_transfer_d0_18mo[adata_transfer_d0_18mo.obs.library_id == library,:], library_id=library, \n",
    "                  img_key=\"hires\",\n",
    "                  color = ['leiden_0.2', 'aaTEC1_sign', 'aaTEC2_sign', 'Thy1', 'Lck', 'Cd4'],\n",
    "                  size=1.5,\n",
    "                  use_raw=False,\n",
    "                  color_map='Spectral_r', \n",
    "                  ncols=6,\n",
    "                  save='_visium_18mo_d0.pdf'\n",
    "                 )"
   ]
  },
  {
   "cell_type": "code",
   "execution_count": null,
   "id": "0cbd4ba4",
   "metadata": {},
   "outputs": [],
   "source": [
    "sc.set_figure_params(dpi=80, dpi_save=300, color_map='viridis', vector_friendly=True, transparent=True)\n",
    "\n",
    "for library in [\"LJ184_S_003\"]:\n",
    "    sc.pl.spatial(adata_transfer[adata_transfer.obs.library_id == library,:], library_id=library, \n",
    "                  img_key=\"hires\",\n",
    "                  color = ['leiden_0.2', 'aaTEC1_sign', 'aaTEC2_sign', 'Thy1', 'Lck', 'Cd4'],\n",
    "                  size=1.5,\n",
    "                  use_raw=False,\n",
    "                  color_map='Spectral_r', \n",
    "                  ncols=6,\n",
    "                  vmax=1,\n",
    "                  vmin=0.4,\n",
    "                  save='_visium_02mo_d0_vmin-vmax.pdf'\n",
    "\n",
    "                 )"
   ]
  },
  {
   "cell_type": "code",
   "execution_count": null,
   "id": "c44f4dad",
   "metadata": {},
   "outputs": [],
   "source": [
    "adata_transfer.uns['leiden_0.2_colors'] = ['#7fc97f', '#f0027f']\n",
    "sc.set_figure_params(dpi=80, dpi_save=300, color_map='viridis', vector_friendly=True, transparent=True)\n",
    "\n",
    "for library in [\"LJ184_S_003\", \"LJ184_S_008\", \"LJ184_S_011\", \"LJ184_S_016\", \n",
    "                \"LJ184_S_019\", \"LJ184_S_021\", \"LJ184_S_023\", \"LJ184_S_026\"]:\n",
    "    sc.pl.spatial(adata_transfer[adata_transfer.obs.library_id == library,:], library_id=library, \n",
    "                  img_key=\"hires\",\n",
    "                  color = ['leiden_0.2', 'aaTEC1_sign', 'mTEC1_sign'],\n",
    "                  size=1.5,\n",
    "                  use_raw=False,\n",
    "                  color_map='Spectral_r',\n",
    "                  ncols=7,\n",
    "                  vmin=0\n",
    "                 )"
   ]
  },
  {
   "cell_type": "code",
   "execution_count": null,
   "id": "f2a848a2",
   "metadata": {},
   "outputs": [],
   "source": []
  },
  {
   "cell_type": "code",
   "execution_count": null,
   "id": "da66be37",
   "metadata": {},
   "outputs": [],
   "source": [
    "sc.set_figure_params(dpi=80, dpi_save=300, color_map='viridis', vector_friendly=True, transparent=True)\n",
    "\n",
    "for library in [\"LJ184_S_003\", \"LJ184_S_019\"]:\n",
    "    sc.pl.spatial(adata_transfer[adata_transfer.obs.library_id == library,:], library_id=library, \n",
    "                  img_key=\"hires\",\n",
    "                  color = ['leiden_0.2', '10:aaTEC1', '11:aaTEC2', '12:cTEC', '13:mTEC1', '5:medFB'],\n",
    "                  size=1.5,\n",
    "                  use_raw=False,\n",
    "                  color_map='Spectral_r', \n",
    "                  ncols=6\n",
    "                 )"
   ]
  },
  {
   "cell_type": "code",
   "execution_count": null,
   "id": "ac5cd777",
   "metadata": {},
   "outputs": [],
   "source": [
    "sc.set_figure_params(dpi=80, dpi_save=300, color_map='viridis', vector_friendly=True, transparent=True)\n",
    "\n",
    "for library in [\"LJ184_S_003\", \"LJ184_S_008\", \"LJ184_S_011\", \"LJ184_S_016\", \n",
    "                \"LJ184_S_019\", \"LJ184_S_021\", \"LJ184_S_023\", \"LJ184_S_026\"]:\n",
    "    sc.pl.spatial(adata_transfer[adata_transfer.obs.library_id == library,:], library_id=library, \n",
    "                  img_key=\"hires\",\n",
    "                  color = ['10:aaTEC1', '11:aaTEC2', '12:cTEC', '13:mTEC1', '14:mTEC-prol', '15:mTEC2', '16:mTEC3'],\n",
    "                  size=1.5,\n",
    "                  use_raw=False,\n",
    "                  color_map='Spectral_r', \n",
    "                  ncols=4\n",
    "                 )"
   ]
  },
  {
   "cell_type": "code",
   "execution_count": null,
   "id": "36577075",
   "metadata": {},
   "outputs": [],
   "source": [
    "adata_transfer.uns['leiden_0.2_colors'] = ['#7fc97f', '#f0027f']\n",
    "sc.set_figure_params(dpi=80, dpi_save=300, color_map='viridis', vector_friendly=True, transparent=True)\n",
    "\n",
    "for library in [\"LJ184_S_003\", #\"LJ184_S_008\", \"LJ184_S_011\", \"LJ184_S_016\", \n",
    "                \"LJ184_S_019\"]:#, \"LJ184_S_021\", \"LJ184_S_023\", \"LJ184_S_026\"]:\n",
    "    sc.pl.spatial(adata_transfer[adata_transfer.obs.library_id == library,:], library_id=library, \n",
    "                  img_key=\"hires\",\n",
    "                  color = ['leiden_0.2', 'aaTEC2_sign'],\n",
    "                  size=1.5,\n",
    "                  use_raw=False,\n",
    "                  color_map='Spectral_r'\n",
    "                 )"
   ]
  },
  {
   "cell_type": "code",
   "execution_count": null,
   "id": "b6931645",
   "metadata": {},
   "outputs": [],
   "source": [
    "adata_transfer.uns['leiden_0.2_colors'] = ['#7fc97f', '#f0027f']\n",
    "sc.set_figure_params(dpi=80, dpi_save=300, color_map='viridis', vector_friendly=True, transparent=True)\n",
    "\n",
    "for library in [\"LJ184_S_003\", #\"LJ184_S_008\", \"LJ184_S_011\", \"LJ184_S_016\", \n",
    "                \"LJ184_S_019\"]:#, \"LJ184_S_021\", \"LJ184_S_023\", \"LJ184_S_026\"]:\n",
    "    sc.pl.spatial(adata_transfer[adata_transfer.obs.library_id == library,:], library_id=library, \n",
    "                  img_key=\"hires\",\n",
    "                  color = ['leiden_0.2', 'aaTEC1_sign', 'aaTEC2_sign', 'cTEC_sign', 'mTEC1_sign', 'mTECprol_sign', \n",
    "                           'mTEC2_sign', 'mTEC3_sign', 'tuft_sign', 'nTEC_sign', 'goblet_sign', 'Mlike_sign',\n",
    "                           'capsFB_sign', 'intFB_sign', 'medFB_sign', 'artEC_sign', 'capEC_sign', 'venEC_sign',\n",
    "                           'MEC_sign', 'PCvSMC_sign', 'nmSC_sign', 'fat_sign'],\n",
    "                  size=1.5,\n",
    "                  use_raw=False,\n",
    "                  color_map='Spectral_r', \n",
    "                  ncols=6\n",
    "                 )"
   ]
  },
  {
   "cell_type": "code",
   "execution_count": null,
   "id": "f53c428b",
   "metadata": {},
   "outputs": [],
   "source": [
    "adata_transfer.uns['leiden_0.2_colors'] = ['#7fc97f', '#f0027f']\n",
    "sc.set_figure_params(dpi=80, dpi_save=300, color_map='viridis', vector_friendly=True, transparent=True)\n",
    "\n",
    "for library in [\"LJ184_S_003\", #\"LJ184_S_008\", \"LJ184_S_011\", \"LJ184_S_016\", \n",
    "                \"LJ184_S_019\"]:#, \"LJ184_S_021\", \"LJ184_S_023\", \"LJ184_S_026\"]:\n",
    "    sc.pl.spatial(adata_transfer[adata_transfer.obs.library_id == library,:], library_id=library, \n",
    "                  img_key=\"hires\",\n",
    "                  color = ['leiden_0.2', 'aaTEC1_sign', 'aaTEC2_sign', 'cTEC_sign', 'mTEC1_sign', 'mTECprol_sign', \n",
    "                           'mTEC2_sign', 'mTEC3_sign', 'tuft_sign', 'nTEC_sign', 'goblet_sign', 'Mlike_sign',\n",
    "                           'capsFB_sign', 'intFB_sign', 'medFB_sign', 'artEC_sign', 'capEC_sign', 'venEC_sign',\n",
    "                           'MEC_sign', 'PCvSMC_sign', 'nmSC_sign', 'fat_sign'],\n",
    "                  size=1.5,\n",
    "                  use_raw=False,\n",
    "                  color_map='Spectral_r', \n",
    "                  ncols=6\n",
    "                 )"
   ]
  },
  {
   "cell_type": "code",
   "execution_count": null,
   "id": "cb0e3ebd",
   "metadata": {},
   "outputs": [],
   "source": [
    "adata_transfer.uns['leiden_0.2_colors'] = ['#7fc97f', '#f0027f']\n",
    "sc.set_figure_params(dpi=80, dpi_save=300, color_map='viridis', vector_friendly=True, transparent=True)\n",
    "\n",
    "for library in [\"LJ184_S_003\", #\"LJ184_S_008\", \"LJ184_S_011\", \"LJ184_S_016\", \n",
    "                \"LJ184_S_019\"]:#, \"LJ184_S_021\", \"LJ184_S_023\", \"LJ184_S_026\"]:\n",
    "    sc.pl.spatial(adata_transfer[adata_transfer.obs.library_id == library,:], library_id=library, \n",
    "                  img_key=\"hires\",\n",
    "                  color = ['leiden_0.2', 'aaTEC1_sign', 'aaTEC2_sign', 'cTEC_sign', 'mTEC1_sign', 'mTECprol_sign', \n",
    "                           'mTEC2_sign', 'mTEC3_sign', 'tuft_sign', 'nTEC_sign', 'goblet_sign', 'Mlike_sign',\n",
    "                           'capsFB_sign', 'intFB_sign', 'medFB_sign', 'artEC_sign', 'capEC_sign', 'venEC_sign',\n",
    "                           'MEC_sign', 'PCvSMC_sign', 'nmSC_sign', 'fat_sign'],\n",
    "                  size=1.5,\n",
    "                  use_raw=False,\n",
    "                  color_map='Spectral_r', \n",
    "                  ncols=6\n",
    "                 )"
   ]
  },
  {
   "cell_type": "code",
   "execution_count": null,
   "id": "6c6ece88",
   "metadata": {},
   "outputs": [],
   "source": [
    "adata_transfer.uns['leiden_0.2_colors'] = ['#7fc97f', '#f0027f']\n",
    "sc.set_figure_params(dpi=80, dpi_save=300, color_map='viridis', vector_friendly=True, transparent=True)\n",
    "\n",
    "for library in [\"LJ184_S_003\", #\"LJ184_S_008\", \"LJ184_S_011\", \"LJ184_S_016\", \n",
    "                \"LJ184_S_019\"]:#, \"LJ184_S_021\", \"LJ184_S_023\", \"LJ184_S_026\"]:\n",
    "    sc.pl.spatial(adata_transfer[adata_transfer.obs.library_id == library,:], library_id=library, \n",
    "                  img_key=\"hires\",\n",
    "                  color = ['leiden_0.2', 'aaTEC1_sign', 'aaTEC2_sign', 'cTEC_sign', 'mTEC1_sign', 'mTECprol_sign', \n",
    "                           'mTEC2_sign', 'mTEC3_sign', 'tuft_sign', 'nTEC_sign', 'goblet_sign', 'Mlike_sign',\n",
    "                           'capsFB_sign', 'intFB_sign', 'medFB_sign', 'artEC_sign', 'capEC_sign', 'venEC_sign',\n",
    "                           'MEC_sign', 'PCvSMC_sign', 'nmSC_sign', 'fat_sign'],\n",
    "                  size=1.5,\n",
    "                  use_raw=False,\n",
    "                  color_map='Spectral_r', \n",
    "                  ncols=6\n",
    "                 )"
   ]
  },
  {
   "cell_type": "code",
   "execution_count": null,
   "id": "b4456357",
   "metadata": {},
   "outputs": [],
   "source": [
    "### Within cell type signatures"
   ]
  },
  {
   "cell_type": "code",
   "execution_count": null,
   "id": "21482f64",
   "metadata": {},
   "outputs": [],
   "source": [
    "aaTEC1_sign = ['Zbtb20',\t'Cd81',\t'Trpm3',\t'Slc16a11',\t'Gstm1',\t'Btg1',\t'BC006965',\t'Cldn3',\t'S100a11',\t'Gsta4',\t'Ly6e',\t'Cdk19',\t'Wfdc18',\t'Slc9a3r1',\t'Ifi27l2a',\t'Aldoc',\t'Phlda1',\t'Anxa2',\t'Taldo1',\t'Socs2',\t'Fam107a',\t'Krt18',\t'Pbx1',\t'Tm4sf1',\t'Meis2',\t'Gsn',\t'Anxa1',\t'Bmp6',\t'Epcam',\t'Dbi',\t'Shank2',\t'Kif19a',\t'Isl1',\t'Plin2',\t'Ly6a',\t'Nupr1',\t'Id2',\t'Rcn1',\t'Gpc6',\t'Rdh10',\t'Cd24a',\t'mt-Co1',\t'Gab2',\t'Pde4b',\t'Slc5a8',\t'Nedd4l',\t'Fbxo2',\t'Tshz2',\t'Acss3',\t'Cd9']\n",
    "aaTEC2_sign = ['Csmd1',\t'Zeb2',\t'Mgp',\t'Gsn',\t'Zbtb20',\t'Ndrg2',\t'Serpine2',\t'Cd81',\t'Fxyd1',\t'Laptm4a',\t'Gpx3',\t'Socs3',\t'Igfbp7',\t'Airn',\t'Lgals1',\t'Fos',\t'Prrx1',\t'Prkg1',\t'Junb',\t'Sparc',\t'Cebpd',\t'Apoe',\t'Gstm1',\t'Gadd45g',\t'Id3',\t'Egr1',\t'Ptn',\t'Cd63',\t'Tm4sf1',\t'Ccdc80',\t'Phlda1',\t'Cavin3',\t'Cald1',\t'Serping1',\t'Sparcl1',\t'Ccl19',\t'Cst3',\t'Cacna1c',\t'Jund',\t'Fstl1',\t'Tagln2',\t'Klf9',\t'Jun',\t'Gucy1a1',\t'Col3a1',\t'Notch3',\t'Rora',\t'Tshz2',\t'Lhfp',\t'Gnas']\n",
    "cTEC_sign = ['Ctsl',\t'Cstb',\t'Cxcl12',\t'Prss16',\t'Krt18',\t'Gas6',\t'Pltp',\t'Slc46a2',\t'Ndufa11',\t'Tbata',\t'Ccl25',\t'Psmb11',\t'Tmem131l',\t'Nlgn1',\t'Prxl2b',\t'Pax1',\t'Wnt4',\t'Dpp6',\t'Psmb9',\t'Bnip3l',\t'Snhg11',\t'Copz2',\t'AI646519',\t'Ank3',\t'Lamp2',\t'Ndrg3',\t'Shisa2',\t'Rgcc',\t'Krt8',\t'Rbfox1',\t'Tsc22d1',\t'Kctd1',\t'Ly75',\t'Sh2d4b',\t'Igfbp5',\t'Fabp5',\t'Plgrkt',\t'Spock2',\t'Ryr3',\t'Syngr1',\t'Zfyve21',\t'Tenm4',\t'Trp63',\t'Clic5',\t'Gmpr',\t'Castor1',\t'Macf1',\t'Ifi27',\t'Limch1',\t'Kcnk2']\n",
    "mTEC1_sign = ['Apoe',\t'Ifitm3',\t'Rbms3',\t'Ly6a',\t'Ifi27l2a',\t'Krt5',\t'Krt14',\t'Ctsl',\t'Gas1',\t'Ifitm2',\t'Ccl21a',\t'Itm2b',\t'Gas6',\t'Dcn',\t'Isg15',\t'Igfbp4',\t'Laptm4a',\t'Eya4',\t'Cpne8',\t'Mgp',\t'Mir100hg',\t'Sult5a1',\t'Rtp4',\t'Iigp1',\t'Nxn',\t'Rbp1',\t'Gas5',\t'Zfp36l1',\t'Gsn',\t'Ank3',\t'Cst3',\t'Pbx1',\t'Lifr',\t'Meis2',\t'Perp',\t'Oasl2',\t'Anxa2',\t'S100a10',\t'Boc',\t'Atp1a1',\t'Ccl11',\t'Phlda3',\t'Ly6e',\t'Nedd4',\t'Myl6',\t'Trp63',\t'Anxa1',\t'Tpt1',\t'Hif1a',\t'Gpx3']\n",
    "mTECprol_sign = ['Tpm2',\t'Krt17',\t'Ascl1',\t'Tmsb10',\t'Ptma',\t'Rgs5',\t'Adm',\t'H2afy2',\t'Hes6',\t'Krt7',\t'Cdk4',\t'Pfn1',\t'Sox4',\t'Skint10',\t'Tubb6',\t'Cfl1',\t'Mapk13',\t'Tubb2b',\t'Wfdc18',\t'Ccnd2',\t'Stmn1',\t'Mdk',\t'Ccl19',\t'Cd82',\t'Gm49708',\t'H3f3b',\t'Lgals1',\t'Prxl2b',\t'Ybx1',\t'Actg1',\t'Eef1g',\t'Nme2',\t'Gm15943',\t'Il11ra1',\t'Colq',\t'Cald1',\t'Krt5',\t'Hnrnpa1',\t'Eif4a1',\t'Ppia',\t'Ccl21a',\t'Tubb5',\t'Hsp90ab1',\t'Angptl2',\t'Kcnq3',\t'Lpo',\t'Set',\t'Hspa8',\t'Hmgn1',\t'Npm1']\n",
    "mTEC2_sign = ['Srgn',\t'Cyba',\t'Ubd',\t'Cd74',\t'S100a14',\t'Syt1',\t'Cd52',\t'Aire',\t'H2-Aa',\t'H2-Oa',\t'Lrrc42',\t'Mrpl38',\t'H2-Eb1',\t'Hagh',\t'Nfkbia',\t'Dpp10',\t'Cdx1',\t'Psme2',\t'Hdc',\t'Calcb',\t'H2-DMb2',\t'H2-Eb2',\t'Fam89a',\t'Gm47938',\t'Hspb11',\t'Fscn1',\t'Csn2',\t'Bspry',\t'Ndufc2',\t'Fezf2',\t'Fabp5',\t'Ankrd33b',\t'Ing1',\t'Gm48239',\t'Utf1',\t'Il4i1',\t'Txn1',\t'Ctss',\t'Nup85',\t'Cib1',\t'Laptm5',\t'Tm4sf5',\t'Syngr2',\t'Dock10',\t'Dio1',\t'Nsmce2',\t'Snx29',\t'S100g',\t'Cd40',\t'Ptprq']\n",
    "mTEC3_sign = ['Ly6d',\t'Dapl1',\t'Dmkn',\t'Spink5',\t'Skint3',\t'Fxyd3',\t'Sfn',\t'Tacstd2',\t'Hspb1',\t'Cdkn1a',\t'Oit1',\t'Pdzk1ip1',\t'Prdx5',\t'Cdkn2a',\t'Perp',\t'Cdkn2b',\t'Gsta4',\t'Atox1',\t'Lypd3',\t'Cst6',\t'Metrnl',\t'Sbsn',\t'Dstn',\t'Dsp',\t'Calml3',\t'Rab11a',\t'Krt17',\t'Krt23',\t'Bcl2a1b',\t'Serpinb2',\t'H2afj',\t'Jup',\t'Avpi1',\t'4833423E24Rik',\t'Ide',\t'Cebpb',\t'Gsta2',\t'Sdc1',\t'Clic3',\t'Tmem54',\t'2200002D01Rik',\t'Dgat2',\t'Tmem45a',\t'Cldn4',\t'Rptn',\t'Gltp',\t'Nupr1',\t'Arf6',\t'Tspan8',\t'Ier5']\n",
    "tuft_sign = ['Mctp1',\t'Gng13',\t'Avil',\t'Rgs13',\t'Espn',\t'Lrmp',\t'Anxa4',\t'Ltc4s',\t'Ptpn18',\t'Bmx',\t'Cystm1',\t'Ivns1abp',\t'Fyb',\t'Ly6g6f',\t'Calm2',\t'Ethe1',\t'Reep5',\t'Lima1',\t'1810046K07Rik',\t'Abhd2',\t'Pik3r5',\t'Trpm5',\t'St18',\t'Crip1',\t'Dgki',\t'Pou2f3',\t'Vav1',\t'Scand1',\t'Chil1',\t'Alox5ap',\t'Ptpn6',\t'Plac8',\t'Alox5',\t'Ostf1',\t'Oxr1',\t'Plk2',\t'Ociad2',\t'Sh2d6',\t'Ahnak2',\t'Stk38',\t'Tmem245',\t'Atp1a2',\t'Aldh2',\t'Cd47',\t'Fxyd6',\t'Inpp5d',\t'Dclk1',\t'Gpcpd1',\t'Sh2d7',\t'Strip2']\n",
    "nTEC_sign = ['Ptprn2',\t'Cacna2d1',\t'Car8',\t'Scg5',\t'Stxbp5l',\t'Snap25',\t'Chga',\t'Cd9',\t'Dnajc12',\t'Ccser1',\t'Camk2n1',\t'Syt7',\t'Pam',\t'Cacna1a',\t'Syt1',\t'Cacnb2',\t'Cystm1',\t'Tshz2',\t'Fam183b',\t'Cplx2',\t'Ceacam10',\t'Btg2',\t'Rims2',\t'Resp18',\t'Fhl2',\t'A230057D06Rik',\t'Tmem163',\t'Rap1gap2',\t'Kcnb2',\t'Nfasc',\t'Pip5k1b',\t'Alcam',\t'Chgb',\t'Ica1',\t'Pcbd1',\t'Krt7',\t'Insm1',\t'Smim22',\t'Jund',\t'5330417C22Rik',\t'Atf3',\t'AC149090.1',\t'Bex2',\t'Prkn',\t'Cpn1',\t'Tox3',\t'Nol4',\t'A330076H08Rik',\t'Aopep',\t'Stard10']\n",
    "goblet_sign = ['Wfdc2',\t'Cyp2f2',\t'Cxcl17',\t'Gsto1',\t'Nupr1',\t'S100a11',\t'Anxa3',\t'Sorbs2',\t'H2-K1',\t'Serpinb11',\t'Krt19',\t'Slc12a2',\t'Fxyd3',\t'Ly6d',\t'Aqp5',\t'Alcam',\t'Bsg',\t'Bace2',\t'Ly6e',\t'F3',\t'Ly6a',\t'Mecom',\t'AW112010',\t'Pglyrp1',\t'Atp1b1',\t'Cp',\t'Anxa1',\t'Tspan8',\t'Irf7',\t'Lgals3bp',\t'Tceal9',\t'Nfib',\t'Gsta4',\t'Cd14',\t'Mllt3',\t'Slc16a11',\t'Upk1b',\t'Lrrc26',\t'Foxa1',\t'Ece1',\t'Timp2',\t'Ifi27l2a',\t'Ces1d',\t'Epas1',\t'Cbr2',\t'Lmo7',\t'Spink5',\t'Hspb1',\t'Smim22',\t'Kcnj16']\n",
    "Mlike_sign = ['Ccl20',\t'Ccl9',\t'Serpinb6a',\t'Serpinb1a',\t'Tmsb4x',\t'2200002D01Rik',\t'Nostrin',\t'Ctsh',\t'Ccl6',\t'AW112010',\t'Spib',\t'Bcl2a1d',\t'Csn2',\t'Cyp2a5',\t'Fabp1',\t'Hamp',\t'Pold1',\t'Bcl2a1b',\t'Atox1',\t'Iscu',\t'Pglyrp1',\t'Bcl2a1a',\t'Clu',\t'Krt20',\t'Atp6v1c1',\t'H2-M2',\t'Gjb2',\t'Crip1',\t'Fabp5',\t'Ubd',\t'Vamp5',\t'Marcksl1',\t'Plb1',\t'Arpc1b',\t'4930520O04Rik',\t'Tnfrsf11b',\t'Sephs2',\t'Dsg1a',\t'Spint2',\t'Ftl1',\t'AA467197',\t'Sept1',\t'Aif1',\t'Gadd45a',\t'Tnfaip2',\t'Vamp8',\t'Fabp4',\t'Hspe1',\t'Rac2',\t'Ahcyl2']\n",
    "capsFB_sign = ['Pi16',\t'Timp2',\t'Fn1',\t'Opcml',\t'Cd248',\t'Mfap5',\t'Anxa3',\t'Pcolce2',\t'Ackr3',\t'Fndc1',\t'Igfbp6',\t'Sema3c',\t'Clec3b',\t'Creb5',\t'Smpd3',\t'Tmem100',\t'Adgrd1',\t'Ly6c1',\t'Pcsk6',\t'Nid1',\t'Fbn1',\t'Dpp4',\t'Pla1a',\t'Efhd1',\t'Col14a1',\t'Ebf2',\t'Fstl1',\t'Metrnl',\t'Plpp3',\t'Sdk1',\t'Limch1',\t'Axl',\t'Loxl1',\t'Anxa1',\t'Emilin2',\t'Tmsb4x',\t'Tnxb',\t'Gfpt2',\t'Lsp1',\t'Ly6a',\t'Efna5',\t'Adamts5',\t'Igfbp5',\t'Ugdh',\t'Timp3',\t'Ogn',\t'Heg1',\t'Islr',\t'Ddr2',\t'Ppp1r14b']\n",
    "intFB_sign = ['Smoc2',\t'Gpx3',\t'Penk',\t'Igf1',\t'Gas1',\t'Inmt',\t'Pcolce',\t'Lrp1',\t'Itm2a',\t'Gdf10',\t'Rbp1',\t'Fbln1',\t'Sfrp1',\t'Slit3',\t'Svep1',\t'Auts2',\t'Lpl',\t'Celf2',\t'Serpinf1',\t'Il11ra1',\t'Adamts12',\t'Abca8a',\t'Cygb',\t'Nfib',\t'Dcn',\t'Selenop',\t'Ntrk2',\t'Tmem119',\t'Mgst1',\t'Igfbp3',\t'Mmp2',\t'Ar',\t'Gsn',\t'Srpx',\t'Col15a1',\t'Mt1',\t'Lum',\t'Olfml3',\t'Mfap2',\t'Col3a1',\t'Fxyd6',\t'Fst',\t'Cryab',\t'Txnip',\t'Htra3',\t'Mfap4',\t'Itm2b',\t'Fbln2',\t'Dhrs3',\t'Col1a2']\n",
    "medFB_sign = ['Csmd1',\t'Serpine2',\t'Enpp2',\t'Ptn',\t'Tmem176b',\t'Tmem176a',\t'B2m',\t'Ccl19',\t'Igfbp7',\t'Apod',\t'Bgn',\t'H2-D1',\t'Des',\t'Ltc4s',\t'Lhfp',\t'Ifitm1',\t'Cd9',\t'Apoe',\t'Lsamp',\t'Ly6e',\t'H2-K1',\t'H2-Q7',\t'Sparcl1',\t'Il34',\t'Ndufa4l2',\t'Tcf4',\t'Spon1',\t'Colec12',\t'Nrp1',\t'Mylk',\t'Hsd11b1',\t'Mfge8',\t'Jun',\t'Cp',\t'Meox1',\t'Ecscr',\t'Trps1',\t'Ank2',\t'Gpm6b',\t'Cstb',\t'Cd63',\t'Pde4b',\t'Postn',\t'H3f3b',\t'Mgp',\t'Pten',\t'Ptma',\t'Ltbp1',\t'Col15a1',\t'Pde7b']\n",
    "artEC_sign = ['Fbln5',\t'Stmn2',\t'Clu',\t'Sema3g',\t'Glul',\t'Tm4sf1',\t'Eps8l2',\t'Col8a1',\t'Nebl',\t'Vegfc',\t'Alpl',\t'Arl15',\t'Gja4',\t'Edn1',\t'S100a6',\t'Mast4',\t'Sox17',\t'Pdgfd',\t'Fbln2',\t'Vim',\t'Ltbp4',\t'Slc6a6',\t'Klf2',\t'Heg1',\t'Epas1',\t'Fxyd5',\t'Ly6a',\t'Crip1',\t'Fn1',\t'Cd9',\t'Mecom',\t'Tsc22d1',\t'Bsg',\t'Atox1',\t'Podxl',\t'Ptprr',\t'Ebf1',\t'Cdk19',\t'Icam2',\t'Tspo',\t'Cst3',\t'Eln',\t'Azin1',\t'Pcsk5',\t'Gadd45g',\t'Timp3',\t'Ace',\t'Tanc2',\t'Rgs10',\t'Gja5']\n",
    "capEC_sign = ['Gpihbp1',\t'Rgcc',\t'Fabp4',\t'Cd36',\t'Car4',\t'Mgll',\t'Cd300lg',\t'Tcf15',\t'Kdr',\t'Arhgap18',\t'Igfbp7',\t'Kank3',\t'Aqp7',\t'Etl4',\t'Tspan13',\t'Cavin2',\t'Hspb1',\t'Ppp1r2',\t'Lims2',\t'Fabp5',\t'Nrp1',\t'Timp4',\t'Gng11',\t'Sept4',\t'Lpl',\t'Gm12002',\t'Ccdc85a',\t'Plpp3',\t'Ablim3',\t'Sparc',\t'Xdh',\t'Tmsb4x',\t'AW112010',\t'Ctnnbip1',\t'Thrsp',\t'Adgrl4',\t'Cav2',\t'Cxcl12',\t'Dhrs3',\t'Cd81',\t'Emcn',\t'Tcim',\t'C1qtnf9',\t'Sparcl1',\t'Ccdc85b',\t'Pitpnc1',\t'Rflnb',\t'Ubb',\t'Ly6c1',\t'Sult1a1']\n",
    "venEC_sign = ['Lrg1',\t'Il6st',\t'Vwf',\t'Plvap',\t'mt-Co1',\t'Selp',\t'Spint2',\t'Pcdh7',\t'mt-Nd4',\t'2200002D01Rik',\t'Tmsb10',\t'Eef1a1',\t'mt-Co3',\t'Bgn',\t'Pde4d',\t'mt-Atp6',\t'Aqp1',\t'Tpt1',\t'Ctla2a',\t'Ackr1',\t'Apoe',\t'Pdlim1',\t'Cd9',\t'St3gal4',\t'Ehd4',\t'Fth1',\t'Eef1b2',\t'Pecam1',\t'Thsd7a',\t'Col15a1',\t'Man1a',\t'Vim',\t'Enpp2',\t'Rbp1',\t'Igfbp4',\t'Abca1',\t'Csrp2',\t'Slco2b1',\t'Zfp521',\t'Vcam1',\t'Dpysl3',\t'Nr2f2',\t'Pam',\t'Ldb2',\t'Insr',\t'Cd74',\t'Tmem176b',\t'Il1r1',\t'Arrb1',\t'Arhgap26']"
   ]
  },
  {
   "cell_type": "code",
   "execution_count": null,
   "id": "61d6b931",
   "metadata": {},
   "outputs": [],
   "source": [
    "x=19\n",
    "sc.tl.score_genes(adata_transfer, gene_list = aaTEC1_sign[0:x],  score_name='aaTEC1_sign')\n",
    "sc.tl.score_genes(adata_transfer, gene_list = aaTEC2_sign[0:x],  score_name='aaTEC2_sign')\n",
    "sc.tl.score_genes(adata_transfer, gene_list = cTEC_sign[0:x],  score_name='cTEC_sign')\n",
    "sc.tl.score_genes(adata_transfer, gene_list = mTEC1_sign[0:x],  score_name='mTEC1_sign')\n",
    "sc.tl.score_genes(adata_transfer, gene_list = mTECprol_sign[0:x],  score_name='mTECprol_sign')\n",
    "sc.tl.score_genes(adata_transfer, gene_list = mTEC2_sign[0:x],  score_name='mTEC2_sign')\n",
    "sc.tl.score_genes(adata_transfer, gene_list = mTEC3_sign[0:x],  score_name='mTEC3_sign')\n",
    "sc.tl.score_genes(adata_transfer, gene_list = tuft_sign[0:x],  score_name='tuft_sign')\n",
    "sc.tl.score_genes(adata_transfer, gene_list = nTEC_sign[0:x],  score_name='nTEC_sign')\n",
    "sc.tl.score_genes(adata_transfer, gene_list = goblet_sign[0:x],  score_name='goblet_sign')\n",
    "sc.tl.score_genes(adata_transfer, gene_list = Mlike_sign[0:x],  score_name='Mlike_sign')\n",
    "sc.tl.score_genes(adata_transfer, gene_list = capsFB_sign[0:x],  score_name='capsFB_sign')\n",
    "sc.tl.score_genes(adata_transfer, gene_list = intFB_sign[0:x],  score_name='intFB_sign')\n",
    "sc.tl.score_genes(adata_transfer, gene_list = medFB_sign[0:x],  score_name='medFB_sign')\n",
    "sc.tl.score_genes(adata_transfer, gene_list = artEC_sign[0:x],  score_name='artEC_sign')\n",
    "sc.tl.score_genes(adata_transfer, gene_list = capEC_sign[0:x],  score_name='capEC_sign')\n",
    "sc.tl.score_genes(adata_transfer, gene_list = venEC_sign[0:x],  score_name='venEC_sign')"
   ]
  },
  {
   "cell_type": "code",
   "execution_count": null,
   "id": "0e6d73e4",
   "metadata": {},
   "outputs": [],
   "source": [
    "adata_transfer.uns['leiden_0.2_colors'] = ['#7fc97f', '#f0027f']\n",
    "sc.set_figure_params(dpi=80, dpi_save=300, color_map='viridis', vector_friendly=True, transparent=True)\n",
    "\n",
    "for library in [\"LJ184_S_003\", #\"LJ184_S_008\", \"LJ184_S_011\", \"LJ184_S_016\", \n",
    "                \"LJ184_S_019\"]:#, \"LJ184_S_021\", \"LJ184_S_023\", \"LJ184_S_026\"]:\n",
    "    sc.pl.spatial(adata_transfer[adata_transfer.obs.library_id == library,:], library_id=library, \n",
    "                  img_key=\"hires\",\n",
    "                  color = ['leiden_0.2', 'aaTEC1_sign', 'Trpm3', 'Lck'],\n",
    "                  size=1.5,\n",
    "                  use_raw=False,\n",
    "                  color_map='Spectral_r',\n",
    "                  ncols=5,\n",
    "                  vmin=0.5,\n",
    "                  vmax=3 \n",
    "                 )"
   ]
  },
  {
   "cell_type": "code",
   "execution_count": null,
   "id": "790b0d9a",
   "metadata": {},
   "outputs": [],
   "source": [
    "adata_transfer.uns['leiden_0.2_colors'] = ['#7fc97f', '#f0027f']\n",
    "sc.set_figure_params(dpi=80, dpi_save=300, color_map='viridis', vector_friendly=True, transparent=True)\n",
    "\n",
    "for library in [\"LJ184_S_003\", #\"LJ184_S_008\", \"LJ184_S_011\", \"LJ184_S_016\", \n",
    "                \"LJ184_S_019\"]:#, \"LJ184_S_021\", \"LJ184_S_023\", \"LJ184_S_026\"]:\n",
    "    sc.pl.spatial(adata_transfer[adata_transfer.obs.library_id == library,:], library_id=library, \n",
    "                  img_key=\"hires\",\n",
    "                  color = ['leiden_0.2', 'aaTEC2_sign', 'Trpm3', 'Lck'],\n",
    "                  size=1.5,\n",
    "                  use_raw=False,\n",
    "                  color_map='Spectral_r',\n",
    "                  ncols=5,\n",
    "                  vmin=0,\n",
    "                  vmax=1 \n",
    "                 )"
   ]
  },
  {
   "cell_type": "code",
   "execution_count": null,
   "id": "2f6417b4",
   "metadata": {},
   "outputs": [],
   "source": [
    "adata_transfer.uns['leiden_0.2_colors'] = ['#7fc97f', '#f0027f']\n",
    "sc.set_figure_params(dpi=80, dpi_save=300, color_map='viridis', vector_friendly=True, transparent=True)\n",
    "\n",
    "for library in [\"LJ184_S_003\", #\"LJ184_S_008\", \"LJ184_S_011\", \"LJ184_S_016\", \n",
    "                \"LJ184_S_019\"]:#, \"LJ184_S_021\", \"LJ184_S_023\", \"LJ184_S_026\"]:\n",
    "    sc.pl.spatial(adata_transfer[adata_transfer.obs.library_id == library,:], library_id=library, \n",
    "                  img_key=\"hires\",\n",
    "                  color = ['leiden_0.2', 'aaTEC1_sign', 'aaTEC2_sign', 'cTEC_sign', 'mTEC1_sign', 'mTECprol_sign', \n",
    "                           'mTEC2_sign', 'mTEC3_sign', 'tuft_sign', 'nTEC_sign', 'goblet_sign', 'Mlike_sign',\n",
    "                           'capsFB_sign', 'intFB_sign', 'medFB_sign', 'artEC_sign', 'capEC_sign', 'venEC_sign'],\n",
    "                  size=1.5,\n",
    "                  use_raw=False,\n",
    "                  color_map='Spectral_r', \n",
    "                  ncols=6\n",
    "                 )"
   ]
  },
  {
   "cell_type": "code",
   "execution_count": null,
   "id": "8a1e04cb",
   "metadata": {},
   "outputs": [],
   "source": [
    "adata_transfer.uns['leiden_0.2_colors'] = ['#7fc97f', '#f0027f']\n",
    "sc.set_figure_params(dpi=80, dpi_save=300, color_map='viridis', vector_friendly=True, transparent=True)\n",
    "\n",
    "for library in [\"LJ184_S_003\", #\"LJ184_S_008\", \"LJ184_S_011\", \"LJ184_S_016\", \n",
    "                \"LJ184_S_019\"]:#, \"LJ184_S_021\", \"LJ184_S_023\", \"LJ184_S_026\"]:\n",
    "    sc.pl.spatial(adata_transfer[adata_transfer.obs.library_id == library,:], library_id=library, \n",
    "                  img_key=\"hires\",\n",
    "                  color = ['leiden_0.2', 'aaTEC1_sign', 'aaTEC2_sign', 'cTEC_sign', 'mTEC1_sign', 'mTECprol_sign', \n",
    "                           'mTEC2_sign', 'mTEC3_sign', 'tuft_sign', 'nTEC_sign', 'goblet_sign', 'Mlike_sign',\n",
    "                           'capsFB_sign', 'intFB_sign', 'medFB_sign', 'artEC_sign', 'capEC_sign', 'venEC_sign'],\n",
    "                  size=1.5,\n",
    "                  use_raw=False,\n",
    "                  color_map='Spectral_r', \n",
    "                  ncols=6\n",
    "                 )"
   ]
  },
  {
   "cell_type": "code",
   "execution_count": null,
   "id": "c8d6cd4d",
   "metadata": {},
   "outputs": [],
   "source": [
    "adata_transfer.uns['leiden_0.2_colors'] = ['#7fc97f', '#f0027f']\n",
    "sc.set_figure_params(dpi=80, dpi_save=300, color_map='viridis', vector_friendly=True, transparent=True)\n",
    "\n",
    "for library in [\"LJ184_S_003\", #\"LJ184_S_008\", \"LJ184_S_011\", \"LJ184_S_016\", \n",
    "                \"LJ184_S_019\"]:#, \"LJ184_S_021\", \"LJ184_S_023\", \"LJ184_S_026\"]:\n",
    "    sc.pl.spatial(adata_transfer[adata_transfer.obs.library_id == library,:], library_id=library, \n",
    "                  img_key=\"hires\",\n",
    "                  color = ['leiden_0.2', 'aaTEC1_sign', 'aaTEC2_sign', 'cTEC_sign', 'mTEC1_sign', 'mTECprol_sign', \n",
    "                           'mTEC2_sign', 'mTEC3_sign', 'tuft_sign', 'nTEC_sign', 'goblet_sign', 'Mlike_sign',\n",
    "                           'capsFB_sign', 'intFB_sign', 'medFB_sign', 'artEC_sign', 'capEC_sign', 'venEC_sign'],\n",
    "                  size=1.5,\n",
    "                  use_raw=False,\n",
    "                  color_map='Spectral_r', \n",
    "                  ncols=6\n",
    "                 )"
   ]
  },
  {
   "cell_type": "code",
   "execution_count": null,
   "id": "c1a92660",
   "metadata": {},
   "outputs": [],
   "source": []
  },
  {
   "cell_type": "code",
   "execution_count": null,
   "id": "c7004b5a",
   "metadata": {},
   "outputs": [],
   "source": []
  },
  {
   "cell_type": "code",
   "execution_count": null,
   "id": "a9c65dbb",
   "metadata": {},
   "outputs": [],
   "source": []
  },
  {
   "cell_type": "code",
   "execution_count": null,
   "id": "c65b981c",
   "metadata": {},
   "outputs": [],
   "source": [
    "sc.set_figure_params(dpi=80, dpi_save=300, color_map='viridis', vector_friendly=True, transparent=True)\n",
    "\n",
    "for library in [\"LJ184_S_003\", \"LJ184_S_008\", \"LJ184_S_011\", \"LJ184_S_016\", \n",
    "                \"LJ184_S_019\", \"LJ184_S_021\", \"LJ184_S_023\", \"LJ184_S_026\"]:\n",
    "    sc.pl.spatial(adata_transfer[adata_transfer.obs.library_id == library,:], library_id=library, \n",
    "                  img_key=\"hires\",\n",
    "                  color = ['10:aaTEC1', '11:aaTEC2', '12:cTEC', '13:mTEC1', '14:mTEC-prol', '15:mTEC2', '16:mTEC3'],\n",
    "                  size=1.5,\n",
    "                  use_raw=False,\n",
    "                  color_map='Spectral_r', \n",
    "                  ncols=4\n",
    "                 )"
   ]
  },
  {
   "cell_type": "code",
   "execution_count": null,
   "id": "harmful-brave",
   "metadata": {},
   "outputs": [],
   "source": [
    "sc.set_figure_params(dpi=80, dpi_save=300, color_map='viridis', vector_friendly=True, transparent=True)\n",
    "\n",
    "for library in [\"LJ184_S_003\", \"LJ184_S_008\", \"LJ184_S_011\", \"LJ184_S_016\", \n",
    "                \"LJ184_S_019\", \"LJ184_S_021\", \"LJ184_S_023\", \"LJ184_S_026\"]:\n",
    "    sc.pl.spatial(adata_transfer[adata_transfer.obs.library_id == library,:], library_id=library, \n",
    "                  img_key=\"hires\",\n",
    "                  color = ['Thy1', 'Lck', 'Krt5', 'Krt14', 'Krt8', 'Krt10' ],\n",
    "                  size=1.5,\n",
    "                  use_raw=False,\n",
    "                  color_map='Spectral_r', \n",
    "                  ncols=4\n",
    "                 )"
   ]
  },
  {
   "cell_type": "code",
   "execution_count": null,
   "id": "55f2a6c9",
   "metadata": {},
   "outputs": [],
   "source": [
    "aaTEC1_sign = ['Zbtb20',\t'Cd81',\t'Trpm3',\t'Slc16a11',\t'Gstm1',\t'Btg1',\t'BC006965',\t'Cldn3',\t'Gsta4',\t'Cdk19',\t'Slc9a3r1','Aldoc',\t'Phlda1',\t'Taldo1',\t'Socs2',\t'Fam107a',\t'Tm4sf1',\t'Bmp6',\t'Shank2',\t'Kif19a',\t'Isl1',\t'Plin2',\t'Nupr1',\t'Id2',\t'Rcn1',\t'Gpc6',\t'Rdh10',\t'Cd24a',\t'Slc5a8',\t'Nedd4l',\t'Fbxo2',\t'Acss3']"
   ]
  },
  {
   "cell_type": "code",
   "execution_count": null,
   "id": "8a7b0150",
   "metadata": {},
   "outputs": [],
   "source": [
    "aaTEC2_sign = ['Csmd1',\t'Zeb2',\t'Mgp',\t'Gsn',\t'Zbtb20',\t'Ndrg2',\t'Serpine2',\t'Cd81',\t'Fxyd1',\t'Laptm4a',\t'Gpx3',\t'Socs3',\t'Igfbp7',\t'Airn',\t'Lgals1',\t'Fos',\t'Prrx1',\t'Prkg1',\t'Junb',\t'Sparc']"
   ]
  }
 ],
 "metadata": {
  "kernelspec": {
   "display_name": "Python 3 (ipykernel)",
   "language": "python",
   "name": "python3"
  },
  "language_info": {
   "codemirror_mode": {
    "name": "ipython",
    "version": 3
   },
   "file_extension": ".py",
   "mimetype": "text/x-python",
   "name": "python",
   "nbconvert_exporter": "python",
   "pygments_lexer": "ipython3",
   "version": "3.8.13"
  }
 },
 "nbformat": 4,
 "nbformat_minor": 5
}
