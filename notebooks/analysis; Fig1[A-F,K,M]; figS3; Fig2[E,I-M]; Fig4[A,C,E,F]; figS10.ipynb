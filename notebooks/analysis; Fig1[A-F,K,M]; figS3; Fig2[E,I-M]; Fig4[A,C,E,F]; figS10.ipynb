{
 "cells": [
  {
   "cell_type": "markdown",
   "id": "f910362f",
   "metadata": {},
   "source": [
    "## Notebook setup"
   ]
  },
  {
   "cell_type": "code",
   "execution_count": null,
   "id": "32ce7cea",
   "metadata": {},
   "outputs": [],
   "source": [
    "import scanpy as sc\n",
    "import scanpy.external as sce\n",
    "import numpy as np\n",
    "import pandas as pd\n",
    "import warnings, scipy.sparse as sp, matplotlib, matplotlib.pyplot as plt\n",
    "from matplotlib.colors import LinearSegmentedColormap\n",
    "from matplotlib.pyplot import rc_context\n",
    "from collections import Counter\n",
    "import matplotlib.font_manager\n",
    "import openpyxl\n",
    "import pyreadr\n",
    "import rpy2\n",
    "from rpy2.robjects.packages import importr\n",
    "import rpy2.robjects as robjects\n",
    "import magic\n",
    "#import seaborn as sns\n",
    "import palantir\n",
    "import loompy\n",
    "import feather\n",
    "import re\n",
    "#from scipy.sparse import csgraph\n",
    "\n",
    "matplotlib.rcParams['pdf.fonttype'] = 42\n",
    "matplotlib.rcParams['ps.fonttype'] = 42\n",
    "matplotlib.rcParams['font.family'] = 'sans-serif'\n",
    "matplotlib.rcParams['font.sans-serif'] = 'Arial'\n",
    "matplotlib.rc('font', size=14)\n",
    "import matplotlib.lines as lines\n",
    "\n",
    "pd.set_option('display.max_rows', 200)\n",
    "\n",
    "sc.set_figure_params(dpi=80, dpi_save=300, color_map='Spectral_r', vector_friendly=True, transparent=True)\n",
    "sc.settings.verbosity = 3 # verbosity: errors (0), warnings (1), info (2), hints (3)\n",
    "sc.logging.print_header()"
   ]
  },
  {
   "cell_type": "code",
   "execution_count": null,
   "id": "6c1b6c5b",
   "metadata": {},
   "outputs": [],
   "source": [
    "user_defined_palette =  [ '#F6222E', '#FEAF16','#3283FE','#BDCDFF', '#3B00FB', '#F8A19F', '#1CFFCE',  '#C4451C', \n",
    "                          '#2ED9FF', '#c1c119', '#8b0000', '#FE00FA', '#1CBE4F','#B5EFB5', '#0e452b', '#AA0DFE']"
   ]
  },
  {
   "cell_type": "code",
   "execution_count": null,
   "id": "24b76d9c",
   "metadata": {},
   "outputs": [],
   "source": [
    "user_defined_cmap_markers = LinearSegmentedColormap.from_list('mycmap', [\"#E6E6FF\", \"#CCCCFF\", \"#B2B2FF\", \"#9999FF\",  \"#6666FF\",   \"#3333FF\", \"#0000FF\"])\n",
    "user_defined_cmap_degs = LinearSegmentedColormap.from_list('mycmap', [\"#0000FF\", \"#3333FF\", \"#6666FF\", \"#9999FF\", \"#B2B2FF\", \"#CCCCFF\", \"#E6E6FF\", \"#E6FFE6\", \"#CCFFCC\", \"#B2FFB2\", \"#99FF99\", \"#66FF66\", \"#33FF33\", \"#00FF00\"])"
   ]
  },
  {
   "cell_type": "code",
   "execution_count": null,
   "id": "29947c70",
   "metadata": {},
   "outputs": [],
   "source": [
    "%matplotlib inline "
   ]
  },
  {
   "cell_type": "markdown",
   "id": "fbad9c74",
   "metadata": {},
   "source": [
    "## 1 Load data for Figure 1"
   ]
  },
  {
   "cell_type": "code",
   "execution_count": null,
   "id": "f4b4155a",
   "metadata": {},
   "outputs": [],
   "source": [
    "path_to_h5ad = '../output/metadata/anndata_objects/Fig1_pt1.h5ad'"
   ]
  },
  {
   "cell_type": "code",
   "execution_count": null,
   "id": "b4e8f40d",
   "metadata": {},
   "outputs": [],
   "source": [
    "adata_d0 = sc.read_h5ad(path_to_h5ad)\n",
    "adata_d0.uns['log1p'][\"base\"] = None"
   ]
  },
  {
   "cell_type": "code",
   "execution_count": null,
   "id": "c2b77ad8",
   "metadata": {},
   "outputs": [],
   "source": [
    "sc.set_figure_params(dpi=80, dpi_save=300, color_map='Spectral_r', vector_friendly=True, transparent=True)\n",
    "\n",
    "sc.pl.umap(adata_d0, color=['cell_type', 'stage', 'day'], \n",
    "                     color_map='Spectral_r',\n",
    "                     use_raw=False, \n",
    "                     ncols=4, \n",
    "                     wspace = 0.3,\n",
    "                     outline_width=[0.6, 0.05], \n",
    "                     size=15,  \n",
    "                     frameon=False, \n",
    "                     add_outline=True, \n",
    "                     sort_order = False)"
   ]
  },
  {
   "cell_type": "code",
   "execution_count": null,
   "id": "194f83ea",
   "metadata": {},
   "outputs": [],
   "source": [
    "sc.set_figure_params(dpi=80, dpi_save=300, color_map='Spectral_r', vector_friendly=True, transparent=True)\n",
    "\n",
    "sc.pl.umap(adata_d0, color=['Pdgfra',  'Epcam', 'H2-Aa',  'Pecam1', 'Cdh5',  'Nkain4', 'Upk3b', 'Acta2', 'Myl9', 'S100b'], \n",
    "                        color_map='Spectral_r',\n",
    "                        use_raw=False, \n",
    "                        ncols=5, \n",
    "                        wspace = 0.1,\n",
    "                        outline_width=[0.6, 0.05], \n",
    "                        size=15,  \n",
    "                        frameon=False, \n",
    "                        add_outline=True, \n",
    "                        sort_order = False\n",
    "                        )"
   ]
  },
  {
   "cell_type": "markdown",
   "id": "eab86bb1",
   "metadata": {},
   "source": [
    "## 2 Analyze TEC, FB and EC and annotate based on public marker genes and signatures"
   ]
  },
  {
   "cell_type": "markdown",
   "id": "600b426d",
   "metadata": {},
   "source": [
    "### 2.1 Our ECs"
   ]
  },
  {
   "cell_type": "code",
   "execution_count": null,
   "id": "1b49dc52",
   "metadata": {},
   "outputs": [],
   "source": [
    "EC_d0 = adata_d0[(adata_d0.obs['cell_type']=='EC')]"
   ]
  },
  {
   "cell_type": "code",
   "execution_count": null,
   "id": "25af2238",
   "metadata": {},
   "outputs": [],
   "source": [
    "# Remove columns with all 0s\n",
    "sc.pp.filter_genes(EC_d0, min_cells=1)"
   ]
  },
  {
   "cell_type": "code",
   "execution_count": null,
   "id": "88153ffd",
   "metadata": {},
   "outputs": [],
   "source": [
    "sc.pp.highly_variable_genes(EC_d0, n_top_genes=3500, n_bins=20, flavor='seurat')"
   ]
  },
  {
   "cell_type": "code",
   "execution_count": null,
   "id": "41241d8f",
   "metadata": {},
   "outputs": [],
   "source": [
    "rng = np.random.RandomState(42)\n",
    "sc.tl.pca(EC_d0, n_comps=200, svd_solver='arpack', random_state=rng, use_highly_variable=True)"
   ]
  },
  {
   "cell_type": "code",
   "execution_count": null,
   "id": "e2b99eaa",
   "metadata": {},
   "outputs": [],
   "source": [
    "def observe_variance(anndata_object):\n",
    "    fig = plt.figure(figsize=(10,5))\n",
    "    ax1 = fig.add_subplot(121)\n",
    "    ax2 = fig.add_subplot(122)\n",
    "    # variance per principal component\n",
    "    x = range(len(anndata_object.uns['pca']['variance_ratio']))\n",
    "    y = anndata_object.uns['pca']['variance_ratio']\n",
    "    ax1.scatter(x,y,s=4)\n",
    "    ax1.set_xlabel('PC')\n",
    "    ax1.set_ylabel('Fraction of variance explained\\n')\n",
    "    ax1.set_title('Fraction of variance explained per PC\\n')\n",
    "    # cumulative variance explained\n",
    "    cml_var_explained = np.cumsum(anndata_object.uns['pca']['variance_ratio'])\n",
    "    x = range(len(anndata_object.uns['pca']['variance_ratio']))\n",
    "    y = cml_var_explained\n",
    "    ax2.scatter(x,y,s=4)\n",
    "    ax2.set_xlabel('PC')\n",
    "    ax2.set_ylabel('Cumulative fraction of variance\\nexplained')\n",
    "    ax2.set_title('Cumulative fraction of variance\\nexplained by PCs')\n",
    "    fig.tight_layout()\n",
    "    plot = plt.show\n",
    "    return(plot)\n",
    "observe_variance(EC_d0)"
   ]
  },
  {
   "cell_type": "code",
   "execution_count": null,
   "id": "d407ab0c",
   "metadata": {},
   "outputs": [],
   "source": [
    "rng = np.random.RandomState(42)\n",
    "sc.tl.pca(EC_d0, n_comps=30, svd_solver='arpack', random_state=rng, use_highly_variable=True)"
   ]
  },
  {
   "cell_type": "code",
   "execution_count": null,
   "id": "aaa1dad9",
   "metadata": {},
   "outputs": [],
   "source": [
    "sce.pp.harmony_integrate(EC_d0, 'sample')"
   ]
  },
  {
   "cell_type": "code",
   "execution_count": null,
   "id": "344bc4b4",
   "metadata": {},
   "outputs": [],
   "source": [
    "sc.pp.neighbors(EC_d0, n_neighbors=15, use_rep='X_pca_harmony')\n",
    "sc.tl.umap(EC_d0)"
   ]
  },
  {
   "cell_type": "markdown",
   "id": "9ed7a113",
   "metadata": {},
   "source": [
    "### ECs in other tissues"
   ]
  },
  {
   "cell_type": "code",
   "execution_count": null,
   "id": "57ab38c1",
   "metadata": {},
   "outputs": [],
   "source": [
    "arteries = ['8430408g22Rik', 'Clu', 'Crip1', 'Fbln2', 'Gja4',  'Hey1', 'Mecom', 'Sat1', 'Sema3g', 'Sox17', 'Tm4sf1', 'Tsc22d1'] \n",
    "capilaries = ['Aw112010', 'Bc028528', 'Car4', 'Cd200', 'Cd300lg',  'Gpihbp1', 'Kdr',  'Rgcc',  'Sgk1', 'Sparc']\n",
    "veins = ['Apoe', 'Bgn', 'Ctla2a', 'Icam1', 'Il6st',  'Ptgs1',  'Tmsb10', 'Vcam1',  'Vwf']\n",
    "lymphatic = ['Prox1', 'Pdpn', 'Lyve1']"
   ]
  },
  {
   "cell_type": "code",
   "execution_count": null,
   "id": "4f1d2b3c",
   "metadata": {},
   "outputs": [],
   "source": [
    "sc.tl.score_genes(EC_d0, gene_list = arteries,  score_name='arterial', use_raw=False)\n",
    "sc.tl.score_genes(EC_d0, gene_list = capilaries,  score_name='capilary', use_raw=False)\n",
    "sc.tl.score_genes(EC_d0, gene_list = veins,  score_name='venular', use_raw=False)\n",
    "sc.tl.score_genes(EC_d0, gene_list = lymphatic,  score_name='lymphatic', use_raw=False)"
   ]
  },
  {
   "cell_type": "code",
   "execution_count": null,
   "id": "8c6429b0",
   "metadata": {},
   "outputs": [],
   "source": [
    "sc.set_figure_params(dpi=80, dpi_save=300, color_map='Spectral_r', vector_friendly=True, transparent=True)\n",
    "\n",
    "sc.pl.umap(\n",
    "    EC_d0,\n",
    "    color=['arterial', 'capilary','venular', 'lymphatic'],\n",
    "    palette=user_defined_palette,  \n",
    "    color_map='Spectral_r', \n",
    "    use_raw=False,\n",
    "    ncols=5,\n",
    "    wspace = 0.1,\n",
    "    outline_width=[0.6, 0.05],\n",
    "    frameon=False,\n",
    "    add_outline=True,\n",
    "    sort_order = False,\n",
    "    vmin=0\n",
    ")"
   ]
  },
  {
   "cell_type": "markdown",
   "id": "fa8a5e00",
   "metadata": {},
   "source": [
    "### ECs clustering and annotation"
   ]
  },
  {
   "cell_type": "code",
   "execution_count": null,
   "id": "22717eb3",
   "metadata": {},
   "outputs": [],
   "source": [
    "for resolution_parameter in [0.1, 0.2, 0.3, 0.4, 0.5, 0.6, 0.7, 0.8, 0.9, 1.0]:\n",
    "    sc.tl.leiden(EC_d0, resolution=resolution_parameter, random_state=42, \n",
    "                        key_added='leiden_'+str(resolution_parameter))"
   ]
  },
  {
   "cell_type": "code",
   "execution_count": null,
   "id": "79b72352",
   "metadata": {},
   "outputs": [],
   "source": [
    "sc.set_figure_params(dpi=80, dpi_save=300, color_map='viridis', vector_friendly=True, transparent=True)\n",
    "sc.pl.umap(\n",
    "    EC_d0, \n",
    "    color=['leiden_0.1', 'leiden_0.2', 'leiden_0.3', 'leiden_0.4', 'leiden_0.5', \n",
    "           'leiden_0.6', 'leiden_0.7', 'leiden_0.8','leiden_0.9', 'leiden_1.0'], \n",
    "    palette=user_defined_palette,  \n",
    "    color_map='Spectral_r', \n",
    "    use_raw=False,\n",
    "    ncols=5,\n",
    "    wspace = 0.7,\n",
    "    outline_width=[0.6, 0.05],\n",
    "    frameon=False,\n",
    "    add_outline=True,\n",
    "    sort_order = False\n",
    ")"
   ]
  },
  {
   "cell_type": "code",
   "execution_count": null,
   "id": "7a83d122",
   "metadata": {},
   "outputs": [],
   "source": [
    "sc.set_figure_params(dpi=80, dpi_save=300, color_map='viridis', vector_friendly=True, transparent=True)\n",
    "sc.pl.umap(\n",
    "    EC_d0, \n",
    "    color=['leiden_0.1'], \n",
    "    palette=user_defined_palette,  \n",
    "    color_map='Spectral_r', \n",
    "    use_raw=False,\n",
    "    ncols=5,\n",
    "    wspace = 0.7,\n",
    "    outline_width=[0.6, 0.05],\n",
    "    frameon=False,\n",
    "    add_outline=True,\n",
    "    sort_order = False\n",
    ")"
   ]
  },
  {
   "cell_type": "code",
   "execution_count": null,
   "id": "80632a87",
   "metadata": {},
   "outputs": [],
   "source": [
    "EC_d0.obs['cell_type_subset'] = ['0:arEC' if (x=='2') else \n",
    "                                 '1:capEC' if (x=='0' or x=='1' or x=='4') else\n",
    "                                 '2:venEC' if (x=='3') else 'ERROR' for x in EC_d0.obs['leiden_0.1']] "
   ]
  },
  {
   "cell_type": "code",
   "execution_count": null,
   "id": "8118537d",
   "metadata": {},
   "outputs": [],
   "source": [
    "EC_d0.uns['cell_type_subset_colors'] = ['#F6222E', '#3283FE', '#16FF32']"
   ]
  },
  {
   "cell_type": "code",
   "execution_count": null,
   "id": "d18e7a5f",
   "metadata": {},
   "outputs": [],
   "source": [
    "sc.set_figure_params(dpi=80, dpi_save=300, color_map='viridis', vector_friendly=True, transparent=True)\n",
    "\n",
    "sc.pl.umap(\n",
    "    EC_d0, \n",
    "    color=['cell_type_subset', 'stage', 'day', 'sample'], \n",
    "    ncols=6,\n",
    "    outline_width=[0.6, 0.05],\n",
    "    frameon=False,\n",
    "    cmap='Spectral_r',\n",
    "    wspace = 0.3,\n",
    "    add_outline=True\n",
    ")"
   ]
  },
  {
   "cell_type": "markdown",
   "id": "7fd01fc4",
   "metadata": {},
   "source": [
    "### Our FB"
   ]
  },
  {
   "cell_type": "code",
   "execution_count": null,
   "id": "364fb01a",
   "metadata": {},
   "outputs": [],
   "source": [
    "FB_d0 = adata_d0[(adata_d0.obs['cell_type']=='FB')]"
   ]
  },
  {
   "cell_type": "code",
   "execution_count": null,
   "id": "4c455d6b",
   "metadata": {},
   "outputs": [],
   "source": [
    "# Remove columns with all 0s\n",
    "sc.pp.filter_genes(FB_d0, min_cells=1)"
   ]
  },
  {
   "cell_type": "code",
   "execution_count": null,
   "id": "578578c3",
   "metadata": {},
   "outputs": [],
   "source": [
    "sc.pp.highly_variable_genes(FB_d0, n_top_genes=3500, n_bins=20, flavor='seurat')"
   ]
  },
  {
   "cell_type": "code",
   "execution_count": null,
   "id": "9e194b54",
   "metadata": {},
   "outputs": [],
   "source": [
    "rng = np.random.RandomState(42)\n",
    "sc.tl.pca(FB_d0, n_comps=200, svd_solver='arpack', random_state=rng, use_highly_variable=True)"
   ]
  },
  {
   "cell_type": "code",
   "execution_count": null,
   "id": "13eaeac0",
   "metadata": {},
   "outputs": [],
   "source": [
    "observe_variance(FB_d0)"
   ]
  },
  {
   "cell_type": "code",
   "execution_count": null,
   "id": "9952a624",
   "metadata": {},
   "outputs": [],
   "source": [
    "rng = np.random.RandomState(42)\n",
    "sc.tl.pca(FB_d0, n_comps=50, svd_solver='arpack', random_state=rng, use_highly_variable=True)"
   ]
  },
  {
   "cell_type": "code",
   "execution_count": null,
   "id": "47fa44e3",
   "metadata": {},
   "outputs": [],
   "source": [
    "sce.pp.harmony_integrate(FB_d0, 'sample')"
   ]
  },
  {
   "cell_type": "code",
   "execution_count": null,
   "id": "5273e1de",
   "metadata": {},
   "outputs": [],
   "source": [
    "sc.pp.neighbors(FB_d0, n_neighbors=15, use_rep='X_pca_harmony')\n",
    "sc.tl.umap(FB_d0)"
   ]
  },
  {
   "cell_type": "code",
   "execution_count": null,
   "id": "da418ad1",
   "metadata": {},
   "outputs": [],
   "source": [
    "for resolution_parameter in [0.1, 0.2, 0.3, 0.4, 0.5, 0.6, 0.7, 0.8, 0.9, 1.0]:\n",
    "    sc.tl.leiden(FB_d0, resolution=resolution_parameter, random_state=42, \n",
    "                        key_added='leiden_'+str(resolution_parameter))"
   ]
  },
  {
   "cell_type": "code",
   "execution_count": null,
   "id": "2819d6e8",
   "metadata": {},
   "outputs": [],
   "source": [
    "sc.set_figure_params(dpi=80, dpi_save=300, color_map='viridis', vector_friendly=False, transparent=True)\n",
    "sc.pl.umap(\n",
    "    FB_d0, \n",
    "    color=['leiden_0.1', 'leiden_0.2', 'leiden_0.3', 'leiden_0.4', 'leiden_0.5', \n",
    "           'leiden_0.6', 'leiden_0.7', 'leiden_0.8','leiden_0.9', 'leiden_1.0'], \n",
    "    palette=user_defined_palette,  \n",
    "    color_map='Spectral_r', \n",
    "    use_raw=False,\n",
    "    ncols=5,\n",
    "    wspace = 0.7,\n",
    "    outline_width=[0.6, 0.05],\n",
    "    frameon=False,\n",
    "    add_outline=True,\n",
    "    sort_order = False\n",
    ")"
   ]
  },
  {
   "cell_type": "code",
   "execution_count": null,
   "id": "6bf05ed3",
   "metadata": {},
   "outputs": [],
   "source": [
    "sc.set_figure_params(dpi=80, dpi_save=300, color_map='viridis', vector_friendly=True, transparent=True)\n",
    "\n",
    "sc.pl.umap(\n",
    "    FB_d0, \n",
    "    color=['Adipoq'], \n",
    "    ncols=6,\n",
    "    outline_width=[0.6, 0.05],\n",
    "    size=15,\n",
    "    frameon=False,\n",
    "    cmap='Spectral_r',\n",
    "    wspace = 0.3,\n",
    "    add_outline=True\n",
    ")"
   ]
  },
  {
   "cell_type": "code",
   "execution_count": null,
   "id": "353c031a",
   "metadata": {},
   "outputs": [],
   "source": [
    "FB_d0.obs['cell_type_subset'] = ['3:capsFB' if (x=='1') else \n",
    "                                 '4:intFB' if (x=='2' or x=='3' or x=='4') else\n",
    "                                 '5:medFB' if (x=='0') else\n",
    "                                 '9:Fat' if (x=='5') else 'ERROR' for x in FB_d0.obs['leiden_0.5']] "
   ]
  },
  {
   "cell_type": "code",
   "execution_count": null,
   "id": "6bc3e3f9",
   "metadata": {},
   "outputs": [],
   "source": [
    "FB_d0.uns['cell_type_subset_colors'] = ['#BDCDFF', '#3B00FB', '#1CFFCE', 'grey']"
   ]
  },
  {
   "cell_type": "code",
   "execution_count": null,
   "id": "ed51229a",
   "metadata": {},
   "outputs": [],
   "source": [
    "sc.set_figure_params(dpi=80, dpi_save=300, color_map='viridis', vector_friendly=True, transparent=True)\n",
    "\n",
    "sc.pl.umap(\n",
    "    FB_d0, \n",
    "    color=['cell_type_subset'], \n",
    "    ncols=6,\n",
    "    outline_width=[0.6, 0.05],\n",
    "    frameon=False,\n",
    "    cmap='Spectral_r',\n",
    "    wspace = 0.3,\n",
    "    add_outline=True\n",
    ")"
   ]
  },
  {
   "cell_type": "code",
   "execution_count": null,
   "id": "30a78474",
   "metadata": {},
   "outputs": [],
   "source": [
    "FB_d0_nofat = FB_d0[(FB_d0.obs['cell_type_subset']!='9:Fat')]"
   ]
  },
  {
   "cell_type": "code",
   "execution_count": null,
   "id": "bc24103d",
   "metadata": {},
   "outputs": [],
   "source": [
    "# Remove columns with all 0s\n",
    "sc.pp.filter_genes(FB_d0_nofat, min_cells=1)"
   ]
  },
  {
   "cell_type": "code",
   "execution_count": null,
   "id": "069d11e4",
   "metadata": {},
   "outputs": [],
   "source": [
    "sc.pp.highly_variable_genes(FB_d0_nofat, n_top_genes=3500, n_bins=20, flavor='seurat')"
   ]
  },
  {
   "cell_type": "code",
   "execution_count": null,
   "id": "50b06218",
   "metadata": {},
   "outputs": [],
   "source": [
    "rng = np.random.RandomState(42)\n",
    "sc.tl.pca(FB_d0_nofat, n_comps=200, svd_solver='arpack', random_state=rng, use_highly_variable=True)"
   ]
  },
  {
   "cell_type": "code",
   "execution_count": null,
   "id": "ce5be9ca",
   "metadata": {},
   "outputs": [],
   "source": [
    "observe_variance(FB_d0_nofat)"
   ]
  },
  {
   "cell_type": "code",
   "execution_count": null,
   "id": "001321e6",
   "metadata": {},
   "outputs": [],
   "source": [
    "rng = np.random.RandomState(42)\n",
    "sc.tl.pca(FB_d0_nofat, n_comps=45, svd_solver='arpack', random_state=rng, use_highly_variable=True)"
   ]
  },
  {
   "cell_type": "code",
   "execution_count": null,
   "id": "69cb9b5b",
   "metadata": {},
   "outputs": [],
   "source": [
    "sce.pp.harmony_integrate(FB_d0_nofat, 'sample')"
   ]
  },
  {
   "cell_type": "code",
   "execution_count": null,
   "id": "ad820014",
   "metadata": {},
   "outputs": [],
   "source": [
    "sc.pp.neighbors(FB_d0_nofat, n_neighbors=15, use_rep='X_pca_harmony')\n",
    "sc.tl.umap(FB_d0_nofat)"
   ]
  },
  {
   "cell_type": "code",
   "execution_count": null,
   "id": "78ce4be3",
   "metadata": {},
   "outputs": [],
   "source": [
    "capsular = ['Akr1c18',\t'Mrgprg',\t'Upk3b',\t'Smpd3',\t'Sema3c',\t'Dpp4',\t'Efhd1',\t'Pcsk6',\t'Pi16',\t'Ackr3',\t'Sfrp2',\t'Msln',\t'Sfrp4',\t'Adgrd1',\t'Spon2',\t'Mfap5',\t'Gpc3',\t'Saa3',\t'Ogn',\t'Mt2',\t'Cpxm2',\t'Lrrn4cl',\t'Fndc1',\t'Anxa3',\t'Qpct',\t'Cxcl13',\t'Smoc2',\t'Igfbp6',\t'Nov',\t'Csrp2']\n",
    "medullary = ['Gja4',\t'Mmp9',\t'Pde2a',\t'Vtn',\t'Des',\t'Crsc',\t'Ecscr',\t'C1qtnf5',\t'Cx3cl1',\t'Acta2',\t'Meox1',\t'Sdc3',\t'Postn',\t'Tagln',\t'Serpine2',\t'Enpp2',\t'SlcO2b1',\t'Ndufa4l2',\t'Serpina3g',\t'Ltbp1',\t'Gfra2',\t'Mfge8',\t'Rasa3']\n",
    "perilobular = ['C7',\t'Dpt',\t'Ptn',\t'Ptgds',\t'Rbp5',\t'Rspo3',\t'Mfap4',\t'Sparcl1',\t'Srpx',\t'Hspb6',\t'Ccl2',\t'Fxyd6',\t'Nr2f1',\t'Dbi',\t'Spry1',\t'Litaf',\t'Dcn',\t'Runx1t1',\t'Rwdd1']\n",
    "interlobular = ['Lum',\t'Mgp',\t'Ogn',\t'Fn1',\t'Igfbp6',\t'Col1a2',\t'Col14a1',\t'Col3a1',\t'Col1a1',\t'Fbn1',\t'Dcn',\t'Itm2a',\t'Ccdc80',\t'Ctsk',\t'Wisp2',\t'Id2',\t'Spon2',\t'Fstl1',\t'Fbln2',\t'Mfap5']"
   ]
  },
  {
   "cell_type": "code",
   "execution_count": null,
   "id": "849d9ced",
   "metadata": {},
   "outputs": [],
   "source": [
    "sc.tl.score_genes(FB_d0_nofat, gene_list = perilobular,  score_name='perilobular\\n(human)', use_raw=False)\n",
    "sc.tl.score_genes(FB_d0_nofat, gene_list = interlobular,  score_name='interlobular\\n(human)', use_raw=False)\n",
    "sc.tl.score_genes(FB_d0_nofat, gene_list = capsular,  score_name='capsular\\n(mouse)', use_raw=False)\n",
    "sc.tl.score_genes(FB_d0_nofat, gene_list = medullary,  score_name='medullary\\n(mouse)', use_raw=False)"
   ]
  },
  {
   "cell_type": "code",
   "execution_count": null,
   "id": "6940d245",
   "metadata": {},
   "outputs": [],
   "source": [
    "sc.set_figure_params(dpi=80, dpi_save=300, color_map='viridis', vector_friendly=True, transparent=True)\n",
    "\n",
    "sc.pl.umap(\n",
    "    FB_d0_nofat,\n",
    "    color=[ 'capsular\\n(mouse)', 'medullary\\n(mouse)', 'perilobular\\n(human)', 'interlobular\\n(human)'],\n",
    "    palette=user_defined_palette,  \n",
    "    color_map='Spectral_r', \n",
    "    use_raw=False,\n",
    "    ncols=5,\n",
    "    wspace = 0.1,\n",
    "    outline_width=[0.6, 0.05],\n",
    "    size=15,\n",
    "    frameon=False,\n",
    "    add_outline=True,\n",
    "    sort_order = False,\n",
    "    vmin=0\n",
    ")"
   ]
  },
  {
   "cell_type": "code",
   "execution_count": null,
   "id": "b1916e0d",
   "metadata": {},
   "outputs": [],
   "source": [
    "sc.pl.umap(FB_d0_nofat, color=['cell_type_subset', 'stage', 'day', 'sample'], \n",
    "                     color_map='Spectral_r',\n",
    "                     use_raw=False, \n",
    "                     ncols=4, \n",
    "                     wspace = 0.2,\n",
    "                     outline_width=[0.6, 0.05], \n",
    "                     size=15,  \n",
    "                     frameon=False, \n",
    "                     add_outline=True, \n",
    "                     sort_order = False)"
   ]
  },
  {
   "cell_type": "markdown",
   "id": "81ee9646",
   "metadata": {},
   "source": [
    "### TEC"
   ]
  },
  {
   "cell_type": "code",
   "execution_count": null,
   "id": "8e62b1f2",
   "metadata": {},
   "outputs": [],
   "source": [
    "TEC_d0 = adata_d0[(adata_d0.obs['cell_type']=='TEC')]"
   ]
  },
  {
   "cell_type": "code",
   "execution_count": null,
   "id": "784768d7",
   "metadata": {},
   "outputs": [],
   "source": [
    "# Remove columns with all 0s\n",
    "sc.pp.filter_genes(TEC_d0, min_cells=1)"
   ]
  },
  {
   "cell_type": "code",
   "execution_count": null,
   "id": "431c1543",
   "metadata": {},
   "outputs": [],
   "source": [
    "sc.pp.highly_variable_genes(TEC_d0, n_top_genes=3500, n_bins=20, flavor='seurat')"
   ]
  },
  {
   "cell_type": "code",
   "execution_count": null,
   "id": "df02e64a",
   "metadata": {},
   "outputs": [],
   "source": [
    "rng = np.random.RandomState(42)\n",
    "sc.tl.pca(TEC_d0, n_comps=200, svd_solver='arpack', random_state=rng, use_highly_variable=True)"
   ]
  },
  {
   "cell_type": "code",
   "execution_count": null,
   "id": "6679a943",
   "metadata": {},
   "outputs": [],
   "source": [
    "observe_variance(TEC_d0)"
   ]
  },
  {
   "cell_type": "code",
   "execution_count": null,
   "id": "af385e15",
   "metadata": {},
   "outputs": [],
   "source": [
    "rng = np.random.RandomState(42)\n",
    "sc.tl.pca(TEC_d0, n_comps=50, svd_solver='arpack', random_state=rng, use_highly_variable=True)"
   ]
  },
  {
   "cell_type": "code",
   "execution_count": null,
   "id": "e7e9c8e2",
   "metadata": {},
   "outputs": [],
   "source": [
    "sce.pp.harmony_integrate(TEC_d0, 'sample')"
   ]
  },
  {
   "cell_type": "code",
   "execution_count": null,
   "id": "a95b1425",
   "metadata": {},
   "outputs": [],
   "source": [
    "sc.pp.neighbors(TEC_d0, n_neighbors=15, use_rep='X_pca_harmony')\n",
    "sc.tl.umap(TEC_d0)"
   ]
  },
  {
   "cell_type": "markdown",
   "id": "817ca823",
   "metadata": {},
   "source": [
    "###  Bornstein et al."
   ]
  },
  {
   "cell_type": "code",
   "execution_count": null,
   "id": "89ce004b",
   "metadata": {},
   "outputs": [],
   "source": [
    "cTEC = ['Ccl25', 'Psmb11','Ly75','Prss16', 'Ctsl','Pax1']\n",
    "mTEC1 = ['Itga6', 'Itgb4', 'Sox4', 'Ly6a', 'Ccl21a', 'Krt5', 'Ascl1', 'Ccl21c', 'Apoe']\n",
    "mTEC2 = ['Aire', 'Fezf2', 'Cd40', 'H2-Aa', 'H2-Ab1', 'Cd74', 'Hdc', 'Ubd', 'Cd52']\n",
    "mTEC3a = ['Spink5', 'Ly6d']\n",
    "mTEC3b = ['Pigr', 'Car8']\n",
    "mTEC3c = ['Ccl20', 'Serpinb6a']\n",
    "mTEC4 =  ['Lrmp', 'Avil', 'Trpm5', 'Dclk1', 'Gng13', 'Ptgs1', 'L1cam', 'Sox9', 'Il25', 'Pou2f3', 'Gp2', 'Gnb3', 'Ptgs1', 'Il17rb']"
   ]
  },
  {
   "cell_type": "code",
   "execution_count": null,
   "id": "1c98c96a",
   "metadata": {},
   "outputs": [],
   "source": [
    "sc.tl.score_genes(TEC_d0, gene_list = cTEC,  score_name='cTEC', use_raw=False)\n",
    "sc.tl.score_genes(TEC_d0, gene_list = mTEC1,  score_name='mTEC1', use_raw=False)\n",
    "sc.tl.score_genes(TEC_d0, gene_list = mTEC2,  score_name='mTEC2', use_raw=False)\n",
    "sc.tl.score_genes(TEC_d0, gene_list = mTEC3a,  score_name='mTEC3(a)', use_raw=False)\n",
    "sc.tl.score_genes(TEC_d0, gene_list = mTEC3b,  score_name='mTEC3(b)', use_raw=False)\n",
    "sc.tl.score_genes(TEC_d0, gene_list = mTEC3c,  score_name='mTEC3(c)', use_raw=False)\n",
    "sc.tl.score_genes(TEC_d0, gene_list = mTEC4,  score_name='mTEC4', use_raw=False)"
   ]
  },
  {
   "cell_type": "code",
   "execution_count": null,
   "id": "64a6816e",
   "metadata": {},
   "outputs": [],
   "source": [
    "sc.set_figure_params(dpi=80, dpi_save=300, color_map='viridis', vector_friendly=True, transparent=True)\n",
    "\n",
    "sc.pl.umap(\n",
    "    TEC_d0,\n",
    "    color=['cTEC', 'mTEC1', 'mTEC2', 'mTEC3(a)', 'mTEC3(b)', 'mTEC3(c)','mTEC4'],\n",
    "    palette=user_defined_palette,  \n",
    "    color_map='Spectral_r', \n",
    "    use_raw=False,\n",
    "    ncols=4,\n",
    "    wspace = 0.1,\n",
    "    outline_width=[0.6, 0.05],\n",
    "    size=15,\n",
    "    frameon=False,\n",
    "    add_outline=True,\n",
    "    sort_order = False,\n",
    "    vmin=0\n",
    ")"
   ]
  },
  {
   "cell_type": "markdown",
   "id": "98497641",
   "metadata": {},
   "source": [
    "### Dhalla et al."
   ]
  },
  {
   "cell_type": "code",
   "execution_count": null,
   "id": "160af9fe",
   "metadata": {},
   "outputs": [],
   "source": [
    "preAire1 = ['Krt5',\t'Ifi27l2a',\t'Ccl21a',\t'Krt14',\t'Ifitm3',\t'Apoe',\t'Bst2',\t'Ifitm2',\t'Isg15',\t'Ly6a']\n",
    "preAire2 = ['Ccl21a',\t'Ctsl',\t'Ifitm3',\t'Ifi27l2a',\t'Tpm2',\t'Tmsb10',\t'Krt5',\t'Mdk',\t'Krt7',\t'Krt17']\n",
    "proliferating = ['Eif5a',\t'Ran',\t'Ppia',\t'Npm1',\t'H2afz',\t'Eif4a1',\t'Stmn1',\t'Phgdh',\t'Rps2',\t'Utf1']\n",
    "mature1 = ['Rplp0',\t'Hdc',\t'Aire',\t'H2-dmb2',\t'Hagh',\t'Calcb',\t'S100a14',\t'Lrrc42',\t'Cd74',\t'Srgn']\n",
    "mature2 = ['Ubd',\t'Csn2',\t'Malat1',\t'H2-Eb1']\n",
    "mature3 = ['Cd52',\t'Npc2',\t'H2-Oa',\t'H2-Ab1',\t'Ubd',\t'H2-Aa',\t'H2-Eb1',\t'Atp6v0e',\t'Srgn',\t'Alas1']\n",
    "postAire1 = ['Aw112010',\t'Lypd8',\t'Cldn7',\t'Prap1',\t'Spink1',\t'Ahcyl2',\t'2200002D01Rik',\t'Gpx1',\t'2210407c18Rik',\t'Lgals4']\n",
    "postAire2 = ['Ly6d',\t'Fxyd3',\t'Spink5',\t'Perp',\t'Gsta4',\t'Pdzk1ip1',\t'Hspb1',\t'Prdx5',\t'Oit1',\t'Dmkn']\n",
    "postAire3 = ['Cd9',\t'Igfbp5',\t'Dnajc12',\t'Car8',\t'Ceacam10',\t'Calm2',\t'Cd164',\t'Btg1',\t'Scg5',\t'Hepacam2']\n",
    "tuftLike = ['Gng13',\t'Avil',\t'Lrmp',\t'Reep5',\t'Espn',\t'Ivns1Abp',\t'Ptpn18',\t'Mctp1',\t'Ltc4s',\t'Anxa4']\n",
    "unknown = ['Cd3g',\t'Ptprcap',\t'Lat',\t'Cd3d',\t'Lck',\t'Rpl13',\t'Rpl13a',\t'Rps4x',\t'Rps18',\t'Id3']\n",
    "fibroblastLike1 = ['Sparc',\t'Igfbp7',\t'Rarres2',\t'Lgals1',\t'Serping1',\t'Gsn',\t'Dcn',\t'Cd302',\t'Serpinh1',\t'Postn']\n",
    "fibroblastLike2 = ['Ctla2a',\t'Pecam1',\t'Emcn',\t'Gng11',\t'Igfbp7',\t'Cd34',\t'Sparcl1',\t'Tm4sf1',\t'Plvap',\t'Sepp1']\n",
    "ciliated = ['Dynlrb2',\t'Fam183b',\t'Tppp3',\t'Elof1',\t'Chchd10',\t'Riiad1',\t'Nudc',\t'1110017d15Rik',\t'Tubb4b',\t'1700016k19Rik']\n",
    "GP2preferred = ['Serpinb6a',\t'Ccl20',\t'Ccl9',\t'Serpinb1a',\t'Ccl6',\t'Pglyrp1',\t'2200002d01Rik',\t'Bcl2a1b',\t'Tndaip2',\t'Tmsb4x']"
   ]
  },
  {
   "cell_type": "code",
   "execution_count": null,
   "id": "d2668f03",
   "metadata": {},
   "outputs": [],
   "source": [
    "sc.tl.score_genes(TEC_d0, gene_list = preAire1,  score_name='pre-Aire mTEC1', use_raw=False)\n",
    "sc.tl.score_genes(TEC_d0, gene_list = preAire2,  score_name='pre-Aire mTEC2', use_raw=False)\n",
    "sc.tl.score_genes(TEC_d0, gene_list = proliferating,  score_name='prol mTEC', use_raw=False)\n",
    "sc.tl.score_genes(TEC_d0, gene_list = mature1,  score_name='mat mTEC1', use_raw=False)\n",
    "sc.tl.score_genes(TEC_d0, gene_list = mature2,  score_name='mat mTEC2', use_raw=False)\n",
    "sc.tl.score_genes(TEC_d0, gene_list = mature3,  score_name='mat mTEC3', use_raw=False)\n",
    "sc.tl.score_genes(TEC_d0, gene_list = postAire1,  score_name='post-Aire mTEC1', use_raw=False)\n",
    "sc.tl.score_genes(TEC_d0, gene_list = postAire2,  score_name='post-Aire mTEC2', use_raw=False)\n",
    "sc.tl.score_genes(TEC_d0, gene_list = postAire3,  score_name='post-Aire mTEC3', use_raw=False)\n",
    "sc.tl.score_genes(TEC_d0, gene_list = GP2preferred,  score_name='GP2-pref mTEC', use_raw=False)\n",
    "sc.tl.score_genes(TEC_d0, gene_list = tuftLike,  score_name='tuft-like mTEC', use_raw=False)\n",
    "sc.tl.score_genes(TEC_d0, gene_list = unknown,  score_name='unknown TEC', use_raw=False)\n",
    "sc.tl.score_genes(TEC_d0, gene_list = fibroblastLike1,  score_name='fibroblast-like1', use_raw=False)\n",
    "sc.tl.score_genes(TEC_d0, gene_list = fibroblastLike2,  score_name='fibroblast-like2', use_raw=False)\n",
    "sc.tl.score_genes(TEC_d0, gene_list = ciliated,  score_name='ciliated TEC', use_raw=False)"
   ]
  },
  {
   "cell_type": "code",
   "execution_count": null,
   "id": "06f57c35",
   "metadata": {},
   "outputs": [],
   "source": [
    "sc.set_figure_params(dpi=80, dpi_save=300, color_map='viridis', vector_friendly=True, transparent=True)\n",
    "\n",
    "sc.pl.umap(\n",
    "    TEC_d0,\n",
    "    color=['pre-Aire mTEC1', 'pre-Aire mTEC2', 'prol mTEC', 'mat mTEC1', 'mat mTEC2', 'mat mTEC3',\n",
    "           'post-Aire mTEC1', 'post-Aire mTEC2', 'post-Aire mTEC3', 'GP2-pref mTEC', 'tuft-like mTEC','ciliated TEC', 'unknown TEC',\n",
    "           'fibroblast-like1', 'fibroblast-like2'],\n",
    "    palette=user_defined_palette,  \n",
    "    color_map='Spectral_r', \n",
    "    use_raw=False,\n",
    "    ncols=4,\n",
    "    wspace = 0.1,\n",
    "    outline_width=[0.6, 0.05],\n",
    "    size=15,\n",
    "    frameon=False,\n",
    "    add_outline=True,\n",
    "    sort_order = False,\n",
    "    vmin=0\n",
    ")"
   ]
  },
  {
   "cell_type": "markdown",
   "id": "d20e7324",
   "metadata": {},
   "source": [
    "### Baran-Gale et al."
   ]
  },
  {
   "cell_type": "code",
   "execution_count": null,
   "id": "17613a3c",
   "metadata": {},
   "outputs": [],
   "source": [
    "per_cTEC = ['Syngr1', 'Gper1']\n",
    "mat_cTEC = ['Prss16', 'Cxcl12']\n",
    "int_TEC = ['Ccl21a', 'Krt5']\n",
    "prol_TEC = ['Ccna2', 'Pbk']\n",
    "mat_mTEC = ['Aire', 'Cd52']\n",
    "postAIRE_mTEC = ['Krt80', 'Spink5']\n",
    "nTEC = ['Cd177', 'Car8']\n",
    "tuft = ['Avil', 'Trpm5']\n",
    "sTEC = ['Sod3', 'Dpt']"
   ]
  },
  {
   "cell_type": "code",
   "execution_count": null,
   "id": "f5fbd8bd",
   "metadata": {},
   "outputs": [],
   "source": [
    "sc.tl.score_genes(TEC_d0, gene_list = per_cTEC, score_name='per_cTEC', use_raw=False)\n",
    "sc.tl.score_genes(TEC_d0, gene_list = mat_cTEC, score_name='mat_cTEC', use_raw=False)\n",
    "sc.tl.score_genes(TEC_d0, gene_list = int_TEC, score_name='int_TEC', use_raw=False)\n",
    "sc.tl.score_genes(TEC_d0, gene_list = prol_TEC, score_name='prol_TEC', use_raw=False)\n",
    "sc.tl.score_genes(TEC_d0, gene_list = mat_mTEC, score_name='mat_mTEC', use_raw=False)\n",
    "sc.tl.score_genes(TEC_d0, gene_list = postAIRE_mTEC, score_name='postAIRE_mTEC', use_raw=False)\n",
    "sc.tl.score_genes(TEC_d0, gene_list = nTEC, score_name='nTEC', use_raw=False)\n",
    "sc.tl.score_genes(TEC_d0, gene_list = tuft, score_name='tuft', use_raw=False)\n",
    "sc.tl.score_genes(TEC_d0, gene_list = sTEC, score_name='sTEC', use_raw=False)"
   ]
  },
  {
   "cell_type": "code",
   "execution_count": null,
   "id": "cfa1e2a7",
   "metadata": {},
   "outputs": [],
   "source": [
    "sc.set_figure_params(dpi=80, dpi_save=300, color_map='viridis', vector_friendly=True, transparent=True)\n",
    "\n",
    "sc.pl.umap(\n",
    "    TEC_d0,\n",
    "    color=['per_cTEC', 'mat_cTEC', 'int_TEC', 'prol_TEC','mat_mTEC', 'postAIRE_mTEC','nTEC', 'tuft', 'sTEC'],\n",
    "    palette=user_defined_palette,  \n",
    "    color_map='Spectral_r', \n",
    "    use_raw=False,\n",
    "    ncols=4,\n",
    "    wspace = 0.1,\n",
    "    outline_width=[0.6, 0.05],\n",
    "    size=15,\n",
    "    frameon=False,\n",
    "    add_outline=True,\n",
    "    sort_order = False,\n",
    "    vmin=0\n",
    ")"
   ]
  },
  {
   "cell_type": "markdown",
   "id": "a2464e97",
   "metadata": {},
   "source": [
    "### Nusser et al."
   ]
  },
  {
   "cell_type": "code",
   "execution_count": null,
   "id": "9a03ec8e",
   "metadata": {},
   "outputs": [],
   "source": [
    "early_progenitor_genes = ['Ackr4',\t'Adamts10',\t'Agrn',\t'Aldh2',\t'Aldh6a1',\t'Amotl1',\t'Amotl2',\t'Antxr1',\t'Apoe',\t'Ar',\t'Bcam',\t'Bcl11a',\t'Bcl2',\t'Bmp4',\t'Btg2',\t'Cbx6',\t'Ccdc80',\t'Cdh11',\t'Cldn8',\t'Clec11a',\t'Clstn1',\t'Col18a1',\t'Cpne8',\t'Cthrc1',\t'Cyp1b1',\t'Dcn',\t'Ddr1',\t'Dhrs3',\t'Dlk2',\t'Dnajc13',\t'Dpp6',\t'Dpysl2',\t'Dsc3',\t'Egr1',\t'Eid1',\t'Fam129a',\t'Fam19a5',\t'Fkbp9',\t'Fmod',\t'Fos',\t'Fosb',\t'Frmd6',\t'Fstl1',\t'Ogn',\t'Gas1',\t'Pak3',\t'Gbp2',\t'Palld',\t'Gnaq',\t'Pdpn',\t'Gpm6b',\t'Penk',\t'Gprasp1',\t'Plxdc2',\t'Gstm2',\t'Pmp22',\t'H2-Dma',\t'Prelp',\t'Hes6',\t'Prrg3',\t'Hic1',\t'Prss23',\t'Hsd17b10',\t'Ptprz1',\t'Igfbp2',\t'Ptrf',\t'Igfbp3',\t'Pygb',\t'Igfbp5',\t'Rbp1',\t'Igfbp7',\t'Rnase4',\t'Iigp1',\t'Scn1a',\t'Il33',\t'Serpinf1',\t'Irgm1',\t'Serpinh1',\t'Isl1',\t'Shisa2',\t'Itm2c',\t'Slc2a13',\t'Kazald1',\t'Sord',\t'Lamb1',\t'Sparc',\t'Laptm4a',\t'Spon2',\t'Limch1',\t'Spry1',\t'Ltbp3',\t'Tcn2',\t'Maged1',\t'Tgfbr2',\t'Megf6',\t'Tgfbr3',\t'Meis1',\t'Thbd',\t'Mgll',\t'Thbs1',\t'Mgp',\t'Timp2',\t'Myl9',\t'Tinagl1',\t'Mylk',\t'Tnfrsf19',\t'Nbl1',\t'Tns1',\t'Nell2',\t'Tns3',\t'Nfia',\t'Trim29',\t'Nfib',\t'Trp63',\t'Nfix',\t'Tspan9',\t'Nr2f1',\t'Twsg1',\t'Nr4a1',\t'Txnip',\t'Nrtn',\t'Unc119',\t'Ntrk3',\t'Vmac',\t'Oat',\t'Wls',\t'Wscd1',\t'Xdh',\t'Zfp36']\n",
    "postnatal_progenitor_genes = ['Acta2',\t'Apoe',\t'Ascl1',\t'Boc',\t'C1s1',\t'C3',\t'Cald1',\t'Ccl11',\t'Ccl21a',\t'Clca3a1',\t'Col6a1',\t'Col6a2',\t'Cyr61',\t'Ddx60',\t'Dpysl3',\t'Dst',\t'Emp2',\t'Fam101b',\t'Flna',\t'Fst',\t'Fzd2',\t'Gas1',\t'Glul',\t'Gpx3',\t'Gsn',\t'Hpgd',\t'Htra1',\t'Id1',\t'Ifi27l2a',\t'Igfbp4',\t'Igfbp5',\t'Irf7',\t'Isg15',\t'Itga6',\t'Itgb4',\t'Krt14',\t'Krt5',\t'Krt7',\t'Lamb3',\t'Lars2',\t'Lifr',\t'Mgp',\t'Myl9',\t'Nrbp2',\t'S1pr3',\t'Slc4a11',\t'Sox4',\t'Stat2',\t'Sult5a1',\t'Tagln',\t'Tgfbi',\t'Tpm2',\t'Wfikkn2']"
   ]
  },
  {
   "cell_type": "code",
   "execution_count": null,
   "id": "7b178665",
   "metadata": {},
   "outputs": [],
   "source": [
    "sc.tl.score_genes(TEC_d0, early_progenitor_genes, score_name='early progenitor\\nsignature', use_raw=False)\n",
    "sc.tl.score_genes(TEC_d0, postnatal_progenitor_genes, score_name='postnatal progenitor\\nsignature', use_raw=False)"
   ]
  },
  {
   "cell_type": "code",
   "execution_count": null,
   "id": "2be3298c",
   "metadata": {},
   "outputs": [],
   "source": [
    "sc.set_figure_params(dpi=80, dpi_save=300, color_map='viridis', vector_friendly=True, transparent=True)\n",
    "\n",
    "sc.pl.umap(\n",
    "    TEC_d0,\n",
    "    color=['early progenitor\\nsignature', 'postnatal progenitor\\nsignature'],\n",
    "    palette=user_defined_palette,  \n",
    "    color_map='Spectral_r', \n",
    "    use_raw=False,\n",
    "    ncols=4,\n",
    "    wspace = 0.1,\n",
    "    outline_width=[0.6, 0.05],\n",
    "    size=15,\n",
    "    frameon=False,\n",
    "    add_outline=True,\n",
    "    sort_order = False,\n",
    "    vmin=0\n",
    ")"
   ]
  },
  {
   "cell_type": "markdown",
   "id": "00fdc599",
   "metadata": {},
   "source": [
    "### Michelson et al., 2022"
   ]
  },
  {
   "cell_type": "code",
   "execution_count": null,
   "id": "46111d3f",
   "metadata": {},
   "outputs": [],
   "source": [
    "per_cTEC = ['Prss16',\t'Ctsl',\t'Fabp5',\t'Cxcl12',\t'Cstb',\t'Pltp',\t'Psmb11',\t'Hes6',\t'Pax1',\t'Crip3',\t'Castor1',\t'Nqo1',\t'Mdk',\t'1810058I24Rik',\t'Ndufa11',\t'Kcnk2']\n",
    "adult_cTEC = ['Prss16',\t'Tbata',\t'Ccl25',\t'Ctsl',\t'Psmb11',\t'Cxcl12',\t'Fxyd2',\t'Cstb',\t'Crip3',\t'Ly75',\t'Isg20',\t'Tmem131l',\t'Prxl2b',\t'Synm',\t'Pax1',\t'Cd83',\t'Pltp',\t'Ndrg3',\t'Fn1',\t'Gas6',\t'Sgpl1']\n",
    "transit_ampl = ['Hmgb2',\t'H2az1',\t'Stmn1',\t'Ran',\t'Mki67',\t'Cenpf',\t'Cks2',\t'Hist1h2ap',\t'Top2a']\n",
    "immature = ['Rgs5',\t'Ccl21a',\t'Fcgbp',\t'Tagln',\t'Col6a1',\t'Krt14',\t'Gm8113',\t'Lifr',\t'Krt5',\t'Flna']\n",
    "aire = ['S100a14',\t'Cd52',\t'Cyba',\t'Srgn',\t'H2-Ab1',\t'H2-Aa',\t'H2-Eb1',\t'Ubd',\t'Cd74',\t'Aire',\t'Ifi30',\t'Hdc',\t'Calcb',\t'Csn2',\t'Cxcl9',\t'S100a8',\t'Ccl5',\t'Lyz2',\t'S100a9',\t'Nts',\t'Pyy']\n",
    "enteropato = ['Reg3g',\t'Lypd8',\t'Spink1',\t'Saa3',\t'Prap1',\t'Muc13',\t'Pigr',\t'Lgals4',\t'Saa1',\t'AW112010',\t'Cd52',\t'2210407C18Rik',\t'Ttr',\t'Apoc3',\t'Aldob',\t'Apoa4',\t'Klk1b26',\t'S100g',\t'Reg3b',\t'Fabp9',\t'Apoa1',\t'Tff3',\t'Reg1',\t'Clca1']\n",
    "microfold = ['Ccl20',\t'Pglyrp1',\t'Serpinb6a',\t'Hamp',\t'Ccl6',\t'Serpinb1a',\t'Ccl9',\t'Wfdc17',\t'Lyz1',\t'Rnase1',\t'Fabp1',\t'Gp2',\t'Tnfaip2',\t'Msln',\t'Cyp2a5',\t'Wfdc18',\t'Csn2',\t'2200002D01Rik',\t'Reg3g',\t'Ctsh',\t'Prg2',\t'Gucy1b2',\t'Tnfrsf11b',\t'Cr2',\t'Gjb2',\t'Clu',\t'Bcl2a1b',\t'AW112010',\t'H2-M2',\t'Fabp5',\t'Apoa1',\t'Tmsb4x',\t'Krt20',\t'Spink4',\t'Apoa4',\t'Nostrin',\t'Gpx1',\t'Anxa5',\t'Spib',\t'Plb1',\t'Abca13',\t'Gm50069',\t'Sncg',\t'Sox8',\t'Bcl2a1a',\t'Iapp',\t'Bcl2a1d',\t'Atp6v1c1',\t'Ubd']\n",
    "neuroendocrine = ['Clca3b',\t'Klk1',\t'Cd177',\t'Resp18',\t'Chgb',\t'Cacna2d1',\t'Chga',\t'Ceacam10',\t'Rbp4',\t'Cd9',\t'Iglc3',\t'Iapp',\t'Ghrl',\t'Fam183b',\t'Scg2',\t'Scg5',\t'Itln1',\t'Krt7',\t'Insm1',\t'Fmo3',\t'Fmo2',\t'Cplx2',\t'AW112010']\n",
    "ptf1a_pancreatic = ['Prss2',\t'Clps',\t'Spink1',\t'Klk1',\t'Ptf1a',\t'Chga',\t'AW112010',\t'Try5',\t'Nupr1',\t'Reg3g',\t'Fetub',\t'Pigr',\t'Car8',\t'Ceacam10']\n",
    "muscle = ['Cdkn1c',\t'Meg3',\t'Mylpf',\t'Acta1',\t'Myog',\t'Myl1',\t'Actc1',\t'Sln',\t'Ckb',\t'Ckm',\t'Ttn',\t'C430049B03Rik',\t'Spg21',\t'Mymx',\t'Ppp1r14b',\t'Dlk1',\t'Neb',\t'5430431A17Rik',\t'Hes6',\t'Rian',\t'Tnnc2',\t'Des',\t'Lsm6',\t'Arl6ip5',\t'Rbm24']\n",
    "tuft1 = ['Fyb',\t'Dclk1',\t'Ptpn18',\t'Atp1a2',\t'Sh2d6',\t'Plcb2',\t'Nrgn',\t'Trpm5',\t'Agt',\t'Ahnak2',\t'Ly6g6f']\n",
    "tuft2 = ['Gnat3',\t'Gnb3',\t'Plac8',\t'Gng13',\t'Lrmp',\t'Rgs13',\t'Cited2',\t'Krt19',\t'Ethe1',\t'Fxyd6',\t'Cystm1']\n",
    "goblet = ['Ltf',\t'Wfdc2',\t'Gsto1',\t'Ecm1',\t'Bpifa1',\t'Anxa1',\t'Lcn2',\t'Nupr1',\t'Trf',\t'Gsta4',\t'Serpinb11',\t'Pigr',\t'Ly6d',\t'Scgb3a2',\t'Spink5',\t'Ifitm1',\t'Cxcl17',\t'Serpinb2',\t'Psca',\t'Ly6a',\t'Krt6a',\t'Krt6b',\t'Prss27',\t'Scgb3a1',\t'Hspb1',\t'S100a6',\t'Sftpd',\t'Cxcl5',\t'Cyp2f2',\t'Sat1',\t'Fxyd3',\t'Cbr2',\t'Clu',\t'Aqp4',\t'Cnfn',\t'Rptn',\t'Plet1',\t'Lgals3']"
   ]
  },
  {
   "cell_type": "code",
   "execution_count": null,
   "id": "01915bba",
   "metadata": {},
   "outputs": [],
   "source": [
    "sc.tl.score_genes(TEC_d0, per_cTEC, score_name='per_cTEC', use_raw=False)\n",
    "sc.tl.score_genes(TEC_d0, adult_cTEC, score_name='adult_cTEC', use_raw=False)\n",
    "sc.tl.score_genes(TEC_d0, transit_ampl, score_name='transit_ampl', use_raw=False)\n",
    "sc.tl.score_genes(TEC_d0, immature, score_name='immature', use_raw=False)\n",
    "sc.tl.score_genes(TEC_d0, aire, score_name='aire', use_raw=False)\n",
    "sc.tl.score_genes(TEC_d0, enteropato, score_name='enteropato', use_raw=False)\n",
    "sc.tl.score_genes(TEC_d0, microfold, score_name='microfold', use_raw=False)\n",
    "sc.tl.score_genes(TEC_d0, neuroendocrine, score_name='neuroendocrine', use_raw=False)\n",
    "sc.tl.score_genes(TEC_d0, ptf1a_pancreatic, score_name='ptf1a_pancreatic', use_raw=False)\n",
    "sc.tl.score_genes(TEC_d0, muscle, score_name='muscle', use_raw=False)\n",
    "sc.tl.score_genes(TEC_d0, tuft1, score_name='tuft1', use_raw=False)\n",
    "sc.tl.score_genes(TEC_d0, tuft2, score_name='tuft2', use_raw=False)\n",
    "sc.tl.score_genes(TEC_d0, goblet, score_name='goblet', use_raw=False)"
   ]
  },
  {
   "cell_type": "code",
   "execution_count": null,
   "id": "9e34514f",
   "metadata": {},
   "outputs": [],
   "source": [
    "sc.set_figure_params(dpi=80, dpi_save=300, color_map='viridis', vector_friendly=True, transparent=True)\n",
    "\n",
    "sc.pl.umap(\n",
    "    TEC_d0, \n",
    "    color=['per_cTEC', 'adult_cTEC', 'transit_ampl', 'immature', 'aire', 'enteropato', 'microfold',\n",
    "           'neuroendocrine', 'ptf1a_pancreatic', 'muscle', 'tuft1', 'tuft2', 'goblet'], \n",
    "    palette=user_defined_palette,  \n",
    "    color_map='Spectral_r', \n",
    "    use_raw=False,\n",
    "    ncols=4,\n",
    "    wspace = 0.1,\n",
    "    outline_width=[0.6, 0.05],\n",
    "    size=15,\n",
    "    frameon=False,\n",
    "    add_outline=True,\n",
    "    sort_order = False,\n",
    "    vmin=0\n",
    ")"
   ]
  },
  {
   "cell_type": "markdown",
   "id": "d47dc1bd",
   "metadata": {},
   "source": [
    "### TECs clustering and annotation"
   ]
  },
  {
   "cell_type": "code",
   "execution_count": null,
   "id": "cc61a72e",
   "metadata": {},
   "outputs": [],
   "source": [
    "for resolution_parameter in [0.1, 0.2, 0.3, 0.4, 0.5, 0.6, 0.7, 0.8, 0.9, 1.0]:\n",
    "    sc.tl.leiden(TEC_d0, resolution=resolution_parameter, random_state=42, \n",
    "                        key_added='leiden_'+str(resolution_parameter))"
   ]
  },
  {
   "cell_type": "code",
   "execution_count": null,
   "id": "8087a2e2",
   "metadata": {},
   "outputs": [],
   "source": [
    "sc.set_figure_params(dpi=80, dpi_save=300, color_map='viridis', vector_friendly=False, transparent=True)\n",
    "sc.pl.umap(\n",
    "    TEC_d0, \n",
    "    color=['leiden_0.1', 'leiden_0.2', 'leiden_0.3', 'leiden_0.4', 'leiden_0.5', \n",
    "           'leiden_0.6', 'leiden_0.7', 'leiden_0.8','leiden_0.9', 'leiden_1.0'], \n",
    "    palette=user_defined_palette,  \n",
    "    color_map='Spectral_r', \n",
    "    use_raw=False,\n",
    "    ncols=5,\n",
    "    wspace = 0.7,\n",
    "    outline_width=[0.6, 0.05],\n",
    "    frameon=False,\n",
    "    add_outline=True,\n",
    "    sort_order = False\n",
    ")"
   ]
  },
  {
   "cell_type": "code",
   "execution_count": null,
   "id": "6ce8a9b8",
   "metadata": {},
   "outputs": [],
   "source": [
    "sc.set_figure_params(dpi=80, dpi_save=300, color_map='viridis', vector_friendly=True, transparent=True)\n",
    "sc.pl.umap(\n",
    "    TEC_d0, \n",
    "    color=['leiden_1.0'], \n",
    "    palette=user_defined_palette,  \n",
    "    color_map='Spectral_r', \n",
    "    use_raw=False,\n",
    "    ncols=6,\n",
    "    size=15,\n",
    "    wspace = 0.2,\n",
    "    outline_width=[0.6, 0.05],\n",
    "    frameon=False,\n",
    "    add_outline=True,\n",
    "    sort_order = False\n",
    ")"
   ]
  },
  {
   "cell_type": "code",
   "execution_count": null,
   "id": "8f18b921",
   "metadata": {},
   "outputs": [],
   "source": [
    "TEC_d0.obs['cell_type_subset'] = ['11:aaTEC2' if (x=='11') else '10:aaTEC1' if (x=='4' or x=='10') else\n",
    "                                 '12:cTEC' if (x=='8') else '13:mTEC1' if (x=='0' or x=='5' or x=='7') else \n",
    "                                 '14:mTEC-prol' if x=='9' else '15:mTEC2' if (x=='1' or x=='2' or x=='3') else\n",
    "                                 '16:mTEC3' if ( x=='13') else '17:mimic(tuft)' if x=='6' else '18:mimic(neuroendo)' if x=='12' else\n",
    "                                 '19:mimic(goblet)' if x=='14' else '20:mimic(microfold)' if x=='15' else 'ERROR' for x in TEC_d0.obs['leiden_1.0']] "
   ]
  },
  {
   "cell_type": "code",
   "execution_count": null,
   "id": "7f782193",
   "metadata": {},
   "outputs": [],
   "source": [
    "TEC_d0.uns['cell_type_subset_colors'] = [ '#2ED9FF', '#c1c119', '#8b0000', '#FE00FA', \"#F8A19F\", '#1CBE4F','#B5EFB5',  '#AA0DFE','#FEAF16', '#325A9B', '#C075A6']"
   ]
  },
  {
   "cell_type": "code",
   "execution_count": null,
   "id": "dc9e1e9b",
   "metadata": {},
   "outputs": [],
   "source": [
    "sc.set_figure_params(dpi=80, dpi_save=300, color_map='viridis', vector_friendly=True, transparent=True)\n",
    "\n",
    "sc.pl.umap(\n",
    "    TEC_d0, \n",
    "    color=['cell_type_subset', 'stage', 'day', 'sample'], \n",
    "    ncols=6,\n",
    "    use_raw=False,\n",
    "    outline_width=[0.6, 0.05],\n",
    "    frameon=False,\n",
    "    cmap='Spectral_r',\n",
    "    wspace = 0.5,\n",
    "    add_outline=True\n",
    ")"
   ]
  },
  {
   "cell_type": "code",
   "execution_count": null,
   "id": "233643a2",
   "metadata": {},
   "outputs": [],
   "source": [
    "sc.pl.umap(TEC_d0, color=['Krt8', 'Krt5', 'Krt14'], \n",
    "                     color_map='Spectral_r',\n",
    "                     use_raw=False, \n",
    "                     ncols=5, \n",
    "                     wspace = 0.2,\n",
    "                     outline_width=[0.6, 0.05], \n",
    "                     size=15,  \n",
    "                     frameon=False, \n",
    "                     add_outline=True, \n",
    "                     sort_order = False)"
   ]
  },
  {
   "cell_type": "code",
   "execution_count": null,
   "id": "f164e957",
   "metadata": {},
   "outputs": [],
   "source": [
    "markers =['Epcam', 'H2-Aa', 'Cd74', 'Ccl21a', 'Krt8',  'Krt18', 'Krt5', 'Krt14',  'Foxn1', 'Aire', 'Ikbkb', 'Chuk']"
   ]
  },
  {
   "cell_type": "code",
   "execution_count": null,
   "id": "d91a73e6",
   "metadata": {},
   "outputs": [],
   "source": [
    "subset_order = [ '12:cTEC', '13:mTEC1', '14:mTEC-prol', '15:mTEC2', '16:mTEC3', '17:mimic(tuft)', '18:mimic(neuroendo)', '19:mimic(goblet)', '20:mimic(microfold)', '10:aaTEC1', '11:aaTEC2']\n"
   ]
  },
  {
   "cell_type": "code",
   "execution_count": null,
   "id": "bb5fd8f9",
   "metadata": {},
   "outputs": [],
   "source": [
    "axes = sc.pl.dotplot(TEC_d0[(TEC_d0.obs['stage']=='18mo')], markers, groupby='cell_type_subset',  categories_order=subset_order, standard_scale='var', cmap='Reds', swap_axes=True)"
   ]
  },
  {
   "cell_type": "code",
   "execution_count": null,
   "id": "faa96a30",
   "metadata": {},
   "outputs": [],
   "source": [
    "markers = ['Fgfr1', 'Fgfr2','Bmpr1a',  'Bmpr2',  'Bmpr1b', 'Egfr', 'Ltbr', 'Tnfrsf11a','Lrp1',  'Cdh11',  'Cadm1',  'Cd44',  'Sdc4',  'Itgav', 'Itgb1']"
   ]
  },
  {
   "cell_type": "code",
   "execution_count": null,
   "id": "555806c6",
   "metadata": {},
   "outputs": [],
   "source": [
    "axes = sc.pl.dotplot(TEC_d0[(TEC_d0.obs['stage']=='18mo')], markers, groupby='cell_type_subset',  categories_order=subset_order, vmax=2, cmap='Reds', swap_axes=True)"
   ]
  },
  {
   "cell_type": "code",
   "execution_count": null,
   "id": "5bb66e40",
   "metadata": {},
   "outputs": [],
   "source": [
    "crosstb_TEC = pd.crosstab(TEC_d0.obs['stage'], TEC_d0.obs['cell_type_subset'], normalize='index')\n",
    "diffcrosstb_TEC = ((crosstb_TEC.loc[\"18mo\"] - crosstb_TEC.loc[\"02mo\"]) / (crosstb_TEC.loc[\"18mo\"] + crosstb_TEC.loc[\"02mo\"]))*100\n",
    "crosstb_TEC "
   ]
  },
  {
   "cell_type": "code",
   "execution_count": null,
   "id": "dd671632",
   "metadata": {},
   "outputs": [],
   "source": [
    "crosstb_FB = pd.crosstab(FB_d0_nofat.obs['stage'], FB_d0_nofat.obs['cell_type_subset'], normalize='index')\n",
    "diffcrosstb_FB = ((crosstb_FB.loc[\"18mo\"] - crosstb_FB.loc[\"02mo\"]) / (crosstb_FB.loc[\"18mo\"] + crosstb_FB.loc[\"02mo\"]))*100\n",
    "crosstb_FB"
   ]
  },
  {
   "cell_type": "code",
   "execution_count": null,
   "id": "3b7bb43d",
   "metadata": {},
   "outputs": [],
   "source": [
    "crosstb_EC = pd.crosstab(EC_d0.obs['stage'], EC_d0.obs['cell_type_subset'],  normalize='index')\n",
    "diffcrosstb_EC = ((crosstb_EC.loc[\"18mo\"] - crosstb_EC.loc[\"02mo\"]) / (crosstb_EC.loc[\"18mo\"] + crosstb_EC.loc[\"02mo\"]))*100\n",
    "crosstb_EC"
   ]
  },
  {
   "cell_type": "code",
   "execution_count": null,
   "id": "681ae2b3",
   "metadata": {},
   "outputs": [],
   "source": [
    "diffcrosstb = pd.concat([diffcrosstb_EC, diffcrosstb_FB,  diffcrosstb_TEC])"
   ]
  },
  {
   "cell_type": "code",
   "execution_count": null,
   "id": "66128d0d",
   "metadata": {},
   "outputs": [],
   "source": [
    "subset_palette = ['#2ED9FF', '#c1c119', '#8b0000', '#FE00FA',  '#1CFFCE', '#325A9B', '#3283FE', '#FEAF16', '#3B00FB', '#F6222E', '#16FF32', '#BDCDFF',  '#C075A6',  '#AA0DFE', \"#F8A19F\", '#1CBE4F','#B5EFB5'][::-1]\n",
    "with rc_context({'figure.figsize': (3, 7)}):\n",
    "    ax = diffcrosstb.sort_values(ascending=True).plot(kind=\"barh\", stacked=True, edgecolor = \"black\", color=subset_palette)\n",
    "    ax.grid(False)\n",
    "    ax.add_artist(lines.Line2D([0,0], [0,100], color='black',  lw=1,  ls='--'))\n",
    "    ax.plot(legend=None)\n",
    "    #plt.savefig('proportions.pdf')"
   ]
  },
  {
   "cell_type": "markdown",
   "id": "2dc27fee",
   "metadata": {},
   "source": [
    "### Transfer annotation"
   ]
  },
  {
   "cell_type": "code",
   "execution_count": null,
   "id": "66e638ff",
   "metadata": {},
   "outputs": [],
   "source": [
    "annotated_subsets = pd.concat([EC_d0.obs['cell_type_subset'], FB_d0.obs['cell_type_subset'],  TEC_d0.obs['cell_type_subset'], adata_d0[(adata_d0.obs['cell_type']=='6:MEC') | (adata_d0.obs['cell_type']=='7:vSMC/PC') | (adata_d0.obs['cell_type']=='8:nmSC')].obs['cell_type']])"
   ]
  },
  {
   "cell_type": "code",
   "execution_count": null,
   "id": "49b43e4a",
   "metadata": {},
   "outputs": [],
   "source": [
    "adata_d0.obs['cell_type_subset']=''"
   ]
  },
  {
   "cell_type": "code",
   "execution_count": null,
   "id": "c6ad5f00",
   "metadata": {},
   "outputs": [],
   "source": [
    "adata_d0.obs['cell_type_subset'][adata_d0.obs.index.isin(annotated_subsets.index) == True] = annotated_subsets"
   ]
  },
  {
   "cell_type": "code",
   "execution_count": null,
   "id": "1554f50c",
   "metadata": {},
   "outputs": [],
   "source": [
    "sc.pl.umap(adata_d0, color=['cell_type', 'stage', 'day'], \n",
    "                     color_map='Spectral_r',\n",
    "                     use_raw=False, \n",
    "                     ncols=4, \n",
    "                     wspace = 0.3,\n",
    "                     outline_width=[0.6, 0.05], \n",
    "                     size=15,  \n",
    "                     frameon=False, \n",
    "                     add_outline=True, \n",
    "                     sort_order = False)"
   ]
  },
  {
   "cell_type": "code",
   "execution_count": null,
   "id": "f30c206d",
   "metadata": {},
   "outputs": [],
   "source": [
    "subset_palette =  ['#F6222E', '#3283FE', '#16FF32', '#BDCDFF', '#3B00FB', '#1CFFCE', '#d62728', '#19c9b3','#FFA5D2',   'grey', '#2ED9FF', '#c1c119', '#8b0000', '#FE00FA', \"#F8A19F\", '#1CBE4F','#B5EFB5',  '#AA0DFE','#FEAF16', '#325A9B', '#C075A6', 'black']\n",
    "\n",
    "sc.pl.umap(adata_d0, color=['cell_type_subset'], \n",
    "                     color_map='Spectral_r',\n",
    "                     palette=subset_palette,\n",
    "                     use_raw=False, \n",
    "                     ncols=4, \n",
    "                     wspace = 0.3,\n",
    "                     outline_width=[0.6, 0.05], \n",
    "                     size=15,  \n",
    "                     frameon=False, \n",
    "                     add_outline=True, \n",
    "                     sort_order = False)"
   ]
  },
  {
   "cell_type": "code",
   "execution_count": null,
   "id": "c9c8bae0",
   "metadata": {},
   "outputs": [],
   "source": [
    "path_to_h5ad = '../output/metadata/anndata_objects/Fig1_pt1_annotated.h5ad'"
   ]
  },
  {
   "cell_type": "code",
   "execution_count": null,
   "id": "47183944",
   "metadata": {},
   "outputs": [],
   "source": [
    "adata_d0.write(path_to_h5ad)"
   ]
  },
  {
   "cell_type": "code",
   "execution_count": null,
   "id": "ba361ad0",
   "metadata": {},
   "outputs": [],
   "source": [
    "adata_d0 = sc.read_h5ad(path_to_h5ad)\n",
    "adata_d0.uns['log1p'][\"base\"] = None"
   ]
  },
  {
   "cell_type": "markdown",
   "id": "5e0702ae",
   "metadata": {},
   "source": [
    "### EMT signature"
   ]
  },
  {
   "cell_type": "code",
   "execution_count": null,
   "id": "f63d2f8b",
   "metadata": {},
   "outputs": [],
   "source": [
    "adata_d0.obs['stage_and_subset'] = ''\n",
    "adata_d0.obs['stage_and_subset'] = adata_d0.obs[['stage', 'cell_type_subset']].agg('_'.join, axis=1)"
   ]
  },
  {
   "cell_type": "code",
   "execution_count": null,
   "id": "d1e3e0d1",
   "metadata": {},
   "outputs": [],
   "source": [
    "TEC_d0_emt = adata_d0[((adata_d0.obs['cell_type_subset']=='10:aaTEC1') |\n",
    "                        (adata_d0.obs['cell_type_subset']=='11:aaTEC2') |\n",
    "                        (adata_d0.obs['cell_type_subset']=='12:cTEC') |\n",
    "                        (adata_d0.obs['cell_type_subset']=='13:mTEC1') |\n",
    "                        (adata_d0.obs['cell_type_subset']=='5:medFB')) & (adata_d0.obs['stage']=='18mo')]"
   ]
  },
  {
   "cell_type": "code",
   "execution_count": null,
   "id": "c21e3dd8",
   "metadata": {},
   "outputs": [],
   "source": [
    "adata_d0_emt = adata_d0[((adata_d0.obs['cell_type']=='TEC')  |\n",
    "                        (adata_d0.obs['cell_type_subset']=='5:medFB')) & (adata_d0.obs['stage']=='18mo')]"
   ]
  },
  {
   "cell_type": "code",
   "execution_count": null,
   "id": "f32c5b04",
   "metadata": {},
   "outputs": [],
   "source": [
    "sc.pp.filter_genes(adata_d0_emt, min_cells=1)"
   ]
  },
  {
   "cell_type": "code",
   "execution_count": null,
   "id": "3149b7fe",
   "metadata": {},
   "outputs": [],
   "source": [
    "import magic"
   ]
  },
  {
   "cell_type": "code",
   "execution_count": null,
   "id": "51d2ec27",
   "metadata": {},
   "outputs": [],
   "source": [
    "emt_genes = pd.read_excel('../data/public/mmc2.xlsx')"
   ]
  },
  {
   "cell_type": "code",
   "execution_count": null,
   "id": "46fd212d",
   "metadata": {},
   "outputs": [],
   "source": [
    "emt_genes_common = adata_d0_emt.var.index & emt_genes.gene.values"
   ]
  },
  {
   "cell_type": "code",
   "execution_count": null,
   "id": "cbce858d",
   "metadata": {},
   "outputs": [],
   "source": [
    "magic_op = magic.MAGIC()"
   ]
  },
  {
   "cell_type": "code",
   "execution_count": null,
   "id": "85ae278c",
   "metadata": {},
   "outputs": [],
   "source": [
    "magic_op.set_params(knn=5, t=4)"
   ]
  },
  {
   "cell_type": "code",
   "execution_count": null,
   "id": "0176d492",
   "metadata": {},
   "outputs": [],
   "source": [
    "emt_genes = ['Epcam', 'Pax4', 'Egr1',\n",
    "             'Jun', 'Junb', 'Atf4', 'Sox4', 'Klf6', 'Cd44', 'Fn1', 'Tgm2', 'Foxc2', 'Prrx1', 'Pou5f1', 'Tcf4', 'Cdh1', 'Esrp1', 'Grhl2', 'Esrp2', 'Ovol1', 'Ovol2', 'Snai1', 'Rbfox2', 'Vim', 'Zeb2', 'Zeb1', 'Twist1','Cdh1', 'Zeb2', 'Vim', 'Spp1', 'Krt14', 'Ar', 'Sparc', 'Esrp1', 'Twist1', 'Trpm3','Cldn3',\t'Slc16a11',\t'Slc9a3r1','Isl1',\t'Cdk19',\t'Ptprd',\t'Taldo1',\t'BC006965', 'Aldoc',\t'Socs2',\t'Fam107a','Fbxo2',\t'Nedd4l',\t'Shank2','Kif19a',\t'Bmp6',\t'Id2',\t'Arl4c', 'Des',\t'Slc5a8',\t'Kcnk1',\t'Kirrel3',\t\t'Prxl2a',\t'Thsd4',\t'Rdh10',\t'Rhov',\t'Plet1',\t'Cited4',\t'Galm',\t'Rtl4',\t'Gna14',\t'Dclk2',\t'Nipal2',\n",
    "            'Gata6', 'Fap', 'Fn1', 'Gas1', 'Notch2', 'Pdgfra', 'Pdgfrb', 'Plin2', 'Ndrg2', 'Prrx1', 'Olfm2',\n",
    "                'Notch1', 'Notch3', 'Il6',  'Snai2', 'Spp1', 'Tgfb1', 'Tgfbr3', 'Thy1', 'Timp1', 'Timp3']"
   ]
  },
  {
   "cell_type": "code",
   "execution_count": null,
   "id": "b5be29d0",
   "metadata": {},
   "outputs": [],
   "source": [
    "adata_d0_emt_magic = magic_op.fit_transform(adata_d0_emt, genes=emt_genes_common)"
   ]
  },
  {
   "cell_type": "code",
   "execution_count": null,
   "id": "78926654",
   "metadata": {},
   "outputs": [],
   "source": [
    "adata_d0_emt_magic.obs['cdh1_time'] = pd.DataFrame(adata_d0_emt_magic.X, columns=adata_d0_emt_magic.var.index)['Cdh1'].values"
   ]
  },
  {
   "cell_type": "code",
   "execution_count": null,
   "id": "dce3006d",
   "metadata": {},
   "outputs": [],
   "source": [
    "adata_d0_emt_magic.obs['vim_time'] = pd.DataFrame(adata_d0_emt_magic.X, columns=adata_d0_emt_magic.var.index)['Vim'].values"
   ]
  },
  {
   "cell_type": "code",
   "execution_count": null,
   "id": "a7397bb5",
   "metadata": {},
   "outputs": [],
   "source": [
    "import scvelo as scv\n",
    "scv.set_figure_params(dpi=80, dpi_save=300, color_map='viridis', vector_friendly=True, transparent=True, format='pdf')"
   ]
  },
  {
   "cell_type": "code",
   "execution_count": null,
   "id": "c90416f9",
   "metadata": {},
   "outputs": [],
   "source": [
    "import random\n",
    "\n",
    "len(emt_genes_common)"
   ]
  },
  {
   "cell_type": "code",
   "execution_count": null,
   "id": "8015e280",
   "metadata": {},
   "outputs": [],
   "source": [
    "scv.pl.heatmap(adata_d0_emt_magic, var_names=random.sample(list(emt_genes_common), 2000), sortby='cdh1_time', color_map=user_defined_cmap_degs, col_color='cell_type_subset', n_convolve=100)#, save='vim-sorted_EMT_genes.pdf')"
   ]
  },
  {
   "cell_type": "code",
   "execution_count": null,
   "id": "c63f899d",
   "metadata": {},
   "outputs": [],
   "source": [
    "adata_d0_emt_magic.uns['cell_type_subset_colors'] = adata_d0_emt.uns['cell_type_subset_colors'] "
   ]
  },
  {
   "cell_type": "code",
   "execution_count": null,
   "id": "ede07db7",
   "metadata": {},
   "outputs": [],
   "source": [
    "sc.pl.scatter(adata_d0_emt_magic, x='Vim',  y='Cdh1', color='cell_type_subset', palette=adata_d0_emt.uns['cell_type_subset_colors'], projection='2d', size=100, color_map='inferno')#, save='_EMT_subset.pdf')\n"
   ]
  },
  {
   "cell_type": "code",
   "execution_count": null,
   "id": "2999d81b",
   "metadata": {},
   "outputs": [],
   "source": [
    "sc.pl.scatter(adata_d0_emt_magic, x='Vim',  y='Cdh1', color='Epcam', projection='2d', size=100, color_map='inferno',  save='_EMT_Epcam.pdf')\n",
    "sc.pl.scatter(adata_d0_emt_magic, x='Vim',  y='Cdh1', color='Esrp1', projection='2d', size=100, color_map='inferno',  save='_EMT_Esrp1.pdf')\n",
    "sc.pl.scatter(adata_d0_emt_magic, x='Vim',  y='Cdh1', color='Esrp2', projection='2d', size=100, color_map='inferno',  save='_EMT_Esrp2.pdf')\n",
    "sc.pl.scatter(adata_d0_emt_magic, x='Vim',  y='Cdh1', color='Spp1', projection='2d', size=100, color_map='inferno',  save='_EMT_Spp1.pdf')\n",
    "sc.pl.scatter(adata_d0_emt_magic, x='Vim',  y='Cdh1', color='Zeb2', projection='2d', size=100, color_map='inferno',  save='_EMT_Zeb2.pdf')\n",
    "sc.pl.scatter(adata_d0_emt_magic, x='Vim',  y='Cdh1', color='Grhl2', projection='2d', size=100, color_map='inferno', save='_EMT_Grhl2.pdf')\n",
    "sc.pl.scatter(adata_d0_emt_magic, x='Vim',  y='Cdh1', color='Ovol1', projection='2d', size=100, color_map='inferno', save='_EMT_Ovol1.pdf')\n",
    "sc.pl.scatter(adata_d0_emt_magic, x='Vim',  y='Cdh1', color='Ovol2', projection='2d', size=100, color_map='inferno', save='_EMT_Ovol2.pdf')\n",
    "sc.pl.scatter(adata_d0_emt_magic, x='Vim',  y='Cdh1', color='Rbfox2', projection='2d', size=100, color_map='inferno', save='_EMT_Rbfox2.pdf')\n",
    "sc.pl.scatter(adata_d0_emt_magic, x='Vim',  y='Cdh1', color='Plin2', projection='2d', size=100, color_map='inferno', save='_EMT_Plin2.pdf')\n",
    "sc.pl.scatter(adata_d0_emt_magic, x='Vim',  y='Cdh1', color='Ndrg2', projection='2d', size=100, color_map='inferno', save='_EMT_Ndrg2.pdf')\n",
    "sc.pl.scatter(adata_d0_emt_magic, x='Vim',  y='Cdh1', color='Prrx1', projection='2d', size=100, color_map='inferno', save='_EMT_Prrx1.pdf')\n",
    "sc.pl.scatter(adata_d0_emt_magic, x='Vim',  y='Cdh1', color='Olfm2', projection='2d', size=100, color_map='inferno', save='_EMT_Olfm2.pdf')\n",
    "sc.pl.scatter(adata_d0_emt_magic, x='Vim',  y='Cdh1', color='Notch1', projection='2d', size=100, color_map='inferno', save='_EMT_Notch1.pdf')\n",
    "sc.pl.scatter(adata_d0_emt_magic, x='Vim',  y='Cdh1', color='Notch3', projection='2d', size=100, color_map='inferno', save='_EMT_Notch3.pdf')\n",
    "sc.pl.scatter(adata_d0_emt_magic, x='Vim',  y='Cdh1', color='Tgfbr3', projection='2d', size=100, color_map='inferno', save='_EMT_Tgfbr3.pdf')\n",
    "sc.pl.scatter(adata_d0_emt_magic, x='Vim',  y='Cdh1', color='Zeb1', projection='2d', size=100, color_map='inferno', save='_EMT_Zeb1.pdf')\n",
    "sc.pl.scatter(adata_d0_emt_magic, x='Vim',  y='Cdh1', color='Il6', projection='2d', size=100, color_map='inferno', save='_EMT_Il6.pdf')\n",
    "sc.pl.scatter(adata_d0_emt_magic, x='Vim',  y='Cdh1', color='Snai1', projection='2d', size=100, color_map='inferno', save='_EMT_Snai1.pdf')\n",
    "sc.pl.scatter(adata_d0_emt_magic, x='Vim',  y='Cdh1', color='Snai2', projection='2d', size=100, color_map='inferno', save='_EMT_Snai2.pdf')\n",
    "sc.pl.scatter(adata_d0_emt_magic, x='Vim',  y='Cdh1', color='Thy1', projection='2d', size=100, color_map='inferno', save='_EMT_Thy1.pdf')\n",
    "sc.pl.scatter(adata_d0_emt_magic, x='Vim',  y='Cdh1', color='Tgfb1', projection='2d', size=100, color_map='inferno', save='_EMT_Tgfb1.pdf')\n",
    "sc.pl.scatter(adata_d0_emt_magic, x='Vim',  y='Cdh1', color='Twist1', projection='2d', size=100, color_map='inferno', save='_EMT_Twist1.pdf')\n",
    "sc.pl.scatter(adata_d0_emt_magic, x='Vim',  y='Cdh1', color='Des', projection='2d', size=100, color_map='inferno', save='_EMT_Des.pdf')\n",
    "sc.pl.scatter(adata_d0_emt_magic, x='Vim',  y='Cdh1', color='Pdgfra', projection='2d', size=100, color_map='inferno', save='_EMT_Pdgfra.pdf')"
   ]
  },
  {
   "cell_type": "markdown",
   "id": "9cfc3185",
   "metadata": {},
   "source": [
    "### Save average expression per gene, per group"
   ]
  },
  {
   "cell_type": "code",
   "execution_count": null,
   "id": "7d301402",
   "metadata": {},
   "outputs": [],
   "source": [
    "adata_d0.obs['stage_and_subset'] = ''\n",
    "adata_d0.obs['stage_and_subset'] = adata_d0.obs[['stage', 'cell_type_subset']].agg('_'.join, axis=1)"
   ]
  },
  {
   "cell_type": "code",
   "execution_count": null,
   "id": "2d6905d3",
   "metadata": {},
   "outputs": [],
   "source": [
    "def grouped_obs_mean(adata, group_key, layer=None, gene_symbols=None):\n",
    "    if layer is not None:\n",
    "        getX = lambda x: x.layers[layer]\n",
    "    else:\n",
    "        getX = lambda x: x.X\n",
    "    if gene_symbols is not None:\n",
    "        new_idx = adata.var[idx]\n",
    "    else:\n",
    "        new_idx = adata.var_names\n",
    "\n",
    "    grouped = adata.obs.groupby(group_key)\n",
    "    out = pd.DataFrame(\n",
    "        np.zeros((adata.shape[1], len(grouped)), dtype=np.float64),\n",
    "        columns=list(grouped.groups.keys()),\n",
    "        index=adata.var_names\n",
    "    )\n",
    "\n",
    "    for group, idx in grouped.indices.items():\n",
    "        X = getX(adata[idx])\n",
    "        out[group] = np.ravel(X.mean(axis=0, dtype=np.float64))\n",
    "    return out"
   ]
  },
  {
   "cell_type": "code",
   "execution_count": null,
   "id": "1fffeb50",
   "metadata": {},
   "outputs": [],
   "source": [
    "grouped_obs_mean(adata_d0, group_key='stage_and_subset').to_excel('adata_d0_exprs.xlsx', sheet_name='Sheet1')"
   ]
  },
  {
   "cell_type": "markdown",
   "id": "c1514fb2",
   "metadata": {},
   "source": [
    "## Include looms"
   ]
  },
  {
   "cell_type": "code",
   "execution_count": null,
   "id": "b4253b2b",
   "metadata": {},
   "outputs": [],
   "source": [
    "import scvelo as scv\n",
    "scv.set_figure_params(dpi=80, dpi_save=300, color_map='viridis', vector_friendly=True, transparent=True, format='pdf')"
   ]
  },
  {
   "cell_type": "code",
   "execution_count": null,
   "id": "1657666e",
   "metadata": {},
   "outputs": [],
   "source": [
    "from pathlib import Path\n",
    "\n",
    "ds_list = []\n",
    "\n",
    "loom_path = ['../data/10xGenomics/LJ078/LJ078-Baseline_1_1/cr-results/velocyto/cr-results.loom',\n",
    "             '../data/10xGenomics/LJ078/ECs/cr-results/velocyto/cr-results.loom',\n",
    "             '../data/10xGenomics/LJ078/LJ078-Baseline_1_2/cr-results/velocyto/cr-results.loom',\n",
    "             '../data/10xGenomics/LJ078/FBs/cr-results/velocyto/cr-results.loom',\n",
    "             '../data/10xGenomics/LJ129/LJ129_Baseline_CD45negative_b1/cr-results/velocyto/cr-results.loom',\n",
    "             '../data/10xGenomics/LJ129/LJ129_Baseline_CD45negative_b2/cr-results/velocyto/cr-results.loom',\n",
    "             '../data/10xGenomics/LJ129/LJ129_Baseline_EC/cr-results/velocyto/cr-results.loom',\n",
    "             '../data/10xGenomics/LJ129/LJ129_Baseline_FB/cr-results/velocyto/cr-results.loom'      \n",
    "            ]\n",
    "\n",
    "with loompy.new('loom_merged_d0.loom') as dsout:  # Create a new, empty, loom file\n",
    "    for f in loom_path:\n",
    "        with loompy.connect(f) as ds:\n",
    "            totals = ds.map([np.sum], axis=1)[0]\n",
    "            cells = np.where(totals > 0)[0] # Select the cells that passed QC (totals > 500)\n",
    "            ds_list.append(ds.shape[1])\n",
    "            for (ix, selection, view) in ds.scan(items=cells, axis=1):\n",
    "                dsout.add_columns(view.layers, col_attrs=view.ca, row_attrs=view.ra)"
   ]
  },
  {
   "cell_type": "code",
   "execution_count": null,
   "id": "15612d94",
   "metadata": {},
   "outputs": [],
   "source": [
    "ldata = scv.read('loom_merged_d0.loom')"
   ]
  },
  {
   "cell_type": "code",
   "execution_count": null,
   "id": "a45db2de",
   "metadata": {},
   "outputs": [],
   "source": [
    "ds_list = []\n",
    "\n",
    "loom_path = ['../data/10xGenomics/LJ078/LJ078-Baseline_1_1/cr-results/velocyto/cr-results.loom',\n",
    "             '../data/10xGenomics/LJ078/ECs/cr-results/velocyto/cr-results.loom',\n",
    "             '../data/10xGenomics/LJ078/LJ078-Baseline_1_2/cr-results/velocyto/cr-results.loom',\n",
    "             '../data/10xGenomics/LJ078/FBs/cr-results/velocyto/cr-results.loom',\n",
    "             '../data/10xGenomics/LJ129/LJ129_Baseline_CD45negative_b1/cr-results/velocyto/cr-results.loom',\n",
    "             '../data/10xGenomics/LJ129/LJ129_Baseline_CD45negative_b2/cr-results/velocyto/cr-results.loom',\n",
    "             '../data/10xGenomics/LJ129/LJ129_Baseline_EC/cr-results/velocyto/cr-results.loom',\n",
    "             '../data/10xGenomics/LJ129/LJ129_Baseline_FB/cr-results/velocyto/cr-results.loom'      \n",
    "            ]\n",
    "for f in loom_path:\n",
    "    with loompy.connect(f) as ds:\n",
    "        totals = ds.map([np.sum], axis=1)[0]\n",
    "        cells = np.where(totals > 0)[0] # Select the cells that passed QC (totals > 500)\n",
    "        ds_list.append(ds.shape[1])\n",
    "           "
   ]
  },
  {
   "cell_type": "code",
   "execution_count": null,
   "id": "23bbd3f7",
   "metadata": {},
   "outputs": [],
   "source": [
    "x = np.repeat(np.array([ '-1@mo02_CD45neg1_d0', '-1@mo02_EC_d0', '-1@mo02_CD45neg2_d0', '-1@mo02_FB_d0',\n",
    "                         '-1@mo18_CD45neg1_d0', '-1@mo18_CD45neg2_d0', '-1@mo18_EC_d0', '-1@mo18_FB_d0']), ds_list, axis=0)"
   ]
  },
  {
   "cell_type": "code",
   "execution_count": null,
   "id": "00b49796",
   "metadata": {},
   "outputs": [],
   "source": [
    "ldata.obs['name_match'] = x"
   ]
  },
  {
   "cell_type": "code",
   "execution_count": null,
   "id": "6e7a7e13",
   "metadata": {},
   "outputs": [],
   "source": [
    "start = ':'\n",
    "end = 'x'\n",
    "\n",
    "barcodes = []\n",
    "for loom_index in ldata.obs_names:\n",
    "    barcodes.append(str(loom_index[loom_index.find(start)+len(start):loom_index.rfind(end)]))\n",
    "ldata.obs['barcodes'] = barcodes"
   ]
  },
  {
   "cell_type": "code",
   "execution_count": null,
   "id": "29c7c8f3",
   "metadata": {},
   "outputs": [],
   "source": [
    "ldata.obs_names = ldata.obs[['barcodes','name_match']].agg(''.join, axis=1)"
   ]
  },
  {
   "cell_type": "code",
   "execution_count": null,
   "id": "65ea2f0f",
   "metadata": {},
   "outputs": [],
   "source": [
    "from collections import Counter\n",
    "[k for k, v in Counter(ldata.obs_names).items() if v > 1]"
   ]
  },
  {
   "cell_type": "code",
   "execution_count": null,
   "id": "3da2f0bd",
   "metadata": {},
   "outputs": [],
   "source": [
    "adata_d0_loom = scv.utils.merge(adata_d0, ldata)"
   ]
  },
  {
   "cell_type": "code",
   "execution_count": null,
   "id": "b2d02054",
   "metadata": {},
   "outputs": [],
   "source": [
    "adata_d0_loom.shape"
   ]
  },
  {
   "cell_type": "code",
   "execution_count": null,
   "id": "9f0e8fe8",
   "metadata": {},
   "outputs": [],
   "source": [
    "# Genes of interest: Ar, Grin2a, 'Notch3', 'Heyl', 'Trpm3', 'Csmd1', 'Aldoc', 'Kif19a', Bmp6, 'Bmp6', 'Bmp7', 'Tgfb1', 'Tgfb2', 'Ndrg2'"
   ]
  },
  {
   "cell_type": "markdown",
   "id": "f02c3808",
   "metadata": {},
   "source": [
    "### RNA velocity - only TECs"
   ]
  },
  {
   "cell_type": "code",
   "execution_count": null,
   "id": "9c0a65c5",
   "metadata": {},
   "outputs": [],
   "source": [
    "TEC_d0_loom_nomimics = adata_d0_loom[((adata_d0_loom.obs['cell_type_subset']=='10:aaTEC1') | (adata_d0_loom.obs['cell_type_subset']=='11:aaTEC2') | (adata_d0_loom.obs['cell_type_subset']=='12:cTEC') |\n",
    "                      (adata_d0_loom.obs['cell_type_subset']=='13:mTEC1') | (adata_d0_loom.obs['cell_type_subset']=='14:mTEC-prol') | (adata_d0_loom.obs['cell_type_subset']=='15:mTEC2') |\n",
    "                      (adata_d0_loom.obs['cell_type_subset']=='16:mTEC3'))] "
   ]
  },
  {
   "cell_type": "code",
   "execution_count": null,
   "id": "8d484c12",
   "metadata": {},
   "outputs": [],
   "source": [
    "# Remove columns with all 0s\n",
    "sc.pp.filter_genes(TEC_d0_loom_nomimics, min_cells=1)"
   ]
  },
  {
   "cell_type": "code",
   "execution_count": null,
   "id": "d9a50d2d",
   "metadata": {},
   "outputs": [],
   "source": [
    "TEC_d0_loom_nomimics.obs['distinct'] = ''\n",
    "TEC_d0_loom_nomimics.obs['distinct'] = TEC_d0_loom_nomimics.obs[['stage', 'cell_type_subset']].agg(' '.join, axis=1)"
   ]
  },
  {
   "cell_type": "code",
   "execution_count": null,
   "id": "b889a305",
   "metadata": {},
   "outputs": [],
   "source": [
    "sc.pp.highly_variable_genes(TEC_d0_loom_nomimics, n_top_genes=3500, n_bins=20, flavor='seurat', inplace=True)"
   ]
  },
  {
   "cell_type": "code",
   "execution_count": null,
   "id": "e89896ef",
   "metadata": {},
   "outputs": [],
   "source": [
    "rng = np.random.RandomState(42)\n",
    "sc.tl.pca(TEC_d0_loom_nomimics, n_comps=20, svd_solver='arpack', random_state=rng, use_highly_variable=True)"
   ]
  },
  {
   "cell_type": "code",
   "execution_count": null,
   "id": "60299efb",
   "metadata": {},
   "outputs": [],
   "source": [
    "sce.pp.harmony_integrate(TEC_d0_loom_nomimics, 'sample')"
   ]
  },
  {
   "cell_type": "code",
   "execution_count": null,
   "id": "33c1acb3",
   "metadata": {},
   "outputs": [],
   "source": [
    "sc.pp.neighbors(TEC_d0_loom_nomimics, n_neighbors=15, use_rep='X_pca_harmony')\n",
    "sc.tl.umap(TEC_d0_loom_nomimics)"
   ]
  },
  {
   "cell_type": "code",
   "execution_count": null,
   "id": "93bee4db",
   "metadata": {},
   "outputs": [],
   "source": [
    "scv.tl.velocity(TEC_d0_loom_nomimics, mode='stochastic')"
   ]
  },
  {
   "cell_type": "code",
   "execution_count": null,
   "id": "095ba717",
   "metadata": {},
   "outputs": [],
   "source": [
    "scv.tl.velocity_graph(TEC_d0_loom_nomimics)"
   ]
  },
  {
   "cell_type": "code",
   "execution_count": null,
   "id": "9708403d",
   "metadata": {},
   "outputs": [],
   "source": [
    "scv.pl.velocity_embedding_stream(TEC_d0_loom_nomimics, basis='umap')"
   ]
  },
  {
   "cell_type": "code",
   "execution_count": null,
   "id": "e18a3f2f",
   "metadata": {},
   "outputs": [],
   "source": [
    "# also scv.pl.velocity_embedding_grid\n",
    "scv.pl.velocity_embedding_stream(TEC_d0_loom_nomimics, basis='umap', color=['cell_type_subset'],alpha=0.7, legend_loc='right')"
   ]
  },
  {
   "cell_type": "code",
   "execution_count": null,
   "id": "811b0701",
   "metadata": {},
   "outputs": [],
   "source": [
    "TEC_d0_loom_nomimics.obs['distinct'] = ''\n",
    "TEC_d0_loom_nomimics.obs['distinct'] = TEC_d0_loom_nomimics.obs[['stage', 'cell_type_subset']].agg(' '.join, axis=1)"
   ]
  },
  {
   "cell_type": "code",
   "execution_count": null,
   "id": "8f09c4d5",
   "metadata": {},
   "outputs": [],
   "source": [
    "TEC_d0_loom_nomimics.uns['distinct_colors'] = ['#2ed9ff', '#c1c119', '#8b0000', '#fe00fa', '#f8a19f', '#1cbe4f', '#b5efb5',\n",
    "                                               '#2ed9ff', '#c1c119', '#8b0000', '#fe00fa', '#f8a19f', '#1cbe4f', '#b5efb5']"
   ]
  },
  {
   "cell_type": "code",
   "execution_count": null,
   "id": "ae56da6b",
   "metadata": {},
   "outputs": [],
   "source": [
    "scv.pl.velocity_embedding_stream(TEC_d0_loom_nomimics, basis='umap', groups=['02mo 10:aaTEC1', '02mo 11:aaTEC2', '02mo 12:cTEC', '02mo 13:mTEC1', '02mo 14:mTEC-prol', '02mo 15:mTEC2', '02mo 16:mTEC3'], color='distinct', size=100, alpha=0.7, legend_loc='right', save='02mo_bystage.svg')\n",
    "scv.pl.velocity_embedding_stream(TEC_d0_loom_nomimics, basis='umap', groups=['18mo 10:aaTEC1', '18mo 11:aaTEC2', '18mo 12:cTEC', '18mo 13:mTEC1', '18mo 14:mTEC-prol', '18mo 15:mTEC2', '18mo 16:mTEC3'], color='distinct', size=100, alpha=0.7, legend_loc='right', save='18mo_bystage.svg')\n"
   ]
  },
  {
   "cell_type": "markdown",
   "id": "fcd3ba2d",
   "metadata": {},
   "source": [
    "### Violin plots of markers for EC, FB, TEC with scanpy v1.4.6"
   ]
  },
  {
   "cell_type": "code",
   "execution_count": null,
   "id": "90b6f2ff",
   "metadata": {},
   "outputs": [],
   "source": [
    "#import sys\n",
    "#!{sys.executable} -m pip install scanpy==1.4.6"
   ]
  },
  {
   "cell_type": "code",
   "execution_count": null,
   "id": "7e912812",
   "metadata": {},
   "outputs": [],
   "source": [
    "import scanpy as sc\n",
    "import pandas as pd\n",
    "pd.set_option('display.max_rows', 200)\n",
    "\n",
    "sc.set_figure_params(dpi=80, dpi_save=300, color_map='Spectral_r', vector_friendly=True, transparent=True)\n",
    "sc.settings.verbosity = 3 # verbosity: errors (0), warnings (1), info (2), hints (3)\n",
    "sc.logging.print_versions()"
   ]
  },
  {
   "cell_type": "code",
   "execution_count": null,
   "id": "77e87ab3",
   "metadata": {},
   "outputs": [],
   "source": [
    "markers = ['Pdgfra',  'Epcam', 'H2-Aa',  'Pecam1', 'Cdh5',  'Nkain4', 'Upk3b', 'Acta2', 'Myl9', 'S100b']"
   ]
  },
  {
   "cell_type": "code",
   "execution_count": null,
   "id": "e665dbab",
   "metadata": {},
   "outputs": [],
   "source": [
    "axes = sc.pl.stacked_violin(adata_d0, markers, groupby='cell_type', palette=['#199919', '#aa40fc', '#ff7f0e',                                                                            '#d62728', '#19c9b3', '#FFA5D2'], standard_scale='var', cut=3, use_raw=False, figsize=(3,5), order = ['FB', 'TEC', 'EC', '6:MEC', '7:vSMC/PC', '8:nmSC'], swap_axes=True, save='_d0.pdf')"
   ]
  },
  {
   "cell_type": "code",
   "execution_count": null,
   "id": "8c3b3463",
   "metadata": {},
   "outputs": [],
   "source": [
    "EC_markers = ['Pecam1', 'Vwf', 'Vcam1', 'Glul', 'Cldn5', 'Aqp7', 'Car4', 'Kdr', 'Plvap',  'Selp', 'Bmp4']"
   ]
  },
  {
   "cell_type": "code",
   "execution_count": null,
   "id": "7ea637fd",
   "metadata": {},
   "outputs": [],
   "source": [
    "EC_d0 = adata_d0[adata_d0.obs['cell_type']=='EC']"
   ]
  },
  {
   "cell_type": "code",
   "execution_count": null,
   "id": "2d73e0ff",
   "metadata": {},
   "outputs": [],
   "source": [
    "axes = sc.pl.stacked_violin(adata_d0[adata_d0.obs['cell_type']=='EC'], EC_markers, groupby='cell_type_subset', palette=adata_d0[adata_d0.obs['cell_type']=='EC'].uns['cell_type_subset_colors'], standard_scale='var', cut=3, use_raw=False, figsize=(1.75,6), swap_axes=True, save='_EC.pdf')"
   ]
  },
  {
   "cell_type": "code",
   "execution_count": null,
   "id": "d91c357c",
   "metadata": {},
   "outputs": [],
   "source": [
    "FB_markers = ['Pdgfra', 'Dpp4', 'Fn1',  'Pi16', 'Gpx3', 'Ar', 'Atf3', 'Inmt', 'Bmp4', 'Ptn' , 'Postn']"
   ]
  },
  {
   "cell_type": "code",
   "execution_count": null,
   "id": "3cc074b6",
   "metadata": {},
   "outputs": [],
   "source": [
    "axes = sc.pl.stacked_violin(adata_d0[(adata_d0.obs['cell_type']=='FB') & (adata_d0.obs['cell_type_subset']!='9:Fat')], FB_markers, groupby='cell_type_subset', palette=adata_d0[(adata_d0.obs['cell_type']=='FB') & (adata_d0.obs['cell_type_subset']!='9:Fat')].uns['cell_type_subset_colors'], standard_scale='var', cut=3, use_raw=False, figsize=(1.75,6), swap_axes=True, save='_FB.pdf')"
   ]
  },
  {
   "cell_type": "code",
   "execution_count": null,
   "id": "75ee23a0",
   "metadata": {},
   "outputs": [],
   "source": [
    "TEC_markers =['Epcam', 'H2-Aa',  'Prss16', 'Ccl21a', 'Ccnd2', 'Aire', 'Ly6d',  'Wfdc2', 'Ccl20', 'Car8',  'Avil']"
   ]
  },
  {
   "cell_type": "code",
   "execution_count": null,
   "id": "09e709ab",
   "metadata": {},
   "outputs": [],
   "source": [
    "subset_order = ['12:cTEC','13:mTEC1', '14:mTEC-prol',   '15:mTEC2', '16:mTEC3', '19:mimic(goblet)', '20:mimic(microfold)', '18:mimic(neuroendo)', '17:mimic(tuft)',  '10:aaTEC1', '11:aaTEC2']"
   ]
  },
  {
   "cell_type": "code",
   "execution_count": null,
   "id": "b27255b6",
   "metadata": {},
   "outputs": [],
   "source": [
    "axes = sc.pl.stacked_violin(adata_d0[adata_d0.obs['cell_type']=='TEC'], TEC_markers, groupby='cell_type_subset', palette=[ '#8b0000', '#fe00fa', '#f8a19f', '#1cbe4f',\n",
    "       '#b5efb5','#325a9b','#c075a6', '#feaf16',  '#aa0dfe',  '#2ed9ff', '#c1c119'], standard_scale='var', cut=3, order=subset_order, use_raw=False, figsize=(6.4,6), swap_axes=True, save='_TEC.pdf')"
   ]
  },
  {
   "cell_type": "markdown",
   "id": "acbff9ed",
   "metadata": {},
   "source": [
    "## Differential expression analysis"
   ]
  },
  {
   "cell_type": "markdown",
   "id": "bb44be77",
   "metadata": {},
   "source": [
    "### Wilcoxon test"
   ]
  },
  {
   "cell_type": "markdown",
   "id": "d10663a1",
   "metadata": {},
   "source": [
    "### EC subset markers"
   ]
  },
  {
   "cell_type": "code",
   "execution_count": null,
   "id": "0cea7614",
   "metadata": {},
   "outputs": [],
   "source": [
    "sc.tl.rank_genes_groups(EC_d0, 'cell_type_subset', method='wilcoxon', use_raw=False)"
   ]
  },
  {
   "cell_type": "code",
   "execution_count": null,
   "id": "c2e76099",
   "metadata": {},
   "outputs": [],
   "source": [
    "writer = pd.ExcelWriter('EC_d0_wilcox.xlsx', engine='xlsxwriter')\n",
    "\n",
    "# top 5 differentially expressed genes for each cell type. Change number in brackets to get a more extended gene list\n",
    "result = EC_d0.uns['rank_genes_groups']\n",
    "groups = result['names'].dtype.names\n",
    "pd.DataFrame(\n",
    "    {group + '_' + key[:1]: result[key][group]\n",
    "    for group in groups for key in ['names', 'scores', 'logfoldchanges', 'pvals_adj']}).to_excel(writer)\n",
    "\n",
    "writer.save()"
   ]
  },
  {
   "cell_type": "markdown",
   "id": "40ae9df3",
   "metadata": {},
   "source": [
    "Using the plotting function below scanpy allows to visualize the results."
   ]
  },
  {
   "cell_type": "code",
   "execution_count": null,
   "id": "fecb88a6",
   "metadata": {},
   "outputs": [],
   "source": [
    "sc.pl.rank_genes_groups_dotplot(EC_d0, n_genes=20, standard_scale='var', cmap=user_defined_cmap_degs)"
   ]
  },
  {
   "cell_type": "markdown",
   "id": "988e31e1",
   "metadata": {},
   "source": [
    "### FB subset markers"
   ]
  },
  {
   "cell_type": "code",
   "execution_count": null,
   "id": "8e35bd5b",
   "metadata": {},
   "outputs": [],
   "source": [
    "sc.tl.rank_genes_groups(FB_d0_nofat, 'cell_type_subset', method='wilcoxon', use_raw=False)"
   ]
  },
  {
   "cell_type": "code",
   "execution_count": null,
   "id": "aed70f73",
   "metadata": {},
   "outputs": [],
   "source": [
    "writer = pd.ExcelWriter('FB_d0_wilcox.xlsx', engine='xlsxwriter')\n",
    "\n",
    "# top 5 differentially expressed genes for each cell type. Change number in brackets to get a more extended gene list\n",
    "result = FB_d0_nofat.uns['rank_genes_groups']\n",
    "groups = result['names'].dtype.names\n",
    "pd.DataFrame(\n",
    "    {group + '_' + key[:1]: result[key][group]\n",
    "    for group in groups for key in ['names', 'scores', 'logfoldchanges', 'pvals_adj']}).to_excel(writer)\n",
    "\n",
    "writer.save()"
   ]
  },
  {
   "cell_type": "markdown",
   "id": "0efcc759",
   "metadata": {},
   "source": [
    "Using the plotting function below scanpy allows to visualize the results."
   ]
  },
  {
   "cell_type": "code",
   "execution_count": null,
   "id": "c6fe5267",
   "metadata": {},
   "outputs": [],
   "source": [
    "sc.pl.rank_genes_groups_dotplot(FB_d0_nofat, n_genes=20, standard_scale='var', cmap=user_defined_cmap_degs)"
   ]
  },
  {
   "cell_type": "markdown",
   "id": "501dcf87",
   "metadata": {},
   "source": [
    "### TEC subset markers"
   ]
  },
  {
   "cell_type": "code",
   "execution_count": null,
   "id": "4ab07b24",
   "metadata": {},
   "outputs": [],
   "source": [
    "sc.tl.rank_genes_groups(TEC_d0, 'cell_type_subset', method='wilcoxon', use_raw=False)"
   ]
  },
  {
   "cell_type": "code",
   "execution_count": null,
   "id": "18b2429d",
   "metadata": {},
   "outputs": [],
   "source": [
    "writer = pd.ExcelWriter('TEC_d0_wilcox.xlsx', engine='xlsxwriter')\n",
    "\n",
    "# top 5 differentially expressed genes for each cell type. Change number in brackets to get a more extended gene list\n",
    "result = TEC_d0.uns['rank_genes_groups']\n",
    "groups = result['names'].dtype.names\n",
    "pd.DataFrame(\n",
    "    {group + '_' + key[:1]: result[key][group]\n",
    "    for group in groups for key in ['names', 'scores', 'logfoldchanges', 'pvals_adj']}).to_excel(writer)\n",
    "writer.save()"
   ]
  },
  {
   "cell_type": "markdown",
   "id": "ab295eb6",
   "metadata": {},
   "source": [
    "Using the plotting function below scanpy allows to visualize the results."
   ]
  },
  {
   "cell_type": "code",
   "execution_count": null,
   "id": "e4d64095",
   "metadata": {},
   "outputs": [],
   "source": [
    "sc.pl.rank_genes_groups_dotplot(TEC_d0, n_genes=20, standard_scale='var', cmap=user_defined_cmap_degs)"
   ]
  },
  {
   "cell_type": "markdown",
   "id": "da4a708c",
   "metadata": {},
   "source": [
    "### All subset markers"
   ]
  },
  {
   "cell_type": "code",
   "execution_count": null,
   "id": "5a6c2399",
   "metadata": {},
   "outputs": [],
   "source": [
    "sc.tl.rank_genes_groups(adata_d0, 'cell_type_subset', method='wilcoxon', use_raw=False)"
   ]
  },
  {
   "cell_type": "code",
   "execution_count": null,
   "id": "cd92a42e",
   "metadata": {},
   "outputs": [],
   "source": [
    "writer = pd.ExcelWriter('adata_d0_wilcox.xlsx', engine='xlsxwriter')\n",
    "\n",
    "# top 5 differentially expressed genes for each cell type. Change number in brackets to get a more extended gene list\n",
    "result = adata_d0.uns['rank_genes_groups']\n",
    "groups = result['names'].dtype.names\n",
    "pd.DataFrame(\n",
    "    {group + '_' + key[:1]: result[key][group]\n",
    "    for group in groups for key in ['names', 'scores', 'logfoldchanges', 'pvals_adj']}).to_excel(writer)\n",
    "\n",
    "writer.save()"
   ]
  },
  {
   "cell_type": "markdown",
   "id": "69014f04",
   "metadata": {},
   "source": [
    "Using the plotting function below scanpy allows to visualize the results."
   ]
  },
  {
   "cell_type": "code",
   "execution_count": null,
   "id": "7b9a524e",
   "metadata": {},
   "outputs": [],
   "source": [
    "sc.pl.rank_genes_groups_dotplot(adata_d0, n_genes=5, standard_scale='var', cmap=user_defined_cmap_degs)"
   ]
  },
  {
   "cell_type": "code",
   "execution_count": null,
   "id": "7d088990",
   "metadata": {},
   "outputs": [],
   "source": [
    "sc.pl.rank_genes_groups_dotplot(adata_d0, n_genes=25, vmax=5, cmap=user_defined_cmap_degs)"
   ]
  },
  {
   "cell_type": "code",
   "execution_count": null,
   "id": "372bc471",
   "metadata": {},
   "outputs": [],
   "source": [
    "artEC_sign = ['Tm4sf1',\t'Cldn5',\t'Ly6c1',\t'Ptprb',\t'Pecam1',\t'Egfl7',\t'Ptprm',\t'Flt1',\t'Cav1',\t'Epas1',\t'Mecom',\t'Fabp4',\t'Slc9a3r2',\t'Icam2',\t'Esam',\t'Sox17',\t'Cdh5',\t'Fbln5',\t'Id1',\t'Eng',\t'Cyyr1',\t'Ecscr',\t'Adgrf5',\t'Arhgap31',\t'Cst3',\t'Ly6e',\t'Podxl',\t'Plcb1',\t'Pdgfd',\t'Cd36',\t'Cd200',\t'Calm1',\t'Stmn2',\t'Prex2',\t'Klf2',\t'Serinc3',\t'Mmrn2',\t'Sema3g',\t'S1pr1',\t'Tspan13',\t'Cdh13',\t'Tinagl1',\t'Ldb2',\t'Arl15',\t'Cav2',\t'Crip2',\t'Gnai2',\t'Cavin2',\t'Atox1',\t'Hspb1']\n",
    "capEC_sign = ['Fabp4',\t'Gpihbp1',\t'Cd36',\t'Ly6c1',\t'Rgcc',\t'Egfl7',\t'Tmsb4x',\t'Flt1',\t'Mgll',\t'Pecam1',\t'Cav1',\t'Cd300lg',\t'Cavin2',\t'Cdh5',\t'Gng11',\t'Tspan13',\t'Esam',\t'Hspb1',\t'Emcn',\t'Adgrl4',\t'Cldn5',\t'Tcf15',\t'Calm1',\t'Ptprm',\t'Cyyr1',\t'Cd200',\t'Tm4sf1',\t'Ptprb',\t'Etl4',\t'Kdr',\t'Cav2',\t'Arhgap31',\t'Kank3',\t'Lims2',\t'Ctla2a',\t'Scarb1',\t'Ushbp1',\t'Gimap6',\t'C1qtnf9',\t'Eng',\t'Slc9a3r2',\t'Car4',\t'Fli1',\t'Id1',\t'Adgrf5',\t'Cdh13',\t'Aqp1',\t'Serinc3',\t'Nrp1',\t'Ablim3']\n",
    "venEC_sign = ['Aqp1',\t'Pecam1',\t'Plvap',\t'Ctla2a',\t'Egfl7',\t'Eng',\t'Fabp4',\t'Lrg1',\t'Ptprb',\t'Flt1',\t'Tspan7',\t'Tmsb4x',\t'Mmrn2',\t'Vwf',\t'Emcn',\t'Cdh5',\t'Mecom',\t'Il6st',\t'Ldb2',\t'Esam',\t'Fli1',\t'Gnai2',\t'Scarb1',\t'Gng11',\t'Prkch',\t'Ecscr',\t'Ablim1',\t'Cyyr1',\t'Epas1',\t'Adgrf5',\t'Gimap6',\t'Myh9',\t'Grrp1',\t'Cav1',\t'Selp',\t'Ptprm',\t'Ehd4',\t'Fry',\t'Abcg2',\t'Adgrl4',\t'Arhgap31',\t'Pdlim1',\t'Cd93',\t'Tm4sf1',\t'2200002D01Rik',\t'Ece1',\t'St6galnac3',\t'Ndrg1',\t'Cd200',\t'Cd36']\n",
    "capsFB_sign = ['Pi16',\t'Timp2',\t'Fn1',\t'Mfap5',\t'Clec3b',\t'Cd248',\t'Opcml',\t'Nid1',\t'Pcolce2',\t'Igfbp6',\t'Fbn1',\t'Tmem100',\t'Fndc1',\t'Ackr3',\t'Fstl1',\t'Ebf2',\t'Creb5',\t'Col14a1',\t'Sema3c',\t'Anxa3',\t'Pla1a',\t'Adgrd1',\t'Pcsk6',\t'Smpd3',\t'Dpt',\t'Ddr2',\t'Axl',\t'Tnxb',\t'Ogn',\t'Loxl1',\t'Dpp4',\t'Adamts5',\t'Islr',\t'Plpp3',\t'Scara5',\t'Ly6c1',\t'Lsp1',\t'Efhd1',\t'Cd34',\t'Gfpt2',\t'Tppp3',\t'Col1a1',\t'Sdk1',\t'Col3a1',\t'Rnase4',\t'Emilin2',\t'Metrnl',\t'Sparc',\t'Col1a2',\t'Tgfbr2']\n",
    "intFB_sign = ['Gsn',\t'Dcn',\t'Serpinf1',\t'Smoc2',\t'Lrp1',\t'Lum',\t'Htra3',\t'Pcolce',\t'Col3a1',\t'Gpx3',\t'Col1a2',\t'Abca8a',\t'Lpl',\t'Celf2',\t'Cygb',\t'Fbln1',\t'Selenop',\t'Slit3',\t'Gas1',\t'Col1a1',\t'Mmp2',\t'Dpep1',\t'Penk',\t'Col15a1',\t'Inmt',\t'Serpinh1',\t'Clec3b',\t'Rbp1',\t'Igfbp4',\t'Dpt',\t'Pdgfra',\t'Mgst1',\t'Igf1',\t'Ftl1',\t'Lama2',\t'Serping1',\t'Rnase4',\t'Il11ra1',\t'Mfap5',\t'Ogn',\t'Tmsb10',\t'Cd302',\t'Svep1',\t'Aebp1',\t'Bgn',\t'Plxdc2',\t'Nbl1',\t'Ifitm2',\t'Itm2a',\t'Adamts12']\n",
    "medFB_sign = ['Serpine2',\t'Bgn',\t'Csmd1',\t'Enpp2',\t'Ptn',\t'Apod',\t'Igfbp7',\t'Lhfp',\t'Lsamp',\t'Hsd11b1',\t'Ifitm1',\t'Ltc4s',\t'Ccl19',\t'Cd63',\t'Colec12',\t'Des',\t'Col15a1',\t'Mgp',\t'Ank2',\t'Sparcl1',\t'Cp',\t'Spon1',\t'Gpm6b',\t'Il34',\t'Tmem176a',\t'Tmem176b',\t'Apoe',\t'C3',\t'Ltbp1',\t'Lama2',\t'Cygb',\t'Tcf4',\t'Ndufa4l2',\t'Cd9',\t'Lum',\t'Col6a2',\t'Abi3bp',\t'Crispld2',\t'Dcn',\t'Laptm4a',\t'Ifitm2',\t'G0s2',\t'Jun',\t'Mfge8',\t'Cd302',\t'Il1r1',\t'Nrp1',\t'Pde7b',\t'Prelp',\t'Cd81']\n",
    "MEC_sign = ['Gpm6a',\t'Nkain4',\t'Upk3b',\t'Clu',\t'Gm12840',\t'Igfbp6',\t'Abi1',\t'Aebp1',\t'Trf',\t'Crip1',\t'Krt19',\t'Igfbp5',\t'Rspo1',\t'Wt1',\t'Mpp6',\t'Upk1b',\t'Rarres2',\t'Msln',\t'Il1rapl1',\t'Plxna4',\t'C2',\t'Efemp1',\t'Adamtsl1',\t'Sntg1',\t'Pkhd1l1',\t'Sox6',\t'Aldh1a2',\t'C4b',\t'Gpc3',\t'Kcnd2',\t'Lgals7',\t'Gas6',\t'Cldn15',\t'Lrrn4',\t'Mgp',\t'Hspb1',\t'Csrp2',\t'Cav1',\t'Bicd1',\t'Tmem151a',\t'Wdr17',\t'Cldn10',\t'Cavin2',\t'Efna5',\t'Ptgis',\t'Flrt2',\t'Ezr',\t'1010001N08Rik',\t'C3',\t'Muc16']\n",
    "PCvSMC_sign = ['Myl9',\t'Cald1',\t'Gm13889',\t'Tpm2',\t'Acta2',\t'Prkg1',\t'Tagln',\t'Tpm1',\t'Rgs5',\t'Ctnna3',\t'Tinagl1',\t'Cacna1c',\t'Crip1',\t'Myh11',\t'Notch3',\t'Mylk',\t'Dmd',\t'Myl6',\t'Sncg',\t'Mustn1',\t'Ndufa4l2',\t'Sparcl1',\t'Dgkb',\t'Gng11',\t'Kcnab1',\t'Ppp1r12a',\t'Higd1b',\t'Des',\t'Pde3a',\t'Pcp4l1',\t'Rcan2',\t'Bcam',\t'Calm2',\t'Gucy1a1',\t'Mef2c',\t'Ptp4a3',\t'Aspn',\t'Cacnb2',\t'Cpe',\t'Rgs4',\t'Igfbp7',\t'Csrp1',\t'Gucy1b1',\t'Lmod1',\t'Cox4i2',\t'Mfge8',\t'Timp3',\t'Tm4sf1',\t'Ppp1r14a',\t'Malat1']\n",
    "nmSC_sign = ['Csmd1',\t'Kcna1',\t'Fxyd1',\t'Plp1',\t'Dlgap1',\t'Prnp',\t'Cd9',\t'Gfra3',\t'Stard13',\t'Vwa1',\t'Cdh19',\t'Malat1',\t'Dbi',\t'Slc35f1',\t'Aspa',\t'Scn7a',\t'Cd59a',\t'Zeb2',\t'S100b',\t'Cadm2',\t'Matn2',\t'Nkain2',\t'Cryab',\t'Gpm6b',\t'Gpr37l1',\t'Art3',\t'Apoe',\t'Cnp',\t'Vim',\t'Sox10',\t'Zfp536',\t'Lgi4',\t'Nrn1',\t'Lgals3',\t'Sgcd',\t'Fcgr2b',\t'Ncam1',\t'Frmd4a',\t'Sat1',\t'Chl1',\t'Cadm1',\t'S100a6',\t'Prkca',\t'Gatm',\t'Fign',\t'Pmp22',\t'Kcna2',\t'Sfrp5',\t'Fgl2',\t'Csrp1']\n",
    "fat_sign = ['Mgst1',\t'Lpl',\t'Dbi',\t'Apoe',\t'Hp',\t'Car3',\t'Aoc3',\t'Mpc2',\t'Ndufa4',\t'G0s2',\t'Cebpa',\t'Fabp4',\t'Rarres2',\t'Rbp4',\t'Plin2',\t'Vim',\t'mt-Atp6',\t'mt-Co1',\t'mt-Co3',\t'mt-Nd1',\t'Angptl4',\t'Pparg',\t'Eif4ebp1',\t'Adam12',\t'Adipoq',\t'Ndufb9',\t'Cox7b',\t'Mmd',\t'Etfb',\t'Nnmt',\t'Slc1a5',\t'Slc24a3',\t'Gsn',\t'Selenbp1',\t'Fcor',\t'mt-Nd4',\t'Uqcr11',\t'Steap4',\t'Adhfe1',\t'mt-Cytb',\t'Arhgap24',\t'Prkar2b',\t'Chchd2',\t'Chpt1',\t'Plin1',\t'Atp5g3',\t'Hadh',\t'Zeb2',\t'Aldh2',\t'Col15a1']\n",
    "aaTEC1_sign = ['Krt18',\t'Epcam',\t'Trpm3',\t'Cd24a',\t'Wfdc18',\t'Krt8',\t'Spint2',\t'Ifi27l2a',\t'Meis2',\t'Cldn3',\t'Ly6e',\t'Slc16a11',\t'Slc9a3r1',\t'S100a11',\t'Btg1',\t'Perp',\t'Gsta4',\t'Isl1',\t'Fxyd3',\t'Pbx1',\t'Cdk19',\t'Ptprd',\t'mt-Co1',\t'Taldo1',\t'BC006965',\t'Apobec3',\t'S100a1',\t'Isg15',\t'Pde4b',\t'Oasl2',\t'Anxa2',\t'Aldoc',\t'Eya1',\t'Socs2',\t'Stat1',\t'Sdc4',\t'Rtp4',\t'2610307P16Rik',\t'Fam107a',\t'Mif',\t'mt-Co3',\t'Cdh1',\t'Cd74',\t'Atp1a1',\t'Fbxo2',\t'Nedd4l',\t'Shank2',\t'Eno1',\t'Marcksl1',\t'mt-Nd1']\n",
    "aaTEC2_sign = ['Csmd1',\t'Ndrg2',\t'Ccl19',\t'Trpm3',\t'Cd74',\t'Nav2',\t'Gadd45g',\t'H2-Ab1',\t'Atp1b1',\t'Pde4b',\t'Csrp1',\t'H2-Eb1',\t'Btg1',\t'Meis2',\t'Mir100hg',\t'Ccl21a',\t'Socs2',\t'Iigp1',\t'Tagln',\t'Socs3',\t'H2-Aa',\t'Kirrel3',\t'Ptprd',\t'Notch3',\t'Tagln2',\t'Heyl',\t'Gucy1a1',\t'Bcl2',\t'Gm48742',\t'Gpx3',\t'Eya4',\t'Cnn3',\t'Ncam1',\t'Art3',\t'Cd9',\t'Eya1',\t'Apoe',\t'Pbx1',\t'Ar',\t'Nhs',\t'Olfm2',\t'Cul1',\t'Fos',\t'Palld',\t'Phlda1',\t'Jmjd1c',\t'Sncaip',\t'Cacna1c',\t'Sdc4',\t'Arid5b']\n",
    "cTEC_sign = ['Krt18',\t'Cstb',\t'Krt8',\t'Ctsl',\t'Ank3',\t'Ndufa11',\t'Tbata',\t'H2-Ab1',\t'Slc46a2',\t'Prxl2b',\t'H2-Aa',\t'Prss16',\t'Cd74',\t'Gas6',\t'Fabp5',\t'Nlgn1',\t'Pax1',\t'H2-Eb1',\t'Pltp',\t'Ccl25',\t'Wnt4',\t'Tmem131l',\t'Rbfox1',\t'Psmb9',\t'Dpp6',\t'Shisa2',\t'AI646519',\t'Psmb11',\t'H2-DMa',\t'Bnip3l',\t'Krt5',\t'Sfn',\t'H2-DMb2',\t'Tsc22d1',\t'Snhg11',\t'Krt17',\t'Trp63',\t'Ctnnd2',\t'Nav2',\t'Atpif1',\t'Kctd1',\t'Ccl21a',\t'Sh2d4b',\t'Perp',\t'Tenm4',\t'Dsp',\t'Spint2',\t'Ociad2',\t'Ndrg3',\t'Apobec3']\n",
    "mTEC1_sign = ['H2-Ab1',\t'Krt5',\t'H2-Eb1',\t'H2-Aa',\t'Ifi27l2a',\t'Ank3',\t'Cd74',\t'Ccl21a',\t'Krt14',\t'Ifitm3',\t'Krt18',\t'Perp',\t'Fxyd3',\t'Eya4',\t'Epcam',\t'Spint2',\t'Isg15',\t'Oasl2',\t'Sfn',\t'Meis2',\t'Mif',\t'Krt17',\t'H2-DMa',\t'Atp1a1',\t'Rbfox1',\t'Ly6e',\t'Krt8',\t'Nxn',\t'Ctnnd2',\t'Rtp4',\t'Kcnma1',\t'H3f3b',\t'Apobec3',\t'Ptprd',\t'Pbx1',\t'Apoe',\t'Atp1b1',\t'Trp63',\t'Atpif1',\t'Gas6',\t'Eya1',\t'Urah',\t'Itga6',\t'Dsp',\t'H2-DMb1',\t'Marcksl1',\t'Csrp1',\t'Fcgbp',\t'B2m',\t'Cdh1']\n",
    "mTECprol_sign = ['Krt17',\t'Tpm2',\t'Ascl1',\t'Ccl21a',\t'Ptma',\t'Krt7',\t'Spint2',\t'Krt5',\t'Cd74',\t'Marcksl1',\t'H3f3b',\t'H2-Eb1',\t'Wfdc18',\t'Sox4',\t'H2-Aa',\t'H2-Ab1',\t'Hes6',\t'Epcam',\t'Ubd',\t'Skint10',\t'Krt8',\t'Krt14',\t'Tubb2b',\t'Pfn1',\t'Actg1',\t'Prxl2b',\t'Fcgbp',\t'Mapk13',\t'H2afy2',\t'Rgs5',\t'Mif',\t'Cd82',\t'Mdk',\t'H2-DMb2',\t'Gm49708',\t'Kcnq3',\t'Ppia',\t'Srgn',\t'Cdk4',\t'Adm',\t'Hagh',\t'Fezf2',\t'Hsp90ab1',\t'S100a14',\t'Hnrnpa1',\t'Cib1',\t'H2-Q7',\t'Ank3',\t'Perp',\t'Slc25a5']\n",
    "mTEC2_sign = ['Cd74',\t'Srgn',\t'Ubd',\t'H2-Aa',\t'H2-Eb1',\t'Syt1',\t'S100a14',\t'H2-Ab1',\t'H2-DMb2',\t'Cyba',\t'H2-Oa',\t'Mrpl38',\t'Lrrc42',\t'Marcksl1',\t'Hagh',\t'Fabp5',\t'Cd52',\t'Fezf2',\t'Aire',\t'Cib1',\t'Bspry',\t'Krt17',\t'Hspb11',\t'Plb1',\t'Krt8',\t'Fcgbp',\t'Cdx1',\t'Psme2',\t'Dpp10',\t'Dio1',\t'Spint2',\t'Ctss',\t'H2-Eb2',\t'Skint10',\t'Txn1',\t'Ankrd33b',\t'Tnfrsf11a',\t'Fam89a',\t'Syngr2',\t'Calcb',\t'Nfkbia',\t'Ndufc2',\t'Laptm5',\t'Utf1',\t'Cox17',\t'Il4i1',\t'Hdc',\t'Ing1',\t'Gm47938',\t'Csn2']\n",
    "mTEC3_sign = ['Ly6d',\t'Fxyd3',\t'Sfn',\t'Perp',\t'Dapl1',\t'Krt17',\t'Dsp',\t'Tacstd2',\t'Dmkn',\t'Skint3',\t'Spink5',\t'H2afj',\t'Dstn',\t'Epcam',\t'H2-K1',\t'Oit1',\t'Cdh1',\t'Cst6',\t'Gsta4',\t'Hspb1',\t'Fabp5',\t'Pdzk1ip1',\t'Cdkn2b',\t'Urah',\t'S100a14',\t'Cdkn2a',\t'H2-Q7',\t'Spint2',\t'Bcl2a1b',\t'Cldn4',\t'Atox1',\t'Vamp8',\t'Calml3',\t'Lypd3',\t'Avpi1',\t'Ldhb',\t'Rab11a',\t'Jup',\t'4833423E24Rik',\t'Prdx5',\t'Krt23',\t'Atp1b1',\t'Cdkn1a',\t'Serpinb2',\t'Fcgbp',\t'Rbm47',\t'Sdc1',\t'Trim29',\t'Gsta2',\t'Dgat2']\n",
    "tuft_sign = ['Mctp1',\t'Gng13',\t'Avil',\t'Rgs13',\t'Espn',\t'Cystm1',\t'Anxa4',\t'Lrmp',\t'Ptpn18',\t'Ivns1abp',\t'Bmx',\t'Fyb',\t'Calm2',\t'Ly6g6f',\t'Ethe1',\t'Reep5',\t'1810046K07Rik',\t'Smim22',\t'Ociad2',\t'Ptpn6',\t'Abhd2',\t'Cd24a',\t'Ehf',\t'Pde4d',\t'Chil1',\t'St18',\t'Dgki',\t'Pou2f3',\t'Pik3r5',\t'Trpm5',\t'Lima1',\t'Vav1',\t'Alox5ap',\t'Alox5',\t'Krt8',\t'Scand1',\t'Tnc',\t'Cox8a',\t'Oxr1',\t'Krt18',\t'H2afj',\t'Rab25',\t'Gpcpd1',\t'Strip2',\t'Cox17',\t'Sh2d6',\t'Rassf6',\t'Macrod2',\t'Cldn7',\t'Plk2']\n",
    "nTEC_sign = ['Ptprn2',\t'Cacna2d1',\t'Scg5',\t'Syt1',\t'Krt8',\t'Car8',\t'Stxbp5l',\t'Chga',\t'Ccser1',\t'Snap25',\t'Cystm1',\t'Krt7',\t'Smim22',\t'Cd9',\t'Alcam',\t'Krt18',\t'Dnajc12',\t'Pip5k1b',\t'Epcam',\t'Cldn7',\t'Syt7',\t'Kcnb2',\t'Insm1',\t'Cd24a',\t'Cdh1',\t'Cadps',\t'Ceacam10',\t'Resp18',\t'Tsc22d1',\t'Rims2',\t'Cacna1a',\t'Pcbd1',\t'Cacnb2',\t'Cplx2',\t'Fam183b',\t'Emb',\t'AC149090.1',\t'Rap1gap2',\t'Aopep',\t'Nol4',\t'Stard10',\t'Tmem163',\t'5330417C22Rik',\t'Pam',\t'Btg2',\t'Fhl2',\t'Spint2',\t'Actg1',\t'A230057D06Rik',\t'Guk1']\n",
    "goblet_sign = ['Wfdc2',\t'Fxyd3',\t'H2-K1',\t'Cyp2f2',\t'Spint2',\t'Atp1b1',\t'S100a11',\t'Gsto1',\t'Cxcl17',\t'Alcam',\t'Krt18',\t'Ly6e',\t'Ly6d',\t'Epcam',\t'Ifi27l2a',\t'Cbr2',\t'Sorbs2',\t'Smim22',\t'Pglyrp1',\t'H2-Q7',\t'Serpinb11',\t'Krt8',\t'Krt19',\t'Vamp8',\t'Slc12a2',\t'Cd24a',\t'Irf7',\t'Cldn3',\t'Slc16a11',\t'Gsta4',\t'Cldn7',\t'B2m',\t'Elf3',\t'Oasl2',\t'Tst',\t'Atp1a1',\t'Aqp5',\t'Sfn',\t'Cdh1',\t'Ezr',\t'Tspan8',\t'Tacstd2',\t'Perp',\t'Runx1',\t'Eya2',\t'Lmo7',\t'Cd74',\t'Rbm47',\t'Chchd10',\t'Bace2']\n",
    "Mlike_sign = ['Ccl20',\t'Ccl9',\t'Serpinb6a',\t'Serpinb1a',\t'Tmsb4x',\t'2200002D01Rik',\t'Nostrin',\t'Ubd',\t'Csn2',\t'Ctsh',\t'Pold1',\t'Bcl2a1d',\t'Spib',\t'Plb1',\t'Fabp5',\t'Marcksl1',\t'Ccl6',\t'Spint2',\t'Cyp2a5',\t'Clu',\t'Bcl2a1b',\t'Pglyrp1',\t'Fabp1',\t'Hamp',\t'AW112010',\t'Atox1',\t'H2-M2',\t'Atp6v1c1',\t'Bcl2a1a',\t'Krt20',\t'Gjb2',\t'Epcam',\t'Iscu',\t'Vamp8',\t'Sephs2',\t'4930520O04Rik',\t'Mrpl38',\t'Cldn7',\t'Rac2',\t'AA467197',\t'Hspe1',\t'Cib1',\t'Dsg1a',\t'Ahcyl2',\t'Fxyd3',\t'Tnfrsf11b',\t'Srgn',\t'Sept1',\t'Fcgbp',\t'Hist1h2bc']"
   ]
  },
  {
   "cell_type": "code",
   "execution_count": null,
   "id": "ea53c4e3",
   "metadata": {},
   "outputs": [],
   "source": [
    "aaTEC1_sign = ['Krt18',\t'Epcam',\t'Trpm3',\t'Cd24a',\t'Wfdc18',\t'Krt8',\t'Spint2',\t'Ifi27l2a',\t'Meis2',\t'Cldn3',\t'Ly6e',\t'Slc16a11',\t'Slc9a3r1',\t'S100a11',\t'Btg1',\t'Perp',\t'Gsta4',\t'Isl1',\t'Fxyd3',\t'Pbx1',\t'Cdk19',\t'Ptprd',\t'mt-Co1',\t'Taldo1',\t'BC006965',\t'Apobec3',\t'S100a1',\t'Isg15',\t'Pde4b',\t'Oasl2',\t'Anxa2',\t'Aldoc',\t'Eya1',\t'Socs2',\t'Stat1',\t'Sdc4',\t'Rtp4',\t'2610307P16Rik',\t'Fam107a',\t'Mif',\t'mt-Co3',\t'Cdh1',\t'Cd74',\t'Atp1a1',\t'Fbxo2',\t'Nedd4l',\t'Shank2',\t'Eno1',\t'Marcksl1',\t'mt-Nd1',\t'Sntb1',\t'Auts2',\t'Kif19a',\t'Bmp6',\t'Dbi',\t'Pkp4',\t'Sfn',\t'Id2',\t'Ehf',\t'Arl4c',\t'Chchd10',\t'H2-Ab1',\t'Slc5a8',\t'H2-Aa',\t'Skp1a',\t'Nav2',\t'Sox9',\t'Kcnk1',\t'Etv6',\t'Kirrel3',\t'Mir100hg',\t'Prxl2a',\t'Thsd4',\t'Cnn3',\t'Rbm47',\t'Mcc',\t'Rdh10',\t'Rhov',\t'Plet1',\t'Six1',\t'mt-Cytb',\t'Cited4',\t'Ank3',\t'Atp6v1g1',\t'Atp1b1',\t'Pax9',\t'Galm',\t'Cracr2b',\t'Eya4',\t'Fgf13',\t'H2-Eb1',\t'Rtl4',\t'Cd9',\t'Strbp',\t'Gna14',\t'Igkc',\t'Dclk2',\t'Vamp8',\t'Nipal2',\t'Tenm4']"
   ]
  },
  {
   "cell_type": "code",
   "execution_count": null,
   "id": "fcfac6b2",
   "metadata": {},
   "outputs": [],
   "source": [
    "aaTEC1_sign_cherrypicked = ['Trpm3','Cldn3',\t'Slc16a11',\t'Slc9a3r1','Isl1',\t'Cdk19',\t'Ptprd',\t'Taldo1',\t'BC006965', 'Aldoc',\t'Socs2',\t'Fam107a','Fbxo2',\t'Nedd4l',\t'Shank2','Kif19a',\t'Bmp6',\t'Id2',\t'Arl4c',\t'Slc5a8',\t'Kcnk1',\t'Kirrel3',\t\t'Prxl2a',\t'Thsd4',\t'Rdh10',\t'Rhov',\t'Plet1',\t'Cited4',\t'Galm',\t'Rtl4',\t'Gna14',\t'Dclk2',\t'Nipal2']"
   ]
  },
  {
   "cell_type": "code",
   "execution_count": null,
   "id": "6270312c",
   "metadata": {},
   "outputs": [],
   "source": [
    "sc.pl.dotplot(adata_d0, aaTEC1_sign,  groupby='cell_type_subset',vmax=3, cmap=user_defined_cmap_degs)"
   ]
  },
  {
   "cell_type": "code",
   "execution_count": null,
   "id": "395dc365",
   "metadata": {},
   "outputs": [],
   "source": [
    "aaTEC2_sign = ['Csmd1',\t'Ndrg2',\t'Ccl19',\t'Trpm3',\t'Cd74',\t'Nav2',\t'Gadd45g',\t'H2-Ab1',\t'Atp1b1',\t'Pde4b',\t'Csrp1',\t'H2-Eb1',\t'Btg1',\t'Meis2',\t'Mir100hg',\t'Ccl21a',\t'Socs2',\t'Iigp1',\t'Tagln',\t'Socs3',\t'H2-Aa',\t'Kirrel3',\t'Ptprd',\t'Notch3',\t'Tagln2',\t'Heyl',\t'Gucy1a1',\t'Bcl2',\t'Gm48742',\t'Gpx3',\t'Eya4',\t'Cnn3',\t'Ncam1',\t'Art3',\t'Cd9',\t'Eya1',\t'Apoe',\t'Pbx1',\t'Ar',\t'Nhs',\t'Olfm2',\t'Cul1',\t'Fos',\t'Palld',\t'Phlda1',\t'Jmjd1c',\t'Sncaip',\t'Cacna1c',\t'Sdc4',\t'Arid5b',\t'Gm4951',\t'Bex3',\t'Pcdh17',\t'Esr1',\t'Nfia',\t'H3f3b',\t'Cacnb2',\t'Btg2',\t'Cd200',\t'Pgf',\t'Mif',\t'Frmpd4',\t'Zeb2',\t'Malat1',\t'Rgs2',\t'Zfp36l1',\t'Grin2a',\t'2610307P16Rik',\t'Sbno2',\t'Junb',\t'Igkc',\t'Lmna',\t'Jun',\t'Serpine2',\t'Mgp',\t'H2-DMa',\t'Itm2b',\t'Dnajc6',\t'Lpar1',\t'Runx1',\t'Isl1',\t'Tceal9',\t'Dnm3',\t'Mdk',\t'Xist',\t'Ptn',\t'Isg15',\t'Pth',\t'Laptm4a',\t'Clu',\t'Fmnl2',\t'Zbtb20',\t'4632427E13Rik',\t'Egr1',\t'Tpm4',\t'Cirbp',\t'Nr4a1',\t'Ptpn1',\t'Deptor',\t'Sema3a']"
   ]
  },
  {
   "cell_type": "code",
   "execution_count": null,
   "id": "6a9e310a",
   "metadata": {},
   "outputs": [],
   "source": [
    "aaTEC2_sign_cherrypicked = ['Trpm3','Cldn3',\t'Slc16a11',\t'Slc9a3r1','Isl1',\t'Cdk19',\t'Ptprd',\t'Taldo1',\t'BC006965', 'Aldoc',\t'Socs2',\t'Fam107a','Fbxo2',\t'Nedd4l',\t'Shank2','Kif19a',\t'Bmp6',\t'Id2',\t'Arl4c',\t'Slc5a8',\t'Kcnk1',\t'Kirrel3',\t\t'Prxl2a',\t'Thsd4',\t'Rdh10',\t'Rhov',\t'Plet1',\t'Cited4',\t'Galm',\t'Rtl4',\t'Gna14',\t'Dclk2',\t'Nipal2']"
   ]
  },
  {
   "cell_type": "code",
   "execution_count": null,
   "id": "ba0f683d",
   "metadata": {},
   "outputs": [],
   "source": [
    "sc.pl.dotplot(adata_d0, aaTEC2_sign,  groupby='cell_type_subset', vmax=2, cmap=user_defined_cmap_degs)"
   ]
  },
  {
   "cell_type": "code",
   "execution_count": null,
   "id": "568240b1",
   "metadata": {},
   "outputs": [],
   "source": [
    "sc.pl.dotplot(adata_d0, aaTEC2_sign,  groupby='stage', vmax=2, cmap=user_defined_cmap_degs)"
   ]
  },
  {
   "cell_type": "code",
   "execution_count": null,
   "id": "e167b8da",
   "metadata": {},
   "outputs": [],
   "source": []
  },
  {
   "cell_type": "code",
   "execution_count": null,
   "id": "f15756d2",
   "metadata": {},
   "outputs": [],
   "source": [
    "sc.pl.umap(adata_d0, color=['stage', 'Mmp9', 'Il6', 'Bmp7', 'Ppp1r15a', 'Smurf1',  'Bmpr1a', 'Bmpr1b', 'Bmpr2', 'Fst', 'Fgf8', 'Nog', 'Grem1', 'Prkce', 'Xbp1', 'Trpm3', 'Aldoc', 'Fbxo2', 'Shank2', 'Kif19a', 'Bmp6', 'Tgfbr1', \n",
    "                            'Smad1', 'Smad5', 'Tgfbr2', 'Tgfbr3', 'Acvr2a', 'Acvr2b',  'Cd44',\n",
    "                            'Smad2', 'Smad3', 'Bmpr2', 'Bmp7'], \n",
    "                        color_map='Spectral_r', \n",
    "                        use_raw=False, \n",
    "                        ncols=5, \n",
    "                        wspace = 0.5,\n",
    "                        outline_width=[0.6, 0.05], \n",
    "                        size=15,  \n",
    "                        frameon=False, \n",
    "                        add_outline=True, \n",
    "                        sort_order = False)"
   ]
  },
  {
   "cell_type": "markdown",
   "id": "3ff4e0a1",
   "metadata": {},
   "source": [
    "#### 18mo vs 02mo"
   ]
  },
  {
   "cell_type": "code",
   "execution_count": null,
   "id": "077754dc",
   "metadata": {},
   "outputs": [],
   "source": [
    "adata_d0.obs['stage_and_subset'] = ''\n",
    "adata_d0.obs['stage_and_subset'] = adata_d0.obs[['stage', 'cell_type_subset']].agg('_'.join, axis=1)"
   ]
  },
  {
   "cell_type": "code",
   "execution_count": null,
   "id": "45f9bbf5",
   "metadata": {},
   "outputs": [],
   "source": [
    "writer = pd.ExcelWriter('adata_18vs02mo_d0_wilcox.xlsx', engine='xlsxwriter')\n",
    "\n",
    "for subset in [\"0:arEC\", \"1:capEC\", \"2:venEC\", \"3:capsFB\", \"4:intFB\", \"5:medFB\", \"6:MEC\", \"7:vSMC/PC\", \"8:nmSC\",\"9:Fat\", \"10:aaTEC1\",  \"11:aaTEC2\",           \n",
    "               \"12:cTEC\", \"13:mTEC1\", \"14:mTEC-prol\", \"15:mTEC2\", \"16:mTEC3\", \"17:mimic(tuft)\", \"18:mimic(neuroendo)\", \"19:mimic(goblet)\", \"20:mimic(microfold)\"]:   \n",
    "    sc.tl.rank_genes_groups(adata_d0, 'stage_and_subset', groups=['18mo_'+subset], reference='02mo_'+subset, method='wilcoxon', use_raw=False)\n",
    "    result = adata_d0.uns['rank_genes_groups']\n",
    "    groups = result['names'].dtype.names\n",
    "    pd.DataFrame(\n",
    "        {group + '_' + key[:1]: result[key][group]\n",
    "        for group in groups for key in ['names', 'scores', 'logfoldchanges', 'pvals_adj']}).to_excel(writer, sheet_name=re.search('.*:(.+)', subset).group(1).replace('/', '-'))\n",
    "        \n",
    "writer.save()"
   ]
  },
  {
   "cell_type": "code",
   "execution_count": null,
   "id": "5b9ce3b3",
   "metadata": {},
   "outputs": [],
   "source": [
    "%load_ext rpy2.ipython"
   ]
  },
  {
   "cell_type": "code",
   "execution_count": null,
   "id": "0d87240a",
   "metadata": {},
   "outputs": [],
   "source": [
    "%R if (!require(\"pacman\")) install.packages(\"pacman\")\n",
    "%R pacman::p_load(MAST, scales, data.table, openxlsx, ggplot2, ggpubr, RColorBrewer, dichromat, readxl, ggpubr, pheatmap, dplyr, arrow, feather, DelayedArray, HDF5Array, stringr, parallel)"
   ]
  },
  {
   "cell_type": "markdown",
   "id": "eef98eb6",
   "metadata": {},
   "source": [
    "#### Convert wilcoxon results to gsea ranks"
   ]
  },
  {
   "cell_type": "code",
   "execution_count": null,
   "id": "31f020b0",
   "metadata": {},
   "outputs": [],
   "source": [
    "%%R \n",
    "\n",
    "# read in all available excel sheet names \n",
    "wilcox_results = excel_sheets('adata_d0_wilcox.xlsx')\n",
    "\n",
    "rnk_items_list = NULL\n",
    "\n",
    "for (item in wilcox_results) {\n",
    "      wilcox_result <- read_excel('adata_d0_wilcox.xlsx', sheet = item)\n",
    "      rnk_item = na.omit(wilcox_result[,c(2,3)])\n",
    "      rnk_item_sorted = rnk_item[order(rnk_item[,2], decreasing = TRUE),]\n",
    "      colnames(rnk_item_sorted)[1] = '#primerid' # comment out header\n",
    "      colnames(rnk_item_sorted)[2] = '#rank_score' # comment out header\n",
    "      #rnk_items_list[[sheet]] = rnk_item_sorted\n",
    "     # write.table(rnk_item_sorted, file = paste0('../output/metadata/gsea_items/input_ranks/wilcox_result_', item, '.rnk'), sep='\\t', row.names = FALSE, quote = FALSE)\n",
    "}"
   ]
  },
  {
   "cell_type": "markdown",
   "id": "d3b5d9dc",
   "metadata": {},
   "source": [
    "### Dotchart using score and fdr from wilcox"
   ]
  },
  {
   "cell_type": "code",
   "execution_count": null,
   "id": "50d6ea7b",
   "metadata": {},
   "outputs": [],
   "source": [
    "%%R \n",
    "\n",
    "wilcox_results = excel_sheets('../output/metadata/wilcox_items/adata_18vs02mo_d0_wilcox.xlsx')\n",
    "wilcox_results_combined = NULL\n",
    "for (item in wilcox_results) {\n",
    "    wilcox_result <- read_excel('../output/metadata/wilcox_items/adata_18vs02mo_d0_wilcox.xlsx', sheet = item)\n",
    "    colnames(wilcox_result) <- c('index', 'name', 'score', 'log2_fc', 'p_adj')\n",
    "    wilcox_result$p_adj[wilcox_result$p_adj == 0] <- min(wilcox_result$p_adj[wilcox_result$p_adj>0])\n",
    "    wilcox_result$`-log10(p_adj)` = -log(wilcox_result$p_adj, 10)\n",
    "    wilcox_result$subset = item\n",
    "    wilcox_result_sorted = wilcox_result[order(wilcox_result$score, decreasing = TRUE),]\n",
    "    wilcox_result_sorted = wilcox_result_sorted[wilcox_result_sorted$p_adj<=0.05,]\n",
    "    wilcox_results_combined = bind_rows(wilcox_results_combined, wilcox_result_sorted) # select # of top genes per subset \n",
    "}\n"
   ]
  },
  {
   "cell_type": "code",
   "execution_count": null,
   "id": "7fa01e80",
   "metadata": {},
   "outputs": [],
   "source": [
    "%%R\n",
    "\n",
    "cytoscape_emt_genes = c('Igf1', 'Lgals9', 'Fn1', 'Fasl', 'Dspp', 'Chad', 'Dmp1', 'Cdh1', 'Cdh2', 'Cd40lg', 'Fcer2a', 'Cadm1', 'Ibsp', 'Angpt2', 'Angptl2', 'Angptl3', 'Angptl4', 'Ptn', 'Mdk', 'Angptl4', 'Mgp',\t'Serpine2',\t'Lgals1',\t'Sparc',\t'Jun',\t'Col3a1',\t'Lum',\t'Bgn',\t'Serpinh1',\t'Vim',\t'Col6a2',\t'Fbn1',\t'Dcn',\t'Ccn1',\t'Spp1',\t'Col1a2',\t'Igfbp3',\t'Col1a1',\t'Matn2',\t'Abi3bp',\t'Htra1',\t'Pmp22',\t'Fbln1',\t'Col5a2',\t'Pcolce',\t'Ecm1',\t'Efemp2',\t'Mylk',\t'Lox',\t'Postn',\t'Il6',\t'Basp1',\t'Col5a3',\t'Timp3',\t'Plaur',\t'Tgm2',\t'Col4a1',\t'Serpine1',\t'Gadd45a',\t'Lama2',\t'Loxl1',\t'Col6a3',\t'Itgav',\t'Timp1',\t'Lamc1',\t'Qsox1',\t'Vegfc',\t'Fap',\t'Ppib',\t'Mmp2',\t'Tgfbr3',\t'Inhba',\t'Thy1',\t'Plod1',\t'Dab2',\t'Fbn2',\t'Nnmt',\t'Vcan',\t'Col4a2',\t'Thbs2',\t'Ecm2',\t'Sfrp4',\t'Itgb1',\t'Ptx3',\t'Col5a1',\t'Fmod',\t'Col16a1',\t'Bmp1',\t'Flna',\t'Fgf2',\t'Wnt5a',\t'Fbln2',\t'Pvr',\t'Grem1',\t'Comp',\t'P3h1',\t'Itga2',\t'Vegfa',\t'Cxcl12',\t'Col8a2',\t'Matn3',\t'Tnfaip3',\t'Col11a1',\t'Cxcl15',\t'Oxtr',\t'Foxc2',\t'Dkk1',\t'Nt5e',\t'Col7a1',\t'Plod3',\t'Snai2',\t'Cxcl5',\t'Nid2',\t'Itgb3',\t'Slit2',\t'Eln',\t'Pthlh',\t'Thbs1',\t'Fn1',\t'Lrrc15',\t'Scg2',\t'Fbln5',\t'Mcm7',\t'Lama1',\t'Pcolce2',\t'Eno2',\t'Mfap5',\t'Copa',\t'Bdnf',\t'Fas',\t'Tgfb1',\t'Tgfbi',\t'Lama3',\t'Col12a1',\t'Gpc1',\t'Slc6a8',\t'Sfrp1',\t'Cadm1',\t'Gja1',\t'Lamc2',\t'Tnc')"
   ]
  },
  {
   "cell_type": "code",
   "execution_count": null,
   "id": "3c3311ff",
   "metadata": {},
   "outputs": [],
   "source": [
    "%%R\n",
    "\n",
    "cellchat_emt_L = c('Angpt2', 'Angptl2', 'Angptl3', 'Angptl4', 'Ibsp', 'Cadm1', 'Fcer2a', 'Cd40lg', 'Cd96', 'Cdh1', 'Cdh2',\n",
    "                  'Chad', 'Dmp1', 'Dspp', 'Fasl', 'Fn1', 'Lgals9', 'Igf1', 'Jam2', 'L1cam', 'Lama1', 'Lama2', 'Lama3', 'Lama4',\n",
    "                  'Lama5', 'Lamb1', 'Lamb2', 'Lamb3', 'Lamc1', 'Lamc2', 'Lamc3', 'Mdk', 'Wnt5a', 'Nectin3', 'Dlk1', 'Dll3',\n",
    "                  'Dll4', 'Jag2', 'Dll1', 'Nrg1', 'Oxt', 'Pdgfa', 'Pdgfb', 'Pdgfd', 'Postn', 'Ptn', 'Tnfsf11', 'Sele', 'Spp1',\n",
    "                  'Tnr', 'Tnc', 'Tnxb', 'Col1a1', 'Col1a2', 'Col2a1', 'Col4a1', 'Col4a2', 'Col4a3', 'Col4a4', 'Col4a5', 'Col4a6',\n",
    "                  'Col6a1', 'Col6a2', 'Col6a3', 'Col6a4', 'Col6a5', 'Col6a6', 'Col9a1', 'Col9a2', 'Col9a3', 'Thbs1', 'Thbs2', 'Thbs3',\n",
    "                  'Thbs4', 'Comp', 'Thy1', 'Tigit', 'Tnfsf12', 'Nampt', 'Vtn', 'Vwf')"
   ]
  },
  {
   "cell_type": "code",
   "execution_count": null,
   "id": "c00faf1a",
   "metadata": {},
   "outputs": [],
   "source": [
    "%%R\n",
    "\n",
    "cellchat_emt_L = c('Cxcl12',\t'Ccl19',\t'Ccl21a',\t'Ccl25',\t'Fgf1',\t'Fgf2',\t'Fgf7',\t'Fgf10',\t'Fgf18',\t'Fgf21', \t'Bmp4',\t'Bmp7',\t'Flt3l',\t'Kitl', 'Il7',\n",
    "                   'Nrg1', 'Lama1', 'Igf1', 'Col4a5', 'Lama2', 'Cadm1', 'Mdk', 'Ptn', 'Vtn', 'Thbs1', 'Tnxb', 'Angptl4', 'Il6', 'Lgals1','Ptx3', 'Serpine1', 'Tgfbi', 'Mgp', 'Tgfbr3')\n",
    "\n"
   ]
  },
  {
   "cell_type": "code",
   "execution_count": null,
   "id": "bfe33647",
   "metadata": {},
   "outputs": [],
   "source": [
    "%%R\n",
    "tt = wilcox_results_combined[wilcox_results_combined$name %in% cellchat_emt_L,]\n"
   ]
  },
  {
   "cell_type": "code",
   "execution_count": null,
   "id": "fc7f7523",
   "metadata": {},
   "outputs": [],
   "source": [
    "%%R \n",
    "#pdf(\"dotplot_Zscore_d0.pdf\", width=4, height=4.5)\n",
    "tt = wilcox_results_combined[wilcox_results_combined$name %in% cellchat_emt_L,]\n",
    "tt$name <- factor(tt$name, levels = rev(c('Cxcl12',\t'Ccl19',\t'Ccl21a',\t'Ccl25',\t'Fgf7', 'Fgf1',\t'Fgf2',\t\t'Fgf10',\t'Fgf18',\t'Fgf21',\t'Bmp4',\t'Bmp7',\t'Flt3l',\t'Kitl', 'Il7',\n",
    "                                          'Lgals1','Ptx3', 'Angptl4', 'Il6', 'Tnxb', 'Thbs1', 'Vtn', 'Ptn', 'Mdk',  'Cadm1',  'Col4a5', 'Serpine1', 'Lama2',  'Tgfbr3','Tgfbi', 'Mgp', 'Igf1',  'Lama1', 'Nrg1')))\n",
    "tt$subset <- factor(tt$subset, levels = c('capsFB', 'intFB', 'medFB', 'capEC', 'cTEC', 'mTEC1', 'mTEC-prol', 'mTEC2', 'MEC'))\n",
    "tt$`squished Z-score` = squish(tt$score, range=c(-3, 3), only.finite=TRUE)\n"
   ]
  },
  {
   "cell_type": "code",
   "execution_count": null,
   "id": "d84c6673",
   "metadata": {},
   "outputs": [],
   "source": [
    "%%R -w 10.5 -h 15.75 -u cm\n",
    "\n",
    "#pdf(\"dotplot_Zscore_d0_emtL-up.pdf\", width=4.15, height=6.05)\n",
    "# plot marker genes in a dotplot format \n",
    "# use BluetoGreen.14 colorscheme for degs\n",
    "print(ggdotchart(tt, x='name', y='subset', group = 'subset',rotate=TRUE, color='squished Z-score', size = '-log10(p_adj)', sorting='none', xlab = \"\",  ylab = \"\") +\n",
    "scale_color_gradientn(colours = dichromat::colorschemes$BluetoGreen.14) +  \n",
    "theme_pubr() + theme(legend.position='right', axis.text.x = element_text(angle = 90, vjust = 0.5, hjust=1)))\n",
    "\n",
    "#dev.off() #"
   ]
  },
  {
   "cell_type": "code",
   "execution_count": null,
   "id": "e14669ec",
   "metadata": {},
   "outputs": [],
   "source": [
    "%%R -w 11.25 -h 16.5 -u cm\n",
    "\n",
    "pdf(\"dotplot_Zscore_d0_emtL-up.pdf\", width=4.3, height=6.55)\n",
    "# plot marker genes in a dotplot format \n",
    "# use BluetoGreen.14 colorscheme for degs\n",
    "print(ggdotchart(tt, x='name', y='subset', group = 'subset',rotate=TRUE, color='squished Z-score', size = '-log10(p_adj)', sorting='none', xlab = \"\",  ylab = \"\") +\n",
    "scale_color_gradientn(colours = dichromat::colorschemes$BluetoGreen.14) +  \n",
    "theme_pubr() + theme(legend.position='right', axis.text.x = element_text(angle = 90, vjust = 0.5, hjust=1)))\n",
    "\n",
    "dev.off() #"
   ]
  },
  {
   "cell_type": "markdown",
   "id": "1d6c6bd3",
   "metadata": {},
   "source": [
    "### Cytoscape summarized results"
   ]
  },
  {
   "cell_type": "code",
   "execution_count": null,
   "id": "61209420",
   "metadata": {},
   "outputs": [],
   "source": [
    "%%R\n",
    "\n",
    "fromNetwork <- read_excel(\"../output/metadata/cytoscape_items/18vs02mo_m5_annotated.xlsx\", sheet=\"Sheet2\")\n",
    "fromNetwork_clean <- select(fromNetwork, -contains(c(\"::Dataset_Chart\", \"::Genes\", \"::GS_DESCR\", \"::Name\", \"shared name\", \"selected\", \n",
    "                                                     \"::GS_Type\", \"Colouring\", \"::ES\", \"::fwer_qvalue\", \"::pvalue\",\n",
    "                                                     \"aaTEC1\", \"aaTEC2\", \"Fat\", \"MEC\", \"nmSC\", \"PCvSMC\" )))\n",
    "#fromNetwork_clean = fromNetwork_clean  %>% group_by(Group) %>% slice_min(order_by = minFDR, n = 5)\n",
    "\n",
    "forDotplot <- as_tibble(lapply(fromNetwork_clean[,c(16, 32, 33,34)], rep, ncol(select(fromNetwork_clean,starts_with(\"EnrichmentMap::fdr_qvalue\")))))\n",
    "\n",
    "\n",
    "tmpFDR = NULL\n",
    "FDR=NULL\n",
    "tmpNES = NULL\n",
    "NES=NULL\n",
    "tmp_subset = NULL\n",
    "subset=NULL\n",
    "\n",
    "# append (in order) all FDR columns and all NES columns\n",
    "for (i in c(1:ncol(select(fromNetwork_clean ,starts_with(\"EnrichmentMap::fdr_qvalue\"))))) {\n",
    "  tmpFDR = select(fromNetwork_clean,starts_with(\"EnrichmentMap::fdr_qvalue\"))[i]\n",
    "  colnames(tmpFDR) = \"FDR\"\n",
    "  FDR = rbind(FDR, tmpFDR)\n",
    "}\n",
    "\n",
    "for (i in c(1:ncol(select(fromNetwork_clean,starts_with(\"EnrichmentMap::NES\"))))) {\n",
    "  tmpNES = select(fromNetwork_clean,starts_with(\"EnrichmentMap::NES\"))[i]\n",
    "  colnames(tmpNES) = \"NES\"\n",
    "  NES = rbind(NES, tmpNES) \n",
    "}\n",
    "\n",
    "forDotplot$NES = NES$NES\n",
    "forDotplot$FDR = FDR$FDR\n",
    "\n",
    "forDotplot$subset = rep(str_replace(colnames(select(fromNetwork_clean,starts_with(\"EnrichmentMap::NES\"))), \"EnrichmentMap::NES \", \"\"), each=nrow(fromNetwork_clean))\n",
    "colnames(forDotplot) <- c(\"gs_size\", \"name\", \"group\", \"minFDR\", \"NES\", \"FDR\", \"subset\")\n",
    "forDotplot$FDR[forDotplot$FDR>0.05] <- NA\n",
    "forDotplot$FDRtr = -log(forDotplot$FDR+0.00001,10)\n",
    "forDotplot$subset <- factor(forDotplot$subset, levels = c(\"(capsFB)\", \"(intFB)\", \"(medFB)\", \"(artEC)\", \"(capEC)\", \"(venEC)\", \"(cTEC)\", \"(mTEC1)\", \"(mTECprol)\", \"(mTEC2)\", \"(mTEC3)\", \"(tuft)\", \"(nTEC)\", \"(goblet)\", \"(Mlike)\"))"
   ]
  },
  {
   "cell_type": "code",
   "execution_count": null,
   "id": "f531c9b6",
   "metadata": {},
   "outputs": [],
   "source": [
    "%%R -w 22 -h 20 -u cm \n",
    "\n",
    "pdf(\"dotplot_pathways_d0_top5.pdf\", width=8.5, height=7)\n",
    "\n",
    "print(ggdotchart(forDotplot,  x='name', y='subset', group = 'group',  size='FDRtr', rotate=TRUE, color = 'NES', xlab = \"\", ylab = \"\", sorting = \"none\") +\n",
    "  scale_colour_gradientn(colours = dichromat::colorschemes$BluetoGreen.14) +\n",
    "  theme_pubclean() + theme(axis.text.x = element_text(face =\"bold\", angle = 90), axis.text.y = element_text(size =6)) +\n",
    "  theme(legend.position = \"right\", panel.background = element_rect(colour = \"black\",size = 1, linetype = \"solid\"))) #+ \n",
    "dev.off() "
   ]
  },
  {
   "cell_type": "code",
   "execution_count": null,
   "id": "118471d6",
   "metadata": {},
   "outputs": [],
   "source": [
    "%%R\n",
    "\n",
    "fromNetwork <- read_excel(\"../output/metadata/cytoscape_items/18vs02mo_m5_FDR01_annotated_JD2.xlsx\", sheet=\"New Top5 (JD)\")\n",
    "\n",
    "fromNetwork_clean <- select(fromNetwork, -contains(c(\"::Dataset_Chart\", \"::Genes\", \"::GS_DESCR\", \"::Name\", \"shared name\", \"selected\", \n",
    "                                                     \"::GS_Type\", \"Colouring\", \"::ES\", \"::fwer_qvalue\", \"::pvalue\",\n",
    "                                                     \"aaTEC1\", \"aaTEC2\", \"Fat\", \"MEC\", \"nmSC\", \"PCvSMC\" )))\n",
    "forDotplot <- as_tibble(lapply(fromNetwork_clean[,c(16, 32, 33)], rep, ncol(select(fromNetwork_clean,starts_with(\"EnrichmentMap::fdr_qvalue\")))))\n",
    "\n",
    "tmpFDR = NULL\n",
    "FDR=NULL\n",
    "tmpNES = NULL\n",
    "NES=NULL\n",
    "tmp_subset = NULL\n",
    "subset=NULL\n",
    "\n",
    "# append (in order) all FDR columns and all NES columns\n",
    "for (i in c(1:ncol(select(fromNetwork_clean ,starts_with(\"EnrichmentMap::fdr_qvalue\"))))) {\n",
    "  tmpFDR = select(fromNetwork_clean,starts_with(\"EnrichmentMap::fdr_qvalue\"))[i]\n",
    "  colnames(tmpFDR) = \"FDR\"\n",
    "  FDR = rbind(FDR, tmpFDR)\n",
    "}\n",
    "\n",
    "for (i in c(1:ncol(select(fromNetwork_clean,starts_with(\"EnrichmentMap::NES\"))))) {\n",
    "  tmpNES = select(fromNetwork_clean,starts_with(\"EnrichmentMap::NES\"))[i]\n",
    "  colnames(tmpNES) = \"NES\"\n",
    "  NES = rbind(NES, tmpNES) \n",
    "}\n",
    "\n",
    "\n",
    "forDotplot$NES = NES$NES\n",
    "forDotplot$FDR = FDR$FDR\n",
    "\n",
    "forDotplot$subset = rep(str_replace(colnames(select(fromNetwork_clean,starts_with(\"EnrichmentMap::NES\"))), \"EnrichmentMap::NES \", \"\"), each=nrow(fromNetwork_clean))\n",
    "colnames(forDotplot) <- c(\"gs_size\", \"name\", \"group\", \"NES\", \"FDR\", \"subset\")\n",
    "\n",
    "forDotplot$FDR[forDotplot$FDR>0.1] <- NA\n",
    "forDotplot$FDRtr = -log(forDotplot$FDR+0.00001,10)\n",
    "forDotplot$subset <- factor(forDotplot$subset, levels = c(\"(capsFB)\", \"(intFB)\", \"(medFB)\", \"(artEC)\", \"(capEC)\", \"(venEC)\", \"(cTEC)\", \"(mTEC1)\", \"(mTECprol)\", \"(mTEC2)\", \"(mTEC3)\", \"(tuft)\", \"(nTEC)\", \"(goblet)\", \"(Mlike)\"))"
   ]
  },
  {
   "cell_type": "code",
   "execution_count": null,
   "id": "6c6997fb",
   "metadata": {},
   "outputs": [],
   "source": [
    "%%R -w 26 -h 26 -u cm \n",
    "\n",
    "pdf(\"dotplot_pathways_d0_top5_NES_JD.pdf\", width=9.5, height=13.5)\n",
    "\n",
    "print(ggdotchart(forDotplot,  x='name', y='subset', group = 'group...136',  size='FDRtr', rotate=TRUE, color = 'NES', xlab = \"\", ylab = \"\", sorting = \"none\") +\n",
    "  scale_colour_gradientn(colours = dichromat::colorschemes$BluetoGreen.14) +\n",
    "  theme_pubclean() + theme(axis.text.x = element_text(face =\"bold\", angle = 90), axis.text.y = element_text(size =6)) +\n",
    "  theme(legend.position = \"right\", panel.background = element_rect(colour = \"black\",size = 1, linetype = \"solid\"))) #+ \n",
    "dev.off() "
   ]
  },
  {
   "cell_type": "markdown",
   "id": "2fe80ff2",
   "metadata": {},
   "source": [
    "## Load lineage tracing"
   ]
  },
  {
   "cell_type": "code",
   "execution_count": null,
   "id": "6ce26897",
   "metadata": {},
   "outputs": [],
   "source": [
    "path_to_h5ad = '../output/metadata/anndata_objects/Fig1pt2.h5ad'"
   ]
  },
  {
   "cell_type": "code",
   "execution_count": null,
   "id": "e76c14d0",
   "metadata": {},
   "outputs": [],
   "source": [
    "lineage = sc.read_h5ad(path_to_h5ad)\n",
    "lineage.uns['log1p'][\"base\"] = None"
   ]
  },
  {
   "cell_type": "code",
   "execution_count": null,
   "id": "fe5cc732",
   "metadata": {},
   "outputs": [],
   "source": [
    "with_lineage = sc.concat(\n",
    "    [adata_d0, lineage], # add more annadata objects here separated by commas\n",
    "    join='outer', \n",
    "    label = 'dataset', \n",
    "    keys = ['ours', 'Foxn1'], # or use your sample_names list (as used above) here. \n",
    "    # Make sure the order of the batch categories matches that of the AnnData objects \n",
    "    index_unique = '@'\n",
    ")"
   ]
  },
  {
   "cell_type": "code",
   "execution_count": null,
   "id": "83a31b45",
   "metadata": {},
   "outputs": [],
   "source": [
    "with_lineage.obs['dataset'] = ['lineage' if 'Foxn1' in x else 'lineage_wt' if 'wt' in x else 'ours' for x in with_lineage.obs['sample']]"
   ]
  },
  {
   "cell_type": "code",
   "execution_count": null,
   "id": "9f34d015",
   "metadata": {},
   "outputs": [],
   "source": [
    "with_lineage.uns['dataset_colors']=['blue', 'grey', 'grey80']"
   ]
  },
  {
   "cell_type": "code",
   "execution_count": null,
   "id": "b48a8f26",
   "metadata": {},
   "outputs": [],
   "source": [
    "with_lineage.uns['stage_colors']= ['#76D6FF', '#FF8072', '#FF8072']"
   ]
  },
  {
   "cell_type": "code",
   "execution_count": null,
   "id": "25c99e7c",
   "metadata": {},
   "outputs": [],
   "source": [
    "with_lineage.uns['cell_type_colors'] = ['#d62728','#19c9b3', '#FFA5D2', '#ff7f0e','#199919', '#aa40fc']"
   ]
  },
  {
   "cell_type": "code",
   "execution_count": null,
   "id": "ddc67337",
   "metadata": {},
   "outputs": [],
   "source": [
    "with_lineage.uns['cell_type_subset_colors'] = ['#F6222E', '#3283FE', '#16FF32', '#BDCDFF', '#3B00FB', '#1CFFCE', '#d62728', '#19c9b3','#FFA5D2',   'grey', '#2ED9FF', '#c1c119', '#8b0000', '#FE00FA', \"#F8A19F\", '#1CBE4F','#B5EFB5',  '#AA0DFE','#FEAF16', '#325A9B', '#C075A6']"
   ]
  },
  {
   "cell_type": "code",
   "execution_count": null,
   "id": "4dbb659f",
   "metadata": {},
   "outputs": [],
   "source": [
    "sc.pp.highly_variable_genes(with_lineage, n_top_genes=3500, n_bins=20, flavor='seurat',  inplace=True)"
   ]
  },
  {
   "cell_type": "code",
   "execution_count": null,
   "id": "5b59dad4",
   "metadata": {},
   "outputs": [],
   "source": [
    "rng = np.random.RandomState(42)\n",
    "sc.tl.pca(with_lineage, n_comps=200, svd_solver='arpack', random_state=rng)"
   ]
  },
  {
   "cell_type": "code",
   "execution_count": null,
   "id": "14cab97a",
   "metadata": {},
   "outputs": [],
   "source": [
    "observe_variance(with_lineage)"
   ]
  },
  {
   "cell_type": "code",
   "execution_count": null,
   "id": "5119f1a8",
   "metadata": {},
   "outputs": [],
   "source": [
    "rng = np.random.RandomState(42)\n",
    "sc.tl.pca(with_lineage, n_comps=40, svd_solver='arpack', random_state=rng)"
   ]
  },
  {
   "cell_type": "markdown",
   "id": "c87585bb",
   "metadata": {},
   "source": [
    "### Integrating data using harmony"
   ]
  },
  {
   "cell_type": "code",
   "execution_count": null,
   "id": "29f36ce8",
   "metadata": {},
   "outputs": [],
   "source": [
    "sce.pp.harmony_integrate(with_lineage, 'sample')"
   ]
  },
  {
   "cell_type": "code",
   "execution_count": null,
   "id": "094ad2fb",
   "metadata": {},
   "outputs": [],
   "source": [
    "sc.pp.neighbors(with_lineage, n_neighbors=15, use_rep='X_pca_harmony')\n",
    "sc.tl.umap(with_lineage)"
   ]
  },
  {
   "cell_type": "code",
   "execution_count": null,
   "id": "1c3b3e2c",
   "metadata": {},
   "outputs": [],
   "source": [
    "sc.set_figure_params(dpi=80, dpi_save=300, color_map='viridis', vector_friendly=True, transparent=True)\n",
    "\n",
    "# PC 75\n",
    "sc.pl.umap(\n",
    "    with_lineage, \n",
    "    color=['dataset', 'stage', 'cell_type', 'cell_type_subset', 'Trpa1'], \n",
    "    color_map='Spectral_r',\n",
    "    use_raw=False, \n",
    "    ncols=4, \n",
    "    wspace = 0.2,\n",
    "    outline_width=[0.6, 0.05], \n",
    "    size=15,\n",
    "    na_color='white',\n",
    "    frameon=False, \n",
    "    add_outline=True, \n",
    "    sort_order = False)"
   ]
  },
  {
   "cell_type": "code",
   "execution_count": null,
   "id": "9c918c54",
   "metadata": {},
   "outputs": [],
   "source": [
    "### Isolate TEC_d0 + lineage"
   ]
  },
  {
   "cell_type": "code",
   "execution_count": null,
   "id": "35442dac",
   "metadata": {},
   "outputs": [],
   "source": [
    "TEC_with_lineage = with_lineage[with_lineage.obs['cell_type']=='TEC']"
   ]
  },
  {
   "cell_type": "code",
   "execution_count": null,
   "id": "ddbe29ee",
   "metadata": {},
   "outputs": [],
   "source": [
    "# Remove columns with all 0s\n",
    "sc.pp.filter_genes(TEC_with_lineage, min_cells=1)"
   ]
  },
  {
   "cell_type": "code",
   "execution_count": null,
   "id": "8cfe7c7c",
   "metadata": {},
   "outputs": [],
   "source": [
    "sc.pp.highly_variable_genes(TEC_with_lineage, n_top_genes=3500, n_bins=20, flavor='seurat')"
   ]
  },
  {
   "cell_type": "code",
   "execution_count": null,
   "id": "e0185ecb",
   "metadata": {},
   "outputs": [],
   "source": [
    "rng = np.random.RandomState(42)\n",
    "sc.tl.pca(TEC_with_lineage, n_comps=45, svd_solver='arpack', random_state=rng, use_highly_variable=True)\n",
    "sce.pp.harmony_integrate(TEC_with_lineage, 'sample')\n",
    "sc.pp.neighbors(TEC_with_lineage, n_neighbors=15, use_rep='X_pca_harmony')\n",
    "sc.tl.umap(TEC_with_lineage)"
   ]
  },
  {
   "cell_type": "code",
   "execution_count": null,
   "id": "f630f780",
   "metadata": {},
   "outputs": [],
   "source": []
  },
  {
   "cell_type": "code",
   "execution_count": null,
   "id": "1df918ba",
   "metadata": {},
   "outputs": [],
   "source": [
    "sc.set_figure_params(dpi=80, dpi_save=300, color_map='viridis', vector_friendly=True, transparent=True)\n",
    "\n",
    "sc.pl.umap(\n",
    "    TEC_with_lineage, \n",
    "    color=['tdT-WPRE_trans', 'CreER-WPRE_trans',  'stage', 'dataset', 'cell_type_subset'], \n",
    "    color_map='Spectral_r',\n",
    "    use_raw=False, \n",
    "    ncols=5, \n",
    "    wspace = 0.3,\n",
    "    outline_width=[0.6, 0.05], \n",
    "    size=15,\n",
    "    na_color='white',\n",
    "    frameon=False, \n",
    "    add_outline=True, \n",
    "    sort_order = False,\n",
    "    save='lineage+ours.pdf')"
   ]
  },
  {
   "cell_type": "code",
   "execution_count": null,
   "id": "d3713abe",
   "metadata": {},
   "outputs": [],
   "source": [
    "sc.set_figure_params(dpi=80, dpi_save=300, color_map='viridis', vector_friendly=True, transparent=True)\n",
    "\n",
    "sc.pl.umap(\n",
    "    TEC_with_lineage[TEC_with_lineage.obs['dataset']=='lineage'], \n",
    "    color=['tdT-WPRE_trans', 'CreER-WPRE_trans',  'stage', 'dataset', 'cell_type_subset'], \n",
    "    color_map='Spectral_r',\n",
    "    use_raw=False, \n",
    "    ncols=5, \n",
    "    wspace = 0.3,\n",
    "    outline_width=[0.6, 0.05], \n",
    "    size=15,\n",
    "    na_color='white',\n",
    "    frameon=False, \n",
    "    add_outline=True, \n",
    "    sort_order = False,\n",
    "    save='lineage.pdf')"
   ]
  },
  {
   "cell_type": "code",
   "execution_count": null,
   "id": "f463f10d",
   "metadata": {},
   "outputs": [],
   "source": [
    "sc.set_figure_params(dpi=80, dpi_save=300, color_map='viridis', vector_friendly=True, transparent=True)\n",
    "\n",
    "sc.pl.umap(\n",
    "    TEC_with_lineage[TEC_with_lineage.obs['dataset']=='ours'], \n",
    "    color=['tdT-WPRE_trans', 'CreER-WPRE_trans',  'stage', 'dataset', 'cell_type_subset'], \n",
    "    color_map='Spectral_r',\n",
    "    use_raw=False, \n",
    "    ncols=5, \n",
    "    wspace = 0.3,\n",
    "    outline_width=[0.6, 0.05], \n",
    "    size=15,\n",
    "    na_color='white',\n",
    "    frameon=False, \n",
    "    add_outline=True, \n",
    "    sort_order = False,\n",
    "    save='ours.pdf')"
   ]
  },
  {
   "cell_type": "markdown",
   "id": "57911138",
   "metadata": {},
   "source": [
    "## Load human data"
   ]
  },
  {
   "cell_type": "code",
   "execution_count": null,
   "id": "04098185",
   "metadata": {},
   "outputs": [],
   "source": [
    "#import sys\n",
    "#!{sys.executable} -m pip install mousipy"
   ]
  },
  {
   "cell_type": "code",
   "execution_count": null,
   "id": "20e22f54",
   "metadata": {},
   "outputs": [],
   "source": [
    "from mousipy import translate"
   ]
  },
  {
   "cell_type": "code",
   "execution_count": null,
   "id": "5de24e94",
   "metadata": {},
   "outputs": [],
   "source": [
    "path_to_h5ad = '../output/metadata/anndata_objects/fig1_pt3.h5ad'"
   ]
  },
  {
   "cell_type": "code",
   "execution_count": null,
   "id": "87ec7419",
   "metadata": {},
   "outputs": [],
   "source": [
    "human_cd45neg = sc.read_h5ad(path_to_h5ad)"
   ]
  },
  {
   "cell_type": "code",
   "execution_count": null,
   "id": "44bb3ed7",
   "metadata": {},
   "outputs": [],
   "source": [
    "humanized_adata_d0 = translate(adata_d0)"
   ]
  },
  {
   "cell_type": "code",
   "execution_count": null,
   "id": "e038faa2",
   "metadata": {},
   "outputs": [],
   "source": [
    "in_human = sc.concat(\n",
    "    [humanized_adata_d0, human_cd45neg], # add more annadata objects here separated by commas\n",
    "    join='inner', \n",
    "    label = 'dataset', \n",
    "    keys = ['ours', 'human'], # or use your sample_names list (as used above) here. \n",
    "    # Make sure the order of the batch categories matches that of the AnnData objects \n",
    "    index_unique = '@'\n",
    ")"
   ]
  },
  {
   "cell_type": "code",
   "execution_count": null,
   "id": "10bf1255",
   "metadata": {},
   "outputs": [],
   "source": [
    "in_human.uns['dataset_colors']=['blue', 'grey80']\n",
    "in_human.uns['stage_colors']= ['#76D6FF', '#76D6FF', '#FF8072', '#FF8072']\n",
    "in_human.uns['cell_type_colors'] = ['#d62728','#19c9b3', '#FFA5D2', '#ff7f0e','#199919', '#aa40fc']\n",
    "in_human.uns['cell_type_subset_colors'] = ['#F6222E', '#3283FE', '#16FF32', '#BDCDFF', '#3B00FB', '#1CFFCE', '#d62728', '#19c9b3','#FFA5D2',   'grey', '#2ED9FF', '#c1c119', '#8b0000', '#FE00FA', \"#F8A19F\", '#1CBE4F','#B5EFB5',  '#AA0DFE','#FEAF16', '#325A9B', '#C075A6', 'black']"
   ]
  },
  {
   "cell_type": "code",
   "execution_count": null,
   "id": "04706685",
   "metadata": {},
   "outputs": [],
   "source": [
    "sc.pp.highly_variable_genes(in_human, n_bins=20, flavor='seurat', inplace=True)"
   ]
  },
  {
   "cell_type": "code",
   "execution_count": null,
   "id": "71e1740b",
   "metadata": {},
   "outputs": [],
   "source": [
    "rng = np.random.RandomState(42)\n",
    "sc.tl.pca(in_human, n_comps=200, svd_solver='arpack', random_state=rng)"
   ]
  },
  {
   "cell_type": "code",
   "execution_count": null,
   "id": "a263000f",
   "metadata": {},
   "outputs": [],
   "source": [
    "observe_variance(in_human)"
   ]
  },
  {
   "cell_type": "code",
   "execution_count": null,
   "id": "a3e91dc7",
   "metadata": {},
   "outputs": [],
   "source": [
    "rng = np.random.RandomState(42)\n",
    "sc.tl.pca(in_human, n_comps=60, svd_solver='arpack', random_state=rng)"
   ]
  },
  {
   "cell_type": "markdown",
   "id": "56bfc2bc",
   "metadata": {},
   "source": [
    "### Integrating data using harmony"
   ]
  },
  {
   "cell_type": "code",
   "execution_count": null,
   "id": "f1af53a6",
   "metadata": {},
   "outputs": [],
   "source": [
    "sce.pp.harmony_integrate(in_human, 'dataset')"
   ]
  },
  {
   "cell_type": "code",
   "execution_count": null,
   "id": "8d5c4312",
   "metadata": {},
   "outputs": [],
   "source": [
    "sc.pp.neighbors(in_human, n_neighbors=15, use_rep='X_pca_harmony')\n",
    "sc.tl.umap(in_human)"
   ]
  },
  {
   "cell_type": "code",
   "execution_count": null,
   "id": "f5e73741",
   "metadata": {},
   "outputs": [],
   "source": [
    "sc.set_figure_params(dpi=80, dpi_save=300, color_map='viridis', vector_friendly=True, transparent=True)\n",
    "\n",
    "# PC 75\n",
    "sc.pl.umap(\n",
    "    in_human, \n",
    "    color=['dataset', 'stage', 'cell_type', 'cell_type_subset'], \n",
    "    color_map='Spectral_r',\n",
    "    use_raw=False, \n",
    "    ncols=4, \n",
    "    wspace = 0.2,\n",
    "    outline_width=[0.6, 0.05], \n",
    "    na_color='white',\n",
    "    size=15,\n",
    "    frameon=False, \n",
    "    add_outline=True, \n",
    "    sort_order = False)"
   ]
  },
  {
   "cell_type": "code",
   "execution_count": null,
   "id": "6a3bc350",
   "metadata": {},
   "outputs": [],
   "source": [
    "### Isolate TEC_d0 + human TEC"
   ]
  },
  {
   "cell_type": "code",
   "execution_count": null,
   "id": "ef8b2961",
   "metadata": {},
   "outputs": [],
   "source": [
    "TEC_with_humanTEC = in_human[(in_human.obs['cell_type']=='TEC')]"
   ]
  },
  {
   "cell_type": "code",
   "execution_count": null,
   "id": "fd626289",
   "metadata": {},
   "outputs": [],
   "source": []
  },
  {
   "cell_type": "code",
   "execution_count": null,
   "id": "924654a3",
   "metadata": {},
   "outputs": [],
   "source": [
    "# Remove columns with all 0s\n",
    "sc.pp.filter_genes(TEC_with_humanTEC, min_cells=1)"
   ]
  },
  {
   "cell_type": "code",
   "execution_count": null,
   "id": "7c970d1f",
   "metadata": {},
   "outputs": [],
   "source": [
    "sc.pp.highly_variable_genes(TEC_with_humanTEC, n_top_genes=500, n_bins=20, flavor='seurat', batch_key='dataset')"
   ]
  },
  {
   "cell_type": "code",
   "execution_count": null,
   "id": "440f8365",
   "metadata": {},
   "outputs": [],
   "source": [
    "rng = np.random.RandomState(42)\n",
    "sc.tl.pca(TEC_with_humanTEC, n_comps=45, svd_solver='arpack', random_state=rng, use_highly_variable=True)\n",
    "sce.pp.harmony_integrate(TEC_with_humanTEC, 'dataset')\n",
    "sc.pp.neighbors(TEC_with_humanTEC, n_neighbors=15, use_rep='X_pca_harmony')\n",
    "sc.tl.umap(TEC_with_humanTEC)"
   ]
  },
  {
   "cell_type": "code",
   "execution_count": null,
   "id": "b1c2b502",
   "metadata": {},
   "outputs": [],
   "source": [
    "sc.set_figure_params(dpi=80, dpi_save=300, color_map='viridis', vector_friendly=True, transparent=True)\n",
    "\n",
    "sc.pl.umap(\n",
    "    TEC_with_humanTEC, \n",
    "    color=['dataset', 'stage', 'cell_type', 'cell_type_subset', 'HES6', 'ASCL1', 'KRT5', 'CHGA', 'ALDOC', 'CD24', 'KIF19', 'TRPM3', 'CCL21', 'SCG5', 'leiden_1.0'], \n",
    "    color_map='Spectral_r',\n",
    "    use_raw=False, \n",
    "    ncols=5, \n",
    "    wspace = 0.3,\n",
    "    outline_width=[0.6, 0.05], \n",
    "    na_color='white',\n",
    "    frameon=False, \n",
    "    add_outline=True, \n",
    "    sort_order = False)"
   ]
  },
  {
   "cell_type": "code",
   "execution_count": null,
   "id": "c8bbf497",
   "metadata": {},
   "outputs": [],
   "source": [
    "sc.set_figure_params(dpi=80, dpi_save=300, color_map='viridis', vector_friendly=True, transparent=True)\n",
    "\n",
    "sc.pl.umap(\n",
    "    TEC_with_humanTEC, \n",
    "    color=['dataset', 'stage', 'cell_type', 'cell_type_subset', 'APP',  'KRT14', 'KRT5', 'KRT8', 'KRT10', 'IL6R'], \n",
    "    color_map='Spectral_r',\n",
    "    use_raw=False, \n",
    "    ncols=4, \n",
    "    wspace = 0.3,\n",
    "    outline_width=[0.6, 0.05], \n",
    "    na_color='white',\n",
    "    frameon=False, \n",
    "    add_outline=True, \n",
    "    sort_order = False)"
   ]
  }
 ],
 "metadata": {
  "kernelspec": {
   "display_name": "Python 3 (ipykernel)",
   "language": "python",
   "name": "python3"
  },
  "language_info": {
   "codemirror_mode": {
    "name": "ipython",
    "version": 3
   },
   "file_extension": ".py",
   "mimetype": "text/x-python",
   "name": "python",
   "nbconvert_exporter": "python",
   "pygments_lexer": "ipython3",
   "version": "3.8.13"
  }
 },
 "nbformat": 4,
 "nbformat_minor": 5
}
