{
 "cells": [
  {
   "cell_type": "markdown",
   "id": "96cad335",
   "metadata": {},
   "source": [
    "# 14 DGE TBI"
   ]
  },
  {
   "cell_type": "markdown",
   "id": "f910362f",
   "metadata": {},
   "source": [
    "## Notebook setup"
   ]
  },
  {
   "cell_type": "code",
   "execution_count": 1,
   "id": "32ce7cea",
   "metadata": {
    "scrolled": true
   },
   "outputs": [
    {
     "name": "stderr",
     "output_type": "stream",
     "text": [
      "findfont: Font family ['Raleway'] not found. Falling back to DejaVu Sans.\n",
      "findfont: Font family ['Lato'] not found. Falling back to DejaVu Sans.\n"
     ]
    },
    {
     "name": "stdout",
     "output_type": "stream",
     "text": [
      "scanpy==1.9.1 anndata==0.8.0 umap==0.5.3 numpy==1.20.2 scipy==1.5.3 pandas==1.4.4 scikit-learn==1.1.2 statsmodels==0.13.2 python-igraph==0.9.11 pynndescent==0.5.7\n"
     ]
    }
   ],
   "source": [
    "import warnings\n",
    "warnings.filterwarnings('ignore')\n",
    "\n",
    "import scanpy as sc\n",
    "import scanpy.external as sce\n",
    "import numpy as np\n",
    "import pandas as pd\n",
    "import warnings, scipy.sparse as sp, matplotlib, matplotlib.pyplot as plt\n",
    "from matplotlib.colors import LinearSegmentedColormap\n",
    "from matplotlib.pyplot import rc_context\n",
    "from collections import Counter\n",
    "import matplotlib.font_manager\n",
    "import openpyxl\n",
    "import pyreadr\n",
    "import rpy2\n",
    "from rpy2.robjects.packages import importr\n",
    "import rpy2.robjects as robjects\n",
    "#import magic\n",
    "#import seaborn as sns\n",
    "import palantir\n",
    "import loompy\n",
    "import feather\n",
    "import re\n",
    "#from scipy.sparse import csgraph\n",
    "\n",
    "matplotlib.rcParams['pdf.fonttype'] = 42\n",
    "matplotlib.rcParams['ps.fonttype'] = 42\n",
    "matplotlib.rcParams['font.family'] = 'sans-serif'\n",
    "matplotlib.rcParams['font.sans-serif'] = 'Arial'\n",
    "matplotlib.rc('font', size=14)\n",
    "import matplotlib.lines as lines\n",
    "\n",
    "pd.set_option('display.max_rows', 200)\n",
    "\n",
    "sc.set_figure_params(dpi=80, dpi_save=300, color_map='Spectral_r', vector_friendly=True, transparent=True)\n",
    "sc.settings.verbosity = 3 # verbosity: errors (0), warnings (1), info (2), hints (3)\n",
    "sc.logging.print_header()"
   ]
  },
  {
   "cell_type": "code",
   "execution_count": 2,
   "id": "6c1b6c5b",
   "metadata": {},
   "outputs": [],
   "source": [
    "user_defined_palette =  [ '#F6222E', '#FEAF16','#3283FE','#BDCDFF', '#3B00FB', '#F8A19F', '#1CFFCE',  '#C4451C', \n",
    "                          '#2ED9FF', '#c1c119', '#8b0000', '#FE00FA', '#1CBE4F','#B5EFB5', '#0e452b', '#AA0DFE']"
   ]
  },
  {
   "cell_type": "code",
   "execution_count": 3,
   "id": "24b76d9c",
   "metadata": {},
   "outputs": [],
   "source": [
    "user_defined_cmap_markers = LinearSegmentedColormap.from_list('mycmap', [\"#E6E6FF\", \"#CCCCFF\", \"#B2B2FF\", \"#9999FF\",  \"#6666FF\",   \"#3333FF\", \"#0000FF\"])\n",
    "user_defined_cmap_degs = LinearSegmentedColormap.from_list('mycmap', [\"#0000FF\", \"#3333FF\", \"#6666FF\", \"#9999FF\", \"#B2B2FF\", \"#CCCCFF\", \"#E6E6FF\", \"#E6FFE6\", \"#CCFFCC\", \"#B2FFB2\", \"#99FF99\", \"#66FF66\", \"#33FF33\", \"#00FF00\"])"
   ]
  },
  {
   "cell_type": "code",
   "execution_count": 4,
   "id": "29947c70",
   "metadata": {},
   "outputs": [],
   "source": [
    "%matplotlib inline "
   ]
  },
  {
   "cell_type": "markdown",
   "id": "fbad9c74",
   "metadata": {},
   "source": [
    "## Load data for Figure 5"
   ]
  },
  {
   "cell_type": "code",
   "execution_count": 5,
   "id": "39439f43",
   "metadata": {},
   "outputs": [],
   "source": [
    "path_to_h5ad = '../output/anndata_io/Fig5ij.h5ad'"
   ]
  },
  {
   "cell_type": "code",
   "execution_count": 6,
   "id": "a6767064",
   "metadata": {},
   "outputs": [],
   "source": [
    "adata_d0147 = sc.read_h5ad(path_to_h5ad)\n",
    "adata_d0147.uns['log1p'][\"base\"] = None"
   ]
  },
  {
   "cell_type": "markdown",
   "id": "2e959f55",
   "metadata": {},
   "source": [
    "### d4 vs d1 (02mo)"
   ]
  },
  {
   "cell_type": "code",
   "execution_count": null,
   "id": "077754dc",
   "metadata": {},
   "outputs": [],
   "source": [
    "adata_d0147.obs['day_and_subset'] = ''\n",
    "adata_d0147.obs['day_and_subset'] = adata_d0147.obs[['day', 'cell_type_subset']].agg('_'.join, axis=1)"
   ]
  },
  {
   "cell_type": "code",
   "execution_count": null,
   "id": "23669059",
   "metadata": {},
   "outputs": [],
   "source": [
    "adata_d0147_02mo = adata_d0147[adata_d0147.obs['stage']=='02mo']"
   ]
  },
  {
   "cell_type": "code",
   "execution_count": null,
   "id": "45f9bbf5",
   "metadata": {
    "scrolled": true
   },
   "outputs": [],
   "source": [
    "writer = pd.ExcelWriter('adata_d0147_02mo_d4vsd1_wilcox.xlsx', engine='xlsxwriter')\n",
    "\n",
    "for subset in [\"0:arEC\", \"1:capEC\", \"2:venEC\", \"3:capsFB\", \"4:intFB\", \"5:medFB\", \"6:MEC\", \"7:vSMC/PC\", \"8:nmSC\",\"9:Fat\", \"10:aaTEC1\",  \"11:aaTEC2\",           \n",
    "               \"12:cTEC\", \"12:early Pr\", \"13:mTEC1\", \"14:mTEC-prol\", \"15:mTEC2\", \"16:mimetic(basal)\", \"17:mimetic(tuft)\", \"18:mimetic(neuroendo)\", \"19:mimetic(goblet)\", \"20:mimetic(microfold)\"]:   \n",
    "    sc.tl.rank_genes_groups(adata_d0147_02mo, 'day_and_subset', groups=['d4_'+subset], reference='d1_'+subset, method='wilcoxon', use_raw=False)\n",
    "    result = adata_d0147_02mo.uns['rank_genes_groups']\n",
    "    groups = result['names'].dtype.names\n",
    "    pd.DataFrame(\n",
    "        {group + '_' + key[:1]: result[key][group]\n",
    "        for group in groups for key in ['names', 'scores', 'logfoldchanges', 'pvals_adj']}).to_excel(writer, sheet_name=re.search('.*:(.+)', subset).group(1).replace('/', '-'))\n",
    "        \n",
    "writer.save()"
   ]
  },
  {
   "cell_type": "markdown",
   "id": "43cdbb23",
   "metadata": {},
   "source": [
    "### d7 vs d1 (02mo)"
   ]
  },
  {
   "cell_type": "code",
   "execution_count": null,
   "id": "bbf1514f",
   "metadata": {
    "scrolled": true
   },
   "outputs": [],
   "source": [
    "writer = pd.ExcelWriter('adata_d0147_02mo_d7vsd1_wilcox.xlsx', engine='xlsxwriter')\n",
    "\n",
    "for subset in [\"0:arEC\", \"1:capEC\", \"2:venEC\", \"3:capsFB\", \"4:intFB\", \"5:medFB\", \"6:MEC\", \"7:vSMC/PC\", \"8:nmSC\",\"9:Fat\", \"10:aaTEC1\",  \"11:aaTEC2\",           \n",
    "               \"12:cTEC\", \"12:early Pr\", \"13:mTEC1\", \"14:mTEC-prol\", \"15:mTEC2\", \"16:mimetic(basal)\", \"17:mimetic(tuft)\", \"18:mimetic(neuroendo)\", \"19:mimetic(goblet)\", \"20:mimetic(microfold)\"]:   \n",
    "    sc.tl.rank_genes_groups(adata_d0147_02mo, 'day_and_subset', groups=['d7_'+subset], reference='d1_'+subset, method='wilcoxon', use_raw=False)\n",
    "    result = adata_d0147_02mo.uns['rank_genes_groups']\n",
    "    groups = result['names'].dtype.names\n",
    "    pd.DataFrame(\n",
    "        {group + '_' + key[:1]: result[key][group]\n",
    "        for group in groups for key in ['names', 'scores', 'logfoldchanges', 'pvals_adj']}).to_excel(writer, sheet_name=re.search('.*:(.+)', subset).group(1).replace('/', '-'))\n",
    "        \n",
    "writer.save()"
   ]
  },
  {
   "cell_type": "markdown",
   "id": "34e8d4c2",
   "metadata": {},
   "source": [
    "### d4 vs d1 (18mo)"
   ]
  },
  {
   "cell_type": "code",
   "execution_count": null,
   "id": "48aae887",
   "metadata": {},
   "outputs": [],
   "source": [
    "adata_d0147_18mo = adata_d0147[adata_d0147.obs['stage']=='18mo']"
   ]
  },
  {
   "cell_type": "code",
   "execution_count": null,
   "id": "23aba57c",
   "metadata": {
    "scrolled": true
   },
   "outputs": [],
   "source": [
    "writer = pd.ExcelWriter('adata_d0147_18mo_d4vsd1_wilcox.xlsx', engine='xlsxwriter')\n",
    "\n",
    "for subset in [\"0:arEC\", \"1:capEC\", \"2:venEC\", \"3:capsFB\", \"4:intFB\", \"5:medFB\", \"6:MEC\", \"7:vSMC/PC\", \"8:nmSC\",\"9:Fat\", \"10:aaTEC1\",  \"11:aaTEC2\",           \n",
    "               \"12:cTEC\", \"12:early Pr\", \"13:mTEC1\", \"14:mTEC-prol\", \"15:mTEC2\", \"16:mimetic(basal)\", \"17:mimetic(tuft)\", \"18:mimetic(neuroendo)\", \"19:mimetic(goblet)\", \"20:mimetic(microfold)\"]:   \n",
    "    sc.tl.rank_genes_groups(adata_d0147_18mo, 'day_and_subset', groups=['d4_'+subset], reference='d1_'+subset, method='wilcoxon', use_raw=False)\n",
    "    result = adata_d0147_18mo.uns['rank_genes_groups']\n",
    "    groups = result['names'].dtype.names\n",
    "    pd.DataFrame(\n",
    "        {group + '_' + key[:1]: result[key][group]\n",
    "        for group in groups for key in ['names', 'scores', 'logfoldchanges', 'pvals_adj']}).to_excel(writer, sheet_name=re.search('.*:(.+)', subset).group(1).replace('/', '-'))\n",
    "        \n",
    "writer.save()"
   ]
  },
  {
   "cell_type": "markdown",
   "id": "15d1d5b3",
   "metadata": {},
   "source": [
    "### d7 vs d1 (18mo)"
   ]
  },
  {
   "cell_type": "code",
   "execution_count": null,
   "id": "904f78db",
   "metadata": {
    "scrolled": true
   },
   "outputs": [],
   "source": [
    "writer = pd.ExcelWriter('adata_d0147_18mo_d7vsd1_wilcox.xlsx', engine='xlsxwriter')\n",
    "\n",
    "for subset in [\"0:arEC\", \"1:capEC\", \"2:venEC\", \"3:capsFB\", \"4:intFB\", \"5:medFB\", \"6:MEC\", \"7:vSMC/PC\", \"8:nmSC\",\"9:Fat\", \"10:aaTEC1\",  \"11:aaTEC2\",           \n",
    "               \"12:cTEC\", \"12:early Pr\", \"13:mTEC1\", \"14:mTEC-prol\", \"15:mTEC2\", \"16:mimetic(basal)\", \"17:mimetic(tuft)\", \"18:mimetic(neuroendo)\", \"19:mimetic(goblet)\", \"20:mimetic(microfold)\"]:   \n",
    "    sc.tl.rank_genes_groups(adata_d0147_18mo, 'day_and_subset', groups=['d7_'+subset], reference='d1_'+subset, method='wilcoxon', use_raw=False)\n",
    "    result = adata_d0147_18mo.uns['rank_genes_groups']\n",
    "    groups = result['names'].dtype.names\n",
    "    pd.DataFrame(\n",
    "        {group + '_' + key[:1]: result[key][group]\n",
    "        for group in groups for key in ['names', 'scores', 'logfoldchanges', 'pvals_adj']}).to_excel(writer, sheet_name=re.search('.*:(.+)', subset).group(1).replace('/', '-'))\n",
    "        \n",
    "writer.save()"
   ]
  },
  {
   "cell_type": "markdown",
   "id": "d3b5d9dc",
   "metadata": {},
   "source": [
    "### Dotchart using score and fdr from wilcox"
   ]
  },
  {
   "cell_type": "code",
   "execution_count": null,
   "id": "59a667bf",
   "metadata": {},
   "outputs": [],
   "source": [
    "%load_ext rpy2.ipython"
   ]
  },
  {
   "cell_type": "code",
   "execution_count": null,
   "id": "8e97758b",
   "metadata": {},
   "outputs": [],
   "source": [
    "%R if (!require(\"pacman\")) install.packages(\"pacman\")\n",
    "%R pacman::p_load(scales, data.table, openxlsx, ggplot2, ggpubr, RColorBrewer, dichromat, readxl, pheatmap, dplyr, stringr, parallel)"
   ]
  },
  {
   "cell_type": "code",
   "execution_count": null,
   "id": "1e4f20be",
   "metadata": {},
   "outputs": [],
   "source": [
    "%%R \n",
    "\n",
    "# read in all available excel sheet names \n",
    "wilcox_results = excel_sheets('adata_d0147_02mo_d7_wilcox.xlsx')\n",
    "\n",
    "rnk_items_list = NULL\n",
    "\n",
    "for (item in wilcox_results) {\n",
    "      wilcox_result <- read_excel('adata_d0147_02mo_d7_wilcox.xlsx', sheet = item)\n",
    "      rnk_item = na.omit(wilcox_result[,c(2,3)])\n",
    "      rnk_item_sorted = rnk_item[order(rnk_item[,2], decreasing = TRUE),]\n",
    "      colnames(rnk_item_sorted)[1] = '#primerid' # comment out header\n",
    "      colnames(rnk_item_sorted)[2] = '#rank_score' # comment out header\n",
    "      rnk_items_list[[item]] = rnk_item_sorted\n",
    "      write.table(rnk_item_sorted, file = paste0('../output/gsea_items/input_ranks/d7d4vsd1/wilcox_result_', item, '_d7vsd1_02mo.rnk'), sep='\\t', row.names = FALSE, quote = FALSE)\n",
    "}\n",
    "\n",
    "# read in all available excel sheet names \n",
    "wilcox_results = excel_sheets('adata_d0147_02mo_d4_wilcox.xlsx')\n",
    "\n",
    "rnk_items_list = NULL\n",
    "\n",
    "for (item in wilcox_results) {\n",
    "      wilcox_result <- read_excel('adata_d0147_02mo_d4_wilcox.xlsx', sheet = item)\n",
    "      rnk_item = na.omit(wilcox_result[,c(2,3)])\n",
    "      rnk_item_sorted = rnk_item[order(rnk_item[,2], decreasing = TRUE),]\n",
    "      colnames(rnk_item_sorted)[1] = '#primerid' # comment out header\n",
    "      colnames(rnk_item_sorted)[2] = '#rank_score' # comment out header\n",
    "      rnk_items_list[[item]] = rnk_item_sorted\n",
    "      write.table(rnk_item_sorted, file = paste0('../output/gsea_items/input_ranks/d7d4vsd1/wilcox_result_', item, '_d4vsd1_02mo.rnk'), sep='\\t', row.names = FALSE, quote = FALSE)\n",
    "}\n",
    "\n",
    "\n",
    "# read in all available excel sheet names \n",
    "wilcox_results = excel_sheets('adata_d0147_18mo_d7_wilcox.xlsx')\n",
    "\n",
    "rnk_items_list = NULL\n",
    "\n",
    "for (item in wilcox_results) {\n",
    "      wilcox_result <- read_excel('adata_d0147_18mo_d7_wilcox.xlsx', sheet = item)\n",
    "      rnk_item = na.omit(wilcox_result[,c(2,3)])\n",
    "      rnk_item_sorted = rnk_item[order(rnk_item[,2], decreasing = TRUE),]\n",
    "      colnames(rnk_item_sorted)[1] = '#primerid' # comment out header\n",
    "      colnames(rnk_item_sorted)[2] = '#rank_score' # comment out header\n",
    "      rnk_items_list[[item]] = rnk_item_sorted\n",
    "      write.table(rnk_item_sorted, file = paste0('../output/gsea_items/input_ranks/d7d4vsd1/wilcox_result_', item, '_d7vsd1_18mo.rnk'), sep='\\t', row.names = FALSE, quote = FALSE)\n",
    "}\n",
    "\n",
    "\n",
    "# read in all available excel sheet names \n",
    "wilcox_results = excel_sheets('adata_d0147_18mo_d4_wilcox.xlsx')\n",
    "\n",
    "rnk_items_list = NULL\n",
    "\n",
    "for (item in wilcox_results) {\n",
    "      wilcox_result <- read_excel('adata_d0147_18mo_d4_wilcox.xlsx', sheet = item)\n",
    "      rnk_item = na.omit(wilcox_result[,c(2,3)])\n",
    "      rnk_item_sorted = rnk_item[order(rnk_item[,2], decreasing = TRUE),]\n",
    "      colnames(rnk_item_sorted)[1] = '#primerid' # comment out header\n",
    "      colnames(rnk_item_sorted)[2] = '#rank_score' # comment out header\n",
    "      rnk_items_list[[item]] = rnk_item_sorted\n",
    "      write.table(rnk_item_sorted, file = paste0('../output/gsea_items/input_ranks/d7d4vsd1/wilcox_result_', item, '_d4vsd1_18mo.rnk'), sep='\\t', row.names = FALSE, quote = FALSE)\n",
    "}"
   ]
  },
  {
   "cell_type": "code",
   "execution_count": null,
   "id": "efd7876e",
   "metadata": {},
   "outputs": [],
   "source": [
    "%%R \n",
    "\n",
    "wilcox_results_combined = NULL\n",
    "\n",
    "for (selected_comparison in c('adata_d0147_02mo_d4vsd1_wilcox.xlsx', 'adata_d0147_02mo_d7vsd1_wilcox.xlsx', 'adata_d0147_18mo_d4vsd1_wilcox.xlsx', 'adata_d0147_18mo_d7vsd1_wilcox.xlsx')) {\n",
    "    wilcox_results = excel_sheets(selected_comparison)\n",
    "    for (item in wilcox_results) {\n",
    "        wilcox_result <- read_excel(selected_comparison, sheet = item)\n",
    "        colnames(wilcox_result) <- c('index', 'name', 'score', 'log2_fc', 'p_adj')\n",
    "        wilcox_result$p_adj[wilcox_result$p_adj == 0] <- min(wilcox_result$p_adj[wilcox_result$p_adj>0])\n",
    "        wilcox_result$`-log10(p_adj)` = (-log(wilcox_result$p_adj, 10))\n",
    "        wilcox_result$subset = item\n",
    "        wilcox_result$comparison = selected_comparison\n",
    "        wilcox_result_sorted = wilcox_result[order(wilcox_result$score, decreasing = TRUE),]\n",
    "        wilcox_result_sorted = wilcox_result_sorted[wilcox_result_sorted$p_adj<=0.05,]\n",
    "        wilcox_results_combined = bind_rows(wilcox_results_combined, wilcox_result_sorted) # select # of top genes per subset \n",
    "    }\n",
    "}"
   ]
  },
  {
   "cell_type": "code",
   "execution_count": null,
   "id": "5d0a396e",
   "metadata": {},
   "outputs": [],
   "source": [
    "%%R\n",
    "\n",
    "L <- c('Foxn1', 'Dll4', 'Cxcl12',\t'Ccl19',\t'Ccl21a',\t'Ccl25','Fgf7', \t'Fgf1',\t'Fgf2',\t\t'Fgf10',\t'Fgf18',\t'Fgf21',\t'Bmp4',\t'Bmp7',\t'Flt3l',\t'Kitl')\n",
    "tt = wilcox_results_combined[wilcox_results_combined$name %in% L,]\n",
    "\n",
    "tt$name <- factor(tt$name, levels = rev(c('Bmp7',\t'Bmp4',\t'Flt3l',\t'Kitl',  'Fgf18', 'Fgf7', 'Fgf2',\t'Fgf10', 'Fgf1','Fgf21', 'Dll4', 'Cxcl12',\t'Ccl19',\t'Ccl21a',\t'Ccl25', 'Foxn1')))\n",
    "tt$subset <- factor(tt$subset, levels = c('capsFB', 'intFB', 'medFB', 'MEC', 'vSMC-PC', 'nmSC' , 'arEC', 'capEC', 'venEC', 'aaTEC1', 'early Pr', 'cTEC',  'mTEC1', 'mTEC-prol', 'mTEC2'))\n",
    "\n",
    "tt$squishedZ = squish(tt$score, range=c(-3, 3), only.finite=TRUE)\n"
   ]
  },
  {
   "cell_type": "code",
   "execution_count": null,
   "id": "33be37d5",
   "metadata": {},
   "outputs": [],
   "source": [
    "%%R -w 24 -h 24 -u cm\n",
    "\n",
    "pdf(\"dotplot_Zscore_d74vsd1_L_alt.pdf\", width=6.75, height=7.15)\n",
    "\n",
    "print(ggdotchart(tt, x='name', y='subset', group = 'subset',rotate=TRUE, color='squishedZ',  size = '-log10(p_adj)', facet.by='comparison', sorting='none', xlab = \"\",  ylab = \"\") +\n",
    "scale_color_gradientn(colours = dichromat::colorschemes$BluetoGreen.14) +  \n",
    "theme_pubr() + theme(legend.position='right', axis.text.x = element_text(angle = 90, vjust = 0.5, hjust=1)))\n",
    "dev.off() "
   ]
  }
 ],
 "metadata": {
  "kernelspec": {
   "display_name": "Python 3 (ipykernel)",
   "language": "python",
   "name": "python3"
  },
  "language_info": {
   "codemirror_mode": {
    "name": "ipython",
    "version": 3
   },
   "file_extension": ".py",
   "mimetype": "text/x-python",
   "name": "python",
   "nbconvert_exporter": "python",
   "pygments_lexer": "ipython3",
   "version": "3.8.13"
  }
 },
 "nbformat": 4,
 "nbformat_minor": 5
}
