{
 "cells": [
  {
   "cell_type": "markdown",
   "id": "4d30d553",
   "metadata": {},
   "source": [
    "# 05 GSEA+Cytoscape"
   ]
  },
  {
   "cell_type": "markdown",
   "id": "f910362f",
   "metadata": {},
   "source": [
    "## Notebook setup"
   ]
  },
  {
   "cell_type": "code",
   "execution_count": 1,
   "id": "32ce7cea",
   "metadata": {
    "scrolled": true
   },
   "outputs": [
    {
     "name": "stderr",
     "output_type": "stream",
     "text": [
      "findfont: Font family ['Raleway'] not found. Falling back to DejaVu Sans.\n",
      "findfont: Font family ['Lato'] not found. Falling back to DejaVu Sans.\n",
      "/Users/akousa/opt/anaconda3/envs/KousaJahnZhao_et_al_2023/lib/python3.8/site-packages/tqdm/auto.py:22: TqdmWarning: IProgress not found. Please update jupyter and ipywidgets. See https://ipywidgets.readthedocs.io/en/stable/user_install.html\n",
      "  from .autonotebook import tqdm as notebook_tqdm\n"
     ]
    },
    {
     "name": "stdout",
     "output_type": "stream",
     "text": [
      "scanpy==1.9.1 anndata==0.8.0 umap==0.5.3 numpy==1.20.2 scipy==1.5.3 pandas==1.4.4 scikit-learn==1.1.2 statsmodels==0.13.2 python-igraph==0.9.11 pynndescent==0.5.7\n"
     ]
    }
   ],
   "source": [
    "import scanpy as sc\n",
    "import scanpy.external as sce\n",
    "import numpy as np\n",
    "import pandas as pd\n",
    "import warnings, scipy.sparse as sp, matplotlib, matplotlib.pyplot as plt\n",
    "from matplotlib.colors import LinearSegmentedColormap\n",
    "from matplotlib.pyplot import rc_context\n",
    "from collections import Counter\n",
    "import matplotlib.font_manager\n",
    "import openpyxl\n",
    "import pyreadr\n",
    "import rpy2\n",
    "from rpy2.robjects.packages import importr\n",
    "import rpy2.robjects as robjects\n",
    "#import magic\n",
    "#import seaborn as sns\n",
    "import palantir\n",
    "import loompy\n",
    "import feather\n",
    "import re\n",
    "#from scipy.sparse import csgraph\n",
    "\n",
    "matplotlib.rcParams['pdf.fonttype'] = 42\n",
    "matplotlib.rcParams['ps.fonttype'] = 42\n",
    "matplotlib.rcParams['font.family'] = 'sans-serif'\n",
    "matplotlib.rcParams['font.sans-serif'] = 'Arial'\n",
    "matplotlib.rc('font', size=14)\n",
    "import matplotlib.lines as lines\n",
    "\n",
    "pd.set_option('display.max_rows', 200)\n",
    "\n",
    "sc.set_figure_params(dpi=80, dpi_save=300, color_map='Spectral_r', vector_friendly=True, transparent=True)\n",
    "sc.settings.verbosity = 3 # verbosity: errors (0), warnings (1), info (2), hints (3)\n",
    "sc.logging.print_header()\n",
    "\n",
    "warnings.filterwarnings('ignore', category=UserWarning)\n",
    "warnings.filterwarnings('ignore', category=FutureWarning)"
   ]
  },
  {
   "cell_type": "code",
   "execution_count": 2,
   "id": "6c1b6c5b",
   "metadata": {},
   "outputs": [],
   "source": [
    "user_defined_palette =  [ '#F6222E', '#FEAF16','#3283FE','#BDCDFF', '#3B00FB', '#F8A19F', '#1CFFCE',  '#C4451C', \n",
    "                          '#2ED9FF', '#c1c119', '#8b0000', '#FE00FA', '#1CBE4F','#B5EFB5', '#0e452b', '#AA0DFE']"
   ]
  },
  {
   "cell_type": "code",
   "execution_count": 3,
   "id": "24b76d9c",
   "metadata": {},
   "outputs": [],
   "source": [
    "user_defined_cmap_markers = LinearSegmentedColormap.from_list('mycmap', [\"#E6E6FF\", \"#CCCCFF\", \"#B2B2FF\", \"#9999FF\",  \"#6666FF\",   \"#3333FF\", \"#0000FF\"])\n",
    "user_defined_cmap_degs = LinearSegmentedColormap.from_list('mycmap', [\"#0000FF\", \"#3333FF\", \"#6666FF\", \"#9999FF\", \"#B2B2FF\", \"#CCCCFF\", \"#E6E6FF\", \"#E6FFE6\", \"#CCFFCC\", \"#B2FFB2\", \"#99FF99\", \"#66FF66\", \"#33FF33\", \"#00FF00\"])"
   ]
  },
  {
   "cell_type": "code",
   "execution_count": 4,
   "id": "29947c70",
   "metadata": {},
   "outputs": [],
   "source": [
    "%matplotlib inline "
   ]
  },
  {
   "cell_type": "markdown",
   "id": "92807bd1",
   "metadata": {},
   "source": [
    "## Load annotated Figure 1"
   ]
  },
  {
   "cell_type": "code",
   "execution_count": 5,
   "id": "5353dd26",
   "metadata": {},
   "outputs": [],
   "source": [
    "path_to_h5ad = '../output/anndata_io/Fig1pt1_annotated.h5ad'"
   ]
  },
  {
   "cell_type": "code",
   "execution_count": 6,
   "id": "729acac6",
   "metadata": {},
   "outputs": [],
   "source": [
    "adata_d0 = sc.read_h5ad(path_to_h5ad)\n",
    "adata_d0.uns['log1p'][\"base\"] = None"
   ]
  },
  {
   "cell_type": "code",
   "execution_count": 7,
   "id": "999bc8ea",
   "metadata": {},
   "outputs": [
    {
     "data": {
      "text/plain": [
       "(22932, 27657)"
      ]
     },
     "execution_count": 7,
     "metadata": {},
     "output_type": "execute_result"
    }
   ],
   "source": [
    "adata_d0.shape"
   ]
  },
  {
   "cell_type": "markdown",
   "id": "acbff9ed",
   "metadata": {},
   "source": [
    "## Differential expression analysis"
   ]
  },
  {
   "cell_type": "markdown",
   "id": "da4a708c",
   "metadata": {},
   "source": [
    "### All subset markers"
   ]
  },
  {
   "cell_type": "code",
   "execution_count": null,
   "id": "51bbcbdb",
   "metadata": {},
   "outputs": [],
   "source": [
    "sc.tl.rank_genes_groups(adata_d0, 'cell_type_subset', method='wilcoxon', use_raw=False)"
   ]
  },
  {
   "cell_type": "code",
   "execution_count": null,
   "id": "bcf5ef74",
   "metadata": {},
   "outputs": [],
   "source": [
    "writer = pd.ExcelWriter('../output/wilcox_items/adata_d0_wilcox.xlsx', engine='xlsxwriter')\n",
    "\n",
    "# top 5 differentially expressed genes for each cell type. Change number in brackets to get a more extended gene list\n",
    "result = adata_d0.uns['rank_genes_groups']\n",
    "groups = result['names'].dtype.names\n",
    "pd.DataFrame(\n",
    "    {group + '_' + key[:1]: result[key][group]\n",
    "    for group in groups for key in ['names', 'scores', 'logfoldchanges', 'pvals_adj']}).to_excel(writer)\n",
    "\n",
    "writer.save()"
   ]
  },
  {
   "cell_type": "markdown",
   "id": "3ff4e0a1",
   "metadata": {},
   "source": [
    "### 18mo vs 02mo"
   ]
  },
  {
   "cell_type": "code",
   "execution_count": null,
   "id": "e292ad39",
   "metadata": {},
   "outputs": [],
   "source": [
    "adata_d0.obs['stage_and_subset'] = ''\n",
    "adata_d0.obs['stage_and_subset'] = adata_d0.obs[['stage', 'cell_type_subset']].agg('_'.join, axis=1)"
   ]
  },
  {
   "cell_type": "code",
   "execution_count": null,
   "id": "a2f281e4",
   "metadata": {},
   "outputs": [],
   "source": [
    "writer = pd.ExcelWriter('adata_18vs02mo_d0_wilcox.xlsx', engine='xlsxwriter')\n",
    "\n",
    "for subset in [\"0:arEC\", \"1:capEC\", \"2:venEC\", \"3:capsFB\", \"4:intFB\", \"5:medFB\", \"6:MEC\", \"7:vSMC/PC\", \"8:nmSC\",\"9:Fat\", \"10:aaTEC1\",  \"11:aaTEC2\",  \"12:cTEC\", \"12:early Pr\",         \n",
    "              \"13:mTEC1\", \"14:mTEC-prol\", \"15:mTEC2\", \"16:mimetic(basal)\", \"17:mimetic(tuft)\", \"18:mimetic(neuroendo)\", \"19:mimetic(goblet)\", \"20:mimetic(microfold)\"]:   \n",
    "    sc.tl.rank_genes_groups(adata_d0, 'stage_and_subset', groups=['18mo_'+subset], reference='02mo_'+subset, method='wilcoxon', use_raw=False)\n",
    "    result = adata_d0.uns['rank_genes_groups']\n",
    "    groups = result['names'].dtype.names\n",
    "    pd.DataFrame(\n",
    "        {group + '_' + key[:1]: result[key][group]\n",
    "        for group in groups for key in ['names', 'scores', 'logfoldchanges', 'pvals_adj']}).to_excel(writer, sheet_name=re.search('.*:(.+)', subset).group(1).replace('/', '-'))\n",
    "        \n",
    "writer.save()"
   ]
  },
  {
   "cell_type": "markdown",
   "id": "eef98eb6",
   "metadata": {},
   "source": [
    "## Convert wilcoxon results to GSEA ranks"
   ]
  },
  {
   "cell_type": "code",
   "execution_count": null,
   "id": "aab7f4d4",
   "metadata": {},
   "outputs": [],
   "source": [
    "%load_ext rpy2.ipython"
   ]
  },
  {
   "cell_type": "code",
   "execution_count": null,
   "id": "d6fff4d1",
   "metadata": {},
   "outputs": [],
   "source": [
    "%R if (!require(\"pacman\")) install.packages(\"pacman\")\n",
    "%R pacman::p_load(MAST, scales, data.table, openxlsx, ggplot2, ggpubr, RColorBrewer, dichromat, readxl, ggpubr, pheatmap, dplyr, arrow, feather, DelayedArray, HDF5Array, stringr, parallel)"
   ]
  },
  {
   "cell_type": "code",
   "execution_count": null,
   "id": "77376c31",
   "metadata": {},
   "outputs": [],
   "source": [
    "%%R \n",
    "\n",
    "# read in all available excel sheet names\n",
    "\n",
    "wilcox_results = excel_sheets('adata_18vs02mo_d0_wilcox.xlsx')\n",
    "\n",
    "rnk_items_list = NULL\n",
    "\n",
    "for (item in wilcox_results) {\n",
    "      wilcox_result <- read_excel('adata_18vs02mo_d0_wilcox.xlsx', sheet = item)\n",
    "      rnk_item = na.omit(wilcox_result[,c(2,3)])\n",
    "      rnk_item_sorted = rnk_item[order(rnk_item[,2], decreasing = TRUE),]\n",
    "      colnames(rnk_item_sorted)[1] = '#primerid' # comment out header\n",
    "      colnames(rnk_item_sorted)[2] = '#rank_score' # comment out header\n",
    "      rnk_items_list[[item]] = rnk_item_sorted\n",
    "      write.table(rnk_item_sorted, file = paste0('../output/metadata/gsea_items/input_ranks/wilcox_result_', item, '.rnk'), sep='\\t', row.names = FALSE, quote = FALSE)\n",
    "}"
   ]
  },
  {
   "cell_type": "markdown",
   "id": "d3b5d9dc",
   "metadata": {},
   "source": [
    "## Dotchart using score and fdr from wilcox"
   ]
  },
  {
   "cell_type": "code",
   "execution_count": null,
   "id": "c4375f5c",
   "metadata": {},
   "outputs": [],
   "source": [
    "%%R \n",
    "\n",
    "wilcox_results = excel_sheets('../output/wilcox_items/adata_18vs02mo_d0_wilcox.xlsx')\n",
    "wilcox_results_combined = NULL\n",
    "for (item in wilcox_results) {\n",
    "    wilcox_result <- read_excel('adata_18vs02mo_d0_wilcox.xlsx', sheet = item)\n",
    "    colnames(wilcox_result) <- c('index', 'name', 'score', 'log2_fc', 'p_adj')\n",
    "    wilcox_result$p_adj[wilcox_result$p_adj == 0] <- min(wilcox_result$p_adj[wilcox_result$p_adj>0])\n",
    "    wilcox_result$`-log10(p_adj)` = -log(wilcox_result$p_adj, 10)\n",
    "    wilcox_result$subset = item\n",
    "    wilcox_result_sorted = wilcox_result[order(wilcox_result$score, decreasing = TRUE),]\n",
    "    wilcox_result_sorted = wilcox_result_sorted[wilcox_result_sorted$p_adj<=0.05,]\n",
    "    wilcox_results_combined = bind_rows(wilcox_results_combined, wilcox_result_sorted) # select # of top genes per subset \n",
    "}"
   ]
  },
  {
   "cell_type": "code",
   "execution_count": null,
   "id": "596640a4",
   "metadata": {},
   "outputs": [],
   "source": [
    "%%R\n",
    "\n",
    "L <- c('Foxn1', 'Dll4', 'Cxcl12', 'Ccl19', 'Ccl21a', 'Ccl25', 'Fgf1', 'Fgf2', 'Fgf7', 'Fgf10', 'Fgf18', 'Fgf21', 'Bmp4', 'Bmp7', 'Flt3l', 'Kitl')\n",
    "'Foxn1', 'Dll4', 'Cxcl12',\t'Ccl19',\t'Ccl21a',\t'Ccl25','Fgf7', \t'Fgf1',\t'Fgf2',\t\t'Fgf10',\t'Fgf18',\t'Fgf21',\t'Bmp4',\t'Bmp7',\t'Flt3l',\t'Kitl'"
   ]
  },
  {
   "cell_type": "code",
   "execution_count": null,
   "id": "9fc3f278",
   "metadata": {},
   "outputs": [],
   "source": [
    "%%R \n",
    "tt = wilcox_results_combined[wilcox_results_combined$name %in% L,]\n",
    "tt$name <- factor(tt$name, levels = rev(c('Bmp7',\t'Bmp4',\t'Flt3l',\t'Kitl',  'Fgf18', 'Fgf7', 'Fgf2',\t'Fgf10', 'Fgf1','Fgf21', 'Dll4', 'Cxcl12',\t'Ccl19',\t'Ccl21a',\t'Ccl25', 'Foxn1')))\n",
    "tt$subset <- factor(tt$subset, levels = c('capsFB', 'intFB', 'medFB', 'MEC', 'capEC', 'cTEC', 'mTEC1', 'mTEC-prol', 'mTEC2'))\n",
    "tt$squishedZ = squish(tt$score, range=c(-3, 3), only.finite=TRUE)"
   ]
  },
  {
   "cell_type": "code",
   "execution_count": null,
   "id": "282f5930",
   "metadata": {},
   "outputs": [],
   "source": [
    "%%R -w 10.5 -h 10 -u cm\n",
    "\n",
    "pdf(\"dotplot_Zscore_d0_L_alt.pdf\", width=3.75, height=3.35)\n",
    "# plot marker genes in a dotplot format \n",
    "# use BluetoGreen.14 colorscheme for degs\n",
    "print(ggdotchart(tt, x='name', y='subset', group = 'subset',rotate=TRUE, color='squishedZ', size = '-log10(p_adj)', sorting='none', xlab = \"\",  ylab = \"\") +\n",
    "scale_color_gradientn(colours = dichromat::colorschemes$BluetoGreen.14) +  \n",
    "theme_pubr() + theme(legend.position='right', axis.text.x = element_text(angle = 90, vjust = 0.5, hjust=1)))\n",
    "\n",
    "dev.off() #"
   ]
  },
  {
   "cell_type": "markdown",
   "id": "1d6c6bd3",
   "metadata": {},
   "source": [
    "## Cytoscape summarized results"
   ]
  },
  {
   "cell_type": "code",
   "execution_count": null,
   "id": "a8f6210e",
   "metadata": {},
   "outputs": [],
   "source": [
    "%%R\n",
    "\n",
    "fromNetwork <- read_excel(\"../output/cytoscape_items/18vs02mo_m5_annotated_NEW.xlsx\", sheet=\"without NAs\")\n",
    "fromNetwork_clean <- select(fromNetwork, -contains(c(\"::Dataset_Chart\", \"::Genes\", \"::GS_DESCR\", \"::Name\", \"shared name\", \"selected\", \n",
    "                                                     \"::GS_Type\", \"Colouring\", \"::ES\", \"::fwer_qvalue\", \"::pvalue\",\n",
    "                                                      \"aaTEC1\", \"aaTEC2\", \"Fat\", \"nmSC\"\n",
    "                                                )))\n",
    "#      \"aaTEC1\", \"aaTEC2\", \"Fat\", \"MEC\", \"nmSC\", \"PCvSMC\"\n",
    "fromNetwork_clean$minFDR <- apply(select(fromNetwork_clean, contains(c(\"EnrichmentMap::fdr_qvalue\"))), 1, FUN = min)\n",
    "\n",
    "fromNetwork_clean = as_tibble(fromNetwork_clean %>% group_by(annotation_BP) %>% \n",
    "   slice_min(order_by = minFDR, n=5, with_ties=FALSE))\n",
    "\n",
    "forDotplot <- as_tibble(lapply(select(fromNetwork_clean, contains(c(\"gs_size\", \"name\", \"annotation_BP\", \"minFDR\")))  , rep, ncol(select(fromNetwork_clean,starts_with(\"EnrichmentMap::fdr_qvalue\")))))\n",
    "\n",
    "tmpFDR = NULL\n",
    "FDR=NULL\n",
    "tmpNES = NULL\n",
    "NES=NULL\n",
    "tmp_subset = NULL\n",
    "subset=NULL\n",
    "\n",
    "\n",
    "# append (in order) all FDR columns and all NES columns\n",
    "for (i in c(1:ncol(select(fromNetwork_clean ,starts_with(\"EnrichmentMap::fdr_qvalue\"))))) {\n",
    "  tmpFDR = select(fromNetwork_clean,starts_with(\"EnrichmentMap::fdr_qvalue\"))[i]\n",
    "  colnames(tmpFDR) = \"FDR\"\n",
    "  FDR = rbind(FDR, tmpFDR)\n",
    "}\n",
    "\n",
    "for (i in c(1:ncol(select(fromNetwork_clean,starts_with(\"EnrichmentMap::NES\"))))) {\n",
    "  tmpNES = select(fromNetwork_clean,starts_with(\"EnrichmentMap::NES\"))[i]\n",
    "  colnames(tmpNES) = \"NES\"\n",
    "  NES = rbind(NES, tmpNES) \n",
    "}\n",
    "\n",
    "forDotplot$NES = NES$NES\n",
    "forDotplot$FDR = FDR$FDR\n",
    "\n",
    "forDotplot$subset = rep(str_replace(colnames(select(fromNetwork_clean,starts_with(\"EnrichmentMap::NES\"))), \"EnrichmentMap::NES \", \"\"), each=nrow(fromNetwork_clean))\n",
    "forDotplot$subset <- str_replace(forDotplot$subset, \" - 18mo vs 02mo\", \"\")\n",
    "#forDotplot$subset <- str_replace(forDotplot$subset, \"(\", \"\")\n",
    "\n",
    "colnames(forDotplot) <- c(\"gs_size\", \"name\", \"group\", \"minFDR\", \"NES\", \"FDR\", \"subset\")\n",
    "forDotplot$FDR[forDotplot$FDR>0.05] <- NA\n",
    "forDotplot$FDRtr = -log(forDotplot$FDR+0.00001,10)\n",
    "print(levels(factor(forDotplot$subset)))\n",
    "forDotplot$subset <- factor(forDotplot$subset, levels = c(\"(capsFB)\", \"(intFB)\", \"(medFB)\", \"(MEC)\", \"(vSMCPC)\",  \"(arEC)\", \"(capEC)\", \"(venEC)\",  \"(early Pr)\", \"(cTEC)\",  \"(mTEC1)\", \"(mTECprol)\", \"(mTEC2)\", \"(mimetic(basal))\", \"(mimetic(tuft))\", \"(mimetic(neuroendo))\", \"(mimetic(goblet))\", \"(mimetic(microfold))\"))\n",
    "\n",
    "forDotplot = arrange(forDotplot, desc(group), desc(FDR))\n",
    "print(forDotplot)"
   ]
  },
  {
   "cell_type": "code",
   "execution_count": null,
   "id": "fbb37b6f",
   "metadata": {},
   "outputs": [],
   "source": [
    "%%R -w 23.5 -h 27 -u cm \n",
    "\n",
    "pdf(\"~/Desktop/dotplot_pathways_d0_top5_NEW_m5.pdf\", width=9.5, height=9.5)\n",
    "\n",
    "print(ggdotchart(forDotplot %>% na.omit(),  x='name', y='subset', group = 'group',  size='FDRtr', rotate=TRUE, color = 'NES', xlab = \"\", ylab = \"\", sorting = \"none\") +\n",
    "  scale_colour_gradientn(colours = dichromat::colorschemes$BluetoGreen.14) +\n",
    "  theme_pubclean() + theme(axis.text.x = element_text(face =\"bold\", angle = 90), axis.text.y = element_text(size =6)) +\n",
    "  theme(legend.position = \"right\", panel.background = element_rect(colour = \"black\",size = 1, linetype = \"solid\"))) #+ \n",
    "dev.off() "
   ]
  }
 ],
 "metadata": {
  "kernelspec": {
   "display_name": "Python 3 (ipykernel)",
   "language": "python",
   "name": "python3"
  },
  "language_info": {
   "codemirror_mode": {
    "name": "ipython",
    "version": 3
   },
   "file_extension": ".py",
   "mimetype": "text/x-python",
   "name": "python",
   "nbconvert_exporter": "python",
   "pygments_lexer": "ipython3",
   "version": "3.8.13"
  }
 },
 "nbformat": 4,
 "nbformat_minor": 5
}
