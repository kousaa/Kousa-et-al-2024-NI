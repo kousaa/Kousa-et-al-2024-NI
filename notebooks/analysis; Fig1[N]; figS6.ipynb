{
 "cells": [
  {
   "cell_type": "code",
   "execution_count": null,
   "metadata": {},
   "outputs": [],
   "source": [
    "import scanpy as sc\n",
    "import scanpy.external as sce\n",
    "import numpy as np\n",
    "import pandas as pd\n",
    "import warnings, scipy.sparse as sp, matplotlib, matplotlib.pyplot as plt\n",
    "from matplotlib.colors import LinearSegmentedColormap\n",
    "from matplotlib.pyplot import rc_context\n",
    "from collections import Counter\n",
    "import matplotlib.font_manager\n",
    "import pyreadr\n",
    "import rpy2\n",
    "from rpy2.robjects.packages import importr\n",
    "import rpy2.robjects as robjects\n",
    "import magic\n",
    "#import seaborn as sns\n",
    "import palantir\n",
    "import loompy\n",
    "#from scipy.sparse import csgraph\n",
    "\n",
    "matplotlib.rcParams['pdf.fonttype'] = 42\n",
    "matplotlib.rcParams['ps.fonttype'] = 42\n",
    "matplotlib.rcParams['font.family'] = 'sans-serif'\n",
    "matplotlib.rcParams['font.sans-serif'] = 'Arial'\n",
    "matplotlib.rc('font', size=14)\n",
    "import matplotlib.lines as lines\n",
    "\n",
    "pd.set_option('display.max_rows', 200)\n",
    "\n",
    "sc.set_figure_params(dpi=80, dpi_save=300, color_map='Spectral_r', vector_friendly=True, transparent=True)\n",
    "sc.settings.verbosity = 3 # verbosity: errors (0), warnings (1), info (2), hints (3)\n",
    "sc.logging.print_header()"
   ]
  },
  {
   "cell_type": "code",
   "execution_count": null,
   "metadata": {},
   "outputs": [],
   "source": [
    "# preset color palettes and color maps\n",
    "user_defined_palette =  [ '#F6222E', '#16FF32', '#3283FE', '#FEAF16', '#BDCDFF', '#3B00FB', '#1CFFCE', '#C075A6', '#F8A19F', '#B5EFB5', '#FBE426', '#C4451C', \n",
    "                          '#2ED9FF', '#c1c119', '#8b0000', '#FE00FA', '#1CBE4F', '#1C8356', '#0e452b', '#AA0DFE', '#B5EFB5', '#325A9B', '#90AD1C']\n",
    "\n",
    "user_defined_cmap_markers = LinearSegmentedColormap.from_list('mycmap', [\"#E6E6FF\", \"#CCCCFF\", \"#B2B2FF\", \"#9999FF\",  \"#6666FF\",   \"#3333FF\", \"#0000FF\"])\n",
    "user_defined_cmap_degs = LinearSegmentedColormap.from_list('mycmap', [\"#0000FF\", \"#3333FF\", \"#6666FF\", \"#9999FF\", \"#B2B2FF\", \"#CCCCFF\", \"#E6E6FF\", \"#E6FFE6\", \"#CCFFCC\", \"#B2FFB2\", \"#99FF99\", \"#66FF66\", \"#33FF33\", \"#00FF00\"])"
   ]
  },
  {
   "cell_type": "code",
   "execution_count": null,
   "metadata": {},
   "outputs": [],
   "source": [
    "path_to_h5ad = '../data/public/human_thymus/HTA08.v01.A05.Science_human_fig1.h5ad'"
   ]
  },
  {
   "cell_type": "code",
   "execution_count": null,
   "metadata": {},
   "outputs": [],
   "source": [
    "adata = sc.read_h5ad(path_to_h5ad)"
   ]
  },
  {
   "cell_type": "code",
   "execution_count": null,
   "metadata": {},
   "outputs": [],
   "source": [
    "adata.var_names_make_unique()"
   ]
  },
  {
   "cell_type": "code",
   "execution_count": null,
   "metadata": {},
   "outputs": [],
   "source": [
    "adata.shape"
   ]
  },
  {
   "cell_type": "code",
   "execution_count": null,
   "metadata": {},
   "outputs": [],
   "source": [
    "sc.pl.umap(\n",
    "    adata,\n",
    "    color= ['Age','Anno_level_1', 'Anno_level_fig1'],\n",
    "    color_map='Spectral_r',\n",
    "    frameon=False,\n",
    "    size=10,\n",
    "    add_outline=True,\n",
    "    sort_order=False,\n",
    "    ncols=3,\n",
    "    wspace=0.5\n",
    ")"
   ]
  },
  {
   "cell_type": "markdown",
   "metadata": {},
   "source": [
    "### Focus only on the cd45neg cells of postnatal and aged samples (>10 cells)"
   ]
  },
  {
   "cell_type": "code",
   "execution_count": null,
   "metadata": {},
   "outputs": [],
   "source": [
    "cd45neg = adata[((adata.obs['Anno_level_1']=='TEC') | (adata.obs['Anno_level_fig1']=='Endo') | (adata.obs['Anno_level_fig1']=='Fb_1') | (adata.obs['Anno_level_fig1']=='Fb_2') | (adata.obs['Anno_level_fig1']=='Fb_cycling')) &\n",
    "                ((adata.obs['Age']=='3m') | (adata.obs['Age']=='35y'))]"
   ]
  },
  {
   "cell_type": "code",
   "execution_count": null,
   "metadata": {},
   "outputs": [],
   "source": [
    "cd45neg.obs['stage'] = ['03mo' if (x=='3m') else '35yr' if (x=='35y') else 'error' for x in cd45neg.obs['Age'] ]"
   ]
  },
  {
   "cell_type": "code",
   "execution_count": null,
   "metadata": {},
   "outputs": [],
   "source": [
    "cd45neg.uns['stage_colors'] =  [ '#76D6FF','#FF8072'] # ['#F5B4AE', '#8FD6D9']"
   ]
  },
  {
   "cell_type": "code",
   "execution_count": null,
   "metadata": {},
   "outputs": [],
   "source": [
    "# Remove columns with all 0s\n",
    "sc.pp.filter_genes(cd45neg, min_cells=1)"
   ]
  },
  {
   "cell_type": "code",
   "execution_count": null,
   "metadata": {},
   "outputs": [],
   "source": [
    "sc.pp.highly_variable_genes(cd45neg, n_top_genes=2500, n_bins=20, flavor='seurat')"
   ]
  },
  {
   "cell_type": "code",
   "execution_count": null,
   "metadata": {},
   "outputs": [],
   "source": [
    "rng = np.random.RandomState(42)\n",
    "sc.tl.pca(cd45neg, n_comps=200, svd_solver='arpack', random_state=rng)"
   ]
  },
  {
   "cell_type": "code",
   "execution_count": null,
   "metadata": {},
   "outputs": [],
   "source": [
    "def observe_variance(anndata_object):\n",
    "    fig = plt.figure(figsize=(10,5))\n",
    "    ax1 = fig.add_subplot(121)\n",
    "    ax2 = fig.add_subplot(122)\n",
    "    # variance per principal component\n",
    "    x = range(len(anndata_object.uns['pca']['variance_ratio']))\n",
    "    y = anndata_object.uns['pca']['variance_ratio']\n",
    "    ax1.scatter(x,y,s=4)\n",
    "    ax1.set_xlabel('PC')\n",
    "    ax1.set_ylabel('Fraction of variance explained\\n')\n",
    "    ax1.set_title('Fraction of variance explained per PC\\n')\n",
    "    # cumulative variance explained\n",
    "    cml_var_explained = np.cumsum(anndata_object.uns['pca']['variance_ratio'])\n",
    "    x = range(len(anndata_object.uns['pca']['variance_ratio']))\n",
    "    y = cml_var_explained\n",
    "    ax2.scatter(x,y,s=4)\n",
    "    ax2.set_xlabel('PC')\n",
    "    ax2.set_ylabel('Cumulative fraction of variance\\nexplained')\n",
    "    ax2.set_title('Cumulative fraction of variance\\nexplained by PCs')\n",
    "    fig.tight_layout()\n",
    "    plot = plt.show\n",
    "    return(plot)\n",
    "observe_variance(cd45neg)"
   ]
  },
  {
   "cell_type": "code",
   "execution_count": null,
   "metadata": {},
   "outputs": [],
   "source": [
    "rng = np.random.RandomState(42)\n",
    "sc.tl.pca(cd45neg, n_comps=35, svd_solver='arpack', random_state=rng, use_highly_variable=True)"
   ]
  },
  {
   "cell_type": "code",
   "execution_count": null,
   "metadata": {},
   "outputs": [],
   "source": [
    "sce.pp.harmony_integrate(cd45neg, 'Age')"
   ]
  },
  {
   "cell_type": "code",
   "execution_count": null,
   "metadata": {},
   "outputs": [],
   "source": [
    "sc.pp.neighbors(cd45neg, n_neighbors=15, use_rep='X_pca_harmony')\n",
    "sc.tl.umap(cd45neg)"
   ]
  },
  {
   "cell_type": "code",
   "execution_count": null,
   "metadata": {},
   "outputs": [],
   "source": [
    "sc.pl.umap(\n",
    "    cd45neg,\n",
    "    color= ['EPCAM', 'PDGFRA',  'PECAM1', 'stage', 'Anno_level_fig1'],\n",
    "    color_map='Spectral_r', \n",
    "    use_raw=False, \n",
    "    ncols=5, \n",
    "    wspace = 0.3,\n",
    "    outline_width=[0.6, 0.05], \n",
    "    size=15,  \n",
    "    frameon=False, \n",
    "    add_outline=True, \n",
    "    sort_order = False)\n"
   ]
  },
  {
   "cell_type": "code",
   "execution_count": null,
   "metadata": {},
   "outputs": [],
   "source": [
    "for resolution_parameter in [0.1, 0.2, 0.3, 0.4, 0.5, 0.6, 0.7, 0.8, 0.9, 1.0]:\n",
    "    sc.tl.leiden(cd45neg, resolution=resolution_parameter, random_state=42, \n",
    "                        key_added='leiden_'+str(resolution_parameter))"
   ]
  },
  {
   "cell_type": "code",
   "execution_count": null,
   "metadata": {},
   "outputs": [],
   "source": [
    "sc.set_figure_params(dpi=80, dpi_save=300, color_map='viridis', vector_friendly=False, transparent=True)\n",
    "sc.pl.umap(\n",
    "    cd45neg, \n",
    "    color=['leiden_0.1', 'leiden_0.2', 'leiden_0.3', 'leiden_0.4', 'leiden_0.5', \n",
    "           'leiden_0.6', 'leiden_0.7', 'leiden_0.8','leiden_0.9', 'leiden_1.0'], \n",
    "    palette=user_defined_palette,  \n",
    "    color_map='Spectral_r', \n",
    "    use_raw=False,\n",
    "    ncols=5,\n",
    "    wspace = 0.3,\n",
    "    outline_width=[0.6, 0.05],\n",
    "    frameon=False,\n",
    "    add_outline=True,\n",
    "    sort_order = False\n",
    ")"
   ]
  },
  {
   "cell_type": "code",
   "execution_count": null,
   "metadata": {},
   "outputs": [],
   "source": [
    "cd45neg.obs['cell_type'] = ['TEC' if (x=='2' or x=='3' or x=='5' or x=='6' or x=='7') else \n",
    "                            'EC' if (x=='1' or x=='4' or x=='8') else\n",
    "                            'FB' if (x=='0') else 'ERROR' for x in cd45neg.obs['leiden_0.5']] "
   ]
  },
  {
   "cell_type": "code",
   "execution_count": null,
   "metadata": {},
   "outputs": [],
   "source": [
    "cd45neg.uns['cell_type_colors'] = [ '#ff7f0e','#199919', '#aa40fc']"
   ]
  },
  {
   "cell_type": "code",
   "execution_count": null,
   "metadata": {},
   "outputs": [],
   "source": [
    "sc.pl.umap(\n",
    "    cd45neg,\n",
    "    color= ['EPCAM', 'PDGFRA', 'PECAM1', 'stage', 'cell_type'],\n",
    "    color_map='Spectral_r', \n",
    "    use_raw=False, \n",
    "    ncols=5, \n",
    "    wspace = 0.3,\n",
    "    outline_width=[0.6, 0.05], \n",
    "    size=15,  \n",
    "    frameon=False, \n",
    "    add_outline=True, \n",
    "    sort_order = False)\n"
   ]
  },
  {
   "cell_type": "markdown",
   "metadata": {},
   "source": [
    "### Human ECs"
   ]
  },
  {
   "cell_type": "code",
   "execution_count": null,
   "metadata": {},
   "outputs": [],
   "source": [
    "EC = cd45neg[cd45neg.obs['cell_type']=='EC']"
   ]
  },
  {
   "cell_type": "code",
   "execution_count": null,
   "metadata": {},
   "outputs": [],
   "source": [
    "# Remove columns with all 0s\n",
    "sc.pp.filter_genes(EC, min_cells=1)"
   ]
  },
  {
   "cell_type": "code",
   "execution_count": null,
   "metadata": {},
   "outputs": [],
   "source": [
    "sc.pp.highly_variable_genes(EC, n_top_genes=2500, n_bins=20, flavor='seurat')"
   ]
  },
  {
   "cell_type": "code",
   "execution_count": null,
   "metadata": {},
   "outputs": [],
   "source": [
    "rng = np.random.RandomState(42)\n",
    "sc.tl.pca(EC, n_comps=200, svd_solver='arpack', random_state=rng)"
   ]
  },
  {
   "cell_type": "code",
   "execution_count": null,
   "metadata": {},
   "outputs": [],
   "source": [
    "observe_variance(EC)"
   ]
  },
  {
   "cell_type": "code",
   "execution_count": null,
   "metadata": {},
   "outputs": [],
   "source": [
    "rng = np.random.RandomState(42)\n",
    "sc.tl.pca(EC, n_comps=35, svd_solver='arpack', random_state=rng, use_highly_variable=True)"
   ]
  },
  {
   "cell_type": "code",
   "execution_count": null,
   "metadata": {},
   "outputs": [],
   "source": [
    "sce.pp.harmony_integrate(EC, 'Age')"
   ]
  },
  {
   "cell_type": "code",
   "execution_count": null,
   "metadata": {},
   "outputs": [],
   "source": [
    "sc.pp.neighbors(EC, n_neighbors=15, use_rep='X_pca_harmony')\n",
    "sc.tl.umap(EC)"
   ]
  },
  {
   "cell_type": "code",
   "execution_count": null,
   "metadata": {},
   "outputs": [],
   "source": [
    "arteries = ['8430408G22RIK', 'CLU', 'CRIP1', 'FBLN2', 'GJA4',  'HEY1', 'MECOM', 'SAT1', 'SEMA3G', 'SOX17', 'TM4SF1', 'TSC22D1'] \n",
    "capilaries = ['AW112010', 'BC028528', 'CAR4', 'CD200', 'CD300LG',  'GPIHBP1', 'KDR',  'RGCC',  'SGK1', 'SPARC']\n",
    "veins = ['APOE', 'BGN', 'CTLA2A', 'ICAM1', 'IL6ST',  'PTGS1',  'TMSB10', 'VCAM1',  'VWF']\n",
    "lymphatic = ['PROX1', 'PDPN', 'LYVE1']\n",
    "artEC_sign = ['FBLN5',\t'STMN2',\t'CLU',\t'SEMA3G',\t'GLUL',\t'TM4SF1',\t'EPS8L2',\t'COL8A1',\t'NEBL',\t'VEGFC',\t'ALPL',\t'ARL15',\t'GJA4',\t'EDN1',\t'S100A6',\t'MAST4',\t'SOX17',\t'PDGFD',\t'FBLN2',\t'VIM',\t'LTBP4',\t'SLC6A6',\t'KLF2',\t'HEG1',\t'EPAS1',\t'FXYD5',\t'LY6A',\t'CRIP1',\t'FN1',\t'CD9',\t'MECOM',\t'TSC22D1',\t'BSG',\t'ATOX1',\t'PODXL',\t'PTPRR',\t'EBF1',\t'CDK19',\t'ICAM2',\t'TSPO',\t'CST3',\t'ELN',\t'AZIN1',\t'PCSK5',\t'GADD45G',\t'TIMP3',\t'ACE',\t'TANC2',\t'RGS10',\t'GJA5']\n",
    "capEC_sign = ['GPIHBP1',\t'RGCC',\t'FABP4',\t'CD36',\t'CAR4',\t'MGLL',\t'CD300LG',\t'TCF15',\t'KDR',\t'ARHGAP18',\t'IGFBP7',\t'KANK3',\t'AQP7',\t'ETL4',\t'TSPAN13',\t'CAVIN2',\t'HSPB1',\t'PPP1R2',\t'LIMS2',\t'FABP5',\t'NRP1',\t'TIMP4',\t'GNG11',\t'SEPT4',\t'LPL',\t'GM12002',\t'CCDC85A',\t'PLPP3',\t'ABLIM3',\t'SPARC',\t'XDH',\t'TMSB4X',\t'AW112010',\t'CTNNBIP1',\t'THRSP',\t'ADGRL4',\t'CAV2',\t'CXCL12',\t'DHRS3',\t'CD81',\t'EMCN',\t'TCIM',\t'C1QTNF9',\t'SPARCL1',\t'CCDC85B',\t'PITPNC1',\t'RFLNB',\t'UBB',\t'LY6C1',\t'SULT1A1']\n",
    "venEC_sign = ['LRG1',\t'IL6ST',\t'VWF',\t'PLVAP',\t'MT-CO1',\t'SELP',\t'SPINT2',\t'PCDH7',\t'MT-ND4',\t'2200002D01RIK',\t'TMSB10',\t'EEF1A1',\t'MT-CO3',\t'BGN',\t'PDE4D',\t'MT-ATP6',\t'AQP1',\t'TPT1',\t'CTLA2A',\t'ACKR1',\t'APOE',\t'PDLIM1',\t'CD9',\t'ST3GAL4',\t'EHD4',\t'FTH1',\t'EEF1B2',\t'PECAM1',\t'THSD7A',\t'COL15A1',\t'MAN1A',\t'VIM',\t'ENPP2',\t'RBP1',\t'IGFBP4',\t'ABCA1',\t'CSRP2',\t'SLCO2B1',\t'ZFP521',\t'VCAM1',\t'DPYSL3',\t'NR2F2',\t'PAM',\t'LDB2',\t'INSR',\t'CD74',\t'TMEM176B',\t'IL1R1',\t'ARRB1',\t'ARHGAP26']"
   ]
  },
  {
   "cell_type": "code",
   "execution_count": null,
   "metadata": {},
   "outputs": [],
   "source": [
    "x=9\n",
    "sc.tl.score_genes(EC, gene_list = arteries,  score_name='arterial', use_raw=False)\n",
    "sc.tl.score_genes(EC, gene_list = capilaries,  score_name='capilary', use_raw=False)\n",
    "sc.tl.score_genes(EC, gene_list = veins,  score_name='venular', use_raw=False)\n",
    "sc.tl.score_genes(EC, gene_list = lymphatic,  score_name='lymphatic', use_raw=False)\n",
    "sc.tl.score_genes(EC, gene_list = artEC_sign[0:x],  score_name='artEC_sign', use_raw=False)\n",
    "sc.tl.score_genes(EC, gene_list = capEC_sign[0:x],  score_name='capEC_sign', use_raw=False)\n",
    "sc.tl.score_genes(EC, gene_list = venEC_sign[0:x],  score_name='venEC_sign', use_raw=False)"
   ]
  },
  {
   "cell_type": "code",
   "execution_count": null,
   "metadata": {},
   "outputs": [],
   "source": [
    "sc.set_figure_params(dpi=80, dpi_save=300, color_map='viridis', vector_friendly=True, transparent=True)\n",
    "\n",
    "sc.pl.umap(\n",
    "    EC, \n",
    "    color=['arterial', 'capilary','venular', 'lymphatic', 'artEC_sign', 'capEC_sign', 'venEC_sign',], \n",
    "    ncols=4,\n",
    "    outline_width=[0.6, 0.05],\n",
    "    frameon=False,\n",
    "    cmap='Spectral_r',\n",
    "    wspace = 0.1, \n",
    "    add_outline=True\n",
    ")"
   ]
  },
  {
   "cell_type": "code",
   "execution_count": null,
   "metadata": {},
   "outputs": [],
   "source": [
    "for resolution_parameter in [0.1, 0.2, 0.3, 0.4, 0.5, 0.6, 0.7, 0.8, 0.9, 1.0]:\n",
    "    sc.tl.leiden(EC, resolution=resolution_parameter, random_state=42, \n",
    "                        key_added='leiden_'+str(resolution_parameter))"
   ]
  },
  {
   "cell_type": "code",
   "execution_count": null,
   "metadata": {},
   "outputs": [],
   "source": [
    "sc.set_figure_params(dpi=80, dpi_save=300, color_map='viridis', vector_friendly=False, transparent=True)\n",
    "sc.pl.umap(\n",
    "    EC, \n",
    "    color=['leiden_0.1', 'leiden_0.2', 'leiden_0.3', 'leiden_0.4', 'leiden_0.5', \n",
    "           'leiden_0.6', 'leiden_0.7', 'leiden_0.8','leiden_0.9', 'leiden_1.0'], \n",
    "    palette=user_defined_palette,  \n",
    "    color_map='Spectral_r', \n",
    "    use_raw=False,\n",
    "    ncols=5,\n",
    "    wspace = 0.3,\n",
    "    outline_width=[0.6, 0.05],\n",
    "    frameon=False,\n",
    "    add_outline=True,\n",
    "    sort_order = False\n",
    ")"
   ]
  },
  {
   "cell_type": "code",
   "execution_count": null,
   "metadata": {},
   "outputs": [],
   "source": [
    "EC.obs['cell_type_subset'] = ['0:arEC' if (x=='4') else \n",
    "                              '1:capEC' if (x=='5' or x=='8') else\n",
    "                              '2:venEC' if (x=='0' or x=='1' or x=='2' or x=='3' or x=='6' or \n",
    "                                            x=='7' or x=='9' or x=='10' or x=='11') else \n",
    "                              'ERROR' for x in EC.obs['leiden_1.0']] "
   ]
  },
  {
   "cell_type": "code",
   "execution_count": null,
   "metadata": {},
   "outputs": [],
   "source": [
    "EC.uns['cell_type_subset_colors'] = ['#F6222E', '#3283FE', '#16FF32']"
   ]
  },
  {
   "cell_type": "code",
   "execution_count": null,
   "metadata": {},
   "outputs": [],
   "source": [
    "sc.set_figure_params(dpi=80, dpi_save=300, color_map='viridis', vector_friendly=True, transparent=True)\n",
    "\n",
    "sc.pl.umap(\n",
    "    EC, \n",
    "    color=['artEC_sign', 'capEC_sign', 'venEC_sign', 'stage', 'cell_type_subset'], \n",
    "    ncols=6,\n",
    "    outline_width=[0.6, 0.05],\n",
    "    frameon=False,\n",
    "    cmap='Spectral_r',\n",
    "    wspace = 0.2,\n",
    "    add_outline=True\n",
    ")"
   ]
  },
  {
   "cell_type": "markdown",
   "metadata": {},
   "source": [
    "### Human FBs"
   ]
  },
  {
   "cell_type": "code",
   "execution_count": null,
   "metadata": {},
   "outputs": [],
   "source": [
    "FB = cd45neg[cd45neg.obs['cell_type']=='FB']"
   ]
  },
  {
   "cell_type": "code",
   "execution_count": null,
   "metadata": {},
   "outputs": [],
   "source": [
    "# Remove columns with all 0s\n",
    "sc.pp.filter_genes(FB, min_cells=1)"
   ]
  },
  {
   "cell_type": "code",
   "execution_count": null,
   "metadata": {},
   "outputs": [],
   "source": [
    "sc.pp.highly_variable_genes(FB, n_top_genes=3500, n_bins=20, flavor='seurat')"
   ]
  },
  {
   "cell_type": "code",
   "execution_count": null,
   "metadata": {},
   "outputs": [],
   "source": [
    "rng = np.random.RandomState(42)\n",
    "sc.tl.pca(FB, n_comps=200, svd_solver='arpack', random_state=rng)"
   ]
  },
  {
   "cell_type": "code",
   "execution_count": null,
   "metadata": {},
   "outputs": [],
   "source": [
    "observe_variance(FB)"
   ]
  },
  {
   "cell_type": "code",
   "execution_count": null,
   "metadata": {},
   "outputs": [],
   "source": [
    "rng = np.random.RandomState(42)\n",
    "sc.tl.pca(FB, n_comps=50, svd_solver='arpack', random_state=rng, use_highly_variable=True)"
   ]
  },
  {
   "cell_type": "code",
   "execution_count": null,
   "metadata": {},
   "outputs": [],
   "source": [
    "sce.pp.harmony_integrate(FB, 'Age')"
   ]
  },
  {
   "cell_type": "code",
   "execution_count": null,
   "metadata": {},
   "outputs": [],
   "source": [
    "sc.pp.neighbors(FB, n_neighbors=15, use_rep='X_pca_harmony')\n",
    "sc.tl.umap(FB)"
   ]
  },
  {
   "cell_type": "code",
   "execution_count": null,
   "metadata": {},
   "outputs": [],
   "source": [
    "capsular = ['AKR1C18',\t'MRGPRG',\t'UPK3B',\t'SMPD3',\t'SEMA3C',\t'DPP4',\t'EFHD1',\t'PCSK6',\t'PI16',\t'ACKR3',\t'SFRP2',\t'MSLN',\t'SFRP4',\t'ADGRD1',\t'SPON2',\t'MFAP5',\t'GPC3',\t'SAA3',\t'OGN',\t'MT2',\t'CPXM2',\t'LRRN4CL',\t'FNDC1',\t'ANXA3',\t'QPCT',\t'CXCL13',\t'SMOC2',\t'IGFBP6',\t'NOV',\t'CSRP2']\n",
    "medullary = ['GJA4',\t'MMP9',\t'PDE2A',\t'VTN',\t'DES',\t'CRSC',\t'ECSCR',\t'C1QTNF5',\t'CX3CL1',\t'ACTA2',\t'MEOX1',\t'SDC3',\t'POSTN',\t'TAGLN',\t'SERPINE2',\t'ENPP2',\t'SLCO2B1',\t'NDUFA4L2',\t'SERPINA3G',\t'LTBP1',\t'GFRA2',\t'MFGE8',\t'RASA3']\t\t\t\t\t\t\t\n",
    "perilobular = ['C7',\t'DPT',\t'PTN',\t'PTGDS',\t'RBP5',\t'RSPO3',\t'MFAP4',\t'SPARCL1',\t'SRPX',\t'HSPB6',\t'CCL2',\t'FXYD6',\t'NR2F1',\t'DBI',\t'SPRY1',\t'LITAF',\t'DCN',\t'RUNX1T1',\t'RWDD1']\n",
    "interlobular = ['LUM',\t'MGP',\t'OGN',\t'FN1',\t'IGFBP6',\t'COL1A2',\t'COL14A1',\t'COL3A1',\t'COL1A1',\t'FBN1',\t'DCN',\t'ITM2A',\t'CCDC80',\t'CTSK',\t'WISP2',\t'ID2',\t'SPON2',\t'FSTL1',\t'FBLN2',\t'MFAP5']\n",
    "capsFB_sign = ['PI16',\t'TIMP2',\t'FN1',\t'OPCML',\t'CD248',\t'MFAP5',\t'ANXA3',\t'PCOLCE2',\t'ACKR3',\t'FNDC1',\t'IGFBP6',\t'SEMA3C',\t'CLEC3B',\t'CREB5',\t'SMPD3',\t'TMEM100',\t'ADGRD1',\t'LY6C1',\t'PCSK6',\t'NID1',\t'FBN1',\t'DPP4',\t'PLA1A',\t'EFHD1',\t'COL14A1',\t'EBF2',\t'FSTL1',\t'METRNL',\t'PLPP3',\t'SDK1',\t'LIMCH1',\t'AXL',\t'LOXL1',\t'ANXA1',\t'EMILIN2',\t'TMSB4X',\t'TNXB',\t'GFPT2',\t'LSP1',\t'LY6A',\t'EFNA5',\t'ADAMTS5',\t'IGFBP5',\t'UGDH',\t'TIMP3',\t'OGN',\t'HEG1',\t'ISLR',\t'DDR2',\t'PPP1R14B']\n",
    "intFB_sign = ['SMOC2',\t'GPX3',\t'PENK',\t'IGF1',\t'GAS1',\t'INMT',\t'PCOLCE',\t'LRP1',\t'ITM2A',\t'GDF10',\t'RBP1',\t'FBLN1',\t'SFRP1',\t'SLIT3',\t'SVEP1',\t'AUTS2',\t'LPL',\t'CELF2',\t'SERPINF1',\t'IL11RA1',\t'ADAMTS12',\t'ABCA8A',\t'CYGB',\t'NFIB',\t'DCN',\t'SELENOP',\t'NTRK2',\t'TMEM119',\t'MGST1',\t'IGFBP3',\t'MMP2',\t'AR',\t'GSN',\t'SRPX',\t'COL15A1',\t'MT1',\t'LUM',\t'OLFML3',\t'MFAP2',\t'COL3A1',\t'FXYD6',\t'FST',\t'CRYAB',\t'TXNIP',\t'HTRA3',\t'MFAP4',\t'ITM2B',\t'FBLN2',\t'DHRS3',\t'COL1A2']\n",
    "medFB_sign = ['CSMD1',\t'SERPINE2',\t'ENPP2',\t'PTN',\t'TMEM176B',\t'TMEM176A',\t'B2M',\t'CCL19',\t'IGFBP7',\t'APOD',\t'BGN',\t'H2-D1',\t'DES',\t'LTC4S',\t'LHFP',\t'IFITM1',\t'CD9',\t'APOE',\t'LSAMP',\t'LY6E',\t'H2-K1',\t'H2-Q7',\t'SPARCL1',\t'IL34',\t'NDUFA4L2',\t'TCF4',\t'SPON1',\t'COLEC12',\t'NRP1',\t'MYLK',\t'HSD11B1',\t'MFGE8',\t'JUN',\t'CP',\t'MEOX1',\t'ECSCR',\t'TRPS1',\t'ANK2',\t'GPM6B',\t'CSTB',\t'CD63',\t'PDE4B',\t'POSTN',\t'H3F3B',\t'MGP',\t'PTEN',\t'PTMA',\t'LTBP1',\t'COL15A1',\t'PDE7B']"
   ]
  },
  {
   "cell_type": "code",
   "execution_count": null,
   "metadata": {},
   "outputs": [],
   "source": [
    "x=9\n",
    "sc.tl.score_genes(FB, gene_list = perilobular,  score_name='perilobular\\n(human)', use_raw=False)\n",
    "sc.tl.score_genes(FB, gene_list = interlobular,  score_name='interlobular\\n(human)', use_raw=False)\n",
    "sc.tl.score_genes(FB, gene_list = capsular,  score_name='capsular\\n(mouse)', use_raw=False)\n",
    "sc.tl.score_genes(FB, gene_list = medullary,  score_name='medullary\\n(mouse)', use_raw=False)\n",
    "sc.tl.score_genes(FB, gene_list = capsFB_sign[0:x],  score_name='capsFB_sign', use_raw=False)\n",
    "sc.tl.score_genes(FB, gene_list = intFB_sign[0:x],  score_name='intFB_sign', use_raw=False)\n",
    "sc.tl.score_genes(FB, gene_list = medFB_sign[0:x],  score_name='medFB_sign', use_raw=False)"
   ]
  },
  {
   "cell_type": "code",
   "execution_count": null,
   "metadata": {},
   "outputs": [],
   "source": [
    "sc.set_figure_params(dpi=80, dpi_save=300, color_map='viridis', vector_friendly=True, transparent=True)\n",
    "\n",
    "sc.pl.umap(\n",
    "    FB, \n",
    "    color=['capsular\\n(mouse)', 'medullary\\n(mouse)', 'perilobular\\n(human)', 'interlobular\\n(human)', 'capsFB_sign', 'intFB_sign', 'medFB_sign', 'stage'], \n",
    "    ncols=4,\n",
    "    outline_width=[0.6, 0.05],\n",
    "    frameon=False,\n",
    "    cmap='Spectral_r',\n",
    "    wspace = 0.1, \n",
    "    add_outline=True\n",
    ")"
   ]
  },
  {
   "cell_type": "code",
   "execution_count": null,
   "metadata": {},
   "outputs": [],
   "source": [
    "for resolution_parameter in [0.1, 0.2, 0.3, 0.4, 0.5, 0.6, 0.7, 0.8, 0.9, 1.0]:\n",
    "    sc.tl.leiden(FB, resolution=resolution_parameter, random_state=42, \n",
    "                        key_added='leiden_'+str(resolution_parameter))"
   ]
  },
  {
   "cell_type": "code",
   "execution_count": null,
   "metadata": {},
   "outputs": [],
   "source": [
    "sc.set_figure_params(dpi=80, dpi_save=300, color_map='viridis', vector_friendly=False, transparent=True)\n",
    "sc.pl.umap(\n",
    "    FB, \n",
    "    color=['leiden_0.1', 'leiden_0.2', 'leiden_0.3', 'leiden_0.4', 'leiden_0.5', \n",
    "           'leiden_0.6', 'leiden_0.7', 'leiden_0.8','leiden_0.9', 'leiden_1.0'], \n",
    "    palette=user_defined_palette,  \n",
    "    color_map='Spectral_r', \n",
    "    use_raw=False,\n",
    "    ncols=5,\n",
    "    wspace = 0.3,\n",
    "    outline_width=[0.6, 0.05],\n",
    "    frameon=False,\n",
    "    add_outline=True,\n",
    "    sort_order = False\n",
    ")"
   ]
  },
  {
   "cell_type": "code",
   "execution_count": null,
   "metadata": {},
   "outputs": [],
   "source": [
    "FB.obs['cell_type_subset'] = ['3:capsFB' if (x=='6') else \n",
    "                                 '4:intFB' if (x=='0' or x=='2' or x=='3' or x=='4' or x=='7') else\n",
    "                                 '5:medFB' if (x=='1' or x=='5') else 'ERROR' for x in FB.obs['leiden_0.8']] "
   ]
  },
  {
   "cell_type": "code",
   "execution_count": null,
   "metadata": {},
   "outputs": [],
   "source": [
    "FB.uns['cell_type_subset_colors'] = ['#BDCDFF', '#3B00FB', '#1CFFCE']"
   ]
  },
  {
   "cell_type": "code",
   "execution_count": null,
   "metadata": {},
   "outputs": [],
   "source": [
    "sc.set_figure_params(dpi=80, dpi_save=300, color_map='viridis', vector_friendly=True, transparent=True)\n",
    "\n",
    "sc.pl.umap(\n",
    "    FB, \n",
    "    color=['capsFB_sign', 'intFB_sign', 'medFB_sign', 'stage', 'cell_type_subset'], \n",
    "    ncols=6,\n",
    "    outline_width=[0.6, 0.05],\n",
    "    frameon=False,\n",
    "    cmap='Spectral_r',\n",
    "    wspace = 0.2,\n",
    "    add_outline=True\n",
    ")"
   ]
  },
  {
   "cell_type": "markdown",
   "metadata": {},
   "source": [
    "### Human TECs"
   ]
  },
  {
   "cell_type": "code",
   "execution_count": null,
   "metadata": {},
   "outputs": [],
   "source": [
    "TEC = cd45neg[(cd45neg.obs['cell_type']=='TEC')]"
   ]
  },
  {
   "cell_type": "code",
   "execution_count": null,
   "metadata": {},
   "outputs": [],
   "source": [
    "# Remove columns with all 0s\n",
    "sc.pp.filter_genes(TEC, min_cells=1)"
   ]
  },
  {
   "cell_type": "code",
   "execution_count": null,
   "metadata": {},
   "outputs": [],
   "source": [
    "sc.pp.highly_variable_genes(TEC, n_top_genes=3500, n_bins=20, flavor='seurat')"
   ]
  },
  {
   "cell_type": "code",
   "execution_count": null,
   "metadata": {},
   "outputs": [],
   "source": [
    "rng = np.random.RandomState(42)\n",
    "sc.tl.pca(TEC, n_comps=200, svd_solver='arpack', random_state=rng)"
   ]
  },
  {
   "cell_type": "code",
   "execution_count": null,
   "metadata": {},
   "outputs": [],
   "source": [
    "observe_variance(TEC)"
   ]
  },
  {
   "cell_type": "code",
   "execution_count": null,
   "metadata": {},
   "outputs": [],
   "source": [
    "rng = np.random.RandomState(42)\n",
    "sc.tl.pca(TEC, n_comps=45, svd_solver='arpack', random_state=rng, use_highly_variable=True)"
   ]
  },
  {
   "cell_type": "code",
   "execution_count": null,
   "metadata": {},
   "outputs": [],
   "source": [
    "sce.pp.harmony_integrate(TEC, 'Age')"
   ]
  },
  {
   "cell_type": "code",
   "execution_count": null,
   "metadata": {},
   "outputs": [],
   "source": [
    "sc.pp.neighbors(TEC, n_neighbors=15, use_rep='X_pca_harmony')\n",
    "sc.tl.umap(TEC)"
   ]
  },
  {
   "cell_type": "code",
   "execution_count": null,
   "metadata": {},
   "outputs": [],
   "source": [
    "aaTEC1_sign = ['ZBTB20',\t'CD81',\t'TRPM3',\t'SLC16A11',\t'GSTM1',\t'BTG1',\t'BC006965',\t'CLDN3',\t'S100A11',\t'GSTA4',\t'LY6E',\t'CDK19',\t'WFDC18',\t'SLC9A3R1',\t'IFI27L2A',\t'ALDOC',\t'PHLDA1',\t'ANXA2',\t'TALDO1',\t'SOCS2',\t'FAM107A',\t'KRT18',\t'PBX1',\t'TM4SF1',\t'MEIS2',\t'GSN',\t'ANXA1',\t'BMP6',\t'EPCAM',\t'DBI',\t'SHANK2',\t'KIF19',\t'ISL1',\t'PLIN2',\t'LY6A',\t'NUPR1',\t'ID2',\t'RCN1',\t'GPC6',\t'RDH10',\t'CD24',\t'MT-CO1',\t'GAB2',\t'PDE4B',\t'SLC5A8',\t'NEDD4L',\t'FBXO2',\t'TSHZ2',\t'ACSS3',\t'CD9']\n",
    "aaTEC2_sign = ['CSMD1',\t'ZEB2',\t'MGP',\t'GSN',\t'ZBTB20',\t'NDRG2',\t'SERPINE2',\t'CD81',\t'FXYD1',\t'LAPTM4A',\t'GPX3',\t'SOCS3',\t'IGFBP7',\t'AIRN',\t'LGALS1',\t'FOS',\t'PRRX1',\t'PRKG1',\t'JUNB',\t'SPARC',\t'CEBPD',\t'APOE',\t'GSTM1',\t'GADD45G',\t'ID3',\t'EGR1',\t'PTN',\t'CD63',\t'TM4SF1',\t'CCDC80',\t'PHLDA1',\t'CAVIN3',\t'CALD1',\t'SERPING1',\t'SPARCL1',\t'CCL19',\t'CST3',\t'CACNA1C',\t'JUND',\t'FSTL1',\t'TAGLN2',\t'KLF9',\t'JUN',\t'GUCY1A1',\t'COL3A1',\t'NOTCH3',\t'RORA',\t'TSHZ2',\t'LHFP',\t'GNAS']\n",
    "cTEC_sign = ['CTSL',\t'CSTB',\t'CXCL12',\t'PRSS16',\t'KRT18',\t'GAS6',\t'PLTP',\t'SLC46A2',\t'NDUFA11',\t'TBATA',\t'CCL25',\t'PSMB11',\t'TMEM131L',\t'NLGN1',\t'PRXL2B',\t'PAX1',\t'WNT4',\t'DPP6',\t'PSMB9',\t'BNIP3L',\t'SNHG11',\t'COPZ2',\t'AI646519',\t'ANK3',\t'LAMP2',\t'NDRG3',\t'SHISA2',\t'RGCC',\t'KRT8',\t'RBFOX1',\t'TSC22D1',\t'KCTD1',\t'LY75',\t'SH2D4B',\t'IGFBP5',\t'FABP5',\t'PLGRKT',\t'SPOCK2',\t'RYR3',\t'SYNGR1',\t'ZFYVE21',\t'TENM4',\t'TRP63',\t'CLIC5',\t'GMPR',\t'CASTOR1',\t'MACF1',\t'IFI27',\t'LIMCH1',\t'KCNK2']\n",
    "mTEC1_sign = ['APOE',\t'IFITM3',\t'RBMS3',\t'LY6A',\t'IFI27L2A',\t'KRT5',\t'KRT14',\t'CTSL',\t'GAS1',\t'IFITM2',\t'CCL21A',\t'ITM2B',\t'GAS6',\t'DCN',\t'ISG15',\t'IGFBP4',\t'LAPTM4A',\t'EYA4',\t'CPNE8',\t'MGP',\t'MIR100HG',\t'SULT5A1',\t'RTP4',\t'IIGP1',\t'NXN',\t'RBP1',\t'GAS5',\t'ZFP36L1',\t'GSN',\t'ANK3',\t'CST3',\t'PBX1',\t'LIFR',\t'MEIS2',\t'PERP',\t'OASL2',\t'ANXA2',\t'S100A10',\t'BOC',\t'ATP1A1',\t'CCL11',\t'PHLDA3',\t'LY6E',\t'NEDD4',\t'MYL6',\t'TRP63',\t'ANXA1',\t'TPT1',\t'HIF1A',\t'GPX3']\n",
    "mTECprol_sign = ['TPM2',\t'KRT17',\t'ASCL1',\t'TMSB10',\t'PTMA',\t'RGS5',\t'ADM',\t'H2AFY2',\t'HES6',\t'KRT7',\t'CDK4',\t'PFN1',\t'SOX4',\t'SKINT10',\t'TUBB6',\t'CFL1',\t'MAPK13',\t'TUBB2B',\t'WFDC18',\t'CCND2',\t'STMN1',\t'MDK',\t'CCL19',\t'CD82',\t'GM49708',\t'H3F3B',\t'LGALS1',\t'PRXL2B',\t'YBX1',\t'ACTG1',\t'EEF1G',\t'NME2',\t'GM15943',\t'IL11RA1',\t'COLQ',\t'CALD1',\t'KRT5',\t'HNRNPA1',\t'EIF4A1',\t'PPIA',\t'CCL21A',\t'TUBB5',\t'HSP90AB1',\t'ANGPTL2',\t'KCNQ3',\t'LPO',\t'SET',\t'HSPA8',\t'HMGN1',\t'NPM1']\n",
    "mTEC2_sign = ['SRGN',\t'CYBA',\t'UBD',\t'CD74',\t'S100A14',\t'SYT1',\t'CD52',\t'AIRE',\t'H2-AA',\t'H2-OA',\t'LRRC42',\t'MRPL38',\t'H2-EB1',\t'HAGH',\t'NFKBIA',\t'DPP10',\t'CDX1',\t'PSME2',\t'HDC',\t'CALCB',\t'H2-DMB2',\t'H2-EB2',\t'FAM89A',\t'GM47938',\t'HSPB11',\t'FSCN1',\t'CSN2',\t'BSPRY',\t'NDUFC2',\t'FEZF2',\t'FABP5',\t'ANKRD33B',\t'ING1',\t'GM48239',\t'UTF1',\t'IL4I1',\t'TXN1',\t'CTSS',\t'NUP85',\t'CIB1',\t'LAPTM5',\t'TM4SF5',\t'SYNGR2',\t'DOCK10',\t'DIO1',\t'NSMCE2',\t'SNX29',\t'S100G',\t'CD40',\t'PTPRQ']\n",
    "mTEC3_sign = ['LY6D',\t'DAPL1',\t'DMKN',\t'SPINK5',\t'SKINT3',\t'FXYD3',\t'SFN',\t'TACSTD2',\t'HSPB1',\t'CDKN1A',\t'OIT1',\t'PDZK1IP1',\t'PRDX5',\t'CDKN2A',\t'PERP',\t'CDKN2B',\t'GSTA4',\t'ATOX1',\t'LYPD3',\t'CST6',\t'METRNL',\t'SBSN',\t'DSTN',\t'DSP',\t'CALML3',\t'RAB11A',\t'KRT17',\t'KRT23',\t'BCL2A1B',\t'SERPINB2',\t'H2AFJ',\t'JUP',\t'AVPI1',\t'4833423E24RIK',\t'IDE',\t'CEBPB',\t'GSTA2',\t'SDC1',\t'CLIC3',\t'TMEM54',\t'2200002D01RIK',\t'DGAT2',\t'TMEM45A',\t'CLDN4',\t'RPTN',\t'GLTP',\t'NUPR1',\t'ARF6',\t'TSPAN8',\t'IER5']\n",
    "tuft_sign = ['MCTP1',\t'GNG13',\t'AVIL',\t'RGS13',\t'ESPN',\t'LRMP',\t'ANXA4',\t'LTC4S',\t'PTPN18',\t'BMX',\t'CYSTM1',\t'IVNS1ABP',\t'FYB',\t'LY6G6F',\t'CALM2',\t'ETHE1',\t'REEP5',\t'LIMA1',\t'1810046K07RIK',\t'ABHD2',\t'PIK3R5',\t'TRPM5',\t'ST18',\t'CRIP1',\t'DGKI',\t'POU2F3',\t'VAV1',\t'SCAND1',\t'CHIL1',\t'ALOX5AP',\t'PTPN6',\t'PLAC8',\t'ALOX5',\t'OSTF1',\t'OXR1',\t'PLK2',\t'OCIAD2',\t'SH2D6',\t'AHNAK2',\t'STK38',\t'TMEM245',\t'ATP1A2',\t'ALDH2',\t'CD47',\t'FXYD6',\t'INPP5D',\t'DCLK1',\t'GPCPD1',\t'SH2D7',\t'STRIP2']\n",
    "nTEC_sign = ['PTPRN2',\t'CACNA2D1',\t'CAR8',\t'SCG5',\t'STXBP5L',\t'SNAP25',\t'CHGA',\t'CD9',\t'DNAJC12',\t'CCSER1',\t'CAMK2N1',\t'SYT7',\t'PAM',\t'CACNA1A',\t'SYT1',\t'CACNB2',\t'CYSTM1',\t'TSHZ2',\t'FAM183B',\t'CPLX2',\t'CEACAM10',\t'BTG2',\t'RIMS2',\t'RESP18',\t'FHL2',\t'A230057D06RIK',\t'TMEM163',\t'RAP1GAP2',\t'KCNB2',\t'NFASC',\t'PIP5K1B',\t'ALCAM',\t'CHGB',\t'ICA1',\t'PCBD1',\t'KRT7',\t'INSM1',\t'SMIM22',\t'JUND',\t'5330417C22RIK',\t'ATF3',\t'AC149090.1',\t'BEX2',\t'PRKN',\t'CPN1',\t'TOX3',\t'NOL4',\t'A330076H08RIK',\t'AOPEP',\t'STARD10']\n",
    "goblet_sign = ['WFDC2',\t'CYP2F2',\t'CXCL17',\t'GSTO1',\t'NUPR1',\t'S100A11',\t'ANXA3',\t'SORBS2',\t'H2-K1',\t'SERPINB11',\t'KRT19',\t'SLC12A2',\t'FXYD3',\t'LY6D',\t'AQP5',\t'ALCAM',\t'BSG',\t'BACE2',\t'LY6E',\t'F3',\t'LY6A',\t'MECOM',\t'AW112010',\t'PGLYRP1',\t'ATP1B1',\t'CP',\t'ANXA1',\t'TSPAN8',\t'IRF7',\t'LGALS3BP',\t'TCEAL9',\t'NFIB',\t'GSTA4',\t'CD14',\t'MLLT3',\t'SLC16A11',\t'UPK1B',\t'LRRC26',\t'FOXA1',\t'ECE1',\t'TIMP2',\t'IFI27L2A',\t'CES1D',\t'EPAS1',\t'CBR2',\t'LMO7',\t'SPINK5',\t'HSPB1',\t'SMIM22',\t'KCNJ16']\n",
    "Mlike_sign = ['CCL20',\t'CCL9',\t'SERPINB6A',\t'SERPINB1A',\t'TMSB4X',\t'2200002D01RIK',\t'NOSTRIN',\t'CTSH',\t'CCL6',\t'AW112010',\t'SPIB',\t'BCL2A1D',\t'CSN2',\t'CYP2A5',\t'FABP1',\t'HAMP',\t'POLD1',\t'BCL2A1B',\t'ATOX1',\t'ISCU',\t'PGLYRP1',\t'BCL2A1A',\t'CLU',\t'KRT20',\t'ATP6V1C1',\t'H2-M2',\t'GJB2',\t'CRIP1',\t'FABP5',\t'UBD',\t'VAMP5',\t'MARCKSL1',\t'PLB1',\t'ARPC1B',\t'4930520O04RIK',\t'TNFRSF11B',\t'SEPHS2',\t'DSG1A',\t'SPINT2',\t'FTL1',\t'AA467197',\t'SEPT1',\t'AIF1',\t'GADD45A',\t'TNFAIP2',\t'VAMP8',\t'FABP4',\t'HSPE1',\t'RAC2',\t'AHCYL2']"
   ]
  },
  {
   "cell_type": "code",
   "execution_count": null,
   "metadata": {},
   "outputs": [],
   "source": [
    "x=29\n",
    "sc.tl.score_genes(TEC, gene_list = aaTEC1_sign[0:x],  score_name='aaTEC1_sign')\n",
    "sc.tl.score_genes(TEC, gene_list = aaTEC2_sign[0:x],  score_name='aaTEC2_sign')\n",
    "sc.tl.score_genes(TEC, gene_list = cTEC_sign[0:x],  score_name='cTEC_sign')\n",
    "sc.tl.score_genes(TEC, gene_list = mTEC1_sign[0:x],  score_name='mTEC1_sign')\n",
    "sc.tl.score_genes(TEC, gene_list = mTECprol_sign[0:x],  score_name='mTECprol_sign')\n",
    "sc.tl.score_genes(TEC, gene_list = mTEC2_sign[0:x],  score_name='mTEC2_sign')\n",
    "sc.tl.score_genes(TEC, gene_list = mTEC3_sign[0:x],  score_name='mTEC3_sign')\n",
    "sc.tl.score_genes(TEC, gene_list = tuft_sign[0:x],  score_name='tuft_sign')\n",
    "sc.tl.score_genes(TEC, gene_list = nTEC_sign[0:x],  score_name='nTEC_sign')\n",
    "sc.tl.score_genes(TEC, gene_list = goblet_sign[0:x],  score_name='goblet_sign')\n",
    "sc.tl.score_genes(TEC, gene_list = Mlike_sign[0:x],  score_name='Mlike_sign')"
   ]
  },
  {
   "cell_type": "code",
   "execution_count": null,
   "metadata": {},
   "outputs": [],
   "source": [
    "sc.set_figure_params(dpi=80, dpi_save=300, color_map='viridis', vector_friendly=True, transparent=True)\n",
    "\n",
    "sc.pl.umap(\n",
    "        TEC, \n",
    "        color=['aaTEC1_sign', 'aaTEC2_sign', 'cTEC_sign', 'mTEC1_sign', 'mTECprol_sign', \n",
    "               'mTEC2_sign', 'mTEC3_sign', 'tuft_sign', 'nTEC_sign', 'goblet_sign', 'Mlike_sign'], \n",
    "        ncols=4,\n",
    "        outline_width=[0.6, 0.05],\n",
    "        frameon=False,\n",
    "        cmap='Spectral_r',\n",
    "        wspace = 0.1, \n",
    "        add_outline=True\n",
    ")"
   ]
  },
  {
   "cell_type": "code",
   "execution_count": null,
   "metadata": {},
   "outputs": [],
   "source": [
    "for resolution_parameter in [0.2, 0.4, 0.6, 0.8, 1.0, 1.2, 1.4, 1.6, 1.8, 2.0]:\n",
    "    sc.tl.leiden(TEC, resolution=resolution_parameter, random_state=42, \n",
    "                        key_added='leiden_'+str(resolution_parameter))"
   ]
  },
  {
   "cell_type": "code",
   "execution_count": null,
   "metadata": {},
   "outputs": [],
   "source": [
    "sc.set_figure_params(dpi=80, dpi_save=300, color_map='viridis', vector_friendly=False, transparent=True)\n",
    "sc.pl.umap(\n",
    "    TEC, \n",
    "    color=['leiden_0.2', 'leiden_0.4', 'leiden_0.6', 'leiden_0.8', 'leiden_1.0', \n",
    "           'leiden_1.2', 'leiden_1.4', 'leiden_1.6','leiden_1.8', 'leiden_2.0'], \n",
    "    palette=user_defined_palette,  \n",
    "    color_map='Spectral_r', \n",
    "    use_raw=False,\n",
    "    ncols=5,\n",
    "    wspace = 0.3,\n",
    "    outline_width=[0.6, 0.05],\n",
    "    frameon=False,\n",
    "    add_outline=True,\n",
    "    sort_order = False\n",
    ")"
   ]
  },
  {
   "cell_type": "code",
   "execution_count": null,
   "metadata": {},
   "outputs": [],
   "source": [
    "sc.set_figure_params(dpi=80, dpi_save=300, color_map='viridis', vector_friendly=False, transparent=True)\n",
    "sc.pl.umap(\n",
    "    TEC, \n",
    "    color=['leiden_1.2'], \n",
    "    palette=user_defined_palette,  \n",
    "    color_map='Spectral_r', \n",
    "    use_raw=False,\n",
    "    ncols=5,\n",
    "    wspace = 0.3,\n",
    "    outline_width=[0.6, 0.05],\n",
    "    frameon=False,\n",
    "    add_outline=True,\n",
    "    sort_order = False\n",
    ")"
   ]
  },
  {
   "cell_type": "code",
   "execution_count": null,
   "metadata": {},
   "outputs": [],
   "source": [
    "TEC.obs['cell_type_subset'] = ['10:aaTEC1' if (x=='14') else '11:aaTEC2' if (x=='8') else '20:muscle' if x=='15' else\n",
    "                               '12:cTEC' if (x=='9' or x=='13' ) else '18:mimic(neuroendo)' if ( x=='12' or x=='18') else\n",
    "                               '13:mTEC1' if (x=='0' or x=='1' or x=='2' or x=='3' or x=='4' or x=='5' or x=='6' or x=='7') else \n",
    "                                 '14:mTEC-prol' if x=='7' else '15:mTEC2' if (x=='10' or x=='16' or x=='17') else\n",
    "                                 '16:mTEC3' if ( x=='11' or x=='14') else 'ERROR' for x in TEC.obs['leiden_1.2']] "
   ]
  },
  {
   "cell_type": "code",
   "execution_count": null,
   "metadata": {},
   "outputs": [],
   "source": [
    "TEC.uns['cell_type_subset_colors'] = [ '#2ED9FF', '#c1c119', '#8b0000', '#FE00FA', \"#F8A19F\", '#1CBE4F',  '#B5EFB5', 'black', '#AA0DFE','#FEAF16', '#325A9B', '#C075A6']"
   ]
  },
  {
   "cell_type": "code",
   "execution_count": null,
   "metadata": {},
   "outputs": [],
   "source": [
    "sc.set_figure_params(dpi=80, dpi_save=300, color_map='viridis', vector_friendly=True, transparent=True)\n",
    "\n",
    "sc.pl.umap(\n",
    "    TEC, \n",
    "    color=['stage', 'cell_type_subset'], \n",
    "    ncols=5,\n",
    "    use_raw=False,\n",
    "    outline_width=[0.6, 0.05],\n",
    "    frameon=False,\n",
    "    cmap='Spectral_r',\n",
    "    wspace = 0.3,\n",
    "    add_outline=True\n",
    ")"
   ]
  },
  {
   "cell_type": "markdown",
   "metadata": {},
   "source": [
    "### Transfer annotation"
   ]
  },
  {
   "cell_type": "code",
   "execution_count": null,
   "metadata": {},
   "outputs": [],
   "source": [
    "annotated_subsets = pd.concat([EC.obs['cell_type_subset'], FB.obs['cell_type_subset'],  TEC.obs['cell_type_subset']])"
   ]
  },
  {
   "cell_type": "code",
   "execution_count": null,
   "metadata": {},
   "outputs": [],
   "source": [
    "cd45neg.obs['cell_type_subset']=''"
   ]
  },
  {
   "cell_type": "code",
   "execution_count": null,
   "metadata": {},
   "outputs": [],
   "source": [
    "cd45neg.obs['cell_type_subset'][cd45neg.obs.index.isin(annotated_subsets.index) == True] = annotated_subsets"
   ]
  },
  {
   "cell_type": "code",
   "execution_count": null,
   "metadata": {},
   "outputs": [],
   "source": [
    "cd45neg.obs['sample']=cd45neg.obs['stage']"
   ]
  },
  {
   "cell_type": "code",
   "execution_count": null,
   "metadata": {},
   "outputs": [],
   "source": [
    "cd45neg.uns['cell_type_subset_colors'] = ['#F6222E', '#3283FE', '#16FF32', '#BDCDFF', '#3B00FB', '#1CFFCE', '#2ED9FF', '#c1c119', '#8b0000', '#FE00FA', \"#F8A19F\", '#1CBE4F', '#FEAF16', 'black','#325A9B', '#C075A6', 'black']"
   ]
  },
  {
   "cell_type": "code",
   "execution_count": null,
   "metadata": {},
   "outputs": [],
   "source": [
    "sc.pl.umap(cd45neg, color=['stage', 'cell_type_subset'], \n",
    "                     color_map='Spectral_r',\n",
    "                     use_raw=False, \n",
    "                     ncols=4, \n",
    "                     wspace = 0.3,\n",
    "                     outline_width=[0.6, 0.05], \n",
    "                     size=15,  \n",
    "                     frameon=False, \n",
    "                     add_outline=True, \n",
    "                     sort_order = False,\n",
    "                     save='_cd45neg_human.pdf'\n",
    ")"
   ]
  },
  {
   "cell_type": "code",
   "execution_count": null,
   "metadata": {},
   "outputs": [],
   "source": [
    "path_to_h5ad = '../../../output/metadata/anndata_objects/Fig1pt3.h5ad'"
   ]
  },
  {
   "cell_type": "code",
   "execution_count": null,
   "metadata": {},
   "outputs": [],
   "source": [
    "cd45neg.write(path_to_h5ad)"
   ]
  }
 ],
 "metadata": {
  "kernelspec": {
   "display_name": "Python 3 (ipykernel)",
   "language": "python",
   "name": "python3"
  },
  "language_info": {
   "codemirror_mode": {
    "name": "ipython",
    "version": 3
   },
   "file_extension": ".py",
   "mimetype": "text/x-python",
   "name": "python",
   "nbconvert_exporter": "python",
   "pygments_lexer": "ipython3",
   "version": "3.8.13"
  }
 },
 "nbformat": 4,
 "nbformat_minor": 2
}
