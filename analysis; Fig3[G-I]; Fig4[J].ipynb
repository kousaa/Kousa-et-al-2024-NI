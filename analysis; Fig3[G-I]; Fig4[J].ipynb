{
 "cells": [
  {
   "cell_type": "markdown",
   "id": "f910362f",
   "metadata": {},
   "source": [
    "## Notebook setup"
   ]
  },
  {
   "cell_type": "code",
   "execution_count": null,
   "id": "32ce7cea",
   "metadata": {},
   "outputs": [],
   "source": [
    "import scanpy as sc\n",
    "import scanpy.external as sce\n",
    "import numpy as np\n",
    "import pandas as pd\n",
    "import warnings, scipy.sparse as sp, matplotlib, matplotlib.pyplot as plt\n",
    "from matplotlib.colors import LinearSegmentedColormap\n",
    "from matplotlib.pyplot import rc_context\n",
    "from collections import Counter\n",
    "import matplotlib.font_manager\n",
    "import pyreadr\n",
    "import rpy2\n",
    "from rpy2.robjects.packages import importr\n",
    "import rpy2.robjects as robjects\n",
    "import magic\n",
    "#import seaborn as sns\n",
    "import palantir\n",
    "import loompy\n",
    "#from scipy.sparse import csgraph\n",
    "\n",
    "matplotlib.rcParams['pdf.fonttype'] = 42\n",
    "matplotlib.rcParams['ps.fonttype'] = 42\n",
    "matplotlib.rcParams['font.family'] = 'sans-serif'\n",
    "matplotlib.rcParams['font.sans-serif'] = 'Arial'\n",
    "matplotlib.rc('font', size=14)\n",
    "import matplotlib.lines as lines\n",
    "\n",
    "pd.set_option('display.max_rows', 200)\n",
    "\n",
    "sc.set_figure_params(dpi=80, dpi_save=300, color_map='Spectral_r', vector_friendly=True, transparent=True)\n",
    "sc.settings.verbosity = 0 # verbosity: errors (0), warnings (1), info (2), hints (3)\n",
    "sc.logging.print_header()"
   ]
  },
  {
   "cell_type": "code",
   "execution_count": null,
   "id": "6c1b6c5b",
   "metadata": {},
   "outputs": [],
   "source": [
    "user_defined_palette =  [ '#F6222E', '#FEAF16','#3283FE','#BDCDFF', '#3B00FB', '#F8A19F', '#1CFFCE',  '#C4451C', \n",
    "                          '#2ED9FF', '#c1c119', '#8b0000', '#FE00FA', '#1CBE4F','#B5EFB5', '#0e452b', '#AA0DFE']"
   ]
  },
  {
   "cell_type": "code",
   "execution_count": null,
   "id": "24b76d9c",
   "metadata": {},
   "outputs": [],
   "source": [
    "user_defined_cmap_markers = LinearSegmentedColormap.from_list('mycmap', [\"#E6E6FF\", \"#CCCCFF\", \"#B2B2FF\", \"#9999FF\",  \"#6666FF\",   \"#3333FF\", \"#0000FF\"])\n",
    "user_defined_cmap_degs = LinearSegmentedColormap.from_list('mycmap', [\"#0000FF\", \"#3333FF\", \"#6666FF\", \"#9999FF\", \"#B2B2FF\", \"#CCCCFF\", \"#E6E6FF\", \"#E6FFE6\", \"#CCFFCC\", \"#B2FFB2\", \"#99FF99\", \"#66FF66\", \"#33FF33\", \"#00FF00\"])"
   ]
  },
  {
   "cell_type": "code",
   "execution_count": null,
   "id": "29947c70",
   "metadata": {},
   "outputs": [],
   "source": [
    "%matplotlib inline "
   ]
  },
  {
   "cell_type": "markdown",
   "id": "fbad9c74",
   "metadata": {},
   "source": [
    "## Load data for Fig. 3"
   ]
  },
  {
   "cell_type": "markdown",
   "id": "2fe80ff2",
   "metadata": {},
   "source": [
    "### Steady state"
   ]
  },
  {
   "cell_type": "code",
   "execution_count": null,
   "id": "6ce26897",
   "metadata": {},
   "outputs": [],
   "source": [
    "path_to_h5ad = '../output/metadata/anndata_objects/Fig1_pt1_annotated.h5ad'"
   ]
  },
  {
   "cell_type": "code",
   "execution_count": null,
   "id": "e76c14d0",
   "metadata": {},
   "outputs": [],
   "source": [
    "adata_d0 = sc.read_h5ad(path_to_h5ad)\n",
    "adata_d0.uns['log1p'][\"base\"] = None"
   ]
  },
  {
   "cell_type": "markdown",
   "id": "9e0cc95c",
   "metadata": {},
   "source": [
    "### Damage"
   ]
  },
  {
   "cell_type": "code",
   "execution_count": null,
   "id": "37b6ba8a",
   "metadata": {},
   "outputs": [],
   "source": [
    "path_to_h5ad = '../output/metadata/anndata_objects/Fig5_annotated.h5ad'"
   ]
  },
  {
   "cell_type": "code",
   "execution_count": null,
   "id": "8f1419e7",
   "metadata": {},
   "outputs": [],
   "source": [
    "adata_d147 = sc.read_h5ad(path_to_h5ad)\n",
    "adata_d147.uns['log1p'][\"base\"] = None"
   ]
  },
  {
   "cell_type": "markdown",
   "id": "af9a2350",
   "metadata": {},
   "source": [
    "### Combined"
   ]
  },
  {
   "cell_type": "code",
   "execution_count": null,
   "id": "f4b4155a",
   "metadata": {},
   "outputs": [],
   "source": [
    "path_to_h5ad = '../output/metadata/anndata_objects/Fig3.h5ad'"
   ]
  },
  {
   "cell_type": "code",
   "execution_count": null,
   "id": "b4e8f40d",
   "metadata": {},
   "outputs": [],
   "source": [
    "adata_d0147 = sc.read_h5ad(path_to_h5ad)\n",
    "adata_d0147.uns['log1p'][\"base\"] = None"
   ]
  },
  {
   "cell_type": "markdown",
   "id": "9addb41a",
   "metadata": {},
   "source": [
    "### Transfer annotation"
   ]
  },
  {
   "cell_type": "code",
   "execution_count": null,
   "id": "30b75fdf",
   "metadata": {},
   "outputs": [],
   "source": [
    "annotated_subsets = pd.concat([adata_d0.obs['cell_type_subset'], adata_d147.obs['cell_type_subset']])"
   ]
  },
  {
   "cell_type": "code",
   "execution_count": null,
   "id": "54d0a4c1",
   "metadata": {},
   "outputs": [],
   "source": [
    "adata_d0147.obs['cell_type_subset']=''"
   ]
  },
  {
   "cell_type": "code",
   "execution_count": null,
   "id": "ad6060a6",
   "metadata": {},
   "outputs": [],
   "source": [
    "adata_d0147.obs['cell_type_subset'][adata_d0147.obs.index.isin(annotated_subsets.index) == True] = annotated_subsets"
   ]
  },
  {
   "cell_type": "code",
   "execution_count": null,
   "id": "772a9b94",
   "metadata": {},
   "outputs": [],
   "source": [
    "adata_d0147.uns['cell_type_subset_colors'] = ['#F6222E', '#3283FE', '#16FF32', '#BDCDFF', '#3B00FB', '#1CFFCE', '#d62728', '#19c9b3','#FFA5D2',   'grey', '#2ED9FF', '#c1c119', '#8b0000', '#FE00FA', \"#F8A19F\", '#1CBE4F','#B5EFB5',  '#AA0DFE','#FEAF16', '#325A9B', '#C075A6', 'black']"
   ]
  },
  {
   "cell_type": "code",
   "execution_count": null,
   "id": "dff7db1d",
   "metadata": {},
   "outputs": [],
   "source": [
    "sc.pl.umap(adata_d0147, color=['day', 'stage', 'cell_type_subset'], \n",
    "                     color_map='Spectral_r',\n",
    "                     use_raw=False, \n",
    "                     ncols=4, \n",
    "                     wspace = 0.2,\n",
    "                     outline_width=[0.6, 0.05], \n",
    "                     size=15,  \n",
    "                     frameon=False, \n",
    "                     add_outline=True, \n",
    "                     sort_order = False)"
   ]
  },
  {
   "cell_type": "markdown",
   "id": "c1514fb2",
   "metadata": {},
   "source": [
    "## Include looms"
   ]
  },
  {
   "cell_type": "code",
   "execution_count": null,
   "id": "b4253b2b",
   "metadata": {},
   "outputs": [],
   "source": [
    "import scvelo as scv\n",
    "scv.set_figure_params(dpi=80, dpi_save=300, color_map='viridis', vector_friendly=True, transparent=True, format='pdf')"
   ]
  },
  {
   "cell_type": "code",
   "execution_count": null,
   "id": "1657666e",
   "metadata": {},
   "outputs": [],
   "source": [
    "from pathlib import Path\n",
    "\n",
    "ds_list = []\n",
    "\n",
    "tenexdir = '../data/10xGenomics/'\n",
    "loom_path = Path(tenexdir).glob('**/**/**/**/cr-results.loom')\n",
    "\n",
    "with loompy.new('loom_merged.loom') as dsout:  # Create a new, empty, loom file\n",
    "    for f in loom_path:\n",
    "        with loompy.connect(f) as ds:\n",
    "            totals = ds.map([np.sum], axis=1)[0]\n",
    "            cells = np.where(totals > 0)[0] # Select the cells that passed QC (totals > 500)\n",
    "            ds_list.append(ds.shape[1])\n",
    "            for (ix, selection, view) in ds.scan(items=cells, axis=1):\n",
    "                dsout.add_columns(view.layers, col_attrs=view.ca, row_attrs=view.ra)"
   ]
  },
  {
   "cell_type": "code",
   "execution_count": null,
   "id": "15612d94",
   "metadata": {},
   "outputs": [],
   "source": [
    "ldata = scv.read('loom_merged.loom', cache=False)"
   ]
  },
  {
   "cell_type": "code",
   "execution_count": null,
   "id": "23bbd3f7",
   "metadata": {},
   "outputs": [],
   "source": [
    "x = np.repeat(np.array([ '-1@mo02_CD45neg1_d4',  '-1@mo02_CD45neg1_d0', '-1@mo02_CD45neg2_d7', '-1@mo02_FB_d1', \n",
    "                         '-1@mo02_CD45neg2_d1', '-1@mo02_EC_d7', '-1@mo02_EC_d4', '-1@mo02_FB_d7', \n",
    "                         '-1@mo02_EC_d1', '-1@mo02_EC_d0', '-1@mo02_FB_d4', '-1@mo02_CD45neg2_d4',  \n",
    "                         '-1@mo02_CD45neg2_d0', '-1@mo02_CD45neg1_d7', '-1@mo02_CD45neg1_d1', '-1@mo02_FB_d0',\n",
    "                         '-1@mo18_EC_d1', '-1@mo18_FB_d1', '-1@mo18_CD45neg_d4', '-1@mo18_CD45neg1_d0',\n",
    "                         '-1@mo18_EC_d4', '-1@mo18_FB_d4', '-1@mo18_CD45neg2_d0', '-1@mo18_CD45neg_d7',\n",
    "                         '-1@mo18_CD45neg_d1', '-1@mo18_EC_d7', '-1@mo18_EC_d0', '-1@mo18_FB_d7', \n",
    "                         '-1@mo18_FB_d0']), ds_list, axis=0)"
   ]
  },
  {
   "cell_type": "code",
   "execution_count": null,
   "id": "00b49796",
   "metadata": {},
   "outputs": [],
   "source": [
    "ldata.obs['name_match'] = x"
   ]
  },
  {
   "cell_type": "code",
   "execution_count": null,
   "id": "6e7a7e13",
   "metadata": {},
   "outputs": [],
   "source": [
    "start = ':'\n",
    "end = 'x'\n",
    "\n",
    "barcodes = []\n",
    "for loom_index in ldata.obs_names:\n",
    "    barcodes.append(str(loom_index[loom_index.find(start)+len(start):loom_index.rfind(end)]))\n",
    "ldata.obs['barcodes'] = barcodes"
   ]
  },
  {
   "cell_type": "code",
   "execution_count": null,
   "id": "29c7c8f3",
   "metadata": {},
   "outputs": [],
   "source": [
    "ldata.obs_names = ldata.obs[['barcodes','name_match']].agg(''.join, axis=1)"
   ]
  },
  {
   "cell_type": "code",
   "execution_count": null,
   "id": "65ea2f0f",
   "metadata": {},
   "outputs": [],
   "source": [
    "from collections import Counter\n",
    "[k for k, v in Counter(ldata.obs_names).items() if v > 1]"
   ]
  },
  {
   "cell_type": "code",
   "execution_count": null,
   "id": "3da2f0bd",
   "metadata": {},
   "outputs": [],
   "source": [
    "adata_d0147_loom = scv.utils.merge(adata_d0147, ldata)"
   ]
  },
  {
   "cell_type": "code",
   "execution_count": null,
   "id": "b2d02054",
   "metadata": {},
   "outputs": [],
   "source": [
    "adata_d0147_loom.shape"
   ]
  },
  {
   "cell_type": "markdown",
   "id": "eab86bb1",
   "metadata": {},
   "source": [
    "## Analyze TEC, FB and EC and annotate based on public marker genes and signatures"
   ]
  },
  {
   "cell_type": "markdown",
   "id": "600b426d",
   "metadata": {},
   "source": [
    "### Our ECs"
   ]
  },
  {
   "cell_type": "code",
   "execution_count": null,
   "id": "1b49dc52",
   "metadata": {},
   "outputs": [],
   "source": [
    "EC_d0147 = adata_d0147[(adata_d0147.obs['cell_type_subset']=='0:arEC') | (adata_d0147.obs['cell_type_subset']=='1:capEC') | (adata_d0147.obs['cell_type_subset']=='2:venEC')]"
   ]
  },
  {
   "cell_type": "code",
   "execution_count": null,
   "id": "25af2238",
   "metadata": {},
   "outputs": [],
   "source": [
    "# Remove columns with all 0s\n",
    "sc.pp.filter_genes(EC_d0147, min_cells=1)"
   ]
  },
  {
   "cell_type": "markdown",
   "id": "c0f35f17",
   "metadata": {},
   "source": [
    "#### Identify highly variable genes (all samples but day 1) and replot the data"
   ]
  },
  {
   "cell_type": "code",
   "execution_count": null,
   "id": "a6210c54",
   "metadata": {},
   "outputs": [],
   "source": [
    "EC_d047 = EC_d0147[EC_d0147.obs['day']!='d1']"
   ]
  },
  {
   "cell_type": "code",
   "execution_count": null,
   "id": "78f99012",
   "metadata": {},
   "outputs": [],
   "source": [
    "# Remove genes that are not expressed in any cells (remove columns with all 0s)\n",
    "sc.pp.filter_genes(EC_d047, min_cells=1)"
   ]
  },
  {
   "cell_type": "code",
   "execution_count": null,
   "id": "dd73be52",
   "metadata": {},
   "outputs": [],
   "source": [
    "sc.pp.highly_variable_genes(EC_d047, n_top_genes=3500, flavor='seurat')"
   ]
  },
  {
   "cell_type": "code",
   "execution_count": null,
   "id": "8a82c242",
   "metadata": {},
   "outputs": [],
   "source": [
    "hvgs = EC_d047.var[EC_d047.var['highly_variable']==True].index"
   ]
  },
  {
   "cell_type": "code",
   "execution_count": null,
   "id": "12473df2",
   "metadata": {},
   "outputs": [],
   "source": [
    "EC_d047.var['highly_variable'] = ''"
   ]
  },
  {
   "cell_type": "code",
   "execution_count": null,
   "id": "d718d324",
   "metadata": {},
   "outputs": [],
   "source": [
    "EC_d0147.var['highly_variable'] = [True if x in hvgs else False for x in EC_d0147.var['highly_variable'].index]"
   ]
  },
  {
   "cell_type": "code",
   "execution_count": null,
   "id": "41241d8f",
   "metadata": {},
   "outputs": [],
   "source": [
    "rng = np.random.RandomState(42)\n",
    "sc.tl.pca(EC_d0147, n_comps=200, svd_solver='arpack', random_state=rng, use_highly_variable=True)"
   ]
  },
  {
   "cell_type": "code",
   "execution_count": null,
   "id": "e2b99eaa",
   "metadata": {},
   "outputs": [],
   "source": [
    "def observe_variance(anndata_object):\n",
    "    fig = plt.figure(figsize=(10,5))\n",
    "    ax1 = fig.add_subplot(121)\n",
    "    ax2 = fig.add_subplot(122)\n",
    "    # variance per principal component\n",
    "    x = range(len(anndata_object.uns['pca']['variance_ratio']))\n",
    "    y = anndata_object.uns['pca']['variance_ratio']\n",
    "    ax1.scatter(x,y,s=4)\n",
    "    ax1.set_xlabel('PC')\n",
    "    ax1.set_ylabel('Fraction of variance explained\\n')\n",
    "    ax1.set_title('Fraction of variance explained per PC\\n')\n",
    "    # cumulative variance explained\n",
    "    cml_var_explained = np.cumsum(anndata_object.uns['pca']['variance_ratio'])\n",
    "    x = range(len(anndata_object.uns['pca']['variance_ratio']))\n",
    "    y = cml_var_explained\n",
    "    ax2.scatter(x,y,s=4)\n",
    "    ax2.set_xlabel('PC')\n",
    "    ax2.set_ylabel('Cumulative fraction of variance\\nexplained')\n",
    "    ax2.set_title('Cumulative fraction of variance\\nexplained by PCs')\n",
    "    fig.tight_layout()\n",
    "    plot = plt.show\n",
    "    return(plot)\n",
    "observe_variance(EC_d0147)"
   ]
  },
  {
   "cell_type": "code",
   "execution_count": null,
   "id": "d407ab0c",
   "metadata": {},
   "outputs": [],
   "source": [
    "rng = np.random.RandomState(42)\n",
    "sc.tl.pca(EC_d0147, n_comps=30, svd_solver='arpack', random_state=rng, use_highly_variable=True)"
   ]
  },
  {
   "cell_type": "code",
   "execution_count": null,
   "id": "aaa1dad9",
   "metadata": {},
   "outputs": [],
   "source": [
    "sce.pp.harmony_integrate(EC_d0147, 'sample')"
   ]
  },
  {
   "cell_type": "code",
   "execution_count": null,
   "id": "344bc4b4",
   "metadata": {},
   "outputs": [],
   "source": [
    "sc.pp.neighbors(EC_d0147, n_neighbors=15, use_rep='X_pca_harmony')\n",
    "sc.tl.umap(EC_d0147)"
   ]
  },
  {
   "cell_type": "code",
   "execution_count": null,
   "id": "8f7fa1a8",
   "metadata": {},
   "outputs": [],
   "source": [
    "sc.set_figure_params(dpi=80, dpi_save=300, color_map='viridis', vector_friendly=True, transparent=True)\n",
    "\n",
    "sc.pl.umap(\n",
    "    EC_d0147, \n",
    "    color=['cell_type_subset', 'stage', 'day', 'sample'], \n",
    "    ncols=6,\n",
    "    outline_width=[0.6, 0.05],\n",
    "    frameon=False,\n",
    "    cmap='Spectral_r',\n",
    "    wspace = 0.3,\n",
    "    add_outline=True\n",
    ")"
   ]
  },
  {
   "cell_type": "markdown",
   "id": "7fd01fc4",
   "metadata": {},
   "source": [
    "### Our FB"
   ]
  },
  {
   "cell_type": "code",
   "execution_count": null,
   "id": "364fb01a",
   "metadata": {},
   "outputs": [],
   "source": [
    "FB_d0147 = adata_d0147[(adata_d0147.obs['cell_type_subset']=='3:capsFB') | (adata_d0147.obs['cell_type_subset']=='4:intFB') | (adata_d0147.obs['cell_type_subset']=='5:medFB')]"
   ]
  },
  {
   "cell_type": "code",
   "execution_count": null,
   "id": "4c455d6b",
   "metadata": {},
   "outputs": [],
   "source": [
    "# Remove columns with all 0s\n",
    "sc.pp.filter_genes(FB_d0147, min_cells=1)"
   ]
  },
  {
   "cell_type": "markdown",
   "id": "64b34157",
   "metadata": {},
   "source": [
    "#### Identify highly variable genes (all samples but day 1) and replot the data"
   ]
  },
  {
   "cell_type": "code",
   "execution_count": null,
   "id": "88332fa7",
   "metadata": {},
   "outputs": [],
   "source": [
    "FB_d047 = FB_d0147[FB_d0147.obs['day']!='d1']"
   ]
  },
  {
   "cell_type": "code",
   "execution_count": null,
   "id": "ef2e91a4",
   "metadata": {},
   "outputs": [],
   "source": [
    "# Remove genes that are not expressed in any cells (remove columns with all 0s)\n",
    "sc.pp.filter_genes(FB_d047, min_cells=1)"
   ]
  },
  {
   "cell_type": "code",
   "execution_count": null,
   "id": "0aca3e6e",
   "metadata": {},
   "outputs": [],
   "source": [
    "sc.pp.highly_variable_genes(FB_d047, n_top_genes=3500, flavor='seurat')"
   ]
  },
  {
   "cell_type": "code",
   "execution_count": null,
   "id": "39d49ec1",
   "metadata": {},
   "outputs": [],
   "source": [
    "hvgs = FB_d047.var[FB_d047.var['highly_variable']==True].index"
   ]
  },
  {
   "cell_type": "code",
   "execution_count": null,
   "id": "764c6aa6",
   "metadata": {},
   "outputs": [],
   "source": [
    "FB_d047.var['highly_variable'] = ''"
   ]
  },
  {
   "cell_type": "code",
   "execution_count": null,
   "id": "bda12667",
   "metadata": {},
   "outputs": [],
   "source": [
    "FB_d0147.var['highly_variable'] = [True if x in hvgs else False for x in FB_d0147.var['highly_variable'].index]"
   ]
  },
  {
   "cell_type": "code",
   "execution_count": null,
   "id": "9e194b54",
   "metadata": {},
   "outputs": [],
   "source": [
    "rng = np.random.RandomState(42)\n",
    "sc.tl.pca(FB_d0147, n_comps=200, svd_solver='arpack', random_state=rng, use_highly_variable=True)"
   ]
  },
  {
   "cell_type": "code",
   "execution_count": null,
   "id": "13eaeac0",
   "metadata": {},
   "outputs": [],
   "source": [
    "observe_variance(FB_d0147)"
   ]
  },
  {
   "cell_type": "code",
   "execution_count": null,
   "id": "9952a624",
   "metadata": {},
   "outputs": [],
   "source": [
    "rng = np.random.RandomState(42)\n",
    "sc.tl.pca(FB_d0147, n_comps=50, svd_solver='arpack', random_state=rng, use_highly_variable=True)"
   ]
  },
  {
   "cell_type": "code",
   "execution_count": null,
   "id": "47fa44e3",
   "metadata": {},
   "outputs": [],
   "source": [
    "sce.pp.harmony_integrate(FB_d0147, 'sample')"
   ]
  },
  {
   "cell_type": "code",
   "execution_count": null,
   "id": "5273e1de",
   "metadata": {},
   "outputs": [],
   "source": [
    "sc.pp.neighbors(FB_d0147, n_neighbors=15, use_rep='X_pca_harmony')\n",
    "sc.tl.umap(FB_d0147)"
   ]
  },
  {
   "cell_type": "code",
   "execution_count": null,
   "id": "f55e89b0",
   "metadata": {},
   "outputs": [],
   "source": [
    "sc.set_figure_params(dpi=80, dpi_save=300, color_map='viridis', vector_friendly=True, transparent=True)\n",
    "\n",
    "sc.pl.umap(\n",
    "    FB_d0147, \n",
    "    color=['cell_type_subset', 'stage', 'day', 'sample'], \n",
    "    ncols=6,\n",
    "    outline_width=[0.6, 0.05],\n",
    "    size=15,\n",
    "    frameon=False,\n",
    "    cmap='Spectral_r',\n",
    "    wspace = 0.3,\n",
    "    add_outline=True\n",
    ")"
   ]
  },
  {
   "cell_type": "code",
   "execution_count": null,
   "id": "78ce4be3",
   "metadata": {},
   "outputs": [],
   "source": [
    "capsular = ['Akr1c18',\t'Mrgprg',\t'Upk3b',\t'Smpd3',\t'Sema3c',\t'Dpp4',\t'Efhd1',\t'Pcsk6',\t'Pi16',\t'Ackr3',\t'Sfrp2',\t'Msln',\t'Sfrp4',\t'Adgrd1',\t'Spon2',\t'Mfap5',\t'Gpc3',\t'Saa3',\t'Ogn',\t'Mt2',\t'Cpxm2',\t'Lrrn4cl',\t'Fndc1',\t'Anxa3',\t'Qpct',\t'Cxcl13',\t'Smoc2',\t'Igfbp6',\t'Nov',\t'Csrp2']\n",
    "medullary = ['Gja4',\t'Mmp9',\t'Pde2a',\t'Vtn',\t'Des',\t'Crsc',\t'Ecscr',\t'C1qtnf5',\t'Cx3cl1',\t'Acta2',\t'Meox1',\t'Sdc3',\t'Postn',\t'Tagln',\t'Serpine2',\t'Enpp2',\t'SlcO2b1',\t'Ndufa4l2',\t'Serpina3g',\t'Ltbp1',\t'Gfra2',\t'Mfge8',\t'Rasa3']\n",
    "perilobular = ['C7',\t'Dpt',\t'Ptn',\t'Ptgds',\t'Rbp5',\t'Rspo3',\t'Mfap4',\t'Sparcl1',\t'Srpx',\t'Hspb6',\t'Ccl2',\t'Fxyd6',\t'Nr2f1',\t'Dbi',\t'Spry1',\t'Litaf',\t'Dcn',\t'Runx1t1',\t'Rwdd1']\n",
    "interlobular = ['Lum',\t'Mgp',\t'Ogn',\t'Fn1',\t'Igfbp6',\t'Col1a2',\t'Col14a1',\t'Col3a1',\t'Col1a1',\t'Fbn1',\t'Dcn',\t'Itm2a',\t'Ccdc80',\t'Ctsk',\t'Wisp2',\t'Id2',\t'Spon2',\t'Fstl1',\t'Fbln2',\t'Mfap5']"
   ]
  },
  {
   "cell_type": "code",
   "execution_count": null,
   "id": "849d9ced",
   "metadata": {},
   "outputs": [],
   "source": [
    "sc.tl.score_genes(FB_d0147, gene_list = perilobular,  score_name='perilobular\\n(human)', use_raw=False)\n",
    "sc.tl.score_genes(FB_d0147, gene_list = interlobular,  score_name='interlobular\\n(human)', use_raw=False)\n",
    "sc.tl.score_genes(FB_d0147, gene_list = capsular,  score_name='capsular\\n(mouse)', use_raw=False)\n",
    "sc.tl.score_genes(FB_d0147, gene_list = medullary,  score_name='medullary\\n(mouse)', use_raw=False)"
   ]
  },
  {
   "cell_type": "code",
   "execution_count": null,
   "id": "6940d245",
   "metadata": {},
   "outputs": [],
   "source": [
    "sc.pl.umap(\n",
    "    FB_d0147,\n",
    "    color=[ 'capsular\\n(mouse)', 'medullary\\n(mouse)', 'perilobular\\n(human)', 'interlobular\\n(human)'],\n",
    "    palette=user_defined_palette,  \n",
    "    color_map='Spectral_r', \n",
    "    use_raw=False,\n",
    "    ncols=5,\n",
    "    wspace = 0.3,\n",
    "    outline_width=[0.6, 0.05],\n",
    "    size=15,\n",
    "    frameon=False,\n",
    "    add_outline=True,\n",
    "    sort_order = False\n",
    ")"
   ]
  },
  {
   "cell_type": "markdown",
   "id": "81ee9646",
   "metadata": {},
   "source": [
    "### Our TEC"
   ]
  },
  {
   "cell_type": "code",
   "execution_count": null,
   "id": "8e62b1f2",
   "metadata": {},
   "outputs": [],
   "source": [
    "TEC_d0147 = adata_d0147[(adata_d0147.obs['cell_type_subset']=='10:aaTEC1') | (adata_d0147.obs['cell_type_subset']=='11:aaTEC2') | (adata_d0147.obs['cell_type_subset']=='12:cTEC') |\n",
    "                        (adata_d0147.obs['cell_type_subset']=='13:mTEC1') | (adata_d0147.obs['cell_type_subset']=='14:mTEC-prol') | (adata_d0147.obs['cell_type_subset']=='15:mTEC2') |\n",
    "                        (adata_d0147.obs['cell_type_subset']=='16:mTEC3') | (adata_d0147.obs['cell_type_subset']=='17:mimic(tuft)') | (adata_d0147.obs['cell_type_subset']=='18:mimic(neuroendo)') |\n",
    "                        (adata_d0147.obs['cell_type_subset']=='19:mimic(goblet)') | (adata_d0147.obs['cell_type_subset']=='20:mimic(microfold)')]"
   ]
  },
  {
   "cell_type": "code",
   "execution_count": null,
   "id": "784768d7",
   "metadata": {},
   "outputs": [],
   "source": [
    "# Remove columns with all 0s\n",
    "sc.pp.filter_genes(TEC_d0147, min_cells=1)"
   ]
  },
  {
   "cell_type": "markdown",
   "id": "857e81fd",
   "metadata": {},
   "source": [
    "#### Identify highly variable genes (all samples but day 1) and replot the data"
   ]
  },
  {
   "cell_type": "code",
   "execution_count": null,
   "id": "150a89b3",
   "metadata": {},
   "outputs": [],
   "source": [
    "TEC_d047 = TEC_d0147[TEC_d0147.obs['day']!='d1']"
   ]
  },
  {
   "cell_type": "code",
   "execution_count": null,
   "id": "ea2d438a",
   "metadata": {},
   "outputs": [],
   "source": [
    "# Remove genes that are not expressed in any cells (remove columns with all 0s)\n",
    "sc.pp.filter_genes(TEC_d047, min_cells=1)"
   ]
  },
  {
   "cell_type": "code",
   "execution_count": null,
   "id": "56b16a8d",
   "metadata": {},
   "outputs": [],
   "source": [
    "sc.pp.highly_variable_genes(TEC_d047, n_top_genes=3500, flavor='seurat')"
   ]
  },
  {
   "cell_type": "code",
   "execution_count": null,
   "id": "5ac551db",
   "metadata": {},
   "outputs": [],
   "source": [
    "hvgs = TEC_d047.var[TEC_d047.var['highly_variable']==True].index"
   ]
  },
  {
   "cell_type": "code",
   "execution_count": null,
   "id": "cc78185b",
   "metadata": {},
   "outputs": [],
   "source": [
    "TEC_d047.var['highly_variable'] = ''"
   ]
  },
  {
   "cell_type": "code",
   "execution_count": null,
   "id": "b51160bb",
   "metadata": {},
   "outputs": [],
   "source": [
    "TEC_d0147.var['highly_variable'] = [True if x in hvgs else False for x in TEC_d0147.var['highly_variable'].index]"
   ]
  },
  {
   "cell_type": "code",
   "execution_count": null,
   "id": "df02e64a",
   "metadata": {},
   "outputs": [],
   "source": [
    "rng = np.random.RandomState(42)\n",
    "sc.tl.pca(TEC_d0147, n_comps=200, svd_solver='arpack', random_state=rng, use_highly_variable=True)"
   ]
  },
  {
   "cell_type": "code",
   "execution_count": null,
   "id": "6679a943",
   "metadata": {},
   "outputs": [],
   "source": [
    "observe_variance(TEC_d0147)"
   ]
  },
  {
   "cell_type": "code",
   "execution_count": null,
   "id": "af385e15",
   "metadata": {},
   "outputs": [],
   "source": [
    "rng = np.random.RandomState(42)\n",
    "sc.tl.pca(TEC_d0147, n_comps=35, svd_solver='arpack', random_state=rng, use_highly_variable=True)"
   ]
  },
  {
   "cell_type": "code",
   "execution_count": null,
   "id": "e7e9c8e2",
   "metadata": {},
   "outputs": [],
   "source": [
    "sce.pp.harmony_integrate(TEC_d0147, 'sample')"
   ]
  },
  {
   "cell_type": "code",
   "execution_count": null,
   "id": "a95b1425",
   "metadata": {},
   "outputs": [],
   "source": [
    "sc.pp.neighbors(TEC_d0147, n_neighbors=15, use_rep='X_pca_harmony')\n",
    "sc.tl.umap(TEC_d0147)"
   ]
  },
  {
   "cell_type": "code",
   "execution_count": null,
   "id": "1f5159e3",
   "metadata": {},
   "outputs": [],
   "source": [
    "#35\n",
    "sc.set_figure_params(dpi=80, dpi_save=300, color_map='viridis', vector_friendly=True, transparent=True)\n",
    "\n",
    "sc.pl.umap(\n",
    "    TEC_d0147, \n",
    "    color=['cell_type_subset', 'stage', 'day', 'sample'], \n",
    "    ncols=6,\n",
    "    outline_width=[0.6, 0.05],\n",
    "    size=15,\n",
    "    frameon=False,\n",
    "    cmap='Spectral_r',\n",
    "    wspace = 0.3,\n",
    "    add_outline=True\n",
    ")"
   ]
  },
  {
   "cell_type": "markdown",
   "id": "11dd0778",
   "metadata": {},
   "source": [
    "## RNA velocity"
   ]
  },
  {
   "cell_type": "code",
   "execution_count": null,
   "id": "9c0a65c5",
   "metadata": {},
   "outputs": [],
   "source": [
    "TEC_d0147_loom_nomimics = adata_d0147_loom[(adata_d0147_loom.obs['cell_type_subset']=='10:aaTEC1') | (adata_d0147_loom.obs['cell_type_subset']=='11:aaTEC2') | (adata_d0147_loom.obs['cell_type_subset']=='12:cTEC') |\n",
    "                        (adata_d0147_loom.obs['cell_type_subset']=='13:mTEC1') | (adata_d0147_loom.obs['cell_type_subset']=='14:mTEC-prol') | (adata_d0147_loom.obs['cell_type_subset']=='15:mTEC2') |\n",
    "                        (adata_d0147_loom.obs['cell_type_subset']=='16:mTEC3')] "
   ]
  },
  {
   "cell_type": "code",
   "execution_count": null,
   "id": "8d484c12",
   "metadata": {},
   "outputs": [],
   "source": [
    "# Remove columns with all 0s\n",
    "sc.pp.filter_genes(TEC_d0147_loom_nomimics, min_cells=1)"
   ]
  },
  {
   "cell_type": "code",
   "execution_count": null,
   "id": "b889a305",
   "metadata": {},
   "outputs": [],
   "source": [
    "sc.pp.highly_variable_genes(TEC_d0147_loom_nomimics, n_top_genes=3500, n_bins=20, flavor='seurat', inplace=True)"
   ]
  },
  {
   "cell_type": "code",
   "execution_count": null,
   "id": "e89896ef",
   "metadata": {},
   "outputs": [],
   "source": [
    "rng = np.random.RandomState(42)\n",
    "sc.tl.pca(TEC_d0147_loom_nomimics, n_comps=20, svd_solver='arpack', random_state=rng, use_highly_variable=True)"
   ]
  },
  {
   "cell_type": "code",
   "execution_count": null,
   "id": "60299efb",
   "metadata": {},
   "outputs": [],
   "source": [
    "sce.pp.harmony_integrate(TEC_d0147_loom_nomimics, 'sample')"
   ]
  },
  {
   "cell_type": "code",
   "execution_count": null,
   "id": "33c1acb3",
   "metadata": {},
   "outputs": [],
   "source": [
    "sc.pp.neighbors(TEC_d0147_loom_nomimics, n_neighbors=15, use_rep='X_pca_harmony')\n",
    "sc.tl.umap(TEC_d0147_loom_nomimics)"
   ]
  },
  {
   "cell_type": "code",
   "execution_count": null,
   "id": "e93d56c6",
   "metadata": {},
   "outputs": [],
   "source": [
    "sc.set_figure_params(dpi=80, dpi_save=300, color_map='viridis', vector_friendly=True, transparent=True)\n",
    "\n",
    "sc.pl.umap(\n",
    "    TEC_d0147_loom_nomimics, \n",
    "    color=['cell_type_subset', 'stage'], \n",
    "    ncols=2,\n",
    "    add_outline=True,\n",
    "    frameon=False,\n",
    "    wspace = 0.7,\n",
    "    sort_order = False\n",
    ")"
   ]
  },
  {
   "cell_type": "code",
   "execution_count": null,
   "id": "a5c9bb38",
   "metadata": {},
   "outputs": [],
   "source": [
    "scv.pp.moments(TEC_d0147_loom_nomimics, use_rep='X_pca_harmony')"
   ]
  },
  {
   "cell_type": "code",
   "execution_count": null,
   "id": "93bee4db",
   "metadata": {},
   "outputs": [],
   "source": [
    "scv.tl.velocity(TEC_d0147_loom_nomimics, mode='stochastic')"
   ]
  },
  {
   "cell_type": "code",
   "execution_count": null,
   "id": "095ba717",
   "metadata": {},
   "outputs": [],
   "source": [
    "scv.tl.velocity_graph(TEC_d0147_loom_nomimics)"
   ]
  },
  {
   "cell_type": "code",
   "execution_count": null,
   "id": "623c3ca7",
   "metadata": {},
   "outputs": [],
   "source": [
    "scv.pl.velocity_embedding_stream(TEC_d0147_loom_nomimics, basis='umap')"
   ]
  },
  {
   "cell_type": "code",
   "execution_count": null,
   "id": "b4a27859",
   "metadata": {},
   "outputs": [],
   "source": [
    "scv.pl.velocity_embedding_grid(TEC_d0147_loom_nomimics, basis='umap', color=['cell_type_subset'], alpha=0.7, legend_loc='right')"
   ]
  },
  {
   "cell_type": "code",
   "execution_count": null,
   "id": "e18a3f2f",
   "metadata": {},
   "outputs": [],
   "source": [
    "scv.pl.velocity_embedding_stream(TEC_d0147_loom_nomimics, basis='umap', color=['cell_type_subset'],alpha=0.7, legend_loc='right')"
   ]
  },
  {
   "cell_type": "code",
   "execution_count": null,
   "id": "9ccf9acd",
   "metadata": {},
   "outputs": [],
   "source": [
    "scv.pl.velocity_embedding_stream(TEC_d0147_loom_nomimics, basis='umap', color=['cell_type_subset'],alpha=0.7, legend_loc='right')"
   ]
  },
  {
   "cell_type": "code",
   "execution_count": null,
   "id": "811b0701",
   "metadata": {},
   "outputs": [],
   "source": [
    "TEC_d0147_loom_nomimics.obs['distinct'] = ''\n",
    "TEC_d0147_loom_nomimics.obs['distinct'] = TEC_d0147_loom_nomimics.obs[['stage', 'day', 'cell_type_subset']].agg(' '.join, axis=1)"
   ]
  },
  {
   "cell_type": "code",
   "execution_count": null,
   "id": "8f09c4d5",
   "metadata": {},
   "outputs": [],
   "source": [
    "TEC_d0147_loom_nomimics.uns['distinct_colors'] = ['#2ed9ff', '#c1c119', '#8b0000', '#fe00fa', '#f8a19f', '#1cbe4f', '#b5efb5',\n",
    "                                                  '#2ed9ff', '#c1c119', '#8b0000', '#fe00fa', '#f8a19f', '#1cbe4f', '#b5efb5',\n",
    "                                                  '#2ed9ff', '#c1c119', '#8b0000', '#fe00fa', '#f8a19f', '#1cbe4f', '#b5efb5',\n",
    "                                                  '#2ed9ff', '#c1c119', '#8b0000', '#fe00fa', '#f8a19f', '#1cbe4f', '#b5efb5',\n",
    "                                                  '#2ed9ff', '#c1c119', '#8b0000', '#fe00fa', '#f8a19f', '#1cbe4f', '#b5efb5',\n",
    "                                                  '#2ed9ff', '#c1c119', '#8b0000', '#fe00fa', '#f8a19f', '#1cbe4f', '#b5efb5',\n",
    "                                                  '#2ed9ff', '#c1c119', '#8b0000', '#fe00fa', '#f8a19f', '#1cbe4f', '#b5efb5',\n",
    "                                                  '#2ed9ff', '#c1c119', '#8b0000', '#fe00fa', '#f8a19f', '#1cbe4f', '#b5efb5']"
   ]
  },
  {
   "cell_type": "code",
   "execution_count": null,
   "id": "ae56da6b",
   "metadata": {},
   "outputs": [],
   "source": [
    "scv.pl.velocity_embedding_stream(TEC_d0147_loom_nomimics, basis='umap', groups=['02mo d0 10:aaTEC1', '02mo d0 11:aaTEC2', '02mo d0 12:cTEC', '02mo d0 13:mTEC1', '02mo d0 14:mTEC-prol', '02mo d0 15:mTEC2', '02mo d0 16:mTEC3'], color='distinct', size=100, alpha=0.7, legend_loc='right', save='02mo_d0_bystage.svg')\n",
    "scv.pl.velocity_embedding_stream(TEC_d0147_loom_nomimics, basis='umap', groups=['02mo d1 10:aaTEC1', '02mo d1 11:aaTEC2', '02mo d1 12:cTEC', '02mo d1 13:mTEC1', '02mo d1 14:mTEC-prol', '02mo d1 15:mTEC2', '02mo d1 16:mTEC3'], color='distinct', size=100, alpha=0.7, legend_loc='right', save='02mo_d1_bystage.svg')\n",
    "scv.pl.velocity_embedding_stream(TEC_d0147_loom_nomimics, basis='umap', groups=['02mo d4 10:aaTEC1', '02mo d4 11:aaTEC2', '02mo d4 12:cTEC', '02mo d4 13:mTEC1', '02mo d4 14:mTEC-prol', '02mo d4 15:mTEC2', '02mo d4 16:mTEC3'], color='distinct', size=100, alpha=0.7, legend_loc='right', save='02mo_d4_bystage.svg')\n",
    "scv.pl.velocity_embedding_stream(TEC_d0147_loom_nomimics, basis='umap', groups=['02mo d7 10:aaTEC1', '02mo d7 11:aaTEC2', '02mo d7 12:cTEC', '02mo d7 13:mTEC1', '02mo d7 14:mTEC-prol', '02mo d7 15:mTEC2', '02mo d7 16:mTEC3'], color='distinct', size=100, alpha=0.7, legend_loc='right', save='02mo_d7_bystage.svg')\n",
    "scv.pl.velocity_embedding_stream(TEC_d0147_loom_nomimics, basis='umap', groups=['18mo d0 10:aaTEC1', '18mo d0 11:aaTEC2', '18mo d0 12:cTEC', '18mo d0 13:mTEC1', '18mo d0 14:mTEC-prol', '18mo d0 15:mTEC2', '02mo d0 16:mTEC3'], color='distinct', size=100, alpha=0.7, legend_loc='right', save='18mo_d0_bystage.svg')\n",
    "scv.pl.velocity_embedding_stream(TEC_d0147_loom_nomimics, basis='umap', groups=['18mo d1 10:aaTEC1', '18mo d1 11:aaTEC2', '18mo d1 12:cTEC', '18mo d1 13:mTEC1', '18mo d1 14:mTEC-prol', '18mo d1 15:mTEC2', '02mo d1 16:mTEC3'], color='distinct', size=100, alpha=0.7, legend_loc='right', save='18mo_d1_bystage.svg')\n",
    "scv.pl.velocity_embedding_stream(TEC_d0147_loom_nomimics, basis='umap', groups=['18mo d4 10:aaTEC1', '18mo d4 11:aaTEC2', '18mo d4 12:cTEC', '18mo d4 13:mTEC1', '18mo d4 14:mTEC-prol', '18mo d4 15:mTEC2', '02mo d4 16:mTEC3'], color='distinct', size=100, alpha=0.7, legend_loc='right', save='18mo_d4_bystage.svg')\n",
    "scv.pl.velocity_embedding_stream(TEC_d0147_loom_nomimics, basis='umap', groups=['18mo d7 10:aaTEC1', '18mo d7 11:aaTEC2', '18mo d7 12:cTEC', '18mo d7 13:mTEC1', '18mo d7 14:mTEC-prol', '18mo d7 15:mTEC2', '02mo d7 16:mTEC3'], color='distinct', size=100, alpha=0.7, legend_loc='right', save='18mo_d7_bystage.svg')"
   ]
  },
  {
   "cell_type": "markdown",
   "id": "c44a3535",
   "metadata": {},
   "source": [
    "### Proportions over time within stage"
   ]
  },
  {
   "cell_type": "code",
   "execution_count": null,
   "id": "cd99f6d3",
   "metadata": {},
   "outputs": [],
   "source": [
    "TEC_d0147.obs['distinct'] = ''\n",
    "TEC_d0147.obs['distinct'] = TEC_d0147.obs[['stage', 'day']].agg(' '.join, axis=1)"
   ]
  },
  {
   "cell_type": "code",
   "execution_count": null,
   "id": "2647de98",
   "metadata": {},
   "outputs": [],
   "source": [
    "TEC_d0147_2mo = TEC_d0147[TEC_d0147.obs['stage']=='02mo']"
   ]
  },
  {
   "cell_type": "code",
   "execution_count": null,
   "id": "8774138f",
   "metadata": {},
   "outputs": [],
   "source": [
    "crosstb = pd.crosstab(TEC_d0147_2mo.obs['day'], TEC_d0147_2mo.obs['cell_type_subset'], normalize='index')\n",
    "# new NEW annotation \n",
    "user_defined_palette =  ['#2ED9FF', '#c1c119', '#8b0000', '#FE00FA', \"#F8A19F\", '#1CBE4F','#B5EFB5',  '#AA0DFE','#FEAF16', '#325A9B', '#C075A6', 'black']"
   ]
  },
  {
   "cell_type": "code",
   "execution_count": null,
   "id": "b61a7eaf",
   "metadata": {},
   "outputs": [],
   "source": [
    "ax = crosstb.plot(kind=\"area\", stacked=True, color=user_defined_palette, )\n",
    "ax.invert_yaxis()\n",
    "ax.legend(title='cell_type_subset', bbox_to_anchor=(1, 1.02), loc='upper left')\n",
    "plt.savefig('proportions-over-time_02mo.pdf')"
   ]
  },
  {
   "cell_type": "code",
   "execution_count": null,
   "id": "4198db01",
   "metadata": {},
   "outputs": [],
   "source": [
    "TEC_d0147_18mo = TEC_d0147[TEC_d0147.obs['stage']=='18mo']"
   ]
  },
  {
   "cell_type": "code",
   "execution_count": null,
   "id": "14bf0519",
   "metadata": {},
   "outputs": [],
   "source": [
    "crosstb = pd.crosstab(TEC_d0147_18mo.obs['day'], TEC_d0147_18mo.obs['cell_type_subset'], normalize='index')\n",
    "# new NEW annotation \n",
    "user_defined_palette =  ['#2ED9FF', '#c1c119', '#8b0000', '#FE00FA', \"#F8A19F\", '#1CBE4F','#B5EFB5',  '#AA0DFE','#FEAF16', '#325A9B', '#C075A6', 'black']"
   ]
  },
  {
   "cell_type": "code",
   "execution_count": null,
   "id": "e8fec01f",
   "metadata": {},
   "outputs": [],
   "source": [
    "ax = crosstb.plot(kind=\"area\", stacked=True, color=user_defined_palette)\n",
    "ax.invert_yaxis()\n",
    "ax.legend(title='cell_type_subset', bbox_to_anchor=(1, 1.02), loc='upper left')\n",
    "plt.savefig('proportions-over-time_18mo.pdf')"
   ]
  },
  {
   "cell_type": "code",
   "execution_count": null,
   "id": "38a9a5d1",
   "metadata": {},
   "outputs": [],
   "source": []
  },
  {
   "cell_type": "code",
   "execution_count": null,
   "id": "5af4847e",
   "metadata": {},
   "outputs": [],
   "source": [
    "import re"
   ]
  },
  {
   "cell_type": "markdown",
   "id": "2e959f55",
   "metadata": {},
   "source": [
    "### d4 vs d1 (02mo)"
   ]
  },
  {
   "cell_type": "code",
   "execution_count": null,
   "id": "077754dc",
   "metadata": {},
   "outputs": [],
   "source": [
    "adata_d0147.obs['day_and_subset'] = ''\n",
    "adata_d0147.obs['day_and_subset'] = adata_d0147.obs[['day', 'cell_type_subset']].agg('_'.join, axis=1)"
   ]
  },
  {
   "cell_type": "code",
   "execution_count": null,
   "id": "23669059",
   "metadata": {},
   "outputs": [],
   "source": [
    "adata_d0147_02mo = adata_d0147[adata_d0147.obs['stage']=='02mo']"
   ]
  },
  {
   "cell_type": "code",
   "execution_count": null,
   "id": "45f9bbf5",
   "metadata": {},
   "outputs": [],
   "source": [
    "writer = pd.ExcelWriter('adata_d0147_02mo_d4_wilcox.xlsx', engine='xlsxwriter')\n",
    "\n",
    "for subset in [\"0:arEC\", \"1:capEC\", \"2:venEC\", \"3:capsFB\", \"4:intFB\", \"5:medFB\", \"6:MEC\", \"7:vSMC/PC\", \"8:nmSC\",\"9:Fat\", \"10:aaTEC1\",  \"11:aaTEC2\",           \n",
    "               \"12:cTEC\", \"13:mTEC1\", \"14:mTEC-prol\", \"15:mTEC2\", \"16:mTEC3\", \"17:mimic(tuft)\", \"18:mimic(neuroendo)\", \"19:mimic(goblet)\", \"20:mimic(microfold)\"]:   \n",
    "    sc.tl.rank_genes_groups(adata_d0147_02mo, 'day_and_subset', groups=['d4_'+subset], reference='d1_'+subset, method='wilcoxon', use_raw=False)\n",
    "    result = adata_d0147_02mo.uns['rank_genes_groups']\n",
    "    groups = result['names'].dtype.names\n",
    "    pd.DataFrame(\n",
    "        {group + '_' + key[:1]: result[key][group]\n",
    "        for group in groups for key in ['names', 'scores', 'logfoldchanges', 'pvals_adj']}).to_excel(writer, sheet_name=re.search('.*:(.+)', subset).group(1).replace('/', '-'))\n",
    "        \n",
    "writer.save()"
   ]
  },
  {
   "cell_type": "markdown",
   "id": "43cdbb23",
   "metadata": {},
   "source": [
    "### d7 vs d1 (02mo)"
   ]
  },
  {
   "cell_type": "code",
   "execution_count": null,
   "id": "bbf1514f",
   "metadata": {},
   "outputs": [],
   "source": [
    "writer = pd.ExcelWriter('adata_d0147_02mo_d7_wilcox.xlsx', engine='xlsxwriter')\n",
    "\n",
    "for subset in [\"0:arEC\", \"1:capEC\", \"2:venEC\", \"3:capsFB\", \"4:intFB\", \"5:medFB\", \"6:MEC\", \"7:vSMC/PC\", \"8:nmSC\",\"9:Fat\", \"10:aaTEC1\",  \"11:aaTEC2\",           \n",
    "               \"12:cTEC\", \"13:mTEC1\", \"14:mTEC-prol\", \"15:mTEC2\", \"16:mTEC3\", \"17:mimic(tuft)\", \"18:mimic(neuroendo)\", \"19:mimic(goblet)\", \"20:mimic(microfold)\"]:   \n",
    "    sc.tl.rank_genes_groups(adata_d0147_02mo, 'day_and_subset', groups=['d7_'+subset], reference='d1_'+subset, method='wilcoxon', use_raw=False)\n",
    "    result = adata_d0147_02mo.uns['rank_genes_groups']\n",
    "    groups = result['names'].dtype.names\n",
    "    pd.DataFrame(\n",
    "        {group + '_' + key[:1]: result[key][group]\n",
    "        for group in groups for key in ['names', 'scores', 'logfoldchanges', 'pvals_adj']}).to_excel(writer, sheet_name=re.search('.*:(.+)', subset).group(1).replace('/', '-'))\n",
    "        \n",
    "writer.save()"
   ]
  },
  {
   "cell_type": "markdown",
   "id": "34e8d4c2",
   "metadata": {},
   "source": [
    "### d4 vs d1 (18mo)"
   ]
  },
  {
   "cell_type": "code",
   "execution_count": null,
   "id": "48aae887",
   "metadata": {},
   "outputs": [],
   "source": [
    "adata_d0147_18mo = adata_d0147[adata_d0147.obs['stage']=='18mo']"
   ]
  },
  {
   "cell_type": "code",
   "execution_count": null,
   "id": "23aba57c",
   "metadata": {},
   "outputs": [],
   "source": [
    "writer = pd.ExcelWriter('adata_d0147_18mo_d4_wilcox.xlsx', engine='xlsxwriter')\n",
    "\n",
    "for subset in [\"0:arEC\", \"1:capEC\", \"2:venEC\", \"3:capsFB\", \"4:intFB\", \"5:medFB\", \"6:MEC\", \"7:vSMC/PC\", \"8:nmSC\",\"9:Fat\", \"10:aaTEC1\",  \"11:aaTEC2\",           \n",
    "               \"12:cTEC\", \"13:mTEC1\", \"14:mTEC-prol\", \"15:mTEC2\", \"16:mTEC3\", \"17:mimic(tuft)\", \"18:mimic(neuroendo)\", \"19:mimic(goblet)\", \"20:mimic(microfold)\"]:   \n",
    "    sc.tl.rank_genes_groups(adata_d0147_18mo, 'day_and_subset', groups=['d4_'+subset], reference='d1_'+subset, method='wilcoxon', use_raw=False)\n",
    "    result = adata_d0147_18mo.uns['rank_genes_groups']\n",
    "    groups = result['names'].dtype.names\n",
    "    pd.DataFrame(\n",
    "        {group + '_' + key[:1]: result[key][group]\n",
    "        for group in groups for key in ['names', 'scores', 'logfoldchanges', 'pvals_adj']}).to_excel(writer, sheet_name=re.search('.*:(.+)', subset).group(1).replace('/', '-'))\n",
    "        \n",
    "writer.save()"
   ]
  },
  {
   "cell_type": "markdown",
   "id": "15d1d5b3",
   "metadata": {},
   "source": [
    "### d7 vs d1 (18mo)"
   ]
  },
  {
   "cell_type": "code",
   "execution_count": null,
   "id": "904f78db",
   "metadata": {},
   "outputs": [],
   "source": [
    "writer = pd.ExcelWriter('adata_d0147_18mo_d7_wilcox.xlsx', engine='xlsxwriter')\n",
    "\n",
    "for subset in [\"0:arEC\", \"1:capEC\", \"2:venEC\", \"3:capsFB\", \"4:intFB\", \"5:medFB\", \"6:MEC\", \"7:vSMC/PC\", \"8:nmSC\",\"9:Fat\", \"10:aaTEC1\",  \"11:aaTEC2\",           \n",
    "               \"12:cTEC\", \"13:mTEC1\", \"14:mTEC-prol\", \"15:mTEC2\", \"16:mTEC3\", \"17:mimic(tuft)\", \"18:mimic(neuroendo)\", \"19:mimic(goblet)\", \"20:mimic(microfold)\"]:   \n",
    "    sc.tl.rank_genes_groups(adata_d0147_18mo, 'day_and_subset', groups=['d7_'+subset], reference='d1_'+subset, method='wilcoxon', use_raw=False)\n",
    "    result = adata_d0147_18mo.uns['rank_genes_groups']\n",
    "    groups = result['names'].dtype.names\n",
    "    pd.DataFrame(\n",
    "        {group + '_' + key[:1]: result[key][group]\n",
    "        for group in groups for key in ['names', 'scores', 'logfoldchanges', 'pvals_adj']}).to_excel(writer, sheet_name=re.search('.*:(.+)', subset).group(1).replace('/', '-'))\n",
    "        \n",
    "writer.save()"
   ]
  },
  {
   "cell_type": "markdown",
   "id": "6b0ae9d9",
   "metadata": {},
   "source": [
    "### 18mo vs 02mo (day 4)"
   ]
  },
  {
   "cell_type": "code",
   "execution_count": null,
   "id": "e70161d2",
   "metadata": {},
   "outputs": [],
   "source": [
    "adata_d0147.obs['stage_and_subset'] = ''\n",
    "adata_d0147.obs['stage_and_subset'] = adata_d0147.obs[['stage', 'cell_type_subset']].agg('_'.join, axis=1)"
   ]
  },
  {
   "cell_type": "code",
   "execution_count": null,
   "id": "bedc1665",
   "metadata": {},
   "outputs": [],
   "source": [
    "adata_d0147_d4 = adata_d0147[adata_d0147.obs['day']=='d4']"
   ]
  },
  {
   "cell_type": "code",
   "execution_count": null,
   "id": "eb55cfd6",
   "metadata": {},
   "outputs": [],
   "source": [
    "writer = pd.ExcelWriter('adata_18vs02mo_d4_wilcox.xlsx', engine='xlsxwriter')\n",
    "\n",
    "for subset in [\"0:arEC\", \"1:capEC\", \"2:venEC\", \"3:capsFB\", \"4:intFB\", \"5:medFB\", \"6:MEC\", \"7:vSMC/PC\", \"8:nmSC\",\"9:Fat\", \"10:aaTEC1\",  \"11:aaTEC2\",           \n",
    "               \"12:cTEC\", \"13:mTEC1\", \"14:mTEC-prol\", \"15:mTEC2\", \"16:mTEC3\", \"17:mimic(tuft)\", \"18:mimic(neuroendo)\", \"19:mimic(goblet)\", \"20:mimic(microfold)\"]:   \n",
    "    sc.tl.rank_genes_groups(adata_d0147_d4, 'stage_and_subset', groups=['18mo_'+subset], reference='02mo_'+subset, method='wilcoxon', use_raw=False)\n",
    "    result = adata_d0147_d4.uns['rank_genes_groups']\n",
    "    groups = result['names'].dtype.names\n",
    "    pd.DataFrame(\n",
    "        {group + '_' + key[:1]: result[key][group]\n",
    "        for group in groups for key in ['names', 'scores', 'logfoldchanges', 'pvals_adj']}).to_excel(writer, sheet_name=re.search('.*:(.+)', subset).group(1).replace('/', '-'))\n",
    "        \n",
    "writer.save()"
   ]
  },
  {
   "cell_type": "markdown",
   "id": "38f26aea",
   "metadata": {},
   "source": [
    "### 18mo vs 02mo (day 7)"
   ]
  },
  {
   "cell_type": "code",
   "execution_count": null,
   "id": "03e94ec5",
   "metadata": {},
   "outputs": [],
   "source": [
    "adata_d0147_d7 = adata_d0147[adata_d0147.obs['day']=='d7']"
   ]
  },
  {
   "cell_type": "code",
   "execution_count": null,
   "id": "eb2b332f",
   "metadata": {},
   "outputs": [],
   "source": [
    "writer = pd.ExcelWriter('adata_18vs02mo_d7_wilcox.xlsx', engine='xlsxwriter')\n",
    "\n",
    "for subset in [\"0:arEC\", \"1:capEC\", \"2:venEC\", \"3:capsFB\", \"4:intFB\", \"5:medFB\", \"6:MEC\", \"7:vSMC/PC\", \"8:nmSC\",\"9:Fat\", \"10:aaTEC1\",  \"11:aaTEC2\",           \n",
    "               \"12:cTEC\", \"13:mTEC1\", \"14:mTEC-prol\", \"15:mTEC2\", \"16:mTEC3\", \"17:mimic(tuft)\", \"18:mimic(neuroendo)\", \"19:mimic(goblet)\", \"20:mimic(microfold)\"]:   \n",
    "    sc.tl.rank_genes_groups(adata_d0147_d7, 'stage_and_subset', groups=['18mo_'+subset], reference='02mo_'+subset, method='wilcoxon', use_raw=False)\n",
    "    result = adata_d0147_d7.uns['rank_genes_groups']\n",
    "    groups = result['names'].dtype.names\n",
    "    pd.DataFrame(\n",
    "        {group + '_' + key[:1]: result[key][group]\n",
    "        for group in groups for key in ['names', 'scores', 'logfoldchanges', 'pvals_adj']}).to_excel(writer, sheet_name=re.search('.*:(.+)', subset).group(1).replace('/', '-'))\n",
    "        \n",
    "writer.save()"
   ]
  },
  {
   "cell_type": "markdown",
   "id": "d3b5d9dc",
   "metadata": {},
   "source": [
    "### Dotchart using score and fdr from wilcox"
   ]
  },
  {
   "cell_type": "code",
   "execution_count": null,
   "id": "59a667bf",
   "metadata": {},
   "outputs": [],
   "source": [
    "%load_ext rpy2.ipython"
   ]
  },
  {
   "cell_type": "code",
   "execution_count": null,
   "id": "8e97758b",
   "metadata": {},
   "outputs": [],
   "source": [
    "%R if (!require(\"pacman\")) install.packages(\"pacman\")\n",
    "%R pacman::p_load(MAST, data.table, openxlsx, ggplot2, ggpubr, RColorBrewer, dichromat, readxl, ggpubr, dplyr, arrow, feather, DelayedArray, HDF5Array, scales, parallel)"
   ]
  },
  {
   "cell_type": "code",
   "execution_count": null,
   "id": "1e4f20be",
   "metadata": {},
   "outputs": [],
   "source": [
    "%%R \n",
    "\n",
    "# read in all available excel sheet names \n",
    "wilcox_results = excel_sheets('adata_d0147_02mo_d7_wilcox.xlsx')\n",
    "\n",
    "rnk_items_list = NULL\n",
    "\n",
    "for (item in wilcox_results) {\n",
    "      wilcox_result <- read_excel('adata_d0147_02mo_d7_wilcox.xlsx', sheet = item)\n",
    "      rnk_item = na.omit(wilcox_result[,c(2,3)])\n",
    "      rnk_item_sorted = rnk_item[order(rnk_item[,2], decreasing = TRUE),]\n",
    "      colnames(rnk_item_sorted)[1] = '#primerid' # comment out header\n",
    "      colnames(rnk_item_sorted)[2] = '#rank_score' # comment out header\n",
    "      rnk_items_list[[item]] = rnk_item_sorted\n",
    "      write.table(rnk_item_sorted, file = paste0('../output/metadata/gsea_items/input_ranks/d7d4vsd1/wilcox_result_', item, '_d7vsd1_02mo.rnk'), sep='\\t', row.names = FALSE, quote = FALSE)\n",
    "}\n",
    "\n",
    "# read in all available excel sheet names \n",
    "wilcox_results = excel_sheets('adata_d0147_02mo_d4_wilcox.xlsx')\n",
    "\n",
    "rnk_items_list = NULL\n",
    "\n",
    "for (item in wilcox_results) {\n",
    "      wilcox_result <- read_excel('adata_d0147_02mo_d4_wilcox.xlsx', sheet = item)\n",
    "      rnk_item = na.omit(wilcox_result[,c(2,3)])\n",
    "      rnk_item_sorted = rnk_item[order(rnk_item[,2], decreasing = TRUE),]\n",
    "      colnames(rnk_item_sorted)[1] = '#primerid' # comment out header\n",
    "      colnames(rnk_item_sorted)[2] = '#rank_score' # comment out header\n",
    "      rnk_items_list[[item]] = rnk_item_sorted\n",
    "      write.table(rnk_item_sorted, file = paste0('../output/metadata/gsea_items/input_ranks/d7d4vsd1/wilcox_result_', item, '_d4vsd1_02mo.rnk'), sep='\\t', row.names = FALSE, quote = FALSE)\n",
    "}\n",
    "\n",
    "\n",
    "# read in all available excel sheet names \n",
    "wilcox_results = excel_sheets('adata_d0147_18mo_d7_wilcox.xlsx')\n",
    "\n",
    "rnk_items_list = NULL\n",
    "\n",
    "for (item in wilcox_results) {\n",
    "      wilcox_result <- read_excel('adata_d0147_18mo_d7_wilcox.xlsx', sheet = item)\n",
    "      rnk_item = na.omit(wilcox_result[,c(2,3)])\n",
    "      rnk_item_sorted = rnk_item[order(rnk_item[,2], decreasing = TRUE),]\n",
    "      colnames(rnk_item_sorted)[1] = '#primerid' # comment out header\n",
    "      colnames(rnk_item_sorted)[2] = '#rank_score' # comment out header\n",
    "      rnk_items_list[[item]] = rnk_item_sorted\n",
    "      write.table(rnk_item_sorted, file = paste0('../output/metadata/gsea_items/input_ranks/d7d4vsd1/wilcox_result_', item, '_d7vsd1_18mo.rnk'), sep='\\t', row.names = FALSE, quote = FALSE)\n",
    "}\n",
    "\n",
    "\n",
    "# read in all available excel sheet names \n",
    "wilcox_results = excel_sheets('adata_d0147_18mo_d4_wilcox.xlsx')\n",
    "\n",
    "rnk_items_list = NULL\n",
    "\n",
    "for (item in wilcox_results) {\n",
    "      wilcox_result <- read_excel('adata_d0147_18mo_d4_wilcox.xlsx', sheet = item)\n",
    "      rnk_item = na.omit(wilcox_result[,c(2,3)])\n",
    "      rnk_item_sorted = rnk_item[order(rnk_item[,2], decreasing = TRUE),]\n",
    "      colnames(rnk_item_sorted)[1] = '#primerid' # comment out header\n",
    "      colnames(rnk_item_sorted)[2] = '#rank_score' # comment out header\n",
    "      rnk_items_list[[item]] = rnk_item_sorted\n",
    "      write.table(rnk_item_sorted, file = paste0('../output/metadata/gsea_items/input_ranks/d7d4vsd1/wilcox_result_', item, '_d4vsd1_18mo.rnk'), sep='\\t', row.names = FALSE, quote = FALSE)\n",
    "}"
   ]
  },
  {
   "cell_type": "code",
   "execution_count": null,
   "id": "efd7876e",
   "metadata": {},
   "outputs": [],
   "source": [
    "%%R \n",
    "\n",
    "#'adata_d0147_02mo_d4_wilcox.xlsx', 'adata_d0147_02mo_d7_wilcox.xlsx', 'adata_d0147_18mo_d4_wilcox.xlsx', 'adata_d0147_18mo_d7_wilcox.xlsx',\n",
    "wilcox_results_combined = NULL\n",
    "\n",
    "for (selected_comparison in c('../output/metadata/wilcox_items/adata_d0147_02mo_d4_wilcox.xlsx', '../output/metadata/wilcox_items/adata_d0147_02mo_d7_wilcox.xlsx', '../output/metadata/wilcox_items/adata_d0147_18mo_d4_wilcox.xlsx', '../output/metadata/wilcox_items/adata_d0147_18mo_d7_wilcox.xlsx')) {\n",
    "    wilcox_results = excel_sheets(selected_comparison)\n",
    "    for (item in wilcox_results) {\n",
    "        wilcox_result <- read_excel(selected_comparison, sheet = item)\n",
    "        colnames(wilcox_result) <- c('index', 'name', 'score', 'log2_fc', 'p_adj')\n",
    "        wilcox_result$p_adj[wilcox_result$p_adj == 0] <- min(wilcox_result$p_adj[wilcox_result$p_adj>0])\n",
    "        wilcox_result$`-log10(p_adj)` = (-log(wilcox_result$p_adj, 10))\n",
    "        wilcox_result$subset = item\n",
    "        wilcox_result$comparison = selected_comparison\n",
    "        wilcox_result_sorted = wilcox_result[order(wilcox_result$score, decreasing = TRUE),]\n",
    "        wilcox_result_sorted = wilcox_result_sorted[wilcox_result_sorted$p_adj<=0.05,]\n",
    "        wilcox_results_combined = bind_rows(wilcox_results_combined, wilcox_result_sorted) # select # of top genes per subset \n",
    "    }\n",
    "}"
   ]
  },
  {
   "cell_type": "code",
   "execution_count": null,
   "id": "5d0a396e",
   "metadata": {},
   "outputs": [],
   "source": [
    "%%R\n",
    "\n",
    "cellchat_emt_L = c('Cxcl12',\t'Ccl19',\t'Ccl21a',\t'Ccl25',\t'Fgf1',\t'Fgf2',\t'Fgf7',\t'Fgf10',\t'Fgf18',\t'Fgf21', \t'Bmp4',\t'Bmp7',\t'Flt3l',\t'Kitl',\n",
    "                   'Nrg1', 'Lama1', 'Igf1', 'Col4a5', 'Lama2', 'Cadm1', 'Mdk', 'Ptn', 'Vtn', 'Thbs1', 'Tnxb', 'Angptl4', 'Il6', 'Lgals1','Ptx3', 'Serpine1', 'Tgfbi', 'Mgp', 'Tgfbr3')\n",
    "\n",
    "\n",
    "tt = wilcox_results_combined[wilcox_results_combined$name %in% cellchat_emt_L,]\n",
    "\n",
    "tt$name <- factor(tt$name, levels = rev(c('Cxcl12',\t'Ccl19',\t'Ccl21a',\t'Ccl25',\t'Fgf7', 'Fgf1',\t'Fgf2',\t\t'Fgf10',\t'Fgf18',\t'Fgf21',\t'Bmp4',\t'Bmp7',\t'Flt3l',\t'Kitl',\n",
    "                                          'Lgals1','Ptx3', 'Angptl4', 'Il6', 'Tnxb', 'Thbs1', 'Vtn', 'Ptn', 'Mdk',  'Cadm1',  'Col4a5', 'Serpine1', 'Lama2',  'Tgfbr3','Tgfbi', 'Mgp', 'Igf1',  'Lama1', 'Nrg1')))\n",
    "tt$subset <- factor(tt$subset, levels = c('capsFB', 'intFB', 'medFB', 'arEC', 'capEC', 'venEC', 'cTEC', 'mTEC1', 'mTEC-prol', 'mTEC2', 'mimic(tuft)', 'aaTEC1', 'MEC', 'vSMC-PC', 'nmSC' ))\n",
    "\n",
    "tt$`squished Z-score` = squish(tt$score, range=c(-3, 3), only.finite=TRUE)\n"
   ]
  },
  {
   "cell_type": "code",
   "execution_count": null,
   "id": "33be37d5",
   "metadata": {},
   "outputs": [],
   "source": [
    "%%R -w 24 -h 33 -u cm\n",
    "\n",
    "pdf(\"dotplot_Zscore_d74vsd1_emtL-up.pdf\", width=9, height=12.25)\n",
    "\n",
    "print(ggdotchart(tt, x='name', y='subset', group = 'subset',rotate=TRUE, color='squished Z-score',  size = '-log10(p_adj)', facet.by='comparison', sorting='none', xlab = \"\",  ylab = \"\") +\n",
    "scale_color_gradientn(colours = dichromat::colorschemes$BluetoGreen.14) +  \n",
    "theme_pubr() + theme(legend.position='right', axis.text.x = element_text(angle = 90, vjust = 0.5, hjust=1)))\n",
    "dev.off() "
   ]
  },
  {
   "cell_type": "markdown",
   "id": "00d27d8b",
   "metadata": {},
   "source": [
    "## Save h5ad files for CellChat"
   ]
  },
  {
   "cell_type": "code",
   "execution_count": null,
   "id": "0805ccf9",
   "metadata": {},
   "outputs": [],
   "source": [
    "subset_palette =  ['#F6222E', '#3283FE', '#16FF32', '#BDCDFF', '#3B00FB', '#1CFFCE', '#d62728', '#19c9b3','#FFA5D2',   'grey', '#2ED9FF', '#c1c119', '#8b0000', '#FE00FA', \"#F8A19F\", '#1CBE4F','#B5EFB5',  '#AA0DFE','#FEAF16', '#325A9B', '#C075A6', 'black']\n",
    "\n",
    "sc.pl.umap(adata_d0147, color=[ 'cell_type_subset'], \n",
    "                        color_map='Spectral_r',\n",
    "                        palette=subset_palette,\n",
    "                        use_raw=False, \n",
    "                        ncols=4, \n",
    "                        wspace = 0.3,\n",
    "                        outline_width=[0.6, 0.05], \n",
    "                        size=15,  \n",
    "                        frameon=False, \n",
    "                        add_outline=True, \n",
    "                        sort_order = False)"
   ]
  },
  {
   "cell_type": "code",
   "execution_count": null,
   "id": "f54d3450",
   "metadata": {},
   "outputs": [],
   "source": [
    "adata_d0147_light = adata_d0147[(adata_d0147.obs['cell_type_subset']!='6:MEC') & (adata_d0147.obs['cell_type_subset']!='7:vSMC/PC') & (adata_d0147.obs['cell_type_subset']!='8:nmSC') & (adata_d0147.obs['cell_type_subset']!='9:Fat')]"
   ]
  },
  {
   "cell_type": "code",
   "execution_count": null,
   "id": "b5ae848a",
   "metadata": {},
   "outputs": [],
   "source": [
    "sc.set_figure_params(dpi=80, dpi_save=300, color_map='viridis', vector_friendly=True, transparent=True)\n",
    "\n",
    "sc.pl.umap(\n",
    "    adata_d0147_light, \n",
    "    color=['day', 'stage', 'cell_type_subset'], \n",
    "    ncols=3,\n",
    "    outline_width=[0.6, 0.05],\n",
    "    size=15,\n",
    "    frameon=False,\n",
    "    wspace = 0.3,\n",
    "    add_outline=True\n",
    ")"
   ]
  },
  {
   "cell_type": "code",
   "execution_count": null,
   "id": "68c89fdc",
   "metadata": {},
   "outputs": [],
   "source": [
    "stage = ['02mo', '18mo']\n",
    "day = ['d0', 'd1', 'd4', 'd7']\n",
    "for x in stage:\n",
    "    for y in day:\n",
    "            dataset = adata_d0147_light[(adata_d0147_light.obs['stage'] == x) & (adata_d0147_light.obs['day'] == y)]\n",
    "            path_to_h5ad = '../../../../cd45neg_0147_SLTBI_vdb_'+x+'_'+y+'_new.h5ad'\n",
    "            dataset.write(path_to_h5ad)"
   ]
  }
 ],
 "metadata": {
  "kernelspec": {
   "display_name": "Python 3 (ipykernel)",
   "language": "python",
   "name": "python3"
  },
  "language_info": {
   "codemirror_mode": {
    "name": "ipython",
    "version": 3
   },
   "file_extension": ".py",
   "mimetype": "text/x-python",
   "name": "python",
   "nbconvert_exporter": "python",
   "pygments_lexer": "ipython3",
   "version": "3.8.13"
  }
 },
 "nbformat": 4,
 "nbformat_minor": 5
}
