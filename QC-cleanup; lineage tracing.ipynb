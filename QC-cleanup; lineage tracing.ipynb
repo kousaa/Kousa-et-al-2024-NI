{
 "cells": [
  {
   "cell_type": "markdown",
   "id": "125d0e5b",
   "metadata": {},
   "source": [
    "## Notebook setup"
   ]
  },
  {
   "cell_type": "code",
   "execution_count": null,
   "id": "4d8f9038",
   "metadata": {},
   "outputs": [],
   "source": [
    "import scanpy as sc\n",
    "import scanpy.external as sce\n",
    "import numpy as np\n",
    "import pandas as pd\n",
    "import warnings, scipy.sparse as sp, matplotlib, matplotlib.pyplot as plt\n",
    "from matplotlib.colors import LinearSegmentedColormap\n",
    "from matplotlib.pyplot import rc_context\n",
    "from collections import Counter\n",
    "import matplotlib.font_manager\n",
    "import pyreadr\n",
    "import rpy2\n",
    "from rpy2.robjects.packages import importr\n",
    "import rpy2.robjects as robjects\n",
    "import magic\n",
    "#import seaborn as sns\n",
    "import palantir\n",
    "import loompy\n",
    "#from scipy.sparse import csgraph\n",
    "\n",
    "matplotlib.rcParams['pdf.fonttype'] = 42\n",
    "matplotlib.rcParams['ps.fonttype'] = 42\n",
    "matplotlib.rcParams['font.family'] = 'sans-serif'\n",
    "matplotlib.rcParams['font.sans-serif'] = 'Arial'\n",
    "matplotlib.rc('font', size=14)\n",
    "\n",
    "pd.set_option('display.max_rows', 200)\n",
    "\n",
    "sc.set_figure_params(dpi=80, dpi_save=300, color_map='Spectral_r', vector_friendly=True, transparent=True)\n",
    "sc.settings.verbosity = 0 # verbosity: errors (0), warnings (1), info (2), hints (3)\n",
    "sc.logging.print_header()"
   ]
  },
  {
   "cell_type": "code",
   "execution_count": null,
   "id": "d513a16b",
   "metadata": {},
   "outputs": [],
   "source": [
    "# preset color palettes and color maps\n",
    "user_defined_palette =  [ '#F6222E', '#16FF32', '#3283FE', '#FEAF16', '#BDCDFF', '#3B00FB', '#1CFFCE', '#C075A6', '#F8A19F', '#B5EFB5', '#FBE426', '#C4451C', \n",
    "                          '#2ED9FF', '#c1c119', '#8b0000', '#FE00FA', '#1CBE4F', '#1C8356', '#0e452b', '#AA0DFE', '#B5EFB5', '#325A9B', '#90AD1C']\n",
    "\n",
    "user_defined_cmap_markers = LinearSegmentedColormap.from_list('mycmap', [\"#E6E6FF\", \"#CCCCFF\", \"#B2B2FF\", \"#9999FF\",  \"#6666FF\",   \"#3333FF\", \"#0000FF\"])\n",
    "user_defined_cmap_degs = LinearSegmentedColormap.from_list('mycmap', [\"#0000FF\", \"#3333FF\", \"#6666FF\", \"#9999FF\", \"#B2B2FF\", \"#CCCCFF\", \"#E6E6FF\", \"#E6FFE6\", \"#CCFFCC\", \"#B2FFB2\", \"#99FF99\", \"#66FF66\", \"#33FF33\", \"#00FF00\"])"
   ]
  },
  {
   "cell_type": "code",
   "execution_count": null,
   "id": "185bb91c",
   "metadata": {},
   "outputs": [],
   "source": [
    "%matplotlib inline "
   ]
  },
  {
   "cell_type": "markdown",
   "id": "c341386d",
   "metadata": {},
   "source": [
    "## Perform quality control and clean-up samples"
   ]
  },
  {
   "cell_type": "markdown",
   "id": "85381fcd",
   "metadata": {},
   "source": [
    "### Load cellranger output files"
   ]
  },
  {
   "cell_type": "code",
   "execution_count": null,
   "id": "c2aff027",
   "metadata": {},
   "outputs": [],
   "source": [
    "# directory where the 10X MEX-format gene-barcode matrices are stored\n",
    "path_to_10xdata = \"../data/external/10xGenomics/Chromium/Foxn1_lineage_tracing/20mo_Foxn1CreRosa26tdTom_f/cr-results/outs/filtered_feature_bc_matrix/\"\n",
    "\n",
    "adata_20mo_tmt_f = sc.read_10x_mtx(path = path_to_10xdata,\n",
    "                        var_names = \"gene_symbols\",\n",
    "                        cache = False)\n",
    "adata_20mo_tmt_f.var_names_make_unique()  # this is unnecessary if using `var_names='gene_ids'` in `sc.read_10x_mtx`\n"
   ]
  },
  {
   "cell_type": "code",
   "execution_count": null,
   "id": "ec228472",
   "metadata": {},
   "outputs": [],
   "source": [
    "# directory where the 10X MEX-format gene-barcode matrices are stored\n",
    "path_to_10xdata = \"../data/external/10xGenomics/Chromium/Foxn1_lineage_tracing/20mo_Foxn1CreRosa26tdTom_m/cr-results/outs/filtered_feature_bc_matrix/\"\n",
    "\n",
    "adata_20mo_tmt_m = sc.read_10x_mtx(path = path_to_10xdata,\n",
    "                        var_names = \"gene_symbols\",\n",
    "                        cache = False)\n",
    "adata_20mo_tmt_m.var_names_make_unique()  # this is unnecessary if using `var_names='gene_ids'` in `sc.read_10x_mtx`"
   ]
  },
  {
   "cell_type": "code",
   "execution_count": null,
   "id": "3f5ed820",
   "metadata": {},
   "outputs": [],
   "source": [
    "# directory where the 10X MEX-format gene-barcode matrices are stored\n",
    "path_to_10xdata = \"../data/external/10xGenomics/Chromium/Foxn1_lineage_tracing/20mo_wt_ctrl_m/cr-results/outs/filtered_feature_bc_matrix/\"\n",
    "\n",
    "adata_20mo_wt_m = sc.read_10x_mtx(path = path_to_10xdata,\n",
    "                        var_names = \"gene_symbols\",\n",
    "                        cache = True)\n",
    "adata_20mo_wt_m.var_names_make_unique()  # this is unnecessary if using `var_names='gene_ids'` in `sc.read_10x_mtx`"
   ]
  },
  {
   "cell_type": "code",
   "execution_count": null,
   "id": "45cfe922",
   "metadata": {},
   "outputs": [],
   "source": [
    "adata = sc.concat(\n",
    "    [adata_20mo_tmt_f, adata_20mo_tmt_m, adata_20mo_wt_m], # add more annadata objects here separated by commas\n",
    "    join='outer', \n",
    "    label = 'sample', \n",
    "    keys = ['mo20_CD45neg_Foxn1creTom_f', 'mo20_CD45neg_Foxn1creTom_m', 'mo20_CD45neg_wt_m'], # or use your sample_names list (as used above) here. \n",
    "    # Make sure the order of the batch categories matches that of the AnnData objects \n",
    "    index_unique = '@'\n",
    ")"
   ]
  },
  {
   "cell_type": "code",
   "execution_count": null,
   "id": "ea943308",
   "metadata": {},
   "outputs": [],
   "source": [
    "adata.raw = adata # keep a copy of the raw adata \n",
    "np.random.seed(42) \n",
    "index_list = np.arange(adata.shape[0]) # randomize the order of cells for plotting\n",
    "np.random.shuffle(index_list)\n",
    "adata = adata[index_list]"
   ]
  },
  {
   "cell_type": "code",
   "execution_count": null,
   "id": "d32d4208",
   "metadata": {},
   "outputs": [],
   "source": [
    "adata.shape"
   ]
  },
  {
   "cell_type": "code",
   "execution_count": null,
   "id": "818cf95e",
   "metadata": {},
   "outputs": [],
   "source": [
    "# metadata\n",
    "adata.obs['stage'] = '20mo'\n",
    "adata.obs['day'] = 'd0'"
   ]
  },
  {
   "cell_type": "code",
   "execution_count": null,
   "id": "ac774bfc",
   "metadata": {},
   "outputs": [],
   "source": [
    "adata.uns['stage_colors'] =  ['#FF8072']\n",
    "adata.uns['day_colors'] = ['#0080FF']"
   ]
  },
  {
   "cell_type": "markdown",
   "id": "eeaae853",
   "metadata": {},
   "source": [
    "### Calculate quality control metrics and perform standard data clean-up"
   ]
  },
  {
   "cell_type": "code",
   "execution_count": null,
   "id": "f0b35eb1",
   "metadata": {},
   "outputs": [],
   "source": [
    "sc.pp.calculate_qc_metrics(adata, inplace=True)\n",
    "#store all unfiltered/unprocessed data prior to downstream analysis\n",
    "adata.obs['original_total_counts'] = adata.obs['total_counts']\n",
    "adata.obs['log10_original_total_counts'] = np.log10(adata.obs['original_total_counts'])"
   ]
  },
  {
   "cell_type": "code",
   "execution_count": null,
   "id": "e542ddbb",
   "metadata": {},
   "outputs": [],
   "source": [
    "# mitochondrial genes\n",
    "adata.var['mt'] = adata.var_names.str.startswith(('MT-', 'mt-')) \n",
    "# ribosomal genes\n",
    "adata.var['ribo'] = adata.var_names.str.startswith(('RPS','RPL', 'Rps', 'Rpl'))\n",
    "# hemoglobin genes.\n",
    "adata.var['hb'] = adata.var_names.str.startswith(('^Hb', '^HB'))\n",
    "\n",
    "# for each cell compute fraction of counts in mitochondrial genes and ribosomal genes vs. all genes \n",
    "adata.obs['mito_frac'] = np.sum(adata[:,adata.var['mt']==True].X, axis=1) / np.sum(adata.X, axis=1)\n",
    "adata.obs['ribo_frac'] = np.sum(adata[:,adata.var['ribo']==True].X, axis=1) / np.sum(adata.X, axis=1)\n",
    "adata.obs['hb_frac'] = np.sum(adata[:,adata.var['hb']==True].X, axis=1) / np.sum(adata.X, axis=1)"
   ]
  },
  {
   "cell_type": "markdown",
   "id": "3f57b092",
   "metadata": {},
   "source": [
    "#### Identify doublet cells"
   ]
  },
  {
   "cell_type": "code",
   "execution_count": null,
   "id": "909a11eb",
   "metadata": {},
   "outputs": [],
   "source": [
    "sc.external.pp.scrublet(adata, threshold=0.35, random_state=42) # choose threshold manually"
   ]
  },
  {
   "cell_type": "code",
   "execution_count": null,
   "id": "fefd96db",
   "metadata": {},
   "outputs": [],
   "source": [
    "# check manual threshold\n",
    "sc.external.pl.scrublet_score_distribution(adata)"
   ]
  },
  {
   "cell_type": "markdown",
   "id": "4217cc76",
   "metadata": {},
   "source": [
    "#### Remove not expressed genes"
   ]
  },
  {
   "cell_type": "code",
   "execution_count": null,
   "id": "7eac9207",
   "metadata": {},
   "outputs": [],
   "source": [
    "# remove genes that are not expressed in any cells (remove columns with all 0s)\n",
    "sc.pp.filter_genes(adata, min_cells=1)"
   ]
  },
  {
   "cell_type": "markdown",
   "id": "8091d0be",
   "metadata": {},
   "source": [
    "#### Remove ribosomal protein genes"
   ]
  },
  {
   "cell_type": "code",
   "execution_count": null,
   "id": "8b843fad",
   "metadata": {},
   "outputs": [],
   "source": [
    "adata = adata[:,adata.var['ribo']==False]\n",
    "adata.shape\n",
    "adata = adata[:,adata.var['hb']==False]\n",
    "adata.shape"
   ]
  },
  {
   "cell_type": "markdown",
   "id": "2c9a0f4e",
   "metadata": {},
   "source": [
    "#### Normalize for each cell's library size"
   ]
  },
  {
   "cell_type": "code",
   "execution_count": null,
   "id": "62323d80",
   "metadata": {},
   "outputs": [],
   "source": [
    "sc.pp.normalize_per_cell(adata, counts_per_cell_after=10**4)"
   ]
  },
  {
   "cell_type": "markdown",
   "id": "2ab99855",
   "metadata": {},
   "source": [
    "#### Log-transform counts"
   ]
  },
  {
   "cell_type": "code",
   "execution_count": null,
   "id": "74c77bf6",
   "metadata": {},
   "outputs": [],
   "source": [
    "sc.pp.log1p(adata)"
   ]
  },
  {
   "cell_type": "markdown",
   "id": "8230eacf",
   "metadata": {},
   "source": [
    "### Select subset of principal components "
   ]
  },
  {
   "cell_type": "code",
   "execution_count": null,
   "id": "c7f28036",
   "metadata": {},
   "outputs": [],
   "source": [
    "rng = np.random.RandomState(42)\n",
    "sc.tl.pca(adata, n_comps=200, svd_solver='arpack', random_state=rng, use_highly_variable=False)"
   ]
  },
  {
   "cell_type": "code",
   "execution_count": null,
   "id": "c9dd0b75",
   "metadata": {},
   "outputs": [],
   "source": [
    "def observe_variance(anndata_object):\n",
    "    fig = plt.figure(figsize=(10,5))\n",
    "    ax1 = fig.add_subplot(121)\n",
    "    ax2 = fig.add_subplot(122)\n",
    "    # variance per principal component\n",
    "    x = range(len(anndata_object.uns['pca']['variance_ratio']))\n",
    "    y = anndata_object.uns['pca']['variance_ratio']\n",
    "    ax1.scatter(x,y,s=4)\n",
    "    ax1.set_xlabel('PC')\n",
    "    ax1.set_ylabel('Fraction of variance explained\\n')\n",
    "    ax1.set_title('Fraction of variance explained per PC\\n')\n",
    "    # cumulative variance explained\n",
    "    cml_var_explained = np.cumsum(anndata_object.uns['pca']['variance_ratio'])\n",
    "    x = range(len(anndata_object.uns['pca']['variance_ratio']))\n",
    "    y = cml_var_explained\n",
    "    ax2.scatter(x,y,s=4)\n",
    "    ax2.set_xlabel('PC')\n",
    "    ax2.set_ylabel('Cumulative fraction of variance\\nexplained')\n",
    "    ax2.set_title('Cumulative fraction of variance\\nexplained by PCs')\n",
    "    fig.tight_layout()\n",
    "    plot = plt.show\n",
    "    return(plot)\n",
    "observe_variance(adata)"
   ]
  },
  {
   "cell_type": "code",
   "execution_count": null,
   "id": "49207dfc",
   "metadata": {},
   "outputs": [],
   "source": [
    "rng = np.random.RandomState(42)\n",
    "sc.tl.pca(adata, n_comps=70,  svd_solver='arpack', random_state=rng, use_highly_variable=False)"
   ]
  },
  {
   "cell_type": "code",
   "execution_count": null,
   "id": "61a7264f",
   "metadata": {},
   "outputs": [],
   "source": [
    "sc.pp.neighbors(adata, n_neighbors=15, random_state=42)"
   ]
  },
  {
   "cell_type": "code",
   "execution_count": null,
   "id": "9a1bf701",
   "metadata": {},
   "outputs": [],
   "source": [
    "sc.tl.umap(adata)"
   ]
  },
  {
   "cell_type": "markdown",
   "id": "8c53e11e",
   "metadata": {},
   "source": [
    "#### Sample metadata"
   ]
  },
  {
   "cell_type": "code",
   "execution_count": null,
   "id": "491e6d60",
   "metadata": {},
   "outputs": [],
   "source": [
    "sc.set_figure_params(dpi=80, dpi_save=300, color_map='viridis', vector_friendly=False, transparent=True)\n",
    "sc.pl.umap(\n",
    "    adata, \n",
    "    color=['stage', 'day', 'sample'], \n",
    "    color_map='Spectral_r', \n",
    "    use_raw=False,\n",
    "    ncols=15,\n",
    "    wspace = 0.3,\n",
    "    outline_width=[0.6, 0.05],\n",
    "    size=15,\n",
    "    frameon=False,\n",
    "    add_outline=True,\n",
    "    sort_order = False\n",
    ")"
   ]
  },
  {
   "cell_type": "markdown",
   "id": "66d93006",
   "metadata": {},
   "source": [
    "#### QC metrics"
   ]
  },
  {
   "cell_type": "code",
   "execution_count": null,
   "id": "fd32c082",
   "metadata": {},
   "outputs": [],
   "source": [
    "sc.set_figure_params(dpi=80, dpi_save=300, color_map='viridis', vector_friendly=False, transparent=True)\n",
    "sc.pl.umap(\n",
    "    adata, \n",
    "    color=['log10_original_total_counts', 'n_genes_by_counts','ribo_frac', 'mito_frac'], \n",
    "    palette=user_defined_palette,  \n",
    "    color_map='Spectral_r',\n",
    "    use_raw=False,\n",
    "    ncols=5,\n",
    "    wspace = 0.2,\n",
    "    outline_width=[0.6, 0.05],\n",
    "    size=15,\n",
    "    frameon=False,\n",
    "    add_outline=True,\n",
    "    sort_order = False\n",
    ")"
   ]
  },
  {
   "cell_type": "markdown",
   "id": "1b2202ed",
   "metadata": {},
   "source": [
    "#### Potential contaminant populations"
   ]
  },
  {
   "cell_type": "code",
   "execution_count": null,
   "id": "465c6186",
   "metadata": {},
   "outputs": [],
   "source": [
    "sc.set_figure_params(dpi=80, dpi_save=300, color_map='viridis', vector_friendly=False, transparent=True)\n",
    "sc.pl.umap(\n",
    "    adata, \n",
    "    color=['Ptprc', 'Spi1', 'Igkc', 'Gcm2', 'Pth'], \n",
    "    palette=user_defined_palette,  \n",
    "    color_map='Spectral_r',\n",
    "    use_raw=False,\n",
    "    ncols=5,\n",
    "    wspace = 0.1,\n",
    "    outline_width=[0.6, 0.05],\n",
    "    size=15,\n",
    "    frameon=False,\n",
    "    add_outline=True,\n",
    "    sort_order = False\n",
    ")"
   ]
  },
  {
   "cell_type": "markdown",
   "id": "877d96e8",
   "metadata": {},
   "source": [
    "#### Canonical markers"
   ]
  },
  {
   "cell_type": "code",
   "execution_count": null,
   "id": "2c277e36",
   "metadata": {},
   "outputs": [],
   "source": [
    "sc.set_figure_params(dpi=80, dpi_save=300, color_map='viridis', vector_friendly=False, transparent=True)\n",
    "sc.pl.umap(\n",
    "    adata, \n",
    "    color=['Epcam', 'H2-Aa', 'Pdgfra', 'Pecam1', 'Cdh5', 'Nkain4', 'Upk3b', 'Acta2', 'Myl9', 'S100b'], \n",
    "    palette=user_defined_palette,  \n",
    "    color_map='Spectral_r', \n",
    "    use_raw=False,\n",
    "    ncols=5,\n",
    "    wspace = 0.1,\n",
    "    outline_width=[0.6, 0.05],\n",
    "    size=15,\n",
    "    frameon=False,\n",
    "    add_outline=True,\n",
    "    sort_order = False\n",
    ")"
   ]
  },
  {
   "cell_type": "markdown",
   "id": "538d97de",
   "metadata": {},
   "source": [
    "### Run unsupervised clustering analysis leiden"
   ]
  },
  {
   "cell_type": "code",
   "execution_count": null,
   "id": "22717eb3",
   "metadata": {},
   "outputs": [],
   "source": [
    "for resolution_parameter in [0.2, 0.4, 0.6, 0.8, 1.0, 1.2, 1.4, 1.6, 1.8, 2.0]:\n",
    "    sc.tl.leiden(adata, resolution=resolution_parameter, random_state=42, \n",
    "                        key_added='leiden_'+str(resolution_parameter))"
   ]
  },
  {
   "cell_type": "markdown",
   "id": "b866a8fc",
   "metadata": {},
   "source": [
    "We can visualize the clustering to see which clusters match with the cells that we would like to filter out. Inspect the list of QC metrics and canonical markers to make your choice."
   ]
  },
  {
   "cell_type": "code",
   "execution_count": null,
   "id": "b8b7c996",
   "metadata": {},
   "outputs": [],
   "source": [
    "sc.set_figure_params(dpi=80, dpi_save=300, color_map='viridis', vector_friendly=False, transparent=True)\n",
    "sc.pl.umap(\n",
    "    adata, \n",
    "    color=['leiden_0.2', 'leiden_0.4', 'leiden_0.6', 'leiden_0.8', 'leiden_1.0'], \n",
    "    palette=user_defined_palette,  \n",
    "    color_map='Spectral_r', \n",
    "    use_raw=False,\n",
    "    ncols=5,\n",
    "    wspace = 0.7,\n",
    "    outline_width=[0.6, 0.05],\n",
    "    size=15,\n",
    "    frameon=False,\n",
    "    add_outline=True,\n",
    "    sort_order = False\n",
    ")"
   ]
  },
  {
   "cell_type": "code",
   "execution_count": null,
   "id": "0bf8f036",
   "metadata": {},
   "outputs": [],
   "source": [
    "sc.set_figure_params(dpi=80, dpi_save=300, color_map='viridis', vector_friendly=False, transparent=True)\n",
    "sc.pl.umap(\n",
    "    adata, \n",
    "    color=['leiden_1.2',  'leiden_1.4', 'leiden_1.6', 'leiden_1.8', 'leiden_2.0'], \n",
    "    palette=user_defined_palette,  \n",
    "    color_map='Spectral_r', \n",
    "    use_raw=False,\n",
    "    ncols=5,\n",
    "    size=15,\n",
    "    wspace = 0.7,\n",
    "    outline_width=[0.6, 0.05],\n",
    "    frameon=False,\n",
    "    add_outline=True,\n",
    "    sort_order = False\n",
    ")"
   ]
  },
  {
   "cell_type": "code",
   "execution_count": null,
   "id": "209466de",
   "metadata": {},
   "outputs": [],
   "source": [
    "sc.set_figure_params(dpi=80, dpi_save=300, color_map='viridis', vector_friendly=False, transparent=True)\n",
    "sc.pl.umap(\n",
    "    adata, \n",
    "    color=['leiden_1.2'], \n",
    "    palette=user_defined_palette,  \n",
    "    color_map='Spectral_r', \n",
    "    use_raw=False,\n",
    "    ncols=5,\n",
    "    size=15,\n",
    "    wspace = 0.7,\n",
    "    outline_width=[0.6, 0.05],\n",
    "    frameon=False,\n",
    "    add_outline=True,\n",
    "    sort_order = False\n",
    ")"
   ]
  },
  {
   "cell_type": "markdown",
   "id": "c100adfc",
   "metadata": {},
   "source": [
    "### Filter out bad quality cells by cluster"
   ]
  },
  {
   "cell_type": "markdown",
   "id": "89b96952",
   "metadata": {},
   "source": [
    "Choose which clusters you want to remove, and add them to the list clusters_to_remove below."
   ]
  },
  {
   "cell_type": "code",
   "execution_count": null,
   "id": "d2132c2c",
   "metadata": {},
   "outputs": [],
   "source": [
    "clusters_to_remove = ['0', '1', '2', '3', '4', '6', '9', '11', '12', '13', '22', '23', '24']\n",
    "cluster_filter = [x not in clusters_to_remove for x in adata.obs['leiden_1.2']]\n",
    "print('Total number of cells pre-filtering: ' + str(adata.shape[0]))\n",
    "print('Number of cells to keep after filtering: ' + str(sum(cluster_filter)))\n",
    "adata_filtered = adata[cluster_filter]"
   ]
  },
  {
   "cell_type": "code",
   "execution_count": null,
   "id": "5cee8b87",
   "metadata": {},
   "outputs": [],
   "source": [
    "sc.set_figure_params(dpi=80, dpi_save=300, color_map='viridis', vector_friendly=False, transparent=True)\n",
    "sc.pl.umap(\n",
    "    adata_filtered, \n",
    "    color=['leiden_1.2'], \n",
    "    palette=user_defined_palette,  \n",
    "    color_map='Spectral_r', \n",
    "    use_raw=False,\n",
    "    ncols=5,\n",
    "    wspace = 0.5,\n",
    "    outline_width=[0.6, 0.05],\n",
    "    size=15,\n",
    "    frameon=False,\n",
    "    add_outline=True,\n",
    "    sort_order = False\n",
    ")"
   ]
  },
  {
   "cell_type": "code",
   "execution_count": null,
   "id": "b51e1633",
   "metadata": {},
   "outputs": [],
   "source": [
    "QC1 = adata_filtered"
   ]
  },
  {
   "cell_type": "code",
   "execution_count": null,
   "id": "4f3f5524",
   "metadata": {},
   "outputs": [],
   "source": [
    "adata = adata_filtered"
   ]
  },
  {
   "cell_type": "code",
   "execution_count": null,
   "id": "8f0b89b7",
   "metadata": {},
   "outputs": [],
   "source": [
    "adata.shape"
   ]
  },
  {
   "cell_type": "markdown",
   "id": "170fe0cb",
   "metadata": {},
   "source": [
    "### Filter out doublets and cell contaminants"
   ]
  },
  {
   "cell_type": "markdown",
   "id": "2ca0275b",
   "metadata": {},
   "source": [
    "This would be also a good spot to remove the doublets you have identified above or any other cell population that does not match your experimental strategy"
   ]
  },
  {
   "cell_type": "code",
   "execution_count": null,
   "id": "099b4fc7",
   "metadata": {},
   "outputs": [],
   "source": [
    "adata = adata[adata.obs['predicted_doublet'] == False]"
   ]
  },
  {
   "cell_type": "code",
   "execution_count": null,
   "id": "28474b8d",
   "metadata": {},
   "outputs": [],
   "source": [
    "sc.pl.umap(\n",
    "    adata, \n",
    "    color=['predicted_doublet', 'doublet_score'], \n",
    "    palette=user_defined_palette,  \n",
    "    color_map='Spectral_r', \n",
    "    use_raw=False,\n",
    "    ncols=5,\n",
    "    wspace = 0.1,\n",
    "    outline_width=[0.6, 0.05],\n",
    "    size=15,\n",
    "    frameon=False,\n",
    "    add_outline=True,\n",
    "    sort_order = False\n",
    ")"
   ]
  },
  {
   "cell_type": "markdown",
   "id": "4bf1e333",
   "metadata": {},
   "source": [
    "Let's now inspect if the right number of doublet cells has been removed from the dataset."
   ]
  },
  {
   "cell_type": "code",
   "execution_count": null,
   "id": "8e33f801",
   "metadata": {},
   "outputs": [],
   "source": [
    "adata.shape"
   ]
  },
  {
   "cell_type": "markdown",
   "id": "acccc028",
   "metadata": {},
   "source": [
    "### Reanalyze data after removal of cells"
   ]
  },
  {
   "cell_type": "markdown",
   "id": "40768fcb",
   "metadata": {},
   "source": [
    "Once we have removed all unwanted cells, we need to reanalyze our data in a similar way to steps 4 and 5. "
   ]
  },
  {
   "cell_type": "code",
   "execution_count": null,
   "id": "bab3827e",
   "metadata": {},
   "outputs": [],
   "source": [
    "rng = np.random.RandomState(42)\n",
    "sc.tl.pca(adata, n_comps=200, svd_solver='arpack', random_state=rng, use_highly_variable=False)"
   ]
  },
  {
   "cell_type": "code",
   "execution_count": null,
   "id": "2b8b37c7",
   "metadata": {},
   "outputs": [],
   "source": [
    "observe_variance(adata)"
   ]
  },
  {
   "cell_type": "markdown",
   "id": "7fcd5fab",
   "metadata": {},
   "source": [
    "🕹️ Remember to choose a different number of principal components based on the re-analysis"
   ]
  },
  {
   "cell_type": "code",
   "execution_count": null,
   "id": "af6a6562",
   "metadata": {},
   "outputs": [],
   "source": [
    "rng = np.random.RandomState(42)\n",
    "sc.tl.pca(adata, n_comps=65, svd_solver='arpack', random_state=rng, use_highly_variable=False)"
   ]
  },
  {
   "cell_type": "code",
   "execution_count": null,
   "id": "bbc9ddc6",
   "metadata": {},
   "outputs": [],
   "source": [
    "sc.pp.neighbors(adata, n_neighbors=15)"
   ]
  },
  {
   "cell_type": "code",
   "execution_count": null,
   "id": "3126b1bb",
   "metadata": {},
   "outputs": [],
   "source": [
    "sc.tl.umap(adata)"
   ]
  },
  {
   "cell_type": "code",
   "execution_count": null,
   "id": "f5a8ce8b",
   "metadata": {},
   "outputs": [],
   "source": [
    "sc.set_figure_params(dpi=80, dpi_save=300, color_map='viridis', vector_friendly=False, transparent=True)\n",
    "sc.pl.umap(\n",
    "    adata, \n",
    "    color=['Epcam', 'H2-Aa', 'Pdgfra', 'Pecam1',  'Cdh5', 'Vwf', 'Plvap', 'Bmp4', 'Nkain4', 'Upk3b', 'Acta2', 'Myl9', 'S100b'], \n",
    "    palette=user_defined_palette,  \n",
    "    color_map='Spectral_r', \n",
    "    use_raw=False,\n",
    "    ncols=5,\n",
    "    wspace = 0.1,\n",
    "    outline_width=[0.6, 0.05],\n",
    "    size=15,\n",
    "    frameon=False,\n",
    "    add_outline=True,\n",
    "    sort_order = False\n",
    ")"
   ]
  },
  {
   "cell_type": "code",
   "execution_count": null,
   "id": "83342bca",
   "metadata": {},
   "outputs": [],
   "source": [
    "sc.set_figure_params(dpi=80, dpi_save=300, color_map='viridis', vector_friendly=False, transparent=True)\n",
    "sc.pl.umap(\n",
    "    adata, \n",
    "    color=['stage', 'day', 'sample'],   \n",
    "    color_map='Spectral_r', \n",
    "    use_raw=False,\n",
    "    ncols=5,\n",
    "    wspace = 0.3,\n",
    "    outline_width=[0.6, 0.05],\n",
    "    size=15,\n",
    "    frameon=False,\n",
    "    add_outline=True,\n",
    "    sort_order = False\n",
    ")"
   ]
  },
  {
   "cell_type": "code",
   "execution_count": null,
   "id": "0a558d96",
   "metadata": {},
   "outputs": [],
   "source": [
    "crosstb = pd.crosstab(adata.obs['sample'], adata.obs['keep_cell'], normalize='index')"
   ]
  },
  {
   "cell_type": "code",
   "execution_count": null,
   "id": "b64eac0e",
   "metadata": {},
   "outputs": [],
   "source": [
    "with rc_context({'figure.figsize': (3, 7)}):\n",
    "    ax = crosstb.plot(kind=\"barh\", stacked=True, edgecolor = \"black\", color=user_defined_palette)\n",
    "    ax.grid(False)\n",
    "    ax.add_artist(lines.Line2D([0,0], [0,100], color='black',  lw=1,  ls='--'))\n",
    "    ax.plot(legend=None)"
   ]
  },
  {
   "cell_type": "markdown",
   "id": "fe39575a",
   "metadata": {},
   "source": [
    "## Data for Fig. 1 [pt2]"
   ]
  },
  {
   "cell_type": "code",
   "execution_count": null,
   "id": "a98de2db",
   "metadata": {},
   "outputs": [],
   "source": [
    "sc.pp.highly_variable_genes(adata, n_top_genes=3500, n_bins=20, flavor='seurat',  inplace=True)"
   ]
  },
  {
   "cell_type": "code",
   "execution_count": null,
   "id": "b35ba854",
   "metadata": {},
   "outputs": [],
   "source": [
    "rng = np.random.RandomState(42)\n",
    "sc.tl.pca(adata, n_comps=200, svd_solver='arpack', random_state=rng, use_highly_variable=True)"
   ]
  },
  {
   "cell_type": "code",
   "execution_count": null,
   "id": "9d4e1d62",
   "metadata": {},
   "outputs": [],
   "source": [
    "observe_variance(adata)"
   ]
  },
  {
   "cell_type": "code",
   "execution_count": null,
   "id": "dafd6348",
   "metadata": {},
   "outputs": [],
   "source": [
    "rng = np.random.RandomState(42)\n",
    "sc.tl.pca(adata, n_comps=55, svd_solver='arpack', random_state=rng, use_highly_variable=True)"
   ]
  },
  {
   "cell_type": "code",
   "execution_count": null,
   "id": "6c7c855a",
   "metadata": {},
   "outputs": [],
   "source": [
    "sce.pp.harmony_integrate(adata, 'sample')"
   ]
  },
  {
   "cell_type": "code",
   "execution_count": null,
   "id": "404f1a2b",
   "metadata": {},
   "outputs": [],
   "source": [
    "sc.pp.neighbors(adata, n_neighbors=15, use_rep='X_pca_harmony')\n",
    "sc.tl.umap(adata)"
   ]
  },
  {
   "cell_type": "code",
   "execution_count": null,
   "id": "cd5c0fef",
   "metadata": {},
   "outputs": [],
   "source": [
    "sc.pl.umap(adata, color=['stage', 'day', 'sample'], \n",
    "                        color_map='Spectral_r',  use_raw=False, ncols=4, wspace = 0.3,\n",
    "                        outline_width=[0.6, 0.05], size=15,  frameon=False, add_outline=True, sort_order = False)"
   ]
  },
  {
   "cell_type": "code",
   "execution_count": null,
   "id": "d128e447",
   "metadata": {},
   "outputs": [],
   "source": [
    "sc.set_figure_params(dpi=80, dpi_save=300, color_map='viridis', vector_friendly=False, transparent=True)\n",
    "sc.pl.umap(\n",
    "    adata, \n",
    "    color=['Epcam', 'H2-Aa', 'Pdgfra', 'Pecam1',  'Cdh5', 'Vwf', 'Plvap', 'Bmp4', 'Nkain4', 'Upk3b', 'Acta2', 'Myl9', 'S100b'], \n",
    "    palette=user_defined_palette,  \n",
    "    color_map='Spectral_r', \n",
    "    use_raw=False,\n",
    "    ncols=5,\n",
    "    wspace = 0.1,\n",
    "    outline_width=[0.6, 0.05],\n",
    "    size=15,\n",
    "    frameon=False,\n",
    "    add_outline=True,\n",
    "    sort_order = False\n",
    ")"
   ]
  },
  {
   "cell_type": "code",
   "execution_count": null,
   "id": "d55fa04e",
   "metadata": {},
   "outputs": [],
   "source": [
    "for resolution_parameter in [0.1, 0.2, 0.3, 0.4, 0.5, 0.6, 0.7, 0.8, 0.9, 1.0]:\n",
    "    sc.tl.leiden(adata, resolution=resolution_parameter, random_state=42, \n",
    "                        key_added='leiden_'+str(resolution_parameter))"
   ]
  },
  {
   "cell_type": "markdown",
   "id": "052fe01c",
   "metadata": {},
   "source": [
    "We can visualize the clustering to see which clusters match with the cells that we would like to filter out. Inspect the list of QC metrics and canonical markers to make your choice."
   ]
  },
  {
   "cell_type": "code",
   "execution_count": null,
   "id": "120231ed",
   "metadata": {},
   "outputs": [],
   "source": [
    "sc.set_figure_params(dpi=80, dpi_save=300, color_map='viridis', vector_friendly=False, transparent=True)\n",
    "sc.pl.umap(\n",
    "    adata, \n",
    "    color=['leiden_0.1', 'leiden_0.2', 'leiden_0.3', 'leiden_0.4', 'leiden_0.5', \n",
    "           'leiden_0.6', 'leiden_0.7', 'leiden_0.8','leiden_0.9', 'leiden_1.0'], \n",
    "    palette=user_defined_palette,  \n",
    "    color_map='Spectral_r', \n",
    "    use_raw=False,\n",
    "    ncols=5,\n",
    "    wspace = 0.7,\n",
    "    outline_width=[0.6, 0.05],\n",
    "    size=15,\n",
    "    frameon=False,\n",
    "    add_outline=True,\n",
    "    sort_order = False\n",
    ")"
   ]
  },
  {
   "cell_type": "markdown",
   "id": "eda74428",
   "metadata": {},
   "source": [
    "### Create group annotation"
   ]
  },
  {
   "cell_type": "code",
   "execution_count": null,
   "id": "5c7213fb",
   "metadata": {},
   "outputs": [],
   "source": [
    "adata.obs['cell_type'] = ['FB' if (x=='0' or x=='2' or x=='9') else \n",
    "                          'EC' if (x=='1' or x=='6' or x=='10') else\n",
    "                          'TEC' if (x=='3' or x=='5' or x=='11') else \n",
    "                          '6:MEC' if x=='8' else\n",
    "                          '7:vSMC/PC' if (x=='4' or x=='7') else\n",
    "                          '8:nmSC' if (x=='12') else 'ERROR' for x in adata.obs['leiden_0.5']] "
   ]
  },
  {
   "cell_type": "code",
   "execution_count": null,
   "id": "0b81ec82",
   "metadata": {},
   "outputs": [],
   "source": [
    "adata.uns['cell_type_colors'] = ['#d62728','#19c9b3', '#FFA5D2', '#ff7f0e','#199919', '#aa40fc']"
   ]
  },
  {
   "cell_type": "code",
   "execution_count": null,
   "id": "20102837",
   "metadata": {},
   "outputs": [],
   "source": [
    "sc.pl.umap(adata, color=['cell_type', 'stage', 'day'], \n",
    "                        color_map='Spectral_r',  use_raw=False, ncols=4, wspace = 0.3,\n",
    "                        outline_width=[0.6, 0.05], size=15,  frameon=False, add_outline=True, sort_order = False)"
   ]
  },
  {
   "cell_type": "code",
   "execution_count": null,
   "id": "39261aff",
   "metadata": {},
   "outputs": [],
   "source": [
    "path_to_h5ad = '../output/metadata/anndata_objects/Fig1pt2.h5ad'"
   ]
  },
  {
   "cell_type": "code",
   "execution_count": null,
   "id": "79d6b226",
   "metadata": {},
   "outputs": [],
   "source": [
    "adata.write(path_to_h5ad)"
   ]
  },
  {
   "cell_type": "code",
   "execution_count": null,
   "id": "f3b7e6d1",
   "metadata": {},
   "outputs": [],
   "source": [
    "adata = sc.read_h5ad(path_to_h5ad)\n",
    "adata.uns['log1p'][\"base\"] = None"
   ]
  }
 ],
 "metadata": {
  "kernelspec": {
   "display_name": "Python 3 (ipykernel)",
   "language": "python",
   "name": "python3"
  },
  "language_info": {
   "codemirror_mode": {
    "name": "ipython",
    "version": 3
   },
   "file_extension": ".py",
   "mimetype": "text/x-python",
   "name": "python",
   "nbconvert_exporter": "python",
   "pygments_lexer": "ipython3",
   "version": "3.8.13"
  }
 },
 "nbformat": 4,
 "nbformat_minor": 5
}
