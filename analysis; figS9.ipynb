{
 "cells": [
  {
   "cell_type": "markdown",
   "id": "f910362f",
   "metadata": {},
   "source": [
    "## Notebook setup"
   ]
  },
  {
   "cell_type": "code",
   "execution_count": null,
   "id": "32ce7cea",
   "metadata": {},
   "outputs": [],
   "source": [
    "import scanpy as sc\n",
    "import scanpy.external as sce\n",
    "import numpy as np\n",
    "import pandas as pd\n",
    "import warnings, scipy.sparse as sp, matplotlib, matplotlib.pyplot as plt\n",
    "from matplotlib.colors import LinearSegmentedColormap\n",
    "from matplotlib.pyplot import rc_context\n",
    "from collections import Counter\n",
    "import matplotlib.font_manager\n",
    "import pyreadr\n",
    "import rpy2\n",
    "from rpy2.robjects.packages import importr\n",
    "import rpy2.robjects as robjects\n",
    "import magic\n",
    "#import seaborn as sns\n",
    "import palantir\n",
    "import loompy\n",
    "#from scipy.sparse import csgraph\n",
    "\n",
    "matplotlib.rcParams['pdf.fonttype'] = 42\n",
    "matplotlib.rcParams['ps.fonttype'] = 42\n",
    "matplotlib.rcParams['font.family'] = 'sans-serif'\n",
    "matplotlib.rcParams['font.sans-serif'] = 'Arial'\n",
    "matplotlib.rc('font', size=14)\n",
    "import matplotlib.lines as lines\n",
    "\n",
    "pd.set_option('display.max_rows', 200)\n",
    "\n",
    "sc.set_figure_params(dpi=80, dpi_save=300, color_map='Spectral_r', vector_friendly=True, transparent=True)\n",
    "sc.settings.verbosity = 0 # verbosity: errors (0), warnings (1), info (2), hints (3)\n",
    "sc.logging.print_header()"
   ]
  },
  {
   "cell_type": "code",
   "execution_count": null,
   "id": "6c1b6c5b",
   "metadata": {},
   "outputs": [],
   "source": [
    "user_defined_palette =  [ '#F6222E', '#FEAF16','#3283FE','#BDCDFF', '#3B00FB', '#F8A19F', '#1CFFCE',  '#C4451C', \n",
    "                          '#2ED9FF', '#c1c119', '#8b0000', '#FE00FA', '#1CBE4F','#B5EFB5', '#0e452b', '#AA0DFE']"
   ]
  },
  {
   "cell_type": "code",
   "execution_count": null,
   "id": "24b76d9c",
   "metadata": {},
   "outputs": [],
   "source": [
    "user_defined_cmap_markers = LinearSegmentedColormap.from_list('mycmap', [\"#E6E6FF\", \"#CCCCFF\", \"#B2B2FF\", \"#9999FF\",  \"#6666FF\",   \"#3333FF\", \"#0000FF\"])\n",
    "user_defined_cmap_degs = LinearSegmentedColormap.from_list('mycmap', [\"#0000FF\", \"#3333FF\", \"#6666FF\", \"#9999FF\", \"#B2B2FF\", \"#CCCCFF\", \"#E6E6FF\", \"#E6FFE6\", \"#CCFFCC\", \"#B2FFB2\", \"#99FF99\", \"#66FF66\", \"#33FF33\", \"#00FF00\"])"
   ]
  },
  {
   "cell_type": "code",
   "execution_count": null,
   "id": "29947c70",
   "metadata": {},
   "outputs": [],
   "source": [
    "%matplotlib inline "
   ]
  },
  {
   "cell_type": "markdown",
   "id": "fbad9c74",
   "metadata": {},
   "source": [
    "## Load data for Figure 1"
   ]
  },
  {
   "cell_type": "code",
   "execution_count": null,
   "id": "f4b4155a",
   "metadata": {},
   "outputs": [],
   "source": [
    "path_to_h5ad = '../output/metadata/anndata_objects/ext_fig5.h5ad'"
   ]
  },
  {
   "cell_type": "code",
   "execution_count": null,
   "id": "b4e8f40d",
   "metadata": {},
   "outputs": [],
   "source": [
    "adata_d147 = sc.read_h5ad(path_to_h5ad)\n",
    "adata_d147.uns['log1p'][\"base\"] = None"
   ]
  },
  {
   "cell_type": "code",
   "execution_count": null,
   "id": "c2b77ad8",
   "metadata": {},
   "outputs": [],
   "source": [
    "sc.pl.umap(adata_d147, color=['cell_type', 'stage', 'day'], \n",
    "                     color_map='Spectral_r',\n",
    "                     use_raw=False, \n",
    "                     ncols=4, \n",
    "                     wspace = 0.3,\n",
    "                     outline_width=[0.6, 0.05], \n",
    "                     size=15,  \n",
    "                     frameon=False, \n",
    "                     add_outline=True, \n",
    "                     sort_order = False)"
   ]
  },
  {
   "cell_type": "code",
   "execution_count": null,
   "id": "5f3d457a",
   "metadata": {},
   "outputs": [],
   "source": [
    "sc.set_figure_params(dpi=80, dpi_save=300, color_map='Spectral_r', vector_friendly=True, transparent=True)\n",
    "\n",
    "sc.pl.umap(adata_d147, color=['Pdgfra',  'Epcam', 'H2-Aa',  'Pecam1', 'Cdh5',  'Nkain4', 'Upk3b', 'Acta2', 'Myl9', 'S100b'], \n",
    "                        color_map='Spectral_r',\n",
    "                        use_raw=False, \n",
    "                        ncols=5, \n",
    "                        wspace = 0.1,\n",
    "                        outline_width=[0.6, 0.05], \n",
    "                        size=15,  \n",
    "                        frameon=False, \n",
    "                        add_outline=True, \n",
    "                        sort_order = False,\n",
    "                        save='_canonical_d147_S5.pdf'\n",
    "                        )"
   ]
  },
  {
   "cell_type": "markdown",
   "id": "eab86bb1",
   "metadata": {},
   "source": [
    "## Analyze TEC, FB and EC and annotate based on public marker genes and signatures"
   ]
  },
  {
   "cell_type": "markdown",
   "id": "600b426d",
   "metadata": {},
   "source": [
    "### Our EC"
   ]
  },
  {
   "cell_type": "code",
   "execution_count": null,
   "id": "1b49dc52",
   "metadata": {},
   "outputs": [],
   "source": [
    "EC_d147 = adata_d147[(adata_d147.obs['cell_type']=='EC')]"
   ]
  },
  {
   "cell_type": "code",
   "execution_count": null,
   "id": "25af2238",
   "metadata": {},
   "outputs": [],
   "source": [
    "# Remove columns with all 0s\n",
    "sc.pp.filter_genes(EC_d147, min_cells=1)"
   ]
  },
  {
   "cell_type": "markdown",
   "id": "78cc8102",
   "metadata": {},
   "source": [
    "#### Identify highly variable genes (all samples but day 1) and replot the data"
   ]
  },
  {
   "cell_type": "code",
   "execution_count": null,
   "id": "5d070924",
   "metadata": {},
   "outputs": [],
   "source": [
    "EC_d47 = EC_d147[EC_d147.obs['day']!='d1']"
   ]
  },
  {
   "cell_type": "code",
   "execution_count": null,
   "id": "ffcdf757",
   "metadata": {},
   "outputs": [],
   "source": [
    "# Remove genes that are not expressed in any cells (remove columns with all 0s)\n",
    "sc.pp.filter_genes(EC_d47, min_cells=1)"
   ]
  },
  {
   "cell_type": "code",
   "execution_count": null,
   "id": "b4dfb38a",
   "metadata": {},
   "outputs": [],
   "source": [
    "sc.pp.highly_variable_genes(EC_d47, n_top_genes=3500, flavor='seurat')"
   ]
  },
  {
   "cell_type": "code",
   "execution_count": null,
   "id": "dc0c0563",
   "metadata": {},
   "outputs": [],
   "source": [
    "hvgs = EC_d47.var[EC_d47.var['highly_variable']==True].index"
   ]
  },
  {
   "cell_type": "code",
   "execution_count": null,
   "id": "9b3f71f8",
   "metadata": {},
   "outputs": [],
   "source": [
    "EC_d147.var['highly_variable'] = ''"
   ]
  },
  {
   "cell_type": "code",
   "execution_count": null,
   "id": "66caf253",
   "metadata": {},
   "outputs": [],
   "source": [
    "EC_d147.var['highly_variable'] = [True if x in hvgs else False for x in EC_d147.var['highly_variable'].index]"
   ]
  },
  {
   "cell_type": "code",
   "execution_count": null,
   "id": "41241d8f",
   "metadata": {},
   "outputs": [],
   "source": [
    "rng = np.random.RandomState(42)\n",
    "sc.tl.pca(EC_d147, n_comps=200, svd_solver='arpack', random_state=rng, use_highly_variable=True)"
   ]
  },
  {
   "cell_type": "code",
   "execution_count": null,
   "id": "e2b99eaa",
   "metadata": {},
   "outputs": [],
   "source": [
    "def observe_variance(anndata_object):\n",
    "    fig = plt.figure(figsize=(10,5))\n",
    "    ax1 = fig.add_subplot(121)\n",
    "    ax2 = fig.add_subplot(122)\n",
    "    # variance per principal component\n",
    "    x = range(len(anndata_object.uns['pca']['variance_ratio']))\n",
    "    y = anndata_object.uns['pca']['variance_ratio']\n",
    "    ax1.scatter(x,y,s=4)\n",
    "    ax1.set_xlabel('PC')\n",
    "    ax1.set_ylabel('Fraction of variance explained\\n')\n",
    "    ax1.set_title('Fraction of variance explained per PC\\n')\n",
    "    # cumulative variance explained\n",
    "    cml_var_explained = np.cumsum(anndata_object.uns['pca']['variance_ratio'])\n",
    "    x = range(len(anndata_object.uns['pca']['variance_ratio']))\n",
    "    y = cml_var_explained\n",
    "    ax2.scatter(x,y,s=4)\n",
    "    ax2.set_xlabel('PC')\n",
    "    ax2.set_ylabel('Cumulative fraction of variance\\nexplained')\n",
    "    ax2.set_title('Cumulative fraction of variance\\nexplained by PCs')\n",
    "    fig.tight_layout()\n",
    "    plot = plt.show\n",
    "    return(plot)\n",
    "observe_variance(EC_d147)"
   ]
  },
  {
   "cell_type": "code",
   "execution_count": null,
   "id": "d407ab0c",
   "metadata": {},
   "outputs": [],
   "source": [
    "rng = np.random.RandomState(42)\n",
    "sc.tl.pca(EC_d147, n_comps=35, svd_solver='arpack', random_state=rng, use_highly_variable=True)"
   ]
  },
  {
   "cell_type": "code",
   "execution_count": null,
   "id": "aaa1dad9",
   "metadata": {},
   "outputs": [],
   "source": [
    "sce.pp.harmony_integrate(EC_d147, 'sample')"
   ]
  },
  {
   "cell_type": "code",
   "execution_count": null,
   "id": "344bc4b4",
   "metadata": {},
   "outputs": [],
   "source": [
    "sc.pp.neighbors(EC_d147, n_neighbors=15, use_rep='X_pca_harmony')\n",
    "sc.tl.umap(EC_d147)"
   ]
  },
  {
   "cell_type": "code",
   "execution_count": null,
   "id": "8f7fa1a8",
   "metadata": {},
   "outputs": [],
   "source": [
    "sc.set_figure_params(dpi=80, dpi_save=300, color_map='viridis', vector_friendly=True, transparent=True)\n",
    "\n",
    "sc.pl.umap(\n",
    "    EC_d147, \n",
    "    color=['cell_type', 'stage', 'day', 'sample'], \n",
    "    ncols=6,\n",
    "    outline_width=[0.6, 0.05],\n",
    "    size=15,\n",
    "    frameon=False,\n",
    "    cmap='Spectral_r',\n",
    "    wspace = 0.3,\n",
    "    add_outline=True\n",
    ")"
   ]
  },
  {
   "cell_type": "markdown",
   "id": "9ed7a113",
   "metadata": {},
   "source": [
    "### EC signatures at steady state"
   ]
  },
  {
   "cell_type": "code",
   "execution_count": null,
   "id": "57ab38c1",
   "metadata": {},
   "outputs": [],
   "source": [
    "artEC_sign = ['Fbln5',\t'Stmn2',\t'Clu',\t'Sema3g',\t'Glul',\t'Tm4sf1',\t'Eps8l2',\t'Col8a1',\t'Nebl',\t'Vegfc',\t'Alpl',\t'Arl15',\t'Gja4',\t'Edn1',\t'S100a6',\t'Mast4',\t'Sox17',\t'Pdgfd',\t'Fbln2',\t'Vim',\t'Ltbp4',\t'Slc6a6',\t'Klf2',\t'Heg1',\t'Epas1',\t'Fxyd5',\t'Ly6a',\t'Crip1',\t'Fn1',\t'Cd9',\t'Mecom',\t'Tsc22d1',\t'Bsg',\t'Atox1',\t'Podxl',\t'Ptprr',\t'Ebf1',\t'Cdk19',\t'Icam2',\t'Tspo',\t'Cst3',\t'Eln',\t'Azin1',\t'Pcsk5',\t'Gadd45g',\t'Timp3',\t'Ace',\t'Tanc2',\t'Rgs10',\t'Gja5']\n",
    "capEC_sign = ['Gpihbp1',\t'Rgcc',\t'Fabp4',\t'Cd36',\t'Car4',\t'Mgll',\t'Cd300lg',\t'Tcf15',\t'Kdr',\t'Arhgap18',\t'Igfbp7',\t'Kank3',\t'Aqp7',\t'Etl4',\t'Tspan13',\t'Cavin2',\t'Hspb1',\t'Ppp1r2',\t'Lims2',\t'Fabp5',\t'Nrp1',\t'Timp4',\t'Gng11',\t'Sept4',\t'Lpl',\t'Gm12002',\t'Ccdc85a',\t'Plpp3',\t'Ablim3',\t'Sparc',\t'Xdh',\t'Tmsb4x',\t'AW112010',\t'Ctnnbip1',\t'Thrsp',\t'Adgrl4',\t'Cav2',\t'Cxcl12',\t'Dhrs3',\t'Cd81',\t'Emcn',\t'Tcim',\t'C1qtnf9',\t'Sparcl1',\t'Ccdc85b',\t'Pitpnc1',\t'Rflnb',\t'Ubb',\t'Ly6c1',\t'Sult1a1']\n",
    "venEC_sign = ['Lrg1',\t'Il6st',\t'Vwf',\t'Plvap',\t'mt-Co1',\t'Selp',\t'Spint2',\t'Pcdh7',\t'mt-Nd4',\t'2200002D01Rik',\t'Tmsb10',\t'Eef1a1',\t'mt-Co3',\t'Bgn',\t'Pde4d',\t'mt-Atp6',\t'Aqp1',\t'Tpt1',\t'Ctla2a',\t'Ackr1',\t'Apoe',\t'Pdlim1',\t'Cd9',\t'St3gal4',\t'Ehd4',\t'Fth1',\t'Eef1b2',\t'Pecam1',\t'Thsd7a',\t'Col15a1',\t'Man1a',\t'Vim',\t'Enpp2',\t'Rbp1',\t'Igfbp4',\t'Abca1',\t'Csrp2',\t'Slco2b1',\t'Zfp521',\t'Vcam1',\t'Dpysl3',\t'Nr2f2',\t'Pam',\t'Ldb2',\t'Insr',\t'Cd74',\t'Tmem176b',\t'Il1r1',\t'Arrb1',\t'Arhgap26']"
   ]
  },
  {
   "cell_type": "code",
   "execution_count": null,
   "id": "4f1d2b3c",
   "metadata": {},
   "outputs": [],
   "source": [
    "x=9\n",
    "sc.tl.score_genes(EC_d147, gene_list = artEC_sign[0:x],  score_name='artEC_sign', use_raw=False)\n",
    "sc.tl.score_genes(EC_d147, gene_list = capEC_sign[0:x],  score_name='capEC_sign', use_raw=False)\n",
    "sc.tl.score_genes(EC_d147, gene_list = venEC_sign[0:x],  score_name='venEC_sign', use_raw=False)\n"
   ]
  },
  {
   "cell_type": "code",
   "execution_count": null,
   "id": "8c6429b0",
   "metadata": {},
   "outputs": [],
   "source": [
    "sc.set_figure_params(dpi=80, dpi_save=300, color_map='viridis', vector_friendly=True, transparent=True)\n",
    "\n",
    "sc.pl.umap(\n",
    "    EC_d147,\n",
    "    color=['artEC_sign', 'capEC_sign', 'venEC_sign'],\n",
    "    palette=user_defined_palette,  \n",
    "    color_map='Spectral_r', \n",
    "    use_raw=False,\n",
    "    ncols=5,\n",
    "    wspace = 0.1,\n",
    "    outline_width=[0.6, 0.05],\n",
    "    frameon=False,\n",
    "    add_outline=True,\n",
    "    sort_order = False,\n",
    "    vmin=0,\n",
    "    save='_signEC_d147_S5.pdf'\n",
    "    \n",
    ")"
   ]
  },
  {
   "cell_type": "markdown",
   "id": "fa8a5e00",
   "metadata": {},
   "source": [
    "### EC clustering and annotation"
   ]
  },
  {
   "cell_type": "code",
   "execution_count": null,
   "id": "22717eb3",
   "metadata": {},
   "outputs": [],
   "source": [
    "for resolution_parameter in [0.1, 0.2, 0.3, 0.4, 0.5, 0.6, 0.7, 0.8, 0.9, 1.0]:\n",
    "    sc.tl.leiden(EC_d147, resolution=resolution_parameter, random_state=42, \n",
    "                        key_added='leiden_'+str(resolution_parameter))"
   ]
  },
  {
   "cell_type": "code",
   "execution_count": null,
   "id": "79b72352",
   "metadata": {},
   "outputs": [],
   "source": [
    "sc.set_figure_params(dpi=80, dpi_save=300, color_map='viridis', vector_friendly=False, transparent=True)\n",
    "sc.pl.umap(\n",
    "    EC_d147, \n",
    "    color=['leiden_0.1', 'leiden_0.2', 'leiden_0.3', 'leiden_0.4', 'leiden_0.5', \n",
    "           'leiden_0.6', 'leiden_0.7', 'leiden_0.8','leiden_0.9', 'leiden_1.0'], \n",
    "    palette=user_defined_palette,  \n",
    "    color_map='Spectral_r', \n",
    "    use_raw=False,\n",
    "    ncols=5,\n",
    "    wspace = 0.7,\n",
    "    outline_width=[0.6, 0.05],\n",
    "    frameon=False,\n",
    "    add_outline=True,\n",
    "    sort_order = False\n",
    ")"
   ]
  },
  {
   "cell_type": "code",
   "execution_count": null,
   "id": "80632a87",
   "metadata": {},
   "outputs": [],
   "source": [
    "EC_d147.obs['cell_type_subset'] = ['0:arEC' if (x=='3') else \n",
    "                                 '1:capEC' if (x=='0' or x=='1') else\n",
    "                                 '2:venEC' if (x=='2') else 'ERROR' for x in EC_d147.obs['leiden_0.2']] "
   ]
  },
  {
   "cell_type": "code",
   "execution_count": null,
   "id": "8118537d",
   "metadata": {},
   "outputs": [],
   "source": [
    "EC_d147.uns['cell_type_subset_colors'] = ['#F6222E', '#3283FE', '#16FF32', 'grey']"
   ]
  },
  {
   "cell_type": "code",
   "execution_count": null,
   "id": "d18e7a5f",
   "metadata": {},
   "outputs": [],
   "source": [
    "sc.set_figure_params(dpi=80, dpi_save=300, color_map='viridis', vector_friendly=True, transparent=True)\n",
    "\n",
    "sc.pl.umap(\n",
    "    EC_d147, \n",
    "    color=['day', 'stage', 'leiden_0.2', 'cell_type_subset'], \n",
    "    ncols=6,\n",
    "    outline_width=[0.6, 0.05],\n",
    "    frameon=False,\n",
    "    cmap='Spectral_r',\n",
    "    wspace = 0.3,\n",
    "    add_outline=True,\n",
    "    save='_subsetEC_d147_S5.pdf'\n",
    "\n",
    ")"
   ]
  },
  {
   "cell_type": "markdown",
   "id": "7fd01fc4",
   "metadata": {},
   "source": [
    "### Our FB"
   ]
  },
  {
   "cell_type": "code",
   "execution_count": null,
   "id": "364fb01a",
   "metadata": {},
   "outputs": [],
   "source": [
    "FB_d147 = adata_d147[(adata_d147.obs['cell_type']=='FB')]"
   ]
  },
  {
   "cell_type": "code",
   "execution_count": null,
   "id": "4c455d6b",
   "metadata": {},
   "outputs": [],
   "source": [
    "# Remove columns with all 0s\n",
    "sc.pp.filter_genes(FB_d147, min_cells=1)"
   ]
  },
  {
   "cell_type": "markdown",
   "id": "35f70eae",
   "metadata": {},
   "source": [
    "#### Identify highly variable genes (all samples but day 1) and replot the data"
   ]
  },
  {
   "cell_type": "code",
   "execution_count": null,
   "id": "771daf0c",
   "metadata": {},
   "outputs": [],
   "source": [
    "FB_d47 = FB_d147[FB_d147.obs['day']!='d1']"
   ]
  },
  {
   "cell_type": "code",
   "execution_count": null,
   "id": "f075ae02",
   "metadata": {},
   "outputs": [],
   "source": [
    "# Remove genes that are not expressed in any cells (remove columns with all 0s)\n",
    "sc.pp.filter_genes(FB_d47, min_cells=1)"
   ]
  },
  {
   "cell_type": "code",
   "execution_count": null,
   "id": "8f3cbd1e",
   "metadata": {},
   "outputs": [],
   "source": [
    "sc.pp.highly_variable_genes(FB_d47, n_top_genes=3500, flavor='seurat')"
   ]
  },
  {
   "cell_type": "code",
   "execution_count": null,
   "id": "39e9fbff",
   "metadata": {},
   "outputs": [],
   "source": [
    "hvgs = FB_d47.var[FB_d47.var['highly_variable']==True].index"
   ]
  },
  {
   "cell_type": "code",
   "execution_count": null,
   "id": "e6a19fde",
   "metadata": {},
   "outputs": [],
   "source": [
    "FB_d147.var['highly_variable'] = ''"
   ]
  },
  {
   "cell_type": "code",
   "execution_count": null,
   "id": "2a100dc9",
   "metadata": {},
   "outputs": [],
   "source": [
    "FB_d147.var['highly_variable'] = [True if x in hvgs else False for x in FB_d147.var['highly_variable'].index]"
   ]
  },
  {
   "cell_type": "code",
   "execution_count": null,
   "id": "9e194b54",
   "metadata": {},
   "outputs": [],
   "source": [
    "rng = np.random.RandomState(42)\n",
    "sc.tl.pca(FB_d147, n_comps=200, svd_solver='arpack', random_state=rng, use_highly_variable=True)"
   ]
  },
  {
   "cell_type": "code",
   "execution_count": null,
   "id": "13eaeac0",
   "metadata": {},
   "outputs": [],
   "source": [
    "observe_variance(FB_d147)"
   ]
  },
  {
   "cell_type": "code",
   "execution_count": null,
   "id": "9952a624",
   "metadata": {},
   "outputs": [],
   "source": [
    "rng = np.random.RandomState(42)\n",
    "sc.tl.pca(FB_d147, n_comps=30, svd_solver='arpack', random_state=rng, use_highly_variable=True)"
   ]
  },
  {
   "cell_type": "code",
   "execution_count": null,
   "id": "47fa44e3",
   "metadata": {},
   "outputs": [],
   "source": [
    "sce.pp.harmony_integrate(FB_d147, 'sample')"
   ]
  },
  {
   "cell_type": "code",
   "execution_count": null,
   "id": "5273e1de",
   "metadata": {},
   "outputs": [],
   "source": [
    "sc.pp.neighbors(FB_d147, n_neighbors=15, use_rep='X_pca_harmony')\n",
    "sc.tl.umap(FB_d147)"
   ]
  },
  {
   "cell_type": "code",
   "execution_count": null,
   "id": "1d5ffc1d",
   "metadata": {},
   "outputs": [],
   "source": [
    "sc.set_figure_params(dpi=80, dpi_save=300, color_map='viridis', vector_friendly=True, transparent=True)\n",
    "\n",
    "sc.pl.umap(\n",
    "    FB_d147, \n",
    "    color=['Adipoq'], \n",
    "    ncols=6,\n",
    "    outline_width=[0.6, 0.05],\n",
    "    size=15,\n",
    "    frameon=False,\n",
    "    cmap='Spectral_r',\n",
    "    wspace = 0.3,\n",
    "    add_outline=True\n",
    ")"
   ]
  },
  {
   "cell_type": "markdown",
   "id": "57b7497c",
   "metadata": {},
   "source": [
    "### FB clustering and annotation"
   ]
  },
  {
   "cell_type": "code",
   "execution_count": null,
   "id": "da418ad1",
   "metadata": {},
   "outputs": [],
   "source": [
    "for resolution_parameter in [0.1, 0.2, 0.3, 0.4, 0.5, 0.6, 0.7, 0.8, 0.9, 1.0]:\n",
    "    sc.tl.leiden(FB_d147, resolution=resolution_parameter, random_state=42, \n",
    "                        key_added='leiden_'+str(resolution_parameter))"
   ]
  },
  {
   "cell_type": "code",
   "execution_count": null,
   "id": "2819d6e8",
   "metadata": {},
   "outputs": [],
   "source": [
    "sc.set_figure_params(dpi=80, dpi_save=300, color_map='viridis', vector_friendly=False, transparent=True)\n",
    "sc.pl.umap(\n",
    "    FB_d147, \n",
    "    color=['leiden_0.1', 'leiden_0.2', 'leiden_0.3', 'leiden_0.4', 'leiden_0.5', \n",
    "           'leiden_0.6', 'leiden_0.7', 'leiden_0.8','leiden_0.9', 'leiden_1.0'], \n",
    "    palette=user_defined_palette,  \n",
    "    color_map='Spectral_r', \n",
    "    use_raw=False,\n",
    "    ncols=5,\n",
    "    wspace = 0.7,\n",
    "    outline_width=[0.6, 0.05],\n",
    "    frameon=False,\n",
    "    add_outline=True,\n",
    "    sort_order = False\n",
    ")"
   ]
  },
  {
   "cell_type": "code",
   "execution_count": null,
   "id": "353c031a",
   "metadata": {},
   "outputs": [],
   "source": [
    "FB_d147.obs['cell_type_subset'] = ['3:capsFB' if (x=='1') else \n",
    "                                   '4:intFB' if (x=='2' or x=='3' or x=='4') else\n",
    "                                   '5:medFB' if (x=='0') else\n",
    "                                   '9:Fat' if (x=='5') else 'ERROR' for x in FB_d147.obs['leiden_0.4']] "
   ]
  },
  {
   "cell_type": "code",
   "execution_count": null,
   "id": "6bc3e3f9",
   "metadata": {},
   "outputs": [],
   "source": [
    "FB_d147.uns['cell_type_subset_colors'] = ['#BDCDFF', '#3B00FB', '#1CFFCE', 'grey']"
   ]
  },
  {
   "cell_type": "code",
   "execution_count": null,
   "id": "ed51229a",
   "metadata": {},
   "outputs": [],
   "source": [
    "sc.set_figure_params(dpi=80, dpi_save=300, color_map='viridis', vector_friendly=True, transparent=True)\n",
    "\n",
    "sc.pl.umap(\n",
    "    FB_d147, \n",
    "    color=['cell_type_subset'], \n",
    "    ncols=6,\n",
    "    outline_width=[0.6, 0.05],\n",
    "    frameon=False,\n",
    "    cmap='Spectral_r',\n",
    "    wspace = 0.3,\n",
    "    add_outline=True\n",
    ")"
   ]
  },
  {
   "cell_type": "code",
   "execution_count": null,
   "id": "30a78474",
   "metadata": {},
   "outputs": [],
   "source": [
    "FB_d147_nofat = FB_d147[(FB_d147.obs['cell_type_subset']!='9:Fat')]"
   ]
  },
  {
   "cell_type": "code",
   "execution_count": null,
   "id": "bc24103d",
   "metadata": {},
   "outputs": [],
   "source": [
    "# Remove columns with all 0s\n",
    "sc.pp.filter_genes(FB_d147_nofat, min_cells=1)"
   ]
  },
  {
   "cell_type": "code",
   "execution_count": null,
   "id": "069d11e4",
   "metadata": {},
   "outputs": [],
   "source": [
    "sc.pp.highly_variable_genes(FB_d147_nofat, n_top_genes=3500, n_bins=20, flavor='seurat')"
   ]
  },
  {
   "cell_type": "code",
   "execution_count": null,
   "id": "50b06218",
   "metadata": {},
   "outputs": [],
   "source": [
    "rng = np.random.RandomState(42)\n",
    "sc.tl.pca(FB_d147_nofat, n_comps=200, svd_solver='arpack', random_state=rng, use_highly_variable=True)"
   ]
  },
  {
   "cell_type": "code",
   "execution_count": null,
   "id": "ce5be9ca",
   "metadata": {},
   "outputs": [],
   "source": [
    "observe_variance(FB_d147_nofat)"
   ]
  },
  {
   "cell_type": "code",
   "execution_count": null,
   "id": "001321e6",
   "metadata": {},
   "outputs": [],
   "source": [
    "rng = np.random.RandomState(42)\n",
    "sc.tl.pca(FB_d147_nofat, n_comps=30, svd_solver='arpack', random_state=rng, use_highly_variable=True)"
   ]
  },
  {
   "cell_type": "code",
   "execution_count": null,
   "id": "69cb9b5b",
   "metadata": {},
   "outputs": [],
   "source": [
    "sce.pp.harmony_integrate(FB_d147_nofat, 'sample')"
   ]
  },
  {
   "cell_type": "code",
   "execution_count": null,
   "id": "ad820014",
   "metadata": {},
   "outputs": [],
   "source": [
    "sc.pp.neighbors(FB_d147_nofat, n_neighbors=15, use_rep='X_pca_harmony')\n",
    "sc.tl.umap(FB_d147_nofat)"
   ]
  },
  {
   "cell_type": "markdown",
   "id": "9f81b296",
   "metadata": {},
   "source": [
    "### FB signatures at steady state"
   ]
  },
  {
   "cell_type": "code",
   "execution_count": null,
   "id": "78ce4be3",
   "metadata": {},
   "outputs": [],
   "source": [
    "capsFB_sign = ['Pi16',\t'Timp2',\t'Fn1',\t'Opcml',\t'Cd248',\t'Mfap5',\t'Anxa3',\t'Pcolce2',\t'Ackr3',\t'Fndc1',\t'Igfbp6',\t'Sema3c',\t'Clec3b',\t'Creb5',\t'Smpd3',\t'Tmem100',\t'Adgrd1',\t'Ly6c1',\t'Pcsk6',\t'Nid1',\t'Fbn1',\t'Dpp4',\t'Pla1a',\t'Efhd1',\t'Col14a1',\t'Ebf2',\t'Fstl1',\t'Metrnl',\t'Plpp3',\t'Sdk1',\t'Limch1',\t'Axl',\t'Loxl1',\t'Anxa1',\t'Emilin2',\t'Tmsb4x',\t'Tnxb',\t'Gfpt2',\t'Lsp1',\t'Ly6a',\t'Efna5',\t'Adamts5',\t'Igfbp5',\t'Ugdh',\t'Timp3',\t'Ogn',\t'Heg1',\t'Islr',\t'Ddr2',\t'Ppp1r14b']\n",
    "intFB_sign = ['Smoc2',\t'Gpx3',\t'Penk',\t'Igf1',\t'Gas1',\t'Inmt',\t'Pcolce',\t'Lrp1',\t'Itm2a',\t'Gdf10',\t'Rbp1',\t'Fbln1',\t'Sfrp1',\t'Slit3',\t'Svep1',\t'Auts2',\t'Lpl',\t'Celf2',\t'Serpinf1',\t'Il11ra1',\t'Adamts12',\t'Abca8a',\t'Cygb',\t'Nfib',\t'Dcn',\t'Selenop',\t'Ntrk2',\t'Tmem119',\t'Mgst1',\t'Igfbp3',\t'Mmp2',\t'Ar',\t'Gsn',\t'Srpx',\t'Col15a1',\t'Mt1',\t'Lum',\t'Olfml3',\t'Mfap2',\t'Col3a1',\t'Fxyd6',\t'Fst',\t'Cryab',\t'Txnip',\t'Htra3',\t'Mfap4',\t'Itm2b',\t'Fbln2',\t'Dhrs3',\t'Col1a2']\n",
    "medFB_sign = ['Csmd1',\t'Serpine2',\t'Enpp2',\t'Ptn',\t'Tmem176b',\t'Tmem176a',\t'B2m',\t'Ccl19',\t'Igfbp7',\t'Apod',\t'Bgn',\t'H2-D1',\t'Des',\t'Ltc4s',\t'Lhfp',\t'Ifitm1',\t'Cd9',\t'Apoe',\t'Lsamp',\t'Ly6e',\t'H2-K1',\t'H2-Q7',\t'Sparcl1',\t'Il34',\t'Ndufa4l2',\t'Tcf4',\t'Spon1',\t'Colec12',\t'Nrp1',\t'Mylk',\t'Hsd11b1',\t'Mfge8',\t'Jun',\t'Cp',\t'Meox1',\t'Ecscr',\t'Trps1',\t'Ank2',\t'Gpm6b',\t'Cstb',\t'Cd63',\t'Pde4b',\t'Postn',\t'H3f3b',\t'Mgp',\t'Pten',\t'Ptma',\t'Ltbp1',\t'Col15a1',\t'Pde7b']"
   ]
  },
  {
   "cell_type": "code",
   "execution_count": null,
   "id": "849d9ced",
   "metadata": {},
   "outputs": [],
   "source": [
    "x=9\n",
    "sc.tl.score_genes(FB_d147_nofat, gene_list = capsFB_sign[0:x],  score_name='capsFB_sign', use_raw=False)\n",
    "sc.tl.score_genes(FB_d147_nofat, gene_list = intFB_sign[0:x],  score_name='intFB_sign', use_raw=False)\n",
    "sc.tl.score_genes(FB_d147_nofat, gene_list = medFB_sign[0:x],  score_name='medFB_sign', use_raw=False)"
   ]
  },
  {
   "cell_type": "code",
   "execution_count": null,
   "id": "6940d245",
   "metadata": {},
   "outputs": [],
   "source": [
    "sc.set_figure_params(dpi=80, dpi_save=300, color_map='viridis', vector_friendly=True, transparent=True)\n",
    "\n",
    "sc.pl.umap(\n",
    "    FB_d147_nofat,\n",
    "    color=[ 'capsFB_sign', 'intFB_sign', 'medFB_sign'],\n",
    "    palette=user_defined_palette,  \n",
    "    color_map='Spectral_r', \n",
    "    use_raw=False,\n",
    "    ncols=5,\n",
    "    wspace = 0.1,\n",
    "    outline_width=[0.6, 0.05],\n",
    "    size=15,\n",
    "    frameon=False,\n",
    "    add_outline=True,\n",
    "    sort_order = False,\n",
    "    vmin=0,\n",
    "    save='_signFB_d147_S5.pdf'\n",
    "\n",
    ")"
   ]
  },
  {
   "cell_type": "code",
   "execution_count": null,
   "id": "92964b51",
   "metadata": {},
   "outputs": [],
   "source": [
    "sc.set_figure_params(dpi=80, dpi_save=300, color_map='viridis', vector_friendly=True, transparent=True)\n",
    "\n",
    "sc.pl.umap(\n",
    "    FB_d147_nofat, \n",
    "    color=['day', 'stage', 'leiden_0.4', 'cell_type_subset'], \n",
    "    ncols=6,   \n",
    "    outline_width=[0.6, 0.05],\n",
    "    size=15,\n",
    "    frameon=False,\n",
    "    cmap='Spectral_r',\n",
    "    wspace = 0.3,\n",
    "    add_outline=True,\n",
    "    save='_subsetFB_d147_S5.pdf'\n",
    "\n",
    ")"
   ]
  },
  {
   "cell_type": "markdown",
   "id": "81ee9646",
   "metadata": {},
   "source": [
    "### Our TEC"
   ]
  },
  {
   "cell_type": "code",
   "execution_count": null,
   "id": "8e62b1f2",
   "metadata": {},
   "outputs": [],
   "source": [
    "TEC_d147 = adata_d147[(adata_d147.obs['cell_type']=='TEC')]"
   ]
  },
  {
   "cell_type": "code",
   "execution_count": null,
   "id": "784768d7",
   "metadata": {},
   "outputs": [],
   "source": [
    "# Remove columns with all 0s\n",
    "sc.pp.filter_genes(TEC_d147, min_cells=1)"
   ]
  },
  {
   "cell_type": "markdown",
   "id": "e33974a4",
   "metadata": {},
   "source": [
    "#### Identify highly variable genes (all samples but day 1) and replot the data"
   ]
  },
  {
   "cell_type": "code",
   "execution_count": null,
   "id": "6d3750d9",
   "metadata": {},
   "outputs": [],
   "source": [
    "TEC_d47 = TEC_d147[TEC_d147.obs['day']!='d1']"
   ]
  },
  {
   "cell_type": "code",
   "execution_count": null,
   "id": "131a6e0d",
   "metadata": {},
   "outputs": [],
   "source": [
    "# Remove genes that are not expressed in any cells (remove columns with all 0s)\n",
    "sc.pp.filter_genes(TEC_d47, min_cells=1)"
   ]
  },
  {
   "cell_type": "code",
   "execution_count": null,
   "id": "c0944d61",
   "metadata": {},
   "outputs": [],
   "source": [
    "sc.pp.highly_variable_genes(TEC_d47, n_top_genes=3500, flavor='seurat')"
   ]
  },
  {
   "cell_type": "code",
   "execution_count": null,
   "id": "fcbaba07",
   "metadata": {},
   "outputs": [],
   "source": [
    "hvgs = TEC_d47.var[TEC_d47.var['highly_variable']==True].index"
   ]
  },
  {
   "cell_type": "code",
   "execution_count": null,
   "id": "b64c67b9",
   "metadata": {},
   "outputs": [],
   "source": [
    "TEC_d147.var['highly_variable'] = ''"
   ]
  },
  {
   "cell_type": "code",
   "execution_count": null,
   "id": "4958c938",
   "metadata": {},
   "outputs": [],
   "source": [
    "TEC_d147.var['highly_variable'] = [True if x in hvgs else False for x in TEC_d147.var['highly_variable'].index]"
   ]
  },
  {
   "cell_type": "code",
   "execution_count": null,
   "id": "df02e64a",
   "metadata": {},
   "outputs": [],
   "source": [
    "rng = np.random.RandomState(42)\n",
    "sc.tl.pca(TEC_d147, n_comps=200, svd_solver='arpack', random_state=rng, use_highly_variable=True)"
   ]
  },
  {
   "cell_type": "code",
   "execution_count": null,
   "id": "6679a943",
   "metadata": {},
   "outputs": [],
   "source": [
    "observe_variance(TEC_d147)"
   ]
  },
  {
   "cell_type": "code",
   "execution_count": null,
   "id": "af385e15",
   "metadata": {},
   "outputs": [],
   "source": [
    "rng = np.random.RandomState(42)\n",
    "sc.tl.pca(TEC_d147, n_comps=35, svd_solver='arpack', random_state=rng, use_highly_variable=True)"
   ]
  },
  {
   "cell_type": "code",
   "execution_count": null,
   "id": "e7e9c8e2",
   "metadata": {},
   "outputs": [],
   "source": [
    "sce.pp.harmony_integrate(TEC_d147, 'sample')"
   ]
  },
  {
   "cell_type": "code",
   "execution_count": null,
   "id": "a95b1425",
   "metadata": {},
   "outputs": [],
   "source": [
    "sc.pp.neighbors(TEC_d147, n_neighbors=15, use_rep='X_pca_harmony')\n",
    "sc.tl.umap(TEC_d147)"
   ]
  },
  {
   "cell_type": "markdown",
   "id": "5e2cfc7f",
   "metadata": {},
   "source": [
    "### TEC signatures at steady state"
   ]
  },
  {
   "cell_type": "code",
   "execution_count": null,
   "id": "dda86c44",
   "metadata": {},
   "outputs": [],
   "source": [
    "aaTEC1_sign = ['Zbtb20',\t'Cd81',\t'Trpm3',\t'Slc16a11',\t'Gstm1',\t'Btg1',\t'BC006965',\t'Cldn3',\t'S100a11',\t'Gsta4',\t'Ly6e',\t'Cdk19',\t'Wfdc18',\t'Slc9a3r1',\t'Ifi27l2a',\t'Aldoc',\t'Phlda1',\t'Anxa2',\t'Taldo1',\t'Socs2',\t'Fam107a',\t'Krt18',\t'Pbx1',\t'Tm4sf1',\t'Meis2',\t'Gsn',\t'Anxa1',\t'Bmp6',\t'Epcam',\t'Dbi',\t'Shank2',\t'Kif19a',\t'Isl1',\t'Plin2',\t'Ly6a',\t'Nupr1',\t'Id2',\t'Rcn1',\t'Gpc6',\t'Rdh10',\t'Cd24a',\t'mt-Co1',\t'Gab2',\t'Pde4b',\t'Slc5a8',\t'Nedd4l',\t'Fbxo2',\t'Tshz2',\t'Acss3',\t'Cd9']\n",
    "aaTEC2_sign = ['Csmd1',\t'Zeb2',\t'Mgp',\t'Gsn',\t'Zbtb20',\t'Ndrg2',\t'Serpine2',\t'Cd81',\t'Fxyd1',\t'Laptm4a',\t'Gpx3',\t'Socs3',\t'Igfbp7',\t'Airn',\t'Lgals1',\t'Fos',\t'Prrx1',\t'Prkg1',\t'Junb',\t'Sparc',\t'Cebpd',\t'Apoe',\t'Gstm1',\t'Gadd45g',\t'Id3',\t'Egr1',\t'Ptn',\t'Cd63',\t'Tm4sf1',\t'Ccdc80',\t'Phlda1',\t'Cavin3',\t'Cald1',\t'Serping1',\t'Sparcl1',\t'Ccl19',\t'Cst3',\t'Cacna1c',\t'Jund',\t'Fstl1',\t'Tagln2',\t'Klf9',\t'Jun',\t'Gucy1a1',\t'Col3a1',\t'Notch3',\t'Rora',\t'Tshz2',\t'Lhfp',\t'Gnas']\n",
    "cTEC_sign = ['Ctsl',\t'Cstb',\t'Cxcl12',\t'Prss16',\t'Krt18',\t'Gas6',\t'Pltp',\t'Slc46a2',\t'Ndufa11',\t'Tbata',\t'Ccl25',\t'Psmb11',\t'Tmem131l',\t'Nlgn1',\t'Prxl2b',\t'Pax1',\t'Wnt4',\t'Dpp6',\t'Psmb9',\t'Bnip3l',\t'Snhg11',\t'Copz2',\t'AI646519',\t'Ank3',\t'Lamp2',\t'Ndrg3',\t'Shisa2',\t'Rgcc',\t'Krt8',\t'Rbfox1',\t'Tsc22d1',\t'Kctd1',\t'Ly75',\t'Sh2d4b',\t'Igfbp5',\t'Fabp5',\t'Plgrkt',\t'Spock2',\t'Ryr3',\t'Syngr1',\t'Zfyve21',\t'Tenm4',\t'Trp63',\t'Clic5',\t'Gmpr',\t'Castor1',\t'Macf1',\t'Ifi27',\t'Limch1',\t'Kcnk2']\n",
    "mTEC1_sign = ['Apoe',\t'Ifitm3',\t'Rbms3',\t'Ly6a',\t'Ifi27l2a',\t'Krt5',\t'Krt14',\t'Ctsl',\t'Gas1',\t'Ifitm2',\t'Ccl21a',\t'Itm2b',\t'Gas6',\t'Dcn',\t'Isg15',\t'Igfbp4',\t'Laptm4a',\t'Eya4',\t'Cpne8',\t'Mgp',\t'Mir100hg',\t'Sult5a1',\t'Rtp4',\t'Iigp1',\t'Nxn',\t'Rbp1',\t'Gas5',\t'Zfp36l1',\t'Gsn',\t'Ank3',\t'Cst3',\t'Pbx1',\t'Lifr',\t'Meis2',\t'Perp',\t'Oasl2',\t'Anxa2',\t'S100a10',\t'Boc',\t'Atp1a1',\t'Ccl11',\t'Phlda3',\t'Ly6e',\t'Nedd4',\t'Myl6',\t'Trp63',\t'Anxa1',\t'Tpt1',\t'Hif1a',\t'Gpx3']\n",
    "mTECprol_sign = ['Tpm2',\t'Krt17',\t'Ascl1',\t'Tmsb10',\t'Ptma',\t'Rgs5',\t'Adm',\t'H2afy2',\t'Hes6',\t'Krt7',\t'Cdk4',\t'Pfn1',\t'Sox4',\t'Skint10',\t'Tubb6',\t'Cfl1',\t'Mapk13',\t'Tubb2b',\t'Wfdc18',\t'Ccnd2',\t'Stmn1',\t'Mdk',\t'Ccl19',\t'Cd82',\t'Gm49708',\t'H3f3b',\t'Lgals1',\t'Prxl2b',\t'Ybx1',\t'Actg1',\t'Eef1g',\t'Nme2',\t'Gm15943',\t'Il11ra1',\t'Colq',\t'Cald1',\t'Krt5',\t'Hnrnpa1',\t'Eif4a1',\t'Ppia',\t'Ccl21a',\t'Tubb5',\t'Hsp90ab1',\t'Angptl2',\t'Kcnq3',\t'Lpo',\t'Set',\t'Hspa8',\t'Hmgn1',\t'Npm1']\n",
    "mTEC2_sign = ['Srgn',\t'Cyba',\t'Ubd',\t'Cd74',\t'S100a14',\t'Syt1',\t'Cd52',\t'Aire',\t'H2-Aa',\t'H2-Oa',\t'Lrrc42',\t'Mrpl38',\t'H2-Eb1',\t'Hagh',\t'Nfkbia',\t'Dpp10',\t'Cdx1',\t'Psme2',\t'Hdc',\t'Calcb',\t'H2-DMb2',\t'H2-Eb2',\t'Fam89a',\t'Gm47938',\t'Hspb11',\t'Fscn1',\t'Csn2',\t'Bspry',\t'Ndufc2',\t'Fezf2',\t'Fabp5',\t'Ankrd33b',\t'Ing1',\t'Gm48239',\t'Utf1',\t'Il4i1',\t'Txn1',\t'Ctss',\t'Nup85',\t'Cib1',\t'Laptm5',\t'Tm4sf5',\t'Syngr2',\t'Dock10',\t'Dio1',\t'Nsmce2',\t'Snx29',\t'S100g',\t'Cd40',\t'Ptprq']\n",
    "mTEC3_sign = ['Ly6d',\t'Dapl1',\t'Dmkn',\t'Spink5',\t'Skint3',\t'Fxyd3',\t'Sfn',\t'Tacstd2',\t'Hspb1',\t'Cdkn1a',\t'Oit1',\t'Pdzk1ip1',\t'Prdx5',\t'Cdkn2a',\t'Perp',\t'Cdkn2b',\t'Gsta4',\t'Atox1',\t'Lypd3',\t'Cst6',\t'Metrnl',\t'Sbsn',\t'Dstn',\t'Dsp',\t'Calml3',\t'Rab11a',\t'Krt17',\t'Krt23',\t'Bcl2a1b',\t'Serpinb2',\t'H2afj',\t'Jup',\t'Avpi1',\t'4833423E24Rik',\t'Ide',\t'Cebpb',\t'Gsta2',\t'Sdc1',\t'Clic3',\t'Tmem54',\t'2200002D01Rik',\t'Dgat2',\t'Tmem45a',\t'Cldn4',\t'Rptn',\t'Gltp',\t'Nupr1',\t'Arf6',\t'Tspan8',\t'Ier5']\n",
    "tuft_sign = ['Mctp1',\t'Gng13',\t'Avil',\t'Rgs13',\t'Espn',\t'Lrmp',\t'Anxa4',\t'Ltc4s',\t'Ptpn18',\t'Bmx',\t'Cystm1',\t'Ivns1abp',\t'Fyb',\t'Ly6g6f',\t'Calm2',\t'Ethe1',\t'Reep5',\t'Lima1',\t'1810046K07Rik',\t'Abhd2',\t'Pik3r5',\t'Trpm5',\t'St18',\t'Crip1',\t'Dgki',\t'Pou2f3',\t'Vav1',\t'Scand1',\t'Chil1',\t'Alox5ap',\t'Ptpn6',\t'Plac8',\t'Alox5',\t'Ostf1',\t'Oxr1',\t'Plk2',\t'Ociad2',\t'Sh2d6',\t'Ahnak2',\t'Stk38',\t'Tmem245',\t'Atp1a2',\t'Aldh2',\t'Cd47',\t'Fxyd6',\t'Inpp5d',\t'Dclk1',\t'Gpcpd1',\t'Sh2d7',\t'Strip2']\n",
    "nTEC_sign = ['Ptprn2',\t'Cacna2d1',\t'Car8',\t'Scg5',\t'Stxbp5l',\t'Snap25',\t'Chga',\t'Cd9',\t'Dnajc12',\t'Ccser1',\t'Camk2n1',\t'Syt7',\t'Pam',\t'Cacna1a',\t'Syt1',\t'Cacnb2',\t'Cystm1',\t'Tshz2',\t'Fam183b',\t'Cplx2',\t'Ceacam10',\t'Btg2',\t'Rims2',\t'Resp18',\t'Fhl2',\t'A230057D06Rik',\t'Tmem163',\t'Rap1gap2',\t'Kcnb2',\t'Nfasc',\t'Pip5k1b',\t'Alcam',\t'Chgb',\t'Ica1',\t'Pcbd1',\t'Krt7',\t'Insm1',\t'Smim22',\t'Jund',\t'5330417C22Rik',\t'Atf3',\t'AC149090.1',\t'Bex2',\t'Prkn',\t'Cpn1',\t'Tox3',\t'Nol4',\t'A330076H08Rik',\t'Aopep',\t'Stard10']\n",
    "goblet_sign = ['Wfdc2',\t'Cyp2f2',\t'Cxcl17',\t'Gsto1',\t'Nupr1',\t'S100a11',\t'Anxa3',\t'Sorbs2',\t'H2-K1',\t'Serpinb11',\t'Krt19',\t'Slc12a2',\t'Fxyd3',\t'Ly6d',\t'Aqp5',\t'Alcam',\t'Bsg',\t'Bace2',\t'Ly6e',\t'F3',\t'Ly6a',\t'Mecom',\t'AW112010',\t'Pglyrp1',\t'Atp1b1',\t'Cp',\t'Anxa1',\t'Tspan8',\t'Irf7',\t'Lgals3bp',\t'Tceal9',\t'Nfib',\t'Gsta4',\t'Cd14',\t'Mllt3',\t'Slc16a11',\t'Upk1b',\t'Lrrc26',\t'Foxa1',\t'Ece1',\t'Timp2',\t'Ifi27l2a',\t'Ces1d',\t'Epas1',\t'Cbr2',\t'Lmo7',\t'Spink5',\t'Hspb1',\t'Smim22',\t'Kcnj16']\n",
    "Mlike_sign = ['Ccl20',\t'Ccl9',\t'Serpinb6a',\t'Serpinb1a',\t'Tmsb4x',\t'2200002D01Rik',\t'Nostrin',\t'Ctsh',\t'Ccl6',\t'AW112010',\t'Spib',\t'Bcl2a1d',\t'Csn2',\t'Cyp2a5',\t'Fabp1',\t'Hamp',\t'Pold1',\t'Bcl2a1b',\t'Atox1',\t'Iscu',\t'Pglyrp1',\t'Bcl2a1a',\t'Clu',\t'Krt20',\t'Atp6v1c1',\t'H2-M2',\t'Gjb2',\t'Crip1',\t'Fabp5',\t'Ubd',\t'Vamp5',\t'Marcksl1',\t'Plb1',\t'Arpc1b',\t'4930520O04Rik',\t'Tnfrsf11b',\t'Sephs2',\t'Dsg1a',\t'Spint2',\t'Ftl1',\t'AA467197',\t'Sept1',\t'Aif1',\t'Gadd45a',\t'Tnfaip2',\t'Vamp8',\t'Fabp4',\t'Hspe1',\t'Rac2',\t'Ahcyl2']"
   ]
  },
  {
   "cell_type": "code",
   "execution_count": null,
   "id": "1b3ebcdf",
   "metadata": {},
   "outputs": [],
   "source": [
    "x=9\n",
    "sc.tl.score_genes(TEC_d147, gene_list = aaTEC1_sign[0:x],  score_name='aaTEC1_sign', use_raw=False)\n",
    "sc.tl.score_genes(TEC_d147, gene_list = aaTEC2_sign[0:x],  score_name='aaTEC2_sign', use_raw=False)\n",
    "sc.tl.score_genes(TEC_d147, gene_list = cTEC_sign[0:x],  score_name='cTEC_sign', use_raw=False)\n",
    "sc.tl.score_genes(TEC_d147, gene_list = mTEC1_sign[0:x],  score_name='mTEC1_sign', use_raw=False)\n",
    "sc.tl.score_genes(TEC_d147, gene_list = mTECprol_sign[0:x],  score_name='mTECprol_sign', use_raw=False)\n",
    "sc.tl.score_genes(TEC_d147, gene_list = mTEC2_sign[0:x],  score_name='mTEC2_sign', use_raw=False)\n",
    "sc.tl.score_genes(TEC_d147, gene_list = mTEC3_sign[0:x],  score_name='mTEC3_sign', use_raw=False)\n",
    "sc.tl.score_genes(TEC_d147, gene_list = tuft_sign[0:x],  score_name='tuft_sign', use_raw=False)\n",
    "sc.tl.score_genes(TEC_d147, gene_list = nTEC_sign[0:x],  score_name='nTEC_sign', use_raw=False)\n",
    "sc.tl.score_genes(TEC_d147, gene_list = goblet_sign[0:x],  score_name='goblet_sign', use_raw=False)\n",
    "sc.tl.score_genes(TEC_d147, gene_list = Mlike_sign[0:x],  score_name='Mlike_sign', use_raw=False)"
   ]
  },
  {
   "cell_type": "code",
   "execution_count": null,
   "id": "177ea927",
   "metadata": {},
   "outputs": [],
   "source": [
    "sc.set_figure_params(dpi=80, dpi_save=300, color_map='viridis', vector_friendly=True, transparent=True)\n",
    "\n",
    "sc.pl.umap(\n",
    "    TEC_d147,\n",
    "    color=['aaTEC1_sign', 'aaTEC2_sign', 'cTEC_sign', 'mTEC1_sign', 'mTECprol_sign', 'mTEC2_sign', \n",
    "          'mTEC3_sign', 'tuft_sign', 'nTEC_sign', 'goblet_sign','Mlike_sign'],\n",
    "    palette=user_defined_palette,  \n",
    "    color_map='Spectral_r', \n",
    "    use_raw=False,\n",
    "    ncols=5,\n",
    "    wspace = 0.1,\n",
    "    outline_width=[0.6, 0.05],\n",
    "    size=15,\n",
    "    frameon=False,\n",
    "    add_outline=True,\n",
    "    sort_order = False,\n",
    "    vmin=0,\n",
    "    save='_signTEC_d147_S5.pdf'\n",
    ")"
   ]
  },
  {
   "cell_type": "markdown",
   "id": "d47dc1bd",
   "metadata": {},
   "source": [
    "### TEC clustering and annotation"
   ]
  },
  {
   "cell_type": "code",
   "execution_count": null,
   "id": "cc61a72e",
   "metadata": {},
   "outputs": [],
   "source": [
    "for resolution_parameter in [0.1, 0.2, 0.3, 0.4, 0.5, 0.6, 0.7, 0.8, 0.9, 1.0, 1.1, 1.2, 1.3, 1.4, 1.5,1.6,1.7, 1.8, 1.9, 2.0]:\n",
    "    sc.tl.leiden(TEC_d147, resolution=resolution_parameter, random_state=42, \n",
    "                        key_added='leiden_'+str(resolution_parameter))"
   ]
  },
  {
   "cell_type": "code",
   "execution_count": null,
   "id": "8087a2e2",
   "metadata": {},
   "outputs": [],
   "source": [
    "sc.set_figure_params(dpi=80, dpi_save=300, color_map='viridis', vector_friendly=False, transparent=True)\n",
    "sc.pl.umap(\n",
    "    TEC_d147, \n",
    "    color=['leiden_0.1', 'leiden_0.2', 'leiden_0.3', 'leiden_0.4', 'leiden_0.5', \n",
    "           'leiden_0.6', 'leiden_0.7', 'leiden_0.8','leiden_0.9', 'leiden_1.0',\n",
    "          'leiden_1.1', 'leiden_1.2', 'leiden_1.3','leiden_1.4', 'leiden_1.5'], \n",
    "    palette=user_defined_palette,  \n",
    "    color_map='Spectral_r', \n",
    "    use_raw=False,\n",
    "    ncols=5,\n",
    "    wspace = 0.7,\n",
    "    outline_width=[0.6, 0.05],\n",
    "    frameon=False,\n",
    "    add_outline=True,\n",
    "    sort_order = False\n",
    ")"
   ]
  },
  {
   "cell_type": "code",
   "execution_count": null,
   "id": "8f18b921",
   "metadata": {},
   "outputs": [],
   "source": [
    "TEC_d147.obs['cell_type_subset'] = ['11:aaTEC2' if (x=='16') else '10:aaTEC1' if (x=='7' or x=='18') else\n",
    "                                    '12:cTEC' if (x=='2' or x=='5' or x=='9' or x=='20') else '13:mTEC1' if (x=='0' or x=='1' or x=='3'  or x=='13') else \n",
    "                                    '14:mTEC-prol' if x=='10' else '15:mTEC2' if (x=='6' or x=='8' or x=='14') else\n",
    "                                    '16:mTEC3' if (x=='15') else '17:mimic(tuft)' if (x=='4' or x=='11' or x=='21') else '18:mimic(neuroendo)' if x=='17' else\n",
    "                                    '19:mimic(goblet)' if x=='12' else '20:mimic(microfold)' if x=='19' else 'ERROR' for x in TEC_d147.obs['leiden_1.3']] "
   ]
  },
  {
   "cell_type": "code",
   "execution_count": null,
   "id": "7f782193",
   "metadata": {},
   "outputs": [],
   "source": [
    "TEC_d147.uns['cell_type_subset_colors'] = [ '#2ED9FF', '#c1c119', '#8b0000', '#FE00FA', \"#F8A19F\", '#1CBE4F','#B5EFB5',  '#AA0DFE','#FEAF16', '#325A9B', '#C075A6', 'black']"
   ]
  },
  {
   "cell_type": "code",
   "execution_count": null,
   "id": "91c50526",
   "metadata": {},
   "outputs": [],
   "source": [
    "sc.set_figure_params(dpi=80, dpi_save=300, color_map='viridis', vector_friendly=True, transparent=True)\n",
    "\n",
    "sc.pl.umap(\n",
    "    TEC_d147, \n",
    "    color=['day', 'stage', 'leiden_1.3', 'cell_type_subset'], \n",
    "    ncols=6,   \n",
    "    outline_width=[0.6, 0.05],\n",
    "    size=15,\n",
    "    frameon=False,\n",
    "    cmap='Spectral_r',\n",
    "    wspace = 0.3,\n",
    "    add_outline=True,\n",
    "    save='_subsetTEC_d147_S5.pdf'\n",
    "\n",
    ")"
   ]
  },
  {
   "cell_type": "markdown",
   "id": "021d4d8f",
   "metadata": {},
   "source": [
    "## Transfer annotation"
   ]
  },
  {
   "cell_type": "code",
   "execution_count": null,
   "id": "6fdca177",
   "metadata": {},
   "outputs": [],
   "source": [
    "annotated_subsets = pd.concat([EC_d147.obs['cell_type_subset'], FB_d147.obs['cell_type_subset'],  TEC_d147.obs['cell_type_subset'], adata_d147[(adata_d147.obs['cell_type']=='6:MEC') | (adata_d147.obs['cell_type']=='7:vSMC/PC') | (adata_d147.obs['cell_type']=='8:nmSC')].obs['cell_type']])"
   ]
  },
  {
   "cell_type": "code",
   "execution_count": null,
   "id": "33bede38",
   "metadata": {},
   "outputs": [],
   "source": [
    "adata_d147.obs['cell_type_subset']=''"
   ]
  },
  {
   "cell_type": "code",
   "execution_count": null,
   "id": "2e6078eb",
   "metadata": {},
   "outputs": [],
   "source": [
    "adata_d147.obs['cell_type_subset'][adata_d147.obs.index.isin(annotated_subsets.index) == True] = annotated_subsets"
   ]
  },
  {
   "cell_type": "code",
   "execution_count": null,
   "id": "9a463354",
   "metadata": {},
   "outputs": [],
   "source": [
    "adata_d147.uns['cell_type_subset_colors'] = ['#F6222E', '#3283FE', '#16FF32', '#BDCDFF', '#3B00FB', '#1CFFCE', '#d62728', '#19c9b3','#FFA5D2',   'grey', '#2ED9FF', '#c1c119', '#8b0000', '#FE00FA', \"#F8A19F\", '#1CBE4F','#B5EFB5',  '#AA0DFE','#FEAF16', '#325A9B', '#C075A6', 'black']"
   ]
  },
  {
   "cell_type": "code",
   "execution_count": null,
   "id": "1554f50c",
   "metadata": {},
   "outputs": [],
   "source": [
    "sc.pl.umap(adata_d147, color=['stage', 'day', 'cell_type', 'cell_type_subset'], \n",
    "                     color_map='Spectral_r',\n",
    "                     use_raw=False, \n",
    "                     ncols=4, \n",
    "                     wspace = 0.3,\n",
    "                     outline_width=[0.6, 0.05], \n",
    "                     size=15,  \n",
    "                     frameon=False, \n",
    "                     add_outline=True, \n",
    "                     sort_order = False,\n",
    "                     save='_subsets_d0_S5.pdf'\n",
    "\n",
    "                     )"
   ]
  },
  {
   "cell_type": "code",
   "execution_count": null,
   "id": "c9c8bae0",
   "metadata": {},
   "outputs": [],
   "source": [
    "path_to_h5ad = '../output/metadata/anndata_objects/figS5_annotated.h5ad'"
   ]
  },
  {
   "cell_type": "code",
   "execution_count": null,
   "id": "47183944",
   "metadata": {},
   "outputs": [],
   "source": [
    "adata_d147.write(path_to_h5ad)"
   ]
  },
  {
   "cell_type": "code",
   "execution_count": null,
   "id": "ba361ad0",
   "metadata": {},
   "outputs": [],
   "source": [
    "adata_d147 = sc.read_h5ad(path_to_h5ad)\n",
    "adata_d147.uns['log1p'][\"base\"] = None"
   ]
  },
  {
   "cell_type": "markdown",
   "id": "fcd3ba2d",
   "metadata": {},
   "source": [
    "### Violin plots for EC, FB, TEC with scanpy v1.4.6"
   ]
  },
  {
   "cell_type": "code",
   "execution_count": null,
   "id": "3d4b4037",
   "metadata": {},
   "outputs": [],
   "source": [
    "import scanpy as sc\n",
    "import pandas as pd\n",
    "pd.set_option('display.max_rows', 200)\n",
    "\n",
    "sc.set_figure_params(dpi=80, dpi_save=300, color_map='Spectral_r', vector_friendly=True, transparent=True)\n",
    "sc.settings.verbosity = 3 # verbosity: errors (0), warnings (1), info (2), hints (3)\n",
    "sc.logging.print_versions()"
   ]
  },
  {
   "cell_type": "code",
   "execution_count": null,
   "id": "77e87ab3",
   "metadata": {},
   "outputs": [],
   "source": [
    "markers = ['Pdgfra',  'Epcam', 'H2-Aa',  'Pecam1', 'Cdh5',  'Nkain4', 'Upk3b', 'Acta2', 'Myl9', 'S100b']"
   ]
  },
  {
   "cell_type": "code",
   "execution_count": null,
   "id": "e665dbab",
   "metadata": {},
   "outputs": [],
   "source": [
    "axes = sc.pl.stacked_violin(adata_d147, markers, groupby='cell_type', palette=['#199919', '#aa40fc', '#ff7f0e',\n",
    "                                                                               '#d62728', '#19c9b3', '#FFA5D2'], standard_scale='var', cut=3, use_raw=False, figsize=(3,5), order = ['FB', 'TEC', 'EC', '6:MEC', '7:vSMC/PC', '8:nmSC'], swap_axes=True, save='_d147.pdf')"
   ]
  },
  {
   "cell_type": "code",
   "execution_count": null,
   "id": "8c3b3463",
   "metadata": {},
   "outputs": [],
   "source": [
    "EC_markers = ['Pecam1', 'Vwf', 'Vcam1', 'Glul', 'Cldn5', 'Aqp7', 'Car4', 'Kdr', 'Plvap',  'Selp', 'Bmp4']"
   ]
  },
  {
   "cell_type": "code",
   "execution_count": null,
   "id": "7ea637fd",
   "metadata": {},
   "outputs": [],
   "source": [
    "EC_d147 = adata_d147[adata_d147.obs['cell_type']=='EC']"
   ]
  },
  {
   "cell_type": "code",
   "execution_count": null,
   "id": "2d73e0ff",
   "metadata": {},
   "outputs": [],
   "source": [
    "axes = sc.pl.stacked_violin(adata_d147[adata_d147.obs['cell_type']=='EC'], EC_markers, groupby='cell_type_subset', palette=adata_d147[adata_d147.obs['cell_type']=='EC'].uns['cell_type_subset_colors'], standard_scale='var', cut=3, use_raw=False, figsize=(1.75,6), swap_axes=True, save='_d147_EC.pdf')"
   ]
  },
  {
   "cell_type": "code",
   "execution_count": null,
   "id": "d91c357c",
   "metadata": {},
   "outputs": [],
   "source": [
    "FB_markers = ['Pdgfra', 'Dpp4', 'Fn1',  'Pi16', 'Gpx3', 'Ar', 'Penk', 'Inmt', 'Bmp4', 'Ptn' , 'Postn']"
   ]
  },
  {
   "cell_type": "code",
   "execution_count": null,
   "id": "3cc074b6",
   "metadata": {},
   "outputs": [],
   "source": [
    "axes = sc.pl.stacked_violin(adata_d147[(adata_d147.obs['cell_type']=='FB') & (adata_d147.obs['cell_type_subset']!='9:Fat')], FB_markers, groupby='cell_type_subset', palette=adata_d147[(adata_d147.obs['cell_type']=='FB') & (adata_d147.obs['cell_type_subset']!='9:Fat')].uns['cell_type_subset_colors'], standard_scale='var', cut=3, use_raw=False, figsize=(1.75,6), swap_axes=True, save='_d147_FB.pdf')"
   ]
  },
  {
   "cell_type": "code",
   "execution_count": null,
   "id": "75ee23a0",
   "metadata": {},
   "outputs": [],
   "source": [
    "TEC_markers =['Epcam', 'H2-Aa',  'Prss16', 'Ccl21a', 'Ccnd2', 'Aire', 'Ly6d',  'Wfdc2', 'Ccl20', 'Car8',  'Avil']"
   ]
  },
  {
   "cell_type": "code",
   "execution_count": null,
   "id": "09e709ab",
   "metadata": {},
   "outputs": [],
   "source": [
    "subset_order = ['12:cTEC','13:mTEC1', '14:mTEC-prol',   '15:mTEC2', '16:mTEC3', '19:mimic(goblet)', '20:mimic(microfold)', '18:mimic(neuroendo)', '17:mimic(tuft)',  '10:aaTEC1', '11:aaTEC2']"
   ]
  },
  {
   "cell_type": "code",
   "execution_count": null,
   "id": "b27255b6",
   "metadata": {},
   "outputs": [],
   "source": [
    "axes = sc.pl.stacked_violin(adata_d147[adata_d147.obs['cell_type']=='TEC'], TEC_markers, groupby='cell_type_subset', palette=[ '#8b0000', '#fe00fa', '#f8a19f', '#1cbe4f',\n",
    "       '#b5efb5','#325a9b','#c075a6', '#feaf16',  '#aa0dfe',  '#2ed9ff', '#c1c119'], standard_scale='var', cut=3, order=subset_order, use_raw=False, figsize=(6.4,6), swap_axes=True, save='_d147_TEC.pdf')"
   ]
  }
 ],
 "metadata": {
  "kernelspec": {
   "display_name": "Python 3 (ipykernel)",
   "language": "python",
   "name": "python3"
  },
  "language_info": {
   "codemirror_mode": {
    "name": "ipython",
    "version": 3
   },
   "file_extension": ".py",
   "mimetype": "text/x-python",
   "name": "python",
   "nbconvert_exporter": "python",
   "pygments_lexer": "ipython3",
   "version": "3.8.13"
  }
 },
 "nbformat": 4,
 "nbformat_minor": 5
}
