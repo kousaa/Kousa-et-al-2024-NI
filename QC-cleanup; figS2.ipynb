{
 "cells": [
  {
   "cell_type": "markdown",
   "id": "125d0e5b",
   "metadata": {},
   "source": [
    "## Notebook setup"
   ]
  },
  {
   "cell_type": "code",
   "execution_count": null,
   "id": "4d8f9038",
   "metadata": {},
   "outputs": [],
   "source": [
    "import scanpy as sc\n",
    "import scanpy.external as sce\n",
    "import numpy as np\n",
    "import pandas as pd\n",
    "import warnings, scipy.sparse as sp, matplotlib, matplotlib.pyplot as plt\n",
    "from matplotlib.colors import LinearSegmentedColormap\n",
    "from matplotlib.pyplot import rc_context\n",
    "from collections import Counter\n",
    "import matplotlib.font_manager\n",
    "import pyreadr\n",
    "import rpy2\n",
    "from rpy2.robjects.packages import importr\n",
    "import rpy2.robjects as robjects\n",
    "import magic\n",
    "#import seaborn as sns\n",
    "import palantir\n",
    "import loompy\n",
    "#from scipy.sparse import csgraph\n",
    "\n",
    "matplotlib.rcParams['pdf.fonttype'] = 42\n",
    "matplotlib.rcParams['ps.fonttype'] = 42\n",
    "matplotlib.rcParams['font.family'] = 'sans-serif'\n",
    "matplotlib.rcParams['font.sans-serif'] = 'Arial'\n",
    "matplotlib.rc('font', size=14)\n",
    "\n",
    "pd.set_option('display.max_rows', 200)\n",
    "\n",
    "sc.set_figure_params(dpi=80, dpi_save=300, color_map='Spectral_r', vector_friendly=True, transparent=True)\n",
    "sc.settings.verbosity = 0 # verbosity: errors (0), warnings (1), info (2), hints (3)\n",
    "sc.logging.print_header()"
   ]
  },
  {
   "cell_type": "code",
   "execution_count": null,
   "id": "d513a16b",
   "metadata": {},
   "outputs": [],
   "source": [
    "# preset color palettes and color maps\n",
    "user_defined_palette =  [ '#F6222E', '#16FF32', '#3283FE', '#FEAF16', '#BDCDFF', '#3B00FB', '#1CFFCE', '#C075A6', '#F8A19F', '#B5EFB5', '#FBE426', '#C4451C', \n",
    "                          '#2ED9FF', '#c1c119', '#8b0000', '#FE00FA', '#1CBE4F', '#1C8356', '#0e452b', '#AA0DFE', '#B5EFB5', '#325A9B', '#90AD1C']\n",
    "\n",
    "user_defined_cmap_markers = LinearSegmentedColormap.from_list('mycmap', [\"#E6E6FF\", \"#CCCCFF\", \"#B2B2FF\", \"#9999FF\",  \"#6666FF\",   \"#3333FF\", \"#0000FF\"])\n",
    "user_defined_cmap_degs = LinearSegmentedColormap.from_list('mycmap', [\"#0000FF\", \"#3333FF\", \"#6666FF\", \"#9999FF\", \"#B2B2FF\", \"#CCCCFF\", \"#E6E6FF\", \"#E6FFE6\", \"#CCFFCC\", \"#B2FFB2\", \"#99FF99\", \"#66FF66\", \"#33FF33\", \"#00FF00\"])"
   ]
  },
  {
   "cell_type": "code",
   "execution_count": null,
   "id": "185bb91c",
   "metadata": {},
   "outputs": [],
   "source": [
    "%matplotlib inline "
   ]
  },
  {
   "cell_type": "markdown",
   "id": "c341386d",
   "metadata": {},
   "source": [
    "## Perform quality control and clean-up samples"
   ]
  },
  {
   "cell_type": "markdown",
   "id": "85381fcd",
   "metadata": {},
   "source": [
    "### Load cellranger output files"
   ]
  },
  {
   "cell_type": "code",
   "execution_count": null,
   "id": "c2aff027",
   "metadata": {},
   "outputs": [],
   "source": [
    "from pathlib import Path\n",
    "\n",
    "adatas_list=[]\n",
    "names_list=[]\n",
    "\n",
    "tenexdir = '../data/internal/10xGenomics/Chromium/'\n",
    "h5_path = Path(tenexdir).glob('**/**/**/**/filtered_feature_bc_matrix.h5')\n",
    "\n",
    "for path in h5_path:\n",
    "    tmp_adata = sc.read_10x_h5(path)\n",
    "    tmp_adata.var_names_make_unique()\n",
    "    tmp_adata.shape # check the number of cells and genes in sample 1\n",
    "    adatas_list.append(tmp_adata)"
   ]
  },
  {
   "cell_type": "code",
   "execution_count": null,
   "id": "45cfe922",
   "metadata": {},
   "outputs": [],
   "source": [
    "adata = sc.concat(\n",
    "    adatas_list, # add more annadata objects here separated by commas\n",
    "    join='outer', \n",
    "    label = 'sample', \n",
    "    keys = ['mo02_CD45neg1_d4', 'mo02_CD45neg1_d0', 'mo02_CD45neg2_d7', 'mo02_FB_d1',\n",
    "            'mo02_CD45neg2_d1', 'mo02_EC_d7', 'mo02_EC_d4', 'mo02_FB_d7', \n",
    "            'mo02_EC_d1', 'mo02_EC_d0', 'mo02_FB_d4', 'mo02_CD45neg2_d4',  \n",
    "            'mo02_CD45neg2_d0', 'mo02_CD45neg1_d7', 'mo02_CD45neg1_d1','mo02_FB_d0',\n",
    "            'mo18_EC_d1', 'mo18_FB_d1', 'mo18_CD45neg_d4', 'mo18_CD45neg1_d0',\n",
    "            'mo18_EC_d4', 'mo18_FB_d4', 'mo18_CD45neg2_d0', 'mo18_CD45neg_d7',\n",
    "            'mo18_CD45neg_d1', 'mo18_EC_d7', 'mo18_EC_d0', 'mo18_FB_d7', 'mo18_FB_d0' \n",
    "           ], # or use your sample_names list (as used above) here. \n",
    "    # Make sure the order of the batch categories matches that of the AnnData objects \n",
    "    index_unique = '@'\n",
    ")"
   ]
  },
  {
   "cell_type": "code",
   "execution_count": null,
   "id": "ea943308",
   "metadata": {},
   "outputs": [],
   "source": [
    "adata.raw = adata # keep a copy of the raw adata \n",
    "np.random.seed(42) \n",
    "index_list = np.arange(adata.shape[0]) # randomize the order of cells for plotting\n",
    "np.random.shuffle(index_list)\n",
    "adata = adata[index_list]"
   ]
  },
  {
   "cell_type": "code",
   "execution_count": null,
   "id": "d32d4208",
   "metadata": {},
   "outputs": [],
   "source": [
    "adata.shape"
   ]
  },
  {
   "cell_type": "code",
   "execution_count": null,
   "id": "818cf95e",
   "metadata": {},
   "outputs": [],
   "source": [
    "# metadata\n",
    "adata.obs['stage'] = ['02mo' if 'mo02' in x else '18mo' if 'mo18' in x else 'error' for x in adata.obs['sample'] ]\n",
    "adata.obs['day'] = ['d0' if 'd0' in x else 'd1' if 'd1' in x else 'd4' if 'd4' in x else 'd7' if 'd7' in x else 'error' for x in adata.obs['sample'] ]"
   ]
  },
  {
   "cell_type": "code",
   "execution_count": null,
   "id": "ac774bfc",
   "metadata": {},
   "outputs": [],
   "source": [
    "adata.uns['stage_colors'] =  [ '#76D6FF','#FF8072'] # ['#F5B4AE', '#8FD6D9']\n",
    "adata.uns['day_colors'] = ['#0080FF', '#FFA500',  '#FF00FF', '#00D6D8']"
   ]
  },
  {
   "cell_type": "markdown",
   "id": "eeaae853",
   "metadata": {},
   "source": [
    "### Calculate quality control metrics and perform standard data clean-up"
   ]
  },
  {
   "cell_type": "code",
   "execution_count": null,
   "id": "f0b35eb1",
   "metadata": {},
   "outputs": [],
   "source": [
    "sc.pp.calculate_qc_metrics(adata, inplace=True)\n",
    "#store all unfiltered/unprocessed data prior to downstream analysis\n",
    "adata.obs['original_total_counts'] = adata.obs['total_counts']\n",
    "adata.obs['log10_original_total_counts'] = np.log10(adata.obs['original_total_counts'])"
   ]
  },
  {
   "cell_type": "code",
   "execution_count": null,
   "id": "e542ddbb",
   "metadata": {},
   "outputs": [],
   "source": [
    "# mitochondrial genes\n",
    "adata.var['mt'] = adata.var_names.str.startswith(('MT-', 'mt-')) \n",
    "# ribosomal genes\n",
    "adata.var['ribo'] = adata.var_names.str.startswith(('RPS','RPL', 'Rps', 'Rpl'))\n",
    "# hemoglobin genes.\n",
    "adata.var['hb'] = adata.var_names.str.startswith(('^Hb', '^HB'))\n",
    "\n",
    "# for each cell compute fraction of counts in mitochondrial genes and ribosomal genes vs. all genes \n",
    "adata.obs['mito_frac'] = np.sum(adata[:,adata.var['mt']==True].X, axis=1) / np.sum(adata.X, axis=1)\n",
    "adata.obs['ribo_frac'] = np.sum(adata[:,adata.var['ribo']==True].X, axis=1) / np.sum(adata.X, axis=1)\n",
    "adata.obs['hb_frac'] = np.sum(adata[:,adata.var['hb']==True].X, axis=1) / np.sum(adata.X, axis=1)"
   ]
  },
  {
   "cell_type": "markdown",
   "id": "3f57b092",
   "metadata": {},
   "source": [
    "#### Identify doublet cells"
   ]
  },
  {
   "cell_type": "code",
   "execution_count": null,
   "id": "909a11eb",
   "metadata": {},
   "outputs": [],
   "source": [
    "sc.external.pp.scrublet(adata, threshold=0.25, random_state=42) # choose threshold manually"
   ]
  },
  {
   "cell_type": "code",
   "execution_count": null,
   "id": "fefd96db",
   "metadata": {},
   "outputs": [],
   "source": [
    "# check manual threshold\n",
    "sc.external.pl.scrublet_score_distribution(adata)"
   ]
  },
  {
   "cell_type": "markdown",
   "id": "4217cc76",
   "metadata": {},
   "source": [
    "#### Remove not expressed genes"
   ]
  },
  {
   "cell_type": "code",
   "execution_count": null,
   "id": "7eac9207",
   "metadata": {},
   "outputs": [],
   "source": [
    "# remove genes that are not expressed in any cells (remove columns with all 0s)\n",
    "sc.pp.filter_genes(adata, min_cells=1)"
   ]
  },
  {
   "cell_type": "markdown",
   "id": "8091d0be",
   "metadata": {},
   "source": [
    "#### Remove ribosomal protein genes"
   ]
  },
  {
   "cell_type": "code",
   "execution_count": null,
   "id": "8b843fad",
   "metadata": {},
   "outputs": [],
   "source": [
    "adata = adata[:,adata.var['ribo']==False]\n",
    "adata.shape\n",
    "adata = adata[:,adata.var['hb']==False]\n",
    "adata.shape"
   ]
  },
  {
   "cell_type": "markdown",
   "id": "2c9a0f4e",
   "metadata": {},
   "source": [
    "#### Normalize for each cell's library size"
   ]
  },
  {
   "cell_type": "code",
   "execution_count": null,
   "id": "62323d80",
   "metadata": {},
   "outputs": [],
   "source": [
    "sc.pp.normalize_per_cell(adata, counts_per_cell_after=10**4)"
   ]
  },
  {
   "cell_type": "markdown",
   "id": "2ab99855",
   "metadata": {},
   "source": [
    "#### Log-transform counts"
   ]
  },
  {
   "cell_type": "code",
   "execution_count": null,
   "id": "74c77bf6",
   "metadata": {},
   "outputs": [],
   "source": [
    "sc.pp.log1p(adata)"
   ]
  },
  {
   "cell_type": "markdown",
   "id": "8230eacf",
   "metadata": {},
   "source": [
    "### Select subset of principal components "
   ]
  },
  {
   "cell_type": "code",
   "execution_count": null,
   "id": "c7f28036",
   "metadata": {},
   "outputs": [],
   "source": [
    "rng = np.random.RandomState(42)\n",
    "sc.tl.pca(adata, n_comps=200, svd_solver='arpack', random_state=rng, use_highly_variable=False)"
   ]
  },
  {
   "cell_type": "code",
   "execution_count": null,
   "id": "c9dd0b75",
   "metadata": {},
   "outputs": [],
   "source": [
    "def observe_variance(anndata_object):\n",
    "    fig = plt.figure(figsize=(10,5))\n",
    "    ax1 = fig.add_subplot(121)\n",
    "    ax2 = fig.add_subplot(122)\n",
    "    # variance per principal component\n",
    "    x = range(len(anndata_object.uns['pca']['variance_ratio']))\n",
    "    y = anndata_object.uns['pca']['variance_ratio']\n",
    "    ax1.scatter(x,y,s=4)\n",
    "    ax1.set_xlabel('PC')\n",
    "    ax1.set_ylabel('Fraction of variance explained\\n')\n",
    "    ax1.set_title('Fraction of variance explained per PC\\n')\n",
    "    # cumulative variance explained\n",
    "    cml_var_explained = np.cumsum(anndata_object.uns['pca']['variance_ratio'])\n",
    "    x = range(len(anndata_object.uns['pca']['variance_ratio']))\n",
    "    y = cml_var_explained\n",
    "    ax2.scatter(x,y,s=4)\n",
    "    ax2.set_xlabel('PC')\n",
    "    ax2.set_ylabel('Cumulative fraction of variance\\nexplained')\n",
    "    ax2.set_title('Cumulative fraction of variance\\nexplained by PCs')\n",
    "    fig.tight_layout()\n",
    "    plot = plt.show\n",
    "    return(plot)\n",
    "observe_variance(adata)"
   ]
  },
  {
   "cell_type": "code",
   "execution_count": null,
   "id": "49207dfc",
   "metadata": {},
   "outputs": [],
   "source": [
    "rng = np.random.RandomState(42)\n",
    "sc.tl.pca(adata, n_comps=65,  svd_solver='arpack', random_state=rng, use_highly_variable=False)"
   ]
  },
  {
   "cell_type": "code",
   "execution_count": null,
   "id": "61a7264f",
   "metadata": {},
   "outputs": [],
   "source": [
    "sc.pp.neighbors(adata, n_neighbors=15, random_state=42)"
   ]
  },
  {
   "cell_type": "code",
   "execution_count": null,
   "id": "9a1bf701",
   "metadata": {},
   "outputs": [],
   "source": [
    "sc.tl.umap(adata)"
   ]
  },
  {
   "cell_type": "markdown",
   "id": "8c53e11e",
   "metadata": {},
   "source": [
    "#### Sample metadata"
   ]
  },
  {
   "cell_type": "code",
   "execution_count": null,
   "id": "491e6d60",
   "metadata": {},
   "outputs": [],
   "source": [
    "sc.set_figure_params(dpi=80, dpi_save=300, color_map='viridis', vector_friendly=True, transparent=True)\n",
    "sc.pl.umap(\n",
    "    adata, \n",
    "    color=['stage', 'day', 'sample'], \n",
    "    color_map='Spectral_r', \n",
    "    use_raw=False,\n",
    "    ncols=15,\n",
    "    wspace = 0.2,\n",
    "    outline_width=[0.6, 0.05],\n",
    "    size=15,\n",
    "    frameon=False,\n",
    "    add_outline=True,\n",
    "    sort_order = False,\n",
    "    save='_metadata_S1.pdf'\n",
    ")"
   ]
  },
  {
   "cell_type": "markdown",
   "id": "66d93006",
   "metadata": {},
   "source": [
    "#### QC metrics"
   ]
  },
  {
   "cell_type": "code",
   "execution_count": null,
   "id": "fd32c082",
   "metadata": {},
   "outputs": [],
   "source": [
    "sc.set_figure_params(dpi=80, dpi_save=300, color_map='viridis', vector_friendly=True, transparent=True)\n",
    "sc.pl.umap(\n",
    "    adata, \n",
    "    color=['log10_original_total_counts', 'n_genes_by_counts','ribo_frac', 'mito_frac'], \n",
    "    palette=user_defined_palette,  \n",
    "    color_map='Spectral_r',\n",
    "    use_raw=False,\n",
    "    ncols=5,\n",
    "    wspace = 0.2,\n",
    "    outline_width=[0.6, 0.05],\n",
    "    size=15,\n",
    "    frameon=False,\n",
    "    add_outline=True,\n",
    "    sort_order = False,\n",
    "    save='_QCmetrics_S1.pdf'\n",
    ")"
   ]
  },
  {
   "cell_type": "markdown",
   "id": "1b2202ed",
   "metadata": {},
   "source": [
    "#### Potential contaminant populations"
   ]
  },
  {
   "cell_type": "code",
   "execution_count": null,
   "id": "465c6186",
   "metadata": {},
   "outputs": [],
   "source": [
    "sc.set_figure_params(dpi=80, dpi_save=300, color_map='viridis', vector_friendly=True, transparent=True)\n",
    "sc.pl.umap(\n",
    "    adata, \n",
    "    color=[ 'doublet_score', 'Ptprc', 'Lck', 'Spi1', 'predicted_doublet', 'Igkc', 'Gcm2', 'Pth'], \n",
    "    palette=user_defined_palette,  \n",
    "    color_map='Spectral_r',\n",
    "    use_raw=False,\n",
    "    ncols=4,\n",
    "    wspace = 0.1,\n",
    "    outline_width=[0.6, 0.05],\n",
    "    size=15,\n",
    "    frameon=False,\n",
    "    add_outline=True,\n",
    "    sort_order = False,\n",
    "    save='_contaminants_S1.pdf'\n",
    ")"
   ]
  },
  {
   "cell_type": "code",
   "execution_count": null,
   "id": "65485003",
   "metadata": {},
   "outputs": [],
   "source": [
    "adata_total = adata"
   ]
  },
  {
   "cell_type": "markdown",
   "id": "538d97de",
   "metadata": {},
   "source": [
    "### Run unsupervised clustering analysis leiden"
   ]
  },
  {
   "cell_type": "code",
   "execution_count": null,
   "id": "22717eb3",
   "metadata": {},
   "outputs": [],
   "source": [
    "for resolution_parameter in [0.2, 0.4, 0.6, 0.8, 1.0, 1.2, 1.4, 1.6, 1.8, 2.0]:\n",
    "    sc.tl.leiden(adata, resolution=resolution_parameter, random_state=42, \n",
    "                        key_added='leiden_'+str(resolution_parameter))"
   ]
  },
  {
   "cell_type": "markdown",
   "id": "b866a8fc",
   "metadata": {},
   "source": [
    "We can visualize the clustering to see which clusters match with the cells that we would like to filter out. Inspect the list of QC metrics and canonical markers to make your choice."
   ]
  },
  {
   "cell_type": "code",
   "execution_count": null,
   "id": "b8b7c996",
   "metadata": {},
   "outputs": [],
   "source": [
    "sc.set_figure_params(dpi=80, dpi_save=300, color_map='viridis', vector_friendly=True, transparent=True)\n",
    "sc.pl.umap(\n",
    "    adata, \n",
    "    color=['leiden_0.2', 'leiden_0.4', 'leiden_0.6', 'leiden_0.8', 'leiden_1.0'], \n",
    "    palette=user_defined_palette,  \n",
    "    color_map='Spectral_r', \n",
    "    use_raw=False,\n",
    "    ncols=5,\n",
    "    wspace = 0.7,\n",
    "    outline_width=[0.6, 0.05],\n",
    "    size=15,\n",
    "    frameon=False,\n",
    "    add_outline=True,\n",
    "    sort_order = False\n",
    ")"
   ]
  },
  {
   "cell_type": "code",
   "execution_count": null,
   "id": "0bf8f036",
   "metadata": {},
   "outputs": [],
   "source": [
    "sc.set_figure_params(dpi=80, dpi_save=300, color_map='viridis', vector_friendly=True, transparent=True)\n",
    "sc.pl.umap(\n",
    "    adata, \n",
    "    color=['leiden_1.2',  'leiden_1.4', 'leiden_1.6', 'leiden_1.8', 'leiden_2.0'], \n",
    "    palette=user_defined_palette,  \n",
    "    color_map='Spectral_r', \n",
    "    use_raw=False,\n",
    "    ncols=5,\n",
    "    size=15,\n",
    "    wspace = 0.7,\n",
    "    outline_width=[0.6, 0.05],\n",
    "    frameon=False,\n",
    "    add_outline=True,\n",
    "    sort_order = False\n",
    ")"
   ]
  },
  {
   "cell_type": "code",
   "execution_count": null,
   "id": "209466de",
   "metadata": {},
   "outputs": [],
   "source": [
    "sc.set_figure_params(dpi=80, dpi_save=300, color_map='viridis', vector_friendly=True, transparent=True)\n",
    "sc.pl.umap(\n",
    "    adata, \n",
    "    color=['leiden_1.6'], \n",
    "    palette=user_defined_palette,  \n",
    "    color_map='Spectral_r', \n",
    "    use_raw=False,\n",
    "    ncols=5,\n",
    "    size=15,\n",
    "    wspace = 0.7,\n",
    "    outline_width=[0.6, 0.05],\n",
    "    frameon=False,\n",
    "    add_outline=True,\n",
    "    sort_order = False\n",
    ")"
   ]
  },
  {
   "cell_type": "markdown",
   "id": "c100adfc",
   "metadata": {},
   "source": [
    "### Filter out bad quality cells by cluster"
   ]
  },
  {
   "cell_type": "code",
   "execution_count": null,
   "id": "d2132c2c",
   "metadata": {},
   "outputs": [],
   "source": [
    "clusters_to_remove = ['11', '23', '27', '29', '34', '35', '38', '40', '41', '42', '43', '44']\n",
    "cluster_filter = [x not in clusters_to_remove for x in adata.obs['leiden_1.6']]\n",
    "print('Total number of cells pre-filtering: ' + str(adata.shape[0]))\n",
    "print('Number of cells to keep after filtering: ' + str(sum(cluster_filter)))\n",
    "adata_filtered = adata[cluster_filter]"
   ]
  },
  {
   "cell_type": "code",
   "execution_count": null,
   "id": "5cee8b87",
   "metadata": {},
   "outputs": [],
   "source": [
    "sc.set_figure_params(dpi=80, dpi_save=300, color_map='viridis', vector_friendly=True, transparent=True)\n",
    "sc.pl.umap(\n",
    "    adata_filtered, \n",
    "    color=['leiden_1.6'], \n",
    "    palette=user_defined_palette,  \n",
    "    color_map='Spectral_r', \n",
    "    use_raw=False,\n",
    "    ncols=5,\n",
    "    wspace = 0.5,\n",
    "    outline_width=[0.6, 0.05],\n",
    "    size=15,\n",
    "    frameon=False,\n",
    "    add_outline=True,\n",
    "    sort_order = False\n",
    ")"
   ]
  },
  {
   "cell_type": "code",
   "execution_count": null,
   "id": "4f3f5524",
   "metadata": {},
   "outputs": [],
   "source": [
    "adata = adata_filtered"
   ]
  },
  {
   "cell_type": "code",
   "execution_count": null,
   "id": "147dc88c",
   "metadata": {},
   "outputs": [],
   "source": [
    "adata.shape"
   ]
  },
  {
   "cell_type": "markdown",
   "id": "170fe0cb",
   "metadata": {},
   "source": [
    "### Filter out doublets and cell contaminants"
   ]
  },
  {
   "cell_type": "code",
   "execution_count": null,
   "id": "099b4fc7",
   "metadata": {},
   "outputs": [],
   "source": [
    "adata = adata[adata.obs['predicted_doublet'] == False]"
   ]
  },
  {
   "cell_type": "code",
   "execution_count": null,
   "id": "28474b8d",
   "metadata": {},
   "outputs": [],
   "source": [
    "sc.pl.umap(\n",
    "    adata, \n",
    "    color=['predicted_doublet', 'doublet_score'], \n",
    "    palette=user_defined_palette,  \n",
    "    color_map='Spectral_r', \n",
    "    use_raw=False,\n",
    "    ncols=5,\n",
    "    wspace = 0.1,\n",
    "    outline_width=[0.6, 0.05],\n",
    "    size=15,\n",
    "    frameon=False,\n",
    "    add_outline=True,\n",
    "    sort_order = False\n",
    ")"
   ]
  },
  {
   "cell_type": "code",
   "execution_count": null,
   "id": "3589295f",
   "metadata": {},
   "outputs": [],
   "source": [
    "adata.obs['keep_cell'] = '0.yes'"
   ]
  },
  {
   "cell_type": "code",
   "execution_count": null,
   "id": "30b75fdf",
   "metadata": {},
   "outputs": [],
   "source": [
    "keep_cells = pd.concat([adata.obs['keep_cell']])"
   ]
  },
  {
   "cell_type": "code",
   "execution_count": null,
   "id": "54d0a4c1",
   "metadata": {},
   "outputs": [],
   "source": [
    "adata_total.obs['keep_cell'] = '1.no'"
   ]
  },
  {
   "cell_type": "code",
   "execution_count": null,
   "id": "ad6060a6",
   "metadata": {},
   "outputs": [],
   "source": [
    "adata_total.obs['keep_cell'][adata_total.obs.index.isin(keep_cells.index) == True] = '0.yes'"
   ]
  },
  {
   "cell_type": "code",
   "execution_count": null,
   "id": "8005081c",
   "metadata": {},
   "outputs": [],
   "source": [
    "sc.set_figure_params(dpi=80, dpi_save=300, color_map='viridis', vector_friendly=True, transparent=True)\n",
    "\n",
    "sc.pl.umap(\n",
    "    adata_total, \n",
    "    color=['keep_cell'], \n",
    "    palette=['blue', '#d3d3d3'],  \n",
    "    color_map='Spectral_r', \n",
    "    use_raw=False,\n",
    "    ncols=5,\n",
    "    wspace = 0.1,\n",
    "    outline_width=[0.6, 0.05],\n",
    "    size=15,\n",
    "    frameon=False,\n",
    "    add_outline=True,\n",
    "    sort_order = False,\n",
    "    save='_keepcells.pdf'\n",
    ")"
   ]
  },
  {
   "cell_type": "code",
   "execution_count": null,
   "id": "2eb4745a",
   "metadata": {},
   "outputs": [],
   "source": [
    "crosstb = pd.crosstab(adata_total.obs['sample'], adata_total.obs['keep_cell'])"
   ]
  },
  {
   "cell_type": "code",
   "execution_count": null,
   "id": "29d2d24a",
   "metadata": {},
   "outputs": [],
   "source": [
    "with rc_context({'figure.figsize': (8, 3)}):\n",
    "    ax = crosstb.plot(kind=\"bar\", stacked=True, edgecolor = \"black\", width=0.8,  color=['blue', '#d3d3d3'])\n",
    "    ax.grid(False) \n",
    "    ax.legend(loc='center left', bbox_to_anchor=(1, 0.5))\n",
    "    plt.savefig('barplot_keepcells_S1.pdf')"
   ]
  },
  {
   "cell_type": "markdown",
   "id": "acccc028",
   "metadata": {},
   "source": [
    "### Reanalyze data after removal of cells"
   ]
  },
  {
   "cell_type": "code",
   "execution_count": null,
   "id": "bab3827e",
   "metadata": {},
   "outputs": [],
   "source": [
    "rng = np.random.RandomState(42)\n",
    "sc.tl.pca(adata, n_comps=200, svd_solver='arpack', random_state=rng, use_highly_variable=False)"
   ]
  },
  {
   "cell_type": "code",
   "execution_count": null,
   "id": "2b8b37c7",
   "metadata": {},
   "outputs": [],
   "source": [
    "observe_variance(adata)"
   ]
  },
  {
   "cell_type": "code",
   "execution_count": null,
   "id": "af6a6562",
   "metadata": {},
   "outputs": [],
   "source": [
    "rng = np.random.RandomState(42)\n",
    "sc.tl.pca(adata, n_comps=65, svd_solver='arpack', random_state=rng, use_highly_variable=False)"
   ]
  },
  {
   "cell_type": "code",
   "execution_count": null,
   "id": "bbc9ddc6",
   "metadata": {},
   "outputs": [],
   "source": [
    "sc.pp.neighbors(adata, n_neighbors=15)"
   ]
  },
  {
   "cell_type": "code",
   "execution_count": null,
   "id": "3126b1bb",
   "metadata": {},
   "outputs": [],
   "source": [
    "sc.tl.umap(adata)"
   ]
  },
  {
   "cell_type": "code",
   "execution_count": null,
   "id": "f5a8ce8b",
   "metadata": {},
   "outputs": [],
   "source": [
    "sc.set_figure_params(dpi=80, dpi_save=300, color_map='viridis', vector_friendly=False, transparent=True)\n",
    "sc.pl.umap(\n",
    "    adata, \n",
    "    color=['Epcam', 'H2-Aa', 'Pdgfra', 'Pecam1',  'Cdh5', 'Vwf', 'Plvap', 'Bmp4', 'Nkain4', 'Upk3b', 'Acta2', 'Myl9', 'S100b'], \n",
    "    palette=user_defined_palette,  \n",
    "    color_map='Spectral_r', \n",
    "    use_raw=False,\n",
    "    ncols=5,\n",
    "    wspace = 0.1,\n",
    "    outline_width=[0.6, 0.05],\n",
    "    size=15,\n",
    "    frameon=False,\n",
    "    add_outline=True,\n",
    "    sort_order = False\n",
    ")"
   ]
  },
  {
   "cell_type": "code",
   "execution_count": null,
   "id": "83342bca",
   "metadata": {},
   "outputs": [],
   "source": [
    "sc.set_figure_params(dpi=80, dpi_save=300, color_map='viridis', vector_friendly=False, transparent=True)\n",
    "sc.pl.umap(\n",
    "    adata, \n",
    "    color=['stage', 'day', 'sample'],   \n",
    "    color_map='Spectral_r', \n",
    "    use_raw=False,\n",
    "    ncols=5,\n",
    "    wspace = 0.3,\n",
    "    outline_width=[0.6, 0.05],\n",
    "    size=15,\n",
    "    frameon=False,\n",
    "    add_outline=True,\n",
    "    sort_order = False\n",
    ")"
   ]
  },
  {
   "cell_type": "markdown",
   "id": "fe39575a",
   "metadata": {},
   "source": [
    "## Data for Fig. 1 [pt1]"
   ]
  },
  {
   "cell_type": "code",
   "execution_count": null,
   "id": "e5b61947",
   "metadata": {},
   "outputs": [],
   "source": [
    "adata_d0 = adata[(adata.obs['day']=='d0')]"
   ]
  },
  {
   "cell_type": "code",
   "execution_count": null,
   "id": "27db1c9d",
   "metadata": {},
   "outputs": [],
   "source": [
    "# Remove columns with all 0s\n",
    "sc.pp.filter_genes(adata_d0, min_cells=1)"
   ]
  },
  {
   "cell_type": "code",
   "execution_count": null,
   "id": "a98de2db",
   "metadata": {},
   "outputs": [],
   "source": [
    "sc.pp.highly_variable_genes(adata_d0, n_top_genes=3500, n_bins=20, flavor='seurat',  inplace=True)"
   ]
  },
  {
   "cell_type": "code",
   "execution_count": null,
   "id": "b35ba854",
   "metadata": {},
   "outputs": [],
   "source": [
    "rng = np.random.RandomState(42)\n",
    "sc.tl.pca(adata_d0, n_comps=200, svd_solver='arpack', random_state=rng, use_highly_variable=True)"
   ]
  },
  {
   "cell_type": "code",
   "execution_count": null,
   "id": "9d4e1d62",
   "metadata": {},
   "outputs": [],
   "source": [
    "observe_variance(adata_d0)"
   ]
  },
  {
   "cell_type": "code",
   "execution_count": null,
   "id": "dafd6348",
   "metadata": {},
   "outputs": [],
   "source": [
    "rng = np.random.RandomState(42)\n",
    "sc.tl.pca(adata_d0, n_comps=45, svd_solver='arpack', random_state=rng, use_highly_variable=True)"
   ]
  },
  {
   "cell_type": "code",
   "execution_count": null,
   "id": "6c7c855a",
   "metadata": {},
   "outputs": [],
   "source": [
    "sce.pp.harmony_integrate(adata_d0, 'sample')"
   ]
  },
  {
   "cell_type": "code",
   "execution_count": null,
   "id": "404f1a2b",
   "metadata": {},
   "outputs": [],
   "source": [
    "sc.pp.neighbors(adata_d0, n_neighbors=15, use_rep='X_pca_harmony')\n",
    "sc.tl.umap(adata_d0)"
   ]
  },
  {
   "cell_type": "code",
   "execution_count": null,
   "id": "785a02c4",
   "metadata": {},
   "outputs": [],
   "source": [
    "sc.pl.umap(adata_d0, color=['stage', 'day', 'sample'], \n",
    "                        color_map='Spectral_r',  use_raw=False, ncols=4, wspace = 0.3,\n",
    "                        outline_width=[0.6, 0.05], size=15,  frameon=False, add_outline=True, sort_order = False)"
   ]
  },
  {
   "cell_type": "code",
   "execution_count": null,
   "id": "d55fa04e",
   "metadata": {},
   "outputs": [],
   "source": [
    "for resolution_parameter in [0.1, 0.2, 0.3, 0.4, 0.5, 0.6, 0.7, 0.8, 0.9, 1.0]:\n",
    "    sc.tl.leiden(adata_d0, resolution=resolution_parameter, random_state=42, \n",
    "                        key_added='leiden_'+str(resolution_parameter))"
   ]
  },
  {
   "cell_type": "code",
   "execution_count": null,
   "id": "120231ed",
   "metadata": {},
   "outputs": [],
   "source": [
    "sc.set_figure_params(dpi=80, dpi_save=300, color_map='viridis', vector_friendly=False, transparent=True)\n",
    "sc.pl.umap(\n",
    "    adata_d0, \n",
    "    color=['leiden_0.1', 'leiden_0.2', 'leiden_0.3', 'leiden_0.4', 'leiden_0.5', \n",
    "           'leiden_0.6', 'leiden_0.7', 'leiden_0.8','leiden_0.9', 'leiden_1.0'], \n",
    "    palette=user_defined_palette,  \n",
    "    color_map='Spectral_r', \n",
    "    use_raw=False,\n",
    "    ncols=5,\n",
    "    wspace = 0.7,\n",
    "    outline_width=[0.6, 0.05],\n",
    "    size=15,\n",
    "    frameon=False,\n",
    "    add_outline=True,\n",
    "    sort_order = False\n",
    ")"
   ]
  },
  {
   "cell_type": "markdown",
   "id": "eda74428",
   "metadata": {},
   "source": [
    "### Create group annotation"
   ]
  },
  {
   "cell_type": "code",
   "execution_count": null,
   "id": "5c7213fb",
   "metadata": {},
   "outputs": [],
   "source": [
    "adata_d0.obs['cell_type'] = ['FB' if (x=='0' or x=='1' or x=='2') else \n",
    "                             'EC' if (x=='5') else\n",
    "                             'TEC' if (x=='3' or x=='4' or x=='6' or x=='9' or x=='10') else \n",
    "                             '6:MEC' if x=='8' else\n",
    "                             '7:vSMC/PC' if x=='7' else\n",
    "                             '8:nmSC' if (x=='11') else 'ERROR' for x in adata_d0.obs['leiden_0.3']] "
   ]
  },
  {
   "cell_type": "code",
   "execution_count": null,
   "id": "0b81ec82",
   "metadata": {},
   "outputs": [],
   "source": [
    "adata_d0.uns['cell_type_colors'] = ['#d62728','#19c9b3', '#FFA5D2', '#ff7f0e','#199919', '#aa40fc']"
   ]
  },
  {
   "cell_type": "code",
   "execution_count": null,
   "id": "20102837",
   "metadata": {},
   "outputs": [],
   "source": [
    "sc.pl.umap(adata_d0, color=['cell_type', 'stage', 'day'], \n",
    "                        color_map='Spectral_r',  use_raw=False, ncols=4, wspace = 0.3,\n",
    "                        outline_width=[0.6, 0.05], size=15,  frameon=False, add_outline=True, sort_order = False)"
   ]
  },
  {
   "cell_type": "code",
   "execution_count": null,
   "id": "39261aff",
   "metadata": {},
   "outputs": [],
   "source": [
    "path_to_h5ad = '../output/metadata/anndata_objects/Fig1pt1.h5ad'"
   ]
  },
  {
   "cell_type": "code",
   "execution_count": null,
   "id": "79d6b226",
   "metadata": {},
   "outputs": [],
   "source": [
    "adata_d0.write(path_to_h5ad)"
   ]
  },
  {
   "cell_type": "code",
   "execution_count": null,
   "id": "f3b7e6d1",
   "metadata": {},
   "outputs": [],
   "source": [
    "adata_d0 = sc.read_h5ad(path_to_h5ad)\n",
    "adata_d0.uns['log1p'][\"base\"] = None"
   ]
  },
  {
   "cell_type": "markdown",
   "id": "7e9f4d49",
   "metadata": {},
   "source": [
    "## Data for fig. S5"
   ]
  },
  {
   "cell_type": "code",
   "execution_count": null,
   "id": "78accf98",
   "metadata": {},
   "outputs": [],
   "source": [
    "adata_d147 = adata[(adata.obs['day']!='d0')]"
   ]
  },
  {
   "cell_type": "code",
   "execution_count": null,
   "id": "3413ee95",
   "metadata": {},
   "outputs": [],
   "source": [
    "# Remove columns with all 0s\n",
    "sc.pp.filter_genes(adata_d147, min_cells=1)"
   ]
  },
  {
   "cell_type": "code",
   "execution_count": null,
   "id": "5b6cc021",
   "metadata": {},
   "outputs": [],
   "source": [
    "adata_d47 = adata_d147[adata_d147.obs['day']!='d1']"
   ]
  },
  {
   "cell_type": "code",
   "execution_count": null,
   "id": "6a38c729",
   "metadata": {},
   "outputs": [],
   "source": [
    "# Remove genes that are not expressed in any cells (remove columns with all 0s)\n",
    "sc.pp.filter_genes(adata_d47, min_cells=1)"
   ]
  },
  {
   "cell_type": "code",
   "execution_count": null,
   "id": "1e8b3569",
   "metadata": {},
   "outputs": [],
   "source": [
    "sc.pp.highly_variable_genes(adata_d47, n_top_genes=3500, flavor='seurat')"
   ]
  },
  {
   "cell_type": "code",
   "execution_count": null,
   "id": "3f855a52",
   "metadata": {},
   "outputs": [],
   "source": [
    "hvgs = adata_d47.var[adata_d47.var['highly_variable']==True].index"
   ]
  },
  {
   "cell_type": "code",
   "execution_count": null,
   "id": "399328bb",
   "metadata": {},
   "outputs": [],
   "source": [
    "adata_d147.var['highly_variable'] = ''"
   ]
  },
  {
   "cell_type": "code",
   "execution_count": null,
   "id": "eb0367de",
   "metadata": {},
   "outputs": [],
   "source": [
    "adata_d147.var['highly_variable'] = [True if x in hvgs else False for x in adata_d147.var['highly_variable'].index]"
   ]
  },
  {
   "cell_type": "code",
   "execution_count": null,
   "id": "41241d8f",
   "metadata": {},
   "outputs": [],
   "source": [
    "rng = np.random.RandomState(42)\n",
    "sc.tl.pca(adata_d147, n_comps=200, svd_solver='arpack', random_state=rng, use_highly_variable=True)"
   ]
  },
  {
   "cell_type": "code",
   "execution_count": null,
   "id": "e2b99eaa",
   "metadata": {},
   "outputs": [],
   "source": [
    "observe_variance(adata_d147)"
   ]
  },
  {
   "cell_type": "code",
   "execution_count": null,
   "id": "89ef1ede",
   "metadata": {},
   "outputs": [],
   "source": [
    "sc.tl.pca(adata_d147, n_comps=65, svd_solver='arpack', random_state=rng, use_highly_variable=True) "
   ]
  },
  {
   "cell_type": "code",
   "execution_count": null,
   "id": "1b6afec5",
   "metadata": {},
   "outputs": [],
   "source": [
    "sce.pp.harmony_integrate(adata_d147, 'sample')"
   ]
  },
  {
   "cell_type": "code",
   "execution_count": null,
   "id": "338ac394",
   "metadata": {},
   "outputs": [],
   "source": [
    "sc.pp.neighbors(adata_d147, n_neighbors=15, use_rep='X_pca_harmony')\n",
    "sc.tl.umap(adata_d147)"
   ]
  },
  {
   "cell_type": "code",
   "execution_count": null,
   "id": "9268ce43",
   "metadata": {},
   "outputs": [],
   "source": [
    "#65\n",
    "sc.set_figure_params(dpi=80, dpi_save=300, color_map='viridis', vector_friendly=True, transparent=True)\n",
    "\n",
    "sc.pl.umap(\n",
    "    adata_d147, \n",
    "    color=['stage', 'day', 'sample', 'S100b'], \n",
    "    ncols=6,\n",
    "    outline_width=[0.6, 0.05],\n",
    "    size=15,\n",
    "    frameon=False,\n",
    "    cmap='Spectral_r',\n",
    "    wspace = 0.3,\n",
    "    add_outline=True\n",
    ")"
   ]
  },
  {
   "cell_type": "code",
   "execution_count": null,
   "id": "5cdd68e5",
   "metadata": {},
   "outputs": [],
   "source": [
    "for resolution_parameter in [0.1, 0.2, 0.3, 0.4, 0.5, 0.6, 0.7, 0.8, 0.9, 1.0, 1.1, 1.2, 1.3, 1.4, 1.5]:\n",
    "    sc.tl.leiden(adata_d147, resolution=resolution_parameter, random_state=42, \n",
    "                        key_added='leiden_'+str(resolution_parameter))"
   ]
  },
  {
   "cell_type": "code",
   "execution_count": null,
   "id": "c106e1ae",
   "metadata": {},
   "outputs": [],
   "source": [
    "sc.set_figure_params(dpi=80, dpi_save=300, color_map='viridis', vector_friendly=False, transparent=True)\n",
    "sc.pl.umap(\n",
    "    adata_d147, \n",
    "    color=['leiden_0.1', 'leiden_0.2', 'leiden_0.3', 'leiden_0.4', 'leiden_0.5', \n",
    "           'leiden_0.6', 'leiden_0.7', 'leiden_0.8','leiden_0.9', 'leiden_1.0',\n",
    "           'leiden_1.1', 'leiden_1.2', 'leiden_1.3','leiden_1.4', 'leiden_1.5'], \n",
    "    palette=user_defined_palette,  \n",
    "    color_map='Spectral_r', \n",
    "    use_raw=False,\n",
    "    ncols=5,\n",
    "    wspace = 0.7,\n",
    "    outline_width=[0.6, 0.05],\n",
    "    size=15,\n",
    "    frameon=False,\n",
    "    add_outline=True,\n",
    "    sort_order = False\n",
    ")"
   ]
  },
  {
   "cell_type": "markdown",
   "id": "79c610c5",
   "metadata": {},
   "source": [
    "### Create group annotation"
   ]
  },
  {
   "cell_type": "code",
   "execution_count": null,
   "id": "28f69fb5",
   "metadata": {},
   "outputs": [],
   "source": [
    "adata_d147.obs['cell_type'] = ['FB' if (x=='0' or x=='1' or x=='2' or x=='3') else \n",
    "                               'EC' if (x=='4' or x=='7' or x=='8' or x=='9') else\n",
    "                               'TEC' if (x=='6' or x=='10' or x=='12' or x=='13' or x=='15') else \n",
    "                               '6:MEC' if x=='5' else\n",
    "                               '7:vSMC/PC' if x=='11' else \n",
    "                               '8:nmSC' if x=='14' else 'ERROR' for x in adata_d147.obs['leiden_0.7']] "
   ]
  },
  {
   "cell_type": "code",
   "execution_count": null,
   "id": "f190d4ed",
   "metadata": {},
   "outputs": [],
   "source": [
    "adata_d147.uns['cell_type_colors'] = ['#d62728','#19c9b3', '#FFA5D2', '#ff7f0e','#199919', '#aa40fc']"
   ]
  },
  {
   "cell_type": "code",
   "execution_count": null,
   "id": "d9486f65",
   "metadata": {},
   "outputs": [],
   "source": [
    "sc.pl.umap(adata_d147, color=['cell_type', 'stage', 'day'], \n",
    "                        color_map='Spectral_r',  use_raw=False, ncols=4, wspace = 0.3,\n",
    "                        outline_width=[0.6, 0.05], size=15,  frameon=False, add_outline=True, sort_order = False)"
   ]
  },
  {
   "cell_type": "code",
   "execution_count": null,
   "id": "c9c8bae0",
   "metadata": {},
   "outputs": [],
   "source": [
    "path_to_h5ad = '../output/metadata/anndata_objects/figS5.h5ad'"
   ]
  },
  {
   "cell_type": "code",
   "execution_count": null,
   "id": "47183944",
   "metadata": {},
   "outputs": [],
   "source": [
    "adata_d147.write(path_to_h5ad)"
   ]
  },
  {
   "cell_type": "markdown",
   "id": "23a0a494",
   "metadata": {},
   "source": [
    "## Data for Fig. 3"
   ]
  },
  {
   "cell_type": "code",
   "execution_count": null,
   "id": "4a9cb05b",
   "metadata": {},
   "outputs": [],
   "source": [
    "adata_d0147 = adata"
   ]
  },
  {
   "cell_type": "code",
   "execution_count": null,
   "id": "8abbe9e3",
   "metadata": {},
   "outputs": [],
   "source": [
    "# Remove columns with all 0s\n",
    "sc.pp.filter_genes(adata_d0147, min_cells=1)"
   ]
  },
  {
   "cell_type": "code",
   "execution_count": null,
   "id": "503caa4f",
   "metadata": {},
   "outputs": [],
   "source": [
    "adata_d047 = adata_d0147[adata_d0147.obs['day']!='d1']"
   ]
  },
  {
   "cell_type": "code",
   "execution_count": null,
   "id": "b2ed1314",
   "metadata": {},
   "outputs": [],
   "source": [
    "# Remove genes that are not expressed in any cells (remove columns with all 0s)\n",
    "sc.pp.filter_genes(adata_d047, min_cells=1)"
   ]
  },
  {
   "cell_type": "code",
   "execution_count": null,
   "id": "42f48f58",
   "metadata": {},
   "outputs": [],
   "source": [
    "sc.pp.highly_variable_genes(adata_d047, n_top_genes=3500, flavor='seurat')"
   ]
  },
  {
   "cell_type": "code",
   "execution_count": null,
   "id": "77ebe4f5",
   "metadata": {},
   "outputs": [],
   "source": [
    "hvgs = adata_d047.var[adata_d047.var['highly_variable']==True].index"
   ]
  },
  {
   "cell_type": "code",
   "execution_count": null,
   "id": "411a8952",
   "metadata": {},
   "outputs": [],
   "source": [
    "adata_d0147.var['highly_variable'] = ''"
   ]
  },
  {
   "cell_type": "code",
   "execution_count": null,
   "id": "96a1c72b",
   "metadata": {},
   "outputs": [],
   "source": [
    "adata_d0147.var['highly_variable'] = [True if x in hvgs else False for x in adata_d0147.var['highly_variable'].index]"
   ]
  },
  {
   "cell_type": "code",
   "execution_count": null,
   "id": "e656a463",
   "metadata": {},
   "outputs": [],
   "source": [
    "rng = np.random.RandomState(42)\n",
    "sc.tl.pca(adata_d0147, n_comps=200, svd_solver='arpack', random_state=rng, use_highly_variable=True)"
   ]
  },
  {
   "cell_type": "code",
   "execution_count": null,
   "id": "83a4a6a1",
   "metadata": {},
   "outputs": [],
   "source": [
    "observe_variance(adata_d0147)"
   ]
  },
  {
   "cell_type": "code",
   "execution_count": null,
   "id": "bb61b4ce",
   "metadata": {},
   "outputs": [],
   "source": [
    "sc.tl.pca(adata_d0147, n_comps=65, svd_solver='arpack', random_state=rng, use_highly_variable=True) "
   ]
  },
  {
   "cell_type": "code",
   "execution_count": null,
   "id": "7fad6da4",
   "metadata": {},
   "outputs": [],
   "source": [
    "sce.pp.harmony_integrate(adata_d0147, 'sample')"
   ]
  },
  {
   "cell_type": "code",
   "execution_count": null,
   "id": "5b692ce2",
   "metadata": {},
   "outputs": [],
   "source": [
    "sc.pp.neighbors(adata_d0147, n_neighbors=15, use_rep='X_pca_harmony')\n",
    "sc.tl.umap(adata_d0147)"
   ]
  },
  {
   "cell_type": "code",
   "execution_count": null,
   "id": "9afcc4a7",
   "metadata": {},
   "outputs": [],
   "source": [
    "sc.set_figure_params(dpi=80, dpi_save=300, color_map='viridis', vector_friendly=True, transparent=True)\n",
    "\n",
    "sc.pl.umap(\n",
    "    adata_d0147, \n",
    "    color=['stage', 'day', 'sample'], \n",
    "    ncols=6,\n",
    "    outline_width=[0.6, 0.05],\n",
    "    size=15,\n",
    "    frameon=False,\n",
    "    cmap='Spectral_r',\n",
    "    wspace = 0.3,\n",
    "    add_outline=True\n",
    ")"
   ]
  },
  {
   "cell_type": "code",
   "execution_count": null,
   "id": "773d809c",
   "metadata": {},
   "outputs": [],
   "source": [
    "path_to_h5ad = '../output/metadata/anndata_objects/Fig3.h5ad'"
   ]
  },
  {
   "cell_type": "code",
   "execution_count": null,
   "id": "12269039",
   "metadata": {},
   "outputs": [],
   "source": [
    "adata_d0147.write(path_to_h5ad)"
   ]
  }
 ],
 "metadata": {
  "kernelspec": {
   "display_name": "Python 3 (ipykernel)",
   "language": "python",
   "name": "python3"
  },
  "language_info": {
   "codemirror_mode": {
    "name": "ipython",
    "version": 3
   },
   "file_extension": ".py",
   "mimetype": "text/x-python",
   "name": "python",
   "nbconvert_exporter": "python",
   "pygments_lexer": "ipython3",
   "version": "3.8.13"
  }
 },
 "nbformat": 4,
 "nbformat_minor": 5
}
